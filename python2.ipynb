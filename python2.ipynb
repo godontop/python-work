{
 "cells": [
  {
   "cell_type": "markdown",
   "metadata": {},
   "source": [
    "1.文件下的所有代码都是使用的Python 2  \n",
    "2.文件内容主要来自于《父与子的编程之旅》"
   ]
  },
  {
   "cell_type": "code",
   "execution_count": 1,
   "metadata": {},
   "outputs": [
    {
     "data": {
      "text/plain": [
       "sys.version_info(major=2, minor=7, micro=10, releaselevel='final', serial=0)"
      ]
     },
     "execution_count": 1,
     "metadata": {},
     "output_type": "execute_result"
    }
   ],
   "source": [
    "import sys\n",
    "\n",
    "\n",
    "sys.version_info"
   ]
  },
  {
   "cell_type": "code",
   "execution_count": 2,
   "metadata": {},
   "outputs": [
    {
     "name": "stdout",
     "output_type": "stream",
     "text": [
      "How many blocks of stars do you want? 3\n",
      "* * *\n",
      "\n",
      "* * * * *\n",
      "* * * * * * *\n",
      "* * * * * * * * *\n",
      "\n",
      "* * * * * * *\n",
      "* * * * * * * * *\n",
      "* * * * * * * * * * *\n",
      "* * * * * * * * * * * * *\n",
      "* * * * * * * * * * * * * * *\n",
      "\n"
     ]
    }
   ],
   "source": [
    "numBlocks = int(raw_input('How many blocks of stars do you want? '))\n",
    "for block in range(1, numBlocks + 1):\n",
    "    for line in range(1, block * 2):\n",
    "        for star in range(1, (block + line) * 2):\n",
    "            print '*',\n",
    "        print\n",
    "    print"
   ]
  },
  {
   "cell_type": "code",
   "execution_count": 3,
   "metadata": {},
   "outputs": [
    {
     "name": "stdout",
     "output_type": "stream",
     "text": [
      "How many blocks of stars do you want? 3\n",
      "block = 1\n",
      "* * * line = 1 star = 3\n",
      "\n",
      "block = 2\n",
      "* * * * * line = 1 star = 5\n",
      "* * * * * * * line = 2 star = 7\n",
      "* * * * * * * * * line = 3 star = 9\n",
      "\n",
      "block = 3\n",
      "* * * * * * * line = 1 star = 7\n",
      "* * * * * * * * * line = 2 star = 9\n",
      "* * * * * * * * * * * line = 3 star = 11\n",
      "* * * * * * * * * * * * * line = 4 star = 13\n",
      "* * * * * * * * * * * * * * * line = 5 star = 15\n",
      "\n"
     ]
    }
   ],
   "source": [
    "numBlocks = int(raw_input('How many blocks of stars do you want? '))\n",
    "for block in range(1, numBlocks + 1):\n",
    "    print 'block =', block\n",
    "    for line in range(1, block * 2):\n",
    "        for star in range(1, (block + line) * 2):\n",
    "            print '*',\n",
    "        print 'line =', line, 'star =', star\n",
    "    print"
   ]
  },
  {
   "cell_type": "code",
   "execution_count": 6,
   "metadata": {},
   "outputs": [
    {
     "name": "stdout",
     "output_type": "stream",
     "text": [
      "How many blocks of stars do you want? 3\n",
      "block = 1\n",
      "* * * line = 1 star = 3\n",
      "\n",
      "block = 2\n",
      "* * * * * line = 1 star = 5\n",
      "* * * * * * * line = 2 star = 7\n",
      "* * * * * * * * * line = 3 star = 9\n",
      "\n",
      "block = 3\n",
      "* * * * * * * line = 1 star = 7\n",
      "* * * * * * * * * line = 2 star = 9\n",
      "* * * * * * * * * * * line = 3 star = 11\n",
      "* * * * * * * * * * * * * line = 4 star = 13\n",
      "* * * * * * * * * * * * * * * line = 5 star = 15\n",
      "\n"
     ]
    }
   ],
   "source": [
    "numBlocks = int(raw_input('How many blocks of stars do you want? '))\n",
    "for block in range(1, numBlocks + 1):\n",
    "    print 'block =', block\n",
    "    for line in range(1, block * 2):\n",
    "        for star in range(1, (block + line) * 2):\n",
    "            print '*',\n",
    "        print 'line =', line, 'star =', star\n",
    "    print"
   ]
  },
  {
   "cell_type": "code",
   "execution_count": 9,
   "metadata": {},
   "outputs": [
    {
     "name": "stdout",
     "output_type": "stream",
     "text": [
      "\tDog\tBun\tKetchup\tMustard\tOnions\n",
      "# 1 \t0 \t0 \t0 \t0 \t0\n",
      "# 2 \t0 \t0 \t0 \t0 \t1\n",
      "# 3 \t0 \t0 \t0 \t1 \t0\n",
      "# 4 \t0 \t0 \t0 \t1 \t1\n",
      "# 5 \t0 \t0 \t1 \t0 \t0\n",
      "# 6 \t0 \t0 \t1 \t0 \t1\n",
      "# 7 \t0 \t0 \t1 \t1 \t0\n",
      "# 8 \t0 \t0 \t1 \t1 \t1\n",
      "# 9 \t0 \t1 \t0 \t0 \t0\n",
      "# 10 \t0 \t1 \t0 \t0 \t1\n",
      "# 11 \t0 \t1 \t0 \t1 \t0\n",
      "# 12 \t0 \t1 \t0 \t1 \t1\n",
      "# 13 \t0 \t1 \t1 \t0 \t0\n",
      "# 14 \t0 \t1 \t1 \t0 \t1\n",
      "# 15 \t0 \t1 \t1 \t1 \t0\n",
      "# 16 \t0 \t1 \t1 \t1 \t1\n",
      "# 17 \t1 \t0 \t0 \t0 \t0\n",
      "# 18 \t1 \t0 \t0 \t0 \t1\n",
      "# 19 \t1 \t0 \t0 \t1 \t0\n",
      "# 20 \t1 \t0 \t0 \t1 \t1\n",
      "# 21 \t1 \t0 \t1 \t0 \t0\n",
      "# 22 \t1 \t0 \t1 \t0 \t1\n",
      "# 23 \t1 \t0 \t1 \t1 \t0\n",
      "# 24 \t1 \t0 \t1 \t1 \t1\n",
      "# 25 \t1 \t1 \t0 \t0 \t0\n",
      "# 26 \t1 \t1 \t0 \t0 \t1\n",
      "# 27 \t1 \t1 \t0 \t1 \t0\n",
      "# 28 \t1 \t1 \t0 \t1 \t1\n",
      "# 29 \t1 \t1 \t1 \t0 \t0\n",
      "# 30 \t1 \t1 \t1 \t0 \t1\n",
      "# 31 \t1 \t1 \t1 \t1 \t0\n",
      "# 32 \t1 \t1 \t1 \t1 \t1\n"
     ]
    }
   ],
   "source": [
    "print '\\tDog\\tBun\\tKetchup\\tMustard\\tOnions'\n",
    "count = 1\n",
    "for dog in [0, 1]:\n",
    "    for bun in [0, 1]:\n",
    "        for ketchup in [0, 1]:\n",
    "            for mustard in [0, 1]:\n",
    "                for onion in [0, 1]:\n",
    "                    print '#', count, '\\t', dog, '\\t', bun, '\\t',\n",
    "                    print ketchup, '\\t', mustard, '\\t', onion\n",
    "                    count += 1"
   ]
  },
  {
   "cell_type": "code",
   "execution_count": 12,
   "metadata": {},
   "outputs": [
    {
     "name": "stdout",
     "output_type": "stream",
     "text": [
      "\tDog\tBun\tKetchup\tMustard\tOnions\tCalories\n",
      "# 1 \t0 \t0 \t0 \t0 \t0 \t0\n",
      "# 2 \t0 \t0 \t0 \t0 \t1 \t40\n",
      "# 3 \t0 \t0 \t0 \t1 \t0 \t20\n",
      "# 4 \t0 \t0 \t0 \t1 \t1 \t60\n",
      "# 5 \t0 \t0 \t1 \t0 \t0 \t80\n",
      "# 6 \t0 \t0 \t1 \t0 \t1 \t120\n",
      "# 7 \t0 \t0 \t1 \t1 \t0 \t100\n",
      "# 8 \t0 \t0 \t1 \t1 \t1 \t140\n",
      "# 9 \t0 \t1 \t0 \t0 \t0 \t120\n",
      "# 10 \t0 \t1 \t0 \t0 \t1 \t160\n",
      "# 11 \t0 \t1 \t0 \t1 \t0 \t140\n",
      "# 12 \t0 \t1 \t0 \t1 \t1 \t180\n",
      "# 13 \t0 \t1 \t1 \t0 \t0 \t200\n",
      "# 14 \t0 \t1 \t1 \t0 \t1 \t240\n",
      "# 15 \t0 \t1 \t1 \t1 \t0 \t220\n",
      "# 16 \t0 \t1 \t1 \t1 \t1 \t260\n",
      "# 17 \t1 \t0 \t0 \t0 \t0 \t140\n",
      "# 18 \t1 \t0 \t0 \t0 \t1 \t180\n",
      "# 19 \t1 \t0 \t0 \t1 \t0 \t160\n",
      "# 20 \t1 \t0 \t0 \t1 \t1 \t200\n",
      "# 21 \t1 \t0 \t1 \t0 \t0 \t220\n",
      "# 22 \t1 \t0 \t1 \t0 \t1 \t260\n",
      "# 23 \t1 \t0 \t1 \t1 \t0 \t240\n",
      "# 24 \t1 \t0 \t1 \t1 \t1 \t280\n",
      "# 25 \t1 \t1 \t0 \t0 \t0 \t260\n",
      "# 26 \t1 \t1 \t0 \t0 \t1 \t300\n",
      "# 27 \t1 \t1 \t0 \t1 \t0 \t280\n",
      "# 28 \t1 \t1 \t0 \t1 \t1 \t320\n",
      "# 29 \t1 \t1 \t1 \t0 \t0 \t340\n",
      "# 30 \t1 \t1 \t1 \t0 \t1 \t380\n",
      "# 31 \t1 \t1 \t1 \t1 \t0 \t360\n",
      "# 32 \t1 \t1 \t1 \t1 \t1 \t400\n"
     ]
    }
   ],
   "source": [
    "dog_cal = 140\n",
    "bun_cal = 120\n",
    "mus_cal = 20\n",
    "ket_cal = 80\n",
    "onion_cal = 40\n",
    "print '\\tDog\\tBun\\tKetchup\\tMustard\\tOnions\\tCalories'\n",
    "count = 1\n",
    "for dog in [0, 1]:\n",
    "    for bun in [0, 1]:\n",
    "        for ketchup in [0, 1]:\n",
    "            for mustard in [0, 1]:\n",
    "                for onion in [0, 1]:\n",
    "                    tot_cal = dog * dog_cal + bun * bun_cal + \\\n",
    "                              mustard * mus_cal + ketchup * ket_cal + \\\n",
    "                              onion * onion_cal\n",
    "                    print '#', count, '\\t', dog, '\\t', bun, '\\t',\n",
    "                    print ketchup, '\\t', mustard, '\\t', onion, '\\t',\n",
    "                    print tot_cal\n",
    "                    count += 1"
   ]
  },
  {
   "cell_type": "code",
   "execution_count": 13,
   "metadata": {},
   "outputs": [
    {
     "name": "stdout",
     "output_type": "stream",
     "text": [
      "\tDog\tBun\tKetchup\tMustard\tOnions\tCalories\n",
      "# 1 \t0 \t0 \t0 \t0 \t0 \t0\n",
      "# 2 \t0 \t0 \t0 \t0 \t1 \t40\n",
      "# 3 \t0 \t0 \t0 \t1 \t0 \t20\n",
      "# 4 \t0 \t0 \t0 \t1 \t1 \t60\n",
      "# 5 \t0 \t0 \t1 \t0 \t0 \t80\n",
      "# 6 \t0 \t0 \t1 \t0 \t1 \t120\n",
      "# 7 \t0 \t0 \t1 \t1 \t0 \t100\n",
      "# 8 \t0 \t0 \t1 \t1 \t1 \t140\n",
      "# 9 \t0 \t1 \t0 \t0 \t0 \t120\n",
      "# 10 \t0 \t1 \t0 \t0 \t1 \t160\n",
      "# 11 \t0 \t1 \t0 \t1 \t0 \t140\n",
      "# 12 \t0 \t1 \t0 \t1 \t1 \t180\n",
      "# 13 \t0 \t1 \t1 \t0 \t0 \t200\n",
      "# 14 \t0 \t1 \t1 \t0 \t1 \t240\n",
      "# 15 \t0 \t1 \t1 \t1 \t0 \t220\n",
      "# 16 \t0 \t1 \t1 \t1 \t1 \t260\n",
      "# 17 \t1 \t0 \t0 \t0 \t0 \t140\n",
      "# 18 \t1 \t0 \t0 \t0 \t1 \t180\n",
      "# 19 \t1 \t0 \t0 \t1 \t0 \t160\n",
      "# 20 \t1 \t0 \t0 \t1 \t1 \t200\n",
      "# 21 \t1 \t0 \t1 \t0 \t0 \t220\n",
      "# 22 \t1 \t0 \t1 \t0 \t1 \t260\n",
      "# 23 \t1 \t0 \t1 \t1 \t0 \t240\n",
      "# 24 \t1 \t0 \t1 \t1 \t1 \t280\n",
      "# 25 \t1 \t1 \t0 \t0 \t0 \t260\n",
      "# 26 \t1 \t1 \t0 \t0 \t1 \t300\n",
      "# 27 \t1 \t1 \t0 \t1 \t0 \t280\n",
      "# 28 \t1 \t1 \t0 \t1 \t1 \t320\n",
      "# 29 \t1 \t1 \t1 \t0 \t0 \t340\n",
      "# 30 \t1 \t1 \t1 \t0 \t1 \t380\n",
      "# 31 \t1 \t1 \t1 \t1 \t0 \t360\n",
      "# 32 \t1 \t1 \t1 \t1 \t1 \t400\n"
     ]
    }
   ],
   "source": [
    "dog_cal = 140\n",
    "bun_cal = 120\n",
    "mus_cal = 20\n",
    "ket_cal = 80\n",
    "onion_cal = 40\n",
    "print '\\tDog\\tBun\\tKetchup\\tMustard\\tOnions\\tCalories'\n",
    "count = 1\n",
    "for dog in [0, 1]:\n",
    "    for bun in [0, 1]:\n",
    "        for ketchup in [0, 1]:\n",
    "            for mustard in [0, 1]:\n",
    "                for onion in [0, 1]:\n",
    "                    tot_cal = (dog * dog_cal + bun * bun_cal + \n",
    "                              mustard * mus_cal + ketchup * ket_cal + \n",
    "                              onion * onion_cal)\n",
    "                    print '#', count, '\\t', dog, '\\t', bun, '\\t',\n",
    "                    print ketchup, '\\t', mustard, '\\t', onion, '\\t',\n",
    "                    print tot_cal\n",
    "                    count += 1"
   ]
  },
  {
   "cell_type": "code",
   "execution_count": 15,
   "metadata": {},
   "outputs": [
    {
     "name": "stdout",
     "output_type": "stream",
     "text": [
      "How many seconds? 4\n",
      "4 * * * *\n",
      "3 * * *\n",
      "2 * *\n",
      "1 *\n",
      "BLAST OFF!\n"
     ]
    }
   ],
   "source": [
    "import time\n",
    "\n",
    "\n",
    "starter = int(raw_input(\"How many seconds? \"))\n",
    "for i in range(starter, 0, -1):\n",
    "    print i,\n",
    "    for j in range(i):\n",
    "        print '*',\n",
    "    print\n",
    "    time.sleep(1)\n",
    "print \"BLAST OFF!\""
   ]
  },
  {
   "cell_type": "code",
   "execution_count": 17,
   "metadata": {},
   "outputs": [
    {
     "name": "stdout",
     "output_type": "stream",
     "text": [
      "['d', 'a', 'e', 'c', 'b']\n",
      "['a', 'b', 'c', 'd', 'e']\n"
     ]
    }
   ],
   "source": [
    "letters = ['d', 'a', 'e', 'c', 'b']\n",
    "print letters\n",
    "letters.sort()\n",
    "print letters"
   ]
  },
  {
   "cell_type": "code",
   "execution_count": 18,
   "metadata": {},
   "outputs": [
    {
     "name": "stdout",
     "output_type": "stream",
     "text": [
      "None\n"
     ]
    }
   ],
   "source": [
    "letters = ['d', 'a', 'e', 'c', 'b']\n",
    "print letters.sort()"
   ]
  },
  {
   "cell_type": "code",
   "execution_count": 19,
   "metadata": {},
   "outputs": [
    {
     "name": "stdout",
     "output_type": "stream",
     "text": [
      "['a', 'b', 'c', 'd', 'e']\n"
     ]
    }
   ],
   "source": [
    "letters = ['d', 'a', 'e', 'c', 'b']\n",
    "letters.sort()\n",
    "print letters"
   ]
  },
  {
   "cell_type": "code",
   "execution_count": 20,
   "metadata": {},
   "outputs": [
    {
     "name": "stdout",
     "output_type": "stream",
     "text": [
      "[[55, 63, 77, 81], [65, 61, 67, 72], [97, 95, 92, 88]]\n"
     ]
    }
   ],
   "source": [
    "classMarks = [[55, 63, 77, 81], [65, 61, 67, 72], [97, 95, 92, 88]]\n",
    "print classMarks"
   ]
  },
  {
   "cell_type": "code",
   "execution_count": 21,
   "metadata": {},
   "outputs": [
    {
     "name": "stdout",
     "output_type": "stream",
     "text": [
      "[55, 63, 77, 81]\n",
      "[65, 61, 67, 72]\n",
      "[97, 95, 92, 88]\n"
     ]
    }
   ],
   "source": [
    "for studentMarks in classMarks:\n",
    "    print studentMarks"
   ]
  },
  {
   "cell_type": "code",
   "execution_count": 23,
   "metadata": {},
   "outputs": [
    {
     "name": "stdout",
     "output_type": "stream",
     "text": [
      "[55, 63, 77, 81]\n"
     ]
    }
   ],
   "source": [
    "print classMarks[0]"
   ]
  },
  {
   "cell_type": "code",
   "execution_count": 24,
   "metadata": {},
   "outputs": [
    {
     "name": "stdout",
     "output_type": "stream",
     "text": [
      "77\n"
     ]
    }
   ],
   "source": [
    "print classMarks[0][2]"
   ]
  },
  {
   "cell_type": "code",
   "execution_count": 25,
   "metadata": {},
   "outputs": [
    {
     "name": "stdout",
     "output_type": "stream",
     "text": [
      "{'John': '555-1234'}\n"
     ]
    }
   ],
   "source": [
    "phoneNumbers = {}\n",
    "phoneNumbers['John'] = '555-1234'\n",
    "print phoneNumbers"
   ]
  },
  {
   "cell_type": "code",
   "execution_count": 26,
   "metadata": {},
   "outputs": [
    {
     "name": "stdout",
     "output_type": "stream",
     "text": [
      "555-1234\n"
     ]
    }
   ],
   "source": [
    "print phoneNumbers['John']"
   ]
  },
  {
   "cell_type": "code",
   "execution_count": 27,
   "metadata": {},
   "outputs": [
    {
     "name": "stdout",
     "output_type": "stream",
     "text": [
      "['John']\n"
     ]
    }
   ],
   "source": [
    "print phoneNumbers.keys()"
   ]
  },
  {
   "cell_type": "code",
   "execution_count": 29,
   "metadata": {},
   "outputs": [
    {
     "name": "stdout",
     "output_type": "stream",
     "text": [
      "['555-1234']\n"
     ]
    }
   ],
   "source": [
    "print phoneNumbers.values()"
   ]
  },
  {
   "cell_type": "code",
   "execution_count": 31,
   "metadata": {},
   "outputs": [
    {
     "name": "stdout",
     "output_type": "stream",
     "text": [
      "['eggs', 'bacon', 'sausage', 'spam']\n"
     ]
    }
   ],
   "source": [
    "dishes = {'eggs': 2, 'sausage': 1, 'bacon': 1, 'spam': 500}\n",
    "print dishes.keys()"
   ]
  },
  {
   "cell_type": "code",
   "execution_count": 45,
   "metadata": {},
   "outputs": [
    {
     "name": "stdout",
     "output_type": "stream",
     "text": [
      "bacon 1\n",
      "sausage 1\n",
      "eggs 2\n",
      "spam 500\n"
     ]
    }
   ],
   "source": [
    "dishes = {'eggs': 2, 'sausage': 1, 'bacon': 1, 'spam': 500}\n",
    "keys = dishes.keys()\n",
    "values = dishes.values()\n",
    "sorted_key_list = sorted(keys)\n",
    "for value in sorted(values):\n",
    "    for key in sorted_key_list:\n",
    "        if dishes[key] == value:\n",
    "            print key, dishes[key]\n",
    "            sorted_key_list.remove(key)\n",
    "            break\n"
   ]
  },
  {
   "cell_type": "code",
   "execution_count": 48,
   "metadata": {},
   "outputs": [
    {
     "name": "stdout",
     "output_type": "stream",
     "text": [
      "Enter 5 names:\n",
      "Tony\n",
      "Paul\n",
      "Nick\n",
      "Michel\n",
      "Kevin\n",
      "The names are Tony Paul Nick Michel Kevin\n"
     ]
    }
   ],
   "source": [
    "print \"Enter 5 names:\"\n",
    "name1 = raw_input()\n",
    "name2 = raw_input()\n",
    "name3 = raw_input()\n",
    "name4 = raw_input()\n",
    "name5 = raw_input()\n",
    "name_list = [name1, name2, name3, name4, name5]\n",
    "print \"The names are\",\n",
    "for name in name_list:\n",
    "    print name,"
   ]
  },
  {
   "cell_type": "code",
   "execution_count": 49,
   "metadata": {},
   "outputs": [
    {
     "name": "stdout",
     "output_type": "stream",
     "text": [
      "Enter 5 names:\n",
      "Tony\n",
      "Paul\n",
      "Nick\n",
      "Michel\n",
      "Kevin\n",
      "The names are Tony Paul Nick Michel Kevin\n",
      "The sorted names are Kevin Michel Nick Paul Tony\n"
     ]
    }
   ],
   "source": [
    "print \"Enter 5 names:\"\n",
    "name1 = raw_input()\n",
    "name2 = raw_input()\n",
    "name3 = raw_input()\n",
    "name4 = raw_input()\n",
    "name5 = raw_input()\n",
    "name_list = [name1, name2, name3, name4, name5]\n",
    "print \"The names are\",\n",
    "for name in name_list:\n",
    "    print name,\n",
    "print\n",
    "print \"The sorted names are\",\n",
    "for name in sorted(name_list):\n",
    "    print name,"
   ]
  },
  {
   "cell_type": "code",
   "execution_count": 50,
   "metadata": {},
   "outputs": [
    {
     "name": "stdout",
     "output_type": "stream",
     "text": [
      "Enter 5 names:\n",
      "Tony\n",
      "Paul\n",
      "Nick\n",
      "Michel\n",
      "Kevin\n",
      "The third name you entered is: Nick\n"
     ]
    }
   ],
   "source": [
    "print \"Enter 5 names:\"\n",
    "name1 = raw_input()\n",
    "name2 = raw_input()\n",
    "name3 = raw_input()\n",
    "name4 = raw_input()\n",
    "name5 = raw_input()\n",
    "name_list = [name1, name2, name3, name4, name5]\n",
    "print \"The third name you entered is:\", name3"
   ]
  },
  {
   "cell_type": "code",
   "execution_count": 52,
   "metadata": {},
   "outputs": [
    {
     "name": "stdout",
     "output_type": "stream",
     "text": [
      "Enter 5 names:\n",
      "Tony\n",
      "Paul\n",
      "Nick\n",
      "Michel\n",
      "Kevin\n",
      "The names are Tony Paul Nick Michel Kevin\n",
      "Replace one name. Which one? (1-5): 4\n",
      "New name: Peter\n",
      "The names are Tony Paul Nick Peter Kevin\n"
     ]
    }
   ],
   "source": [
    "print \"Enter 5 names:\"\n",
    "name1 = raw_input()\n",
    "name2 = raw_input()\n",
    "name3 = raw_input()\n",
    "name4 = raw_input()\n",
    "name5 = raw_input()\n",
    "name_list = [name1, name2, name3, name4, name5]\n",
    "print \"The names are\",\n",
    "for name in name_list:\n",
    "    print name,\n",
    "print\n",
    "sub_index = int(raw_input(\"Replace one name. Which one? (1-5): \"))\n",
    "name_list[sub_index - 1] = raw_input(\"New name: \")\n",
    "print \"The names are\",\n",
    "for name in name_list:\n",
    "    print name,"
   ]
  },
  {
   "cell_type": "code",
   "execution_count": 2,
   "metadata": {},
   "outputs": [
    {
     "name": "stdout",
     "output_type": "stream",
     "text": [
      "Add or look up a word (a/l)? a\n",
      "Type the word: computer\n",
      "Type the definition: A machine that does very fast math\n",
      "Word added!\n",
      "Add or look up a word (a/l)? l\n",
      "Type the word: computer\n",
      "A machine that does very fast math\n",
      "Add or look up a word (a/l)? l\n",
      "Type the word: qwerty\n",
      "That word isn't in the dictionary yet.\n",
      "Add or look up a word (a/l)? quit\n"
     ]
    },
    {
     "ename": "SystemExit",
     "evalue": "",
     "output_type": "error",
     "traceback": [
      "An exception has occurred, use %tb to see the full traceback.\n",
      "\u001b[0;31mSystemExit\u001b[0m\n"
     ]
    }
   ],
   "source": [
    "import sys\n",
    "\n",
    "\n",
    "dicts = {}\n",
    "operation = raw_input(\"Add or look up a word (a/l)? \")\n",
    "running = True\n",
    "while running:\n",
    "    if operation == 'a':\n",
    "        key = raw_input(\"Type the word: \")\n",
    "        value = raw_input(\"Type the definition: \")\n",
    "        dicts[key] = value\n",
    "        print \"Word added!\"\n",
    "        operation = raw_input(\"Add or look up a word (a/l)? \")\n",
    "    elif operation == 'l':\n",
    "        query_key = raw_input(\"Type the word: \")\n",
    "        if query_key in dicts:\n",
    "            print dicts[query_key]\n",
    "            operation = raw_input(\"Add or look up a word (a/l)? \")\n",
    "        else:\n",
    "            print \"That word isn't in the dictionary yet.\"\n",
    "            operation = raw_input(\"Add or look up a word (a/l)? \")\n",
    "    elif operation == 'quit':\n",
    "        sys.exit()"
   ]
  },
  {
   "cell_type": "code",
   "execution_count": 3,
   "metadata": {},
   "outputs": [
    {
     "name": "stdout",
     "output_type": "stream",
     "text": [
      "Warren Sande\n",
      "123 Main Street\n",
      "Ottawa, Ontario, Canada\n",
      "K2M 2E9\n",
      "\n"
     ]
    }
   ],
   "source": [
    "def printMyAddress():\n",
    "    print \"Warren Sande\"\n",
    "    print \"123 Main Street\"\n",
    "    print \"Ottawa, Ontario, Canada\"\n",
    "    print \"K2M 2E9\"\n",
    "    print\n",
    "    \n",
    "    \n",
    "printMyAddress()"
   ]
  },
  {
   "cell_type": "code",
   "execution_count": 9,
   "metadata": {},
   "outputs": [
    {
     "name": "stdout",
     "output_type": "stream",
     "text": [
      "Enter a price: 7.8\n",
      "price = 7.8 Total price = 8.268\n"
     ]
    }
   ],
   "source": [
    "def calculateTax(price, tax_rate):\n",
    "    taxTotal = price + (price * tax_rate)\n",
    "    return taxTotal\n",
    "\n",
    "\n",
    "my_price = float(raw_input(\"Enter a price: \"))\n",
    "totalPrice = calculateTax(my_price, 0.06)\n",
    "print \"price =\", my_price, \"Total price =\", totalPrice"
   ]
  },
  {
   "cell_type": "code",
   "execution_count": 11,
   "metadata": {},
   "outputs": [
    {
     "name": "stdout",
     "output_type": "stream",
     "text": [
      "Enter a price: 8\n",
      "my_price (inside function) = 1000\n",
      "price = 8.0 Total price = 8.48\n",
      "my_price (outside function) = 8.0\n"
     ]
    }
   ],
   "source": [
    "def calculateTax(price, tax_rate):\n",
    "    taxTotal = price + (price * tax_rate)\n",
    "    my_price = 1000\n",
    "    print \"my_price (inside function) =\", my_price\n",
    "    return taxTotal\n",
    "\n",
    "\n",
    "my_price = float(raw_input(\"Enter a price: \"))\n",
    "\n",
    "totalPrice = calculateTax(my_price, 0.06)\n",
    "print \"price =\", my_price, \"Total price =\", totalPrice\n",
    "print \"my_price (outside function) =\", my_price"
   ]
  },
  {
   "cell_type": "code",
   "execution_count": 12,
   "metadata": {},
   "outputs": [],
   "source": [
    "def calculateTax(price, tax_rate):\n",
    "    global my_price  # 告诉Python你想使用全局版本的my_price"
   ]
  },
  {
   "cell_type": "code",
   "execution_count": 13,
   "metadata": {},
   "outputs": [
    {
     "name": "stdout",
     "output_type": "stream",
     "text": [
      "Enter a price: 8\n",
      "my_price (inside function) = 1000\n",
      "price = 1000 Total price = 8.48\n",
      "my_price (outside function) = 1000\n"
     ]
    }
   ],
   "source": [
    "def calculateTax(price, tax_rate):\n",
    "    taxTotal = price + (price * tax_rate)\n",
    "    global my_price\n",
    "    my_price = 1000\n",
    "    print \"my_price (inside function) =\", my_price\n",
    "    return taxTotal\n",
    "\n",
    "\n",
    "my_price = float(raw_input(\"Enter a price: \"))\n",
    "\n",
    "totalPrice = calculateTax(my_price, 0.06)\n",
    "print \"price =\", my_price, \"Total price =\", totalPrice\n",
    "print \"my_price (outside function) =\", my_price"
   ]
  },
  {
   "cell_type": "code",
   "execution_count": 1,
   "metadata": {},
   "outputs": [
    {
     "name": "stdout",
     "output_type": "stream",
     "text": [
      "I just created a ball.\n",
      "My ball is small\n",
      "My ball is green\n",
      "My ball's direction is down\n",
      "Now I'm going to bounce the ball\n",
      "\n",
      "Now the ball's direction is up\n"
     ]
    }
   ],
   "source": [
    "class Ball:\n",
    "    \n",
    "    def bounce(self):\n",
    "        if self.direction == \"down\":\n",
    "            self.direction = \"up\"\n",
    "            \n",
    "            \n",
    "myBall = Ball()\n",
    "myBall.direction = \"down\"\n",
    "myBall.color = \"green\"\n",
    "myBall.size = \"small\"\n",
    "\n",
    "print \"I just created a ball.\"\n",
    "print \"My ball is\", myBall.size\n",
    "print \"My ball is\", myBall.color\n",
    "print \"My ball's direction is\", myBall.direction\n",
    "print \"Now I'm going to bounce the ball\"\n",
    "print\n",
    "myBall.bounce()\n",
    "print \"Now the ball's direction is\", myBall.direction"
   ]
  },
  {
   "cell_type": "code",
   "execution_count": 3,
   "metadata": {},
   "outputs": [
    {
     "name": "stdout",
     "output_type": "stream",
     "text": [
      "I just create a ball.\n",
      "My ball is small\n",
      "My ball is red\n",
      "My ball's direction is down\n",
      "Now I'm going to bounce the ball\n",
      "\n",
      "Now the ball's direction is up\n",
      "<__main__.Ball instance at 0x102c4b7e8>\n"
     ]
    }
   ],
   "source": [
    "class Ball:\n",
    "    def __init__(self, color, size, direction):\n",
    "        self.color = color\n",
    "        self.size = size\n",
    "        self.direction = direction\n",
    "        \n",
    "    def bounce(self):\n",
    "        if self.direction == \"down\":\n",
    "            self.direction = \"up\"\n",
    "            \n",
    "            \n",
    "myBall = Ball(\"red\", \"small\", \"down\")\n",
    "print \"I just create a ball.\"\n",
    "\n",
    "print \"My ball is\", myBall.size\n",
    "print \"My ball is\", myBall.color\n",
    "print \"My ball's direction is\", myBall.direction\n",
    "print \"Now I'm going to bounce the ball\"\n",
    "print\n",
    "myBall.bounce()\n",
    "print \"Now the ball's direction is\", myBall.direction\n",
    "print myBall"
   ]
  },
  {
   "cell_type": "code",
   "execution_count": 4,
   "metadata": {},
   "outputs": [
    {
     "name": "stdout",
     "output_type": "stream",
     "text": [
      "Hi, I'm a small red ball!\n"
     ]
    }
   ],
   "source": [
    "class Ball:\n",
    "    def __init__(self, color, size, direction):\n",
    "        self.color = color\n",
    "        self.size = size\n",
    "        self.direction = direction\n",
    "        \n",
    "    def __str__(self):\n",
    "        msg = \"Hi, I'm a \" + self.size + \" \" + self.color + \" ball!\"\n",
    "        return msg\n",
    "    \n",
    "    \n",
    "myBall = Ball(\"red\", \"small\", \"down\")\n",
    "print myBall"
   ]
  },
  {
   "cell_type": "code",
   "execution_count": 5,
   "metadata": {},
   "outputs": [],
   "source": [
    "# 创建 Ball 类的两个实例\n",
    "cartersBall = Ball(\"red\", \"small\", \"down\")\n",
    "warrensBall = Ball(\"green\", \"medium\", \"up\")"
   ]
  },
  {
   "cell_type": "code",
   "execution_count": 8,
   "metadata": {},
   "outputs": [
    {
     "name": "stdout",
     "output_type": "stream",
     "text": [
      "Raw hot dog.\n",
      "Cooking hot dog for 4 minutes...\n",
      "Medium hot dog.\n",
      "Cooking hot dog for 3 more minutes...\n",
      "Well-done hot dog.\n",
      "What happens if I cook it for 10 more minutes?\n",
      "Charcoal hot dog.\n",
      "Now, I am going to add some stuff on my hot dog\n",
      "Charcoal hot dog with ketchup, mustard.\n"
     ]
    }
   ],
   "source": [
    "class HotDog:\n",
    "    def __init__(self):\n",
    "        self.cooked_level = 0\n",
    "        self.cooked_string = \"Raw\"\n",
    "        self.condiments = []\n",
    "        \n",
    "    def __str__(self):\n",
    "        msg = \"hot dog\"\n",
    "        if len(self.condiments) > 0:\n",
    "            msg = msg + \" with \"\n",
    "        for i in self.condiments:\n",
    "            msg = msg + i + \", \"\n",
    "        msg = msg.strip(\", \")\n",
    "        msg = self.cooked_string + \" \" + msg + \".\"\n",
    "        return msg\n",
    "    \n",
    "    def cook(self, time):\n",
    "        self.cooked_level = self.cooked_level + time\n",
    "        if self.cooked_level > 8:\n",
    "            self.cooked_string = \"Charcoal\"\n",
    "        elif self.cooked_level > 5:\n",
    "            self.cooked_string = \"Well-done\"\n",
    "        elif self.cooked_level > 3:\n",
    "            self.cooked_string = \"Medium\"\n",
    "        else:\n",
    "            self.cooked_string = \"Raw\"\n",
    "            \n",
    "    def addCondiment(self, condiment):\n",
    "        self.condiments.append(condiment)\n",
    "\n",
    "            \n",
    "myDog = HotDog()\n",
    "print myDog\n",
    "print \"Cooking hot dog for 4 minutes...\"\n",
    "myDog.cook(4)\n",
    "print myDog\n",
    "print \"Cooking hot dog for 3 more minutes...\"\n",
    "myDog.cook(3)\n",
    "print myDog\n",
    "print \"What happens if I cook it for 10 more minutes?\"\n",
    "myDog.cook(10)\n",
    "print myDog\n",
    "print \"Now, I am going to add some stuff on my hot dog\"\n",
    "myDog.addCondiment(\"ketchup\")\n",
    "myDog.addCondiment(\"mustard\")\n",
    "print myDog\n"
   ]
  },
  {
   "cell_type": "code",
   "execution_count": 10,
   "metadata": {},
   "outputs": [
    {
     "name": "stdout",
     "output_type": "stream",
     "text": [
      "10.0\n",
      "49\n"
     ]
    }
   ],
   "source": [
    "class Triangle:\n",
    "    def __init__(self, width, height):\n",
    "        self.width = width\n",
    "        self.height = height\n",
    "        \n",
    "    def getArea(self):\n",
    "        area = self.width * self.height / 2.0\n",
    "        return area\n",
    "    \n",
    "    \n",
    "class Square:\n",
    "    def __init__(self, size):\n",
    "        self.size = size\n",
    "        \n",
    "    def getArea(self):\n",
    "        area = self.size * self.size\n",
    "        return area\n",
    "    \n",
    "    \n",
    "myTriangle = Triangle(4, 5)\n",
    "mySquare = Square(7)\n",
    "\n",
    "print myTriangle.getArea()\n",
    "print mySquare.getArea()"
   ]
  },
  {
   "cell_type": "code",
   "execution_count": 15,
   "metadata": {},
   "outputs": [],
   "source": [
    "class GameObject:\n",
    "    def __init__(self, name):\n",
    "        self.name = name\n",
    "        \n",
    "    def pickUp(self, player):\n",
    "        pass\n",
    "        # put code here to add the object\n",
    "        # to the player's collection\n",
    "        \n",
    "        \n",
    "class Coin(GameObject):  # Coin是GameObject的子类\n",
    "    def __init__(self, value):\n",
    "        GameObject.__init__(self, \"coin\")  # 在__init__()中，继承GameObject的初始化方法\n",
    "        self.value = value                 # 并补充新内容\n",
    "        \n",
    "    def spend(self, buyer, seller):\n",
    "        pass\n",
    "        # put code here to remove the coin\n",
    "        # from the buyer's money and\n",
    "        # add it to the seller's money"
   ]
  },
  {
   "cell_type": "code",
   "execution_count": 16,
   "metadata": {},
   "outputs": [],
   "source": [
    "class BankAccount:\n",
    "    \n",
    "    def __init__(self, username, cardnumber):\n",
    "        self.username = username\n",
    "        self.cardnumber = cardnumber\n",
    "        self.balance = 0.0\n",
    "        \n",
    "    def getBalance(self):\n",
    "        return self.balance\n",
    "    \n",
    "    def deposit(self, money):\n",
    "        self.balance += money\n",
    "        print \"Now your balance is\", self.balance\n",
    "        \n",
    "    def quqian(self, money):\n",
    "        if self.balance >= money:\n",
    "            self.balance -= money\n",
    "            print \"Now your balance is\", self.balance\n",
    "        else:\n",
    "            print \"You tried to withdraw\", money\n",
    "            print \"The account balance is\", self.balance\n",
    "        \n",
    "        \n",
    "class InterestAccount(BankAccount):\n",
    "    \n",
    "    def __init(self, username, cardnumber, rate):\n",
    "        BankAccount.__init__(self, username, cardnumber)\n",
    "        self.rate = rate\n",
    "        \n",
    "    def addInterest(self):\n",
    "        interst = self.balance * self.rate\n",
    "        print \"adding interest to the account,\", self.rate * 100, \"percent\"\n",
    "        self.deposit(interest)"
   ]
  },
  {
   "cell_type": "code",
   "execution_count": 17,
   "metadata": {},
   "outputs": [
    {
     "name": "stdout",
     "output_type": "stream",
     "text": [
      "Writing upper.py\n"
     ]
    }
   ],
   "source": [
    "%%writefile upper.py\n",
    "def upper(name):\n",
    "    '''convert name to upper charactor'''\n",
    "    return name.upper()"
   ]
  },
  {
   "cell_type": "code",
   "execution_count": 18,
   "metadata": {},
   "outputs": [
    {
     "name": "stdout",
     "output_type": "stream",
     "text": [
      "def upper(name):\r\n",
      "    '''convert name to upper charactor'''\r\n",
      "    return name.upper()"
     ]
    }
   ],
   "source": [
    "!cat upper.py"
   ]
  },
  {
   "cell_type": "code",
   "execution_count": 19,
   "metadata": {},
   "outputs": [
    {
     "name": "stdout",
     "output_type": "stream",
     "text": [
      "[6, 13, 14, 2, 3]\n"
     ]
    }
   ],
   "source": [
    "import random\n",
    "\n",
    "\n",
    "random_list = []\n",
    "while len(random_list) < 5:\n",
    "    random_list.append(random.randint(1, 20))\n",
    "print random_list"
   ]
  },
  {
   "cell_type": "code",
   "execution_count": 21,
   "metadata": {},
   "outputs": [
    {
     "name": "stdout",
     "output_type": "stream",
     "text": [
      "0.867597051912\n",
      "0.18209324205\n",
      "0.317086453562\n",
      "0.140034663318\n",
      "0.74624573166\n",
      "0.0613650229213\n",
      "0.0780480024123\n",
      "0.993638586677\n",
      "0.716107640286\n",
      "0.558312968094\n"
     ]
    }
   ],
   "source": [
    "import random\n",
    "import time\n",
    "\n",
    "for i in range(10):\n",
    "    time.sleep(3)\n",
    "    print random.random()"
   ]
  },
  {
   "cell_type": "code",
   "execution_count": 22,
   "metadata": {},
   "outputs": [
    {
     "name": "stdout",
     "output_type": "stream",
     "text": [
      "[20, 6, 5, 15, 9]\n"
     ]
    }
   ],
   "source": [
    "import random\n",
    "\n",
    "\n",
    "random_list = []\n",
    "for i in range(5):\n",
    "    random_list.append(random.randint(1, 20))\n",
    "print random_list"
   ]
  },
  {
   "cell_type": "code",
   "execution_count": 23,
   "metadata": {},
   "outputs": [],
   "source": [
    "import pygame\n",
    "\n",
    "\n",
    "pygame.init()\n",
    "screen = pygame.display.set_mode([640, 480])"
   ]
  },
  {
   "cell_type": "code",
   "execution_count": 1,
   "metadata": {},
   "outputs": [],
   "source": [
    "# coding=utf-8\n",
    "# GUI 程序的代码不适合在jupyter notebook中编写，运行的时候会引起kernel die\n",
    "\n",
    "import sys\n",
    "\n",
    "import pygame\n",
    "\n",
    "\n",
    "pygame.init()\n",
    "screen = pygame.display.set_mode([640, 480])\n",
    "screen.fill([255, 255, 255])  # 用白色背景填充窗口\n",
    "pygame.draw.circle(screen, [255, 0, 0], [320, 240], 30, 0)\n",
    "pygame.display.flip()\n",
    "\n",
    "running = True\n",
    "while running:\n",
    "    for event in pygame.event.get():\n",
    "        if event.type == pygame.QUIT:\n",
    "            running = False\n",
    "pygame.quit()\n"
   ]
  },
  {
   "cell_type": "code",
   "execution_count": null,
   "metadata": {},
   "outputs": [],
   "source": []
  }
 ],
 "metadata": {
  "kernelspec": {
   "display_name": "Python 2",
   "language": "python",
   "name": "python2"
  },
  "language_info": {
   "codemirror_mode": {
    "name": "ipython",
    "version": 2
   },
   "file_extension": ".py",
   "mimetype": "text/x-python",
   "name": "python",
   "nbconvert_exporter": "python",
   "pygments_lexer": "ipython2",
   "version": "2.7.10"
  }
 },
 "nbformat": 4,
 "nbformat_minor": 2
}
