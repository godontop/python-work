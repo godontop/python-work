{
 "cells": [
  {
   "cell_type": "markdown",
   "metadata": {},
   "source": [
    "1.文件下的所有代码都是使用的Python 2  \n",
    "2.文件内容主要来自于《父与子的编程之旅》"
   ]
  },
  {
   "cell_type": "code",
   "execution_count": 1,
   "metadata": {},
   "outputs": [
    {
     "data": {
      "text/plain": [
       "sys.version_info(major=2, minor=7, micro=10, releaselevel='final', serial=0)"
      ]
     },
     "execution_count": 1,
     "metadata": {},
     "output_type": "execute_result"
    }
   ],
   "source": [
    "import sys\n",
    "\n",
    "\n",
    "sys.version_info"
   ]
  },
  {
   "cell_type": "code",
   "execution_count": 2,
   "metadata": {},
   "outputs": [
    {
     "name": "stdout",
     "output_type": "stream",
     "text": [
      "How many blocks of stars do you want? 3\n",
      "* * *\n",
      "\n",
      "* * * * *\n",
      "* * * * * * *\n",
      "* * * * * * * * *\n",
      "\n",
      "* * * * * * *\n",
      "* * * * * * * * *\n",
      "* * * * * * * * * * *\n",
      "* * * * * * * * * * * * *\n",
      "* * * * * * * * * * * * * * *\n",
      "\n"
     ]
    }
   ],
   "source": [
    "numBlocks = int(raw_input('How many blocks of stars do you want? '))\n",
    "for block in range(1, numBlocks + 1):\n",
    "    for line in range(1, block * 2):\n",
    "        for star in range(1, (block + line) * 2):\n",
    "            print '*',\n",
    "        print\n",
    "    print"
   ]
  },
  {
   "cell_type": "code",
   "execution_count": 3,
   "metadata": {},
   "outputs": [
    {
     "name": "stdout",
     "output_type": "stream",
     "text": [
      "How many blocks of stars do you want? 3\n",
      "block = 1\n",
      "* * * line = 1 star = 3\n",
      "\n",
      "block = 2\n",
      "* * * * * line = 1 star = 5\n",
      "* * * * * * * line = 2 star = 7\n",
      "* * * * * * * * * line = 3 star = 9\n",
      "\n",
      "block = 3\n",
      "* * * * * * * line = 1 star = 7\n",
      "* * * * * * * * * line = 2 star = 9\n",
      "* * * * * * * * * * * line = 3 star = 11\n",
      "* * * * * * * * * * * * * line = 4 star = 13\n",
      "* * * * * * * * * * * * * * * line = 5 star = 15\n",
      "\n"
     ]
    }
   ],
   "source": [
    "numBlocks = int(raw_input('How many blocks of stars do you want? '))\n",
    "for block in range(1, numBlocks + 1):\n",
    "    print 'block =', block\n",
    "    for line in range(1, block * 2):\n",
    "        for star in range(1, (block + line) * 2):\n",
    "            print '*',\n",
    "        print 'line =', line, 'star =', star\n",
    "    print"
   ]
  },
  {
   "cell_type": "code",
   "execution_count": 6,
   "metadata": {},
   "outputs": [
    {
     "name": "stdout",
     "output_type": "stream",
     "text": [
      "How many blocks of stars do you want? 3\n",
      "block = 1\n",
      "* * * line = 1 star = 3\n",
      "\n",
      "block = 2\n",
      "* * * * * line = 1 star = 5\n",
      "* * * * * * * line = 2 star = 7\n",
      "* * * * * * * * * line = 3 star = 9\n",
      "\n",
      "block = 3\n",
      "* * * * * * * line = 1 star = 7\n",
      "* * * * * * * * * line = 2 star = 9\n",
      "* * * * * * * * * * * line = 3 star = 11\n",
      "* * * * * * * * * * * * * line = 4 star = 13\n",
      "* * * * * * * * * * * * * * * line = 5 star = 15\n",
      "\n"
     ]
    }
   ],
   "source": [
    "numBlocks = int(raw_input('How many blocks of stars do you want? '))\n",
    "for block in range(1, numBlocks + 1):\n",
    "    print 'block =', block\n",
    "    for line in range(1, block * 2):\n",
    "        for star in range(1, (block + line) * 2):\n",
    "            print '*',\n",
    "        print 'line =', line, 'star =', star\n",
    "    print"
   ]
  },
  {
   "cell_type": "code",
   "execution_count": 9,
   "metadata": {},
   "outputs": [
    {
     "name": "stdout",
     "output_type": "stream",
     "text": [
      "\tDog\tBun\tKetchup\tMustard\tOnions\n",
      "# 1 \t0 \t0 \t0 \t0 \t0\n",
      "# 2 \t0 \t0 \t0 \t0 \t1\n",
      "# 3 \t0 \t0 \t0 \t1 \t0\n",
      "# 4 \t0 \t0 \t0 \t1 \t1\n",
      "# 5 \t0 \t0 \t1 \t0 \t0\n",
      "# 6 \t0 \t0 \t1 \t0 \t1\n",
      "# 7 \t0 \t0 \t1 \t1 \t0\n",
      "# 8 \t0 \t0 \t1 \t1 \t1\n",
      "# 9 \t0 \t1 \t0 \t0 \t0\n",
      "# 10 \t0 \t1 \t0 \t0 \t1\n",
      "# 11 \t0 \t1 \t0 \t1 \t0\n",
      "# 12 \t0 \t1 \t0 \t1 \t1\n",
      "# 13 \t0 \t1 \t1 \t0 \t0\n",
      "# 14 \t0 \t1 \t1 \t0 \t1\n",
      "# 15 \t0 \t1 \t1 \t1 \t0\n",
      "# 16 \t0 \t1 \t1 \t1 \t1\n",
      "# 17 \t1 \t0 \t0 \t0 \t0\n",
      "# 18 \t1 \t0 \t0 \t0 \t1\n",
      "# 19 \t1 \t0 \t0 \t1 \t0\n",
      "# 20 \t1 \t0 \t0 \t1 \t1\n",
      "# 21 \t1 \t0 \t1 \t0 \t0\n",
      "# 22 \t1 \t0 \t1 \t0 \t1\n",
      "# 23 \t1 \t0 \t1 \t1 \t0\n",
      "# 24 \t1 \t0 \t1 \t1 \t1\n",
      "# 25 \t1 \t1 \t0 \t0 \t0\n",
      "# 26 \t1 \t1 \t0 \t0 \t1\n",
      "# 27 \t1 \t1 \t0 \t1 \t0\n",
      "# 28 \t1 \t1 \t0 \t1 \t1\n",
      "# 29 \t1 \t1 \t1 \t0 \t0\n",
      "# 30 \t1 \t1 \t1 \t0 \t1\n",
      "# 31 \t1 \t1 \t1 \t1 \t0\n",
      "# 32 \t1 \t1 \t1 \t1 \t1\n"
     ]
    }
   ],
   "source": [
    "print '\\tDog\\tBun\\tKetchup\\tMustard\\tOnions'\n",
    "count = 1\n",
    "for dog in [0, 1]:\n",
    "    for bun in [0, 1]:\n",
    "        for ketchup in [0, 1]:\n",
    "            for mustard in [0, 1]:\n",
    "                for onion in [0, 1]:\n",
    "                    print '#', count, '\\t', dog, '\\t', bun, '\\t',\n",
    "                    print ketchup, '\\t', mustard, '\\t', onion\n",
    "                    count += 1"
   ]
  },
  {
   "cell_type": "code",
   "execution_count": 12,
   "metadata": {},
   "outputs": [
    {
     "name": "stdout",
     "output_type": "stream",
     "text": [
      "\tDog\tBun\tKetchup\tMustard\tOnions\tCalories\n",
      "# 1 \t0 \t0 \t0 \t0 \t0 \t0\n",
      "# 2 \t0 \t0 \t0 \t0 \t1 \t40\n",
      "# 3 \t0 \t0 \t0 \t1 \t0 \t20\n",
      "# 4 \t0 \t0 \t0 \t1 \t1 \t60\n",
      "# 5 \t0 \t0 \t1 \t0 \t0 \t80\n",
      "# 6 \t0 \t0 \t1 \t0 \t1 \t120\n",
      "# 7 \t0 \t0 \t1 \t1 \t0 \t100\n",
      "# 8 \t0 \t0 \t1 \t1 \t1 \t140\n",
      "# 9 \t0 \t1 \t0 \t0 \t0 \t120\n",
      "# 10 \t0 \t1 \t0 \t0 \t1 \t160\n",
      "# 11 \t0 \t1 \t0 \t1 \t0 \t140\n",
      "# 12 \t0 \t1 \t0 \t1 \t1 \t180\n",
      "# 13 \t0 \t1 \t1 \t0 \t0 \t200\n",
      "# 14 \t0 \t1 \t1 \t0 \t1 \t240\n",
      "# 15 \t0 \t1 \t1 \t1 \t0 \t220\n",
      "# 16 \t0 \t1 \t1 \t1 \t1 \t260\n",
      "# 17 \t1 \t0 \t0 \t0 \t0 \t140\n",
      "# 18 \t1 \t0 \t0 \t0 \t1 \t180\n",
      "# 19 \t1 \t0 \t0 \t1 \t0 \t160\n",
      "# 20 \t1 \t0 \t0 \t1 \t1 \t200\n",
      "# 21 \t1 \t0 \t1 \t0 \t0 \t220\n",
      "# 22 \t1 \t0 \t1 \t0 \t1 \t260\n",
      "# 23 \t1 \t0 \t1 \t1 \t0 \t240\n",
      "# 24 \t1 \t0 \t1 \t1 \t1 \t280\n",
      "# 25 \t1 \t1 \t0 \t0 \t0 \t260\n",
      "# 26 \t1 \t1 \t0 \t0 \t1 \t300\n",
      "# 27 \t1 \t1 \t0 \t1 \t0 \t280\n",
      "# 28 \t1 \t1 \t0 \t1 \t1 \t320\n",
      "# 29 \t1 \t1 \t1 \t0 \t0 \t340\n",
      "# 30 \t1 \t1 \t1 \t0 \t1 \t380\n",
      "# 31 \t1 \t1 \t1 \t1 \t0 \t360\n",
      "# 32 \t1 \t1 \t1 \t1 \t1 \t400\n"
     ]
    }
   ],
   "source": [
    "dog_cal = 140\n",
    "bun_cal = 120\n",
    "mus_cal = 20\n",
    "ket_cal = 80\n",
    "onion_cal = 40\n",
    "print '\\tDog\\tBun\\tKetchup\\tMustard\\tOnions\\tCalories'\n",
    "count = 1\n",
    "for dog in [0, 1]:\n",
    "    for bun in [0, 1]:\n",
    "        for ketchup in [0, 1]:\n",
    "            for mustard in [0, 1]:\n",
    "                for onion in [0, 1]:\n",
    "                    tot_cal = dog * dog_cal + bun * bun_cal + \\\n",
    "                              mustard * mus_cal + ketchup * ket_cal + \\\n",
    "                              onion * onion_cal\n",
    "                    print '#', count, '\\t', dog, '\\t', bun, '\\t',\n",
    "                    print ketchup, '\\t', mustard, '\\t', onion, '\\t',\n",
    "                    print tot_cal\n",
    "                    count += 1"
   ]
  },
  {
   "cell_type": "code",
   "execution_count": 13,
   "metadata": {},
   "outputs": [
    {
     "name": "stdout",
     "output_type": "stream",
     "text": [
      "\tDog\tBun\tKetchup\tMustard\tOnions\tCalories\n",
      "# 1 \t0 \t0 \t0 \t0 \t0 \t0\n",
      "# 2 \t0 \t0 \t0 \t0 \t1 \t40\n",
      "# 3 \t0 \t0 \t0 \t1 \t0 \t20\n",
      "# 4 \t0 \t0 \t0 \t1 \t1 \t60\n",
      "# 5 \t0 \t0 \t1 \t0 \t0 \t80\n",
      "# 6 \t0 \t0 \t1 \t0 \t1 \t120\n",
      "# 7 \t0 \t0 \t1 \t1 \t0 \t100\n",
      "# 8 \t0 \t0 \t1 \t1 \t1 \t140\n",
      "# 9 \t0 \t1 \t0 \t0 \t0 \t120\n",
      "# 10 \t0 \t1 \t0 \t0 \t1 \t160\n",
      "# 11 \t0 \t1 \t0 \t1 \t0 \t140\n",
      "# 12 \t0 \t1 \t0 \t1 \t1 \t180\n",
      "# 13 \t0 \t1 \t1 \t0 \t0 \t200\n",
      "# 14 \t0 \t1 \t1 \t0 \t1 \t240\n",
      "# 15 \t0 \t1 \t1 \t1 \t0 \t220\n",
      "# 16 \t0 \t1 \t1 \t1 \t1 \t260\n",
      "# 17 \t1 \t0 \t0 \t0 \t0 \t140\n",
      "# 18 \t1 \t0 \t0 \t0 \t1 \t180\n",
      "# 19 \t1 \t0 \t0 \t1 \t0 \t160\n",
      "# 20 \t1 \t0 \t0 \t1 \t1 \t200\n",
      "# 21 \t1 \t0 \t1 \t0 \t0 \t220\n",
      "# 22 \t1 \t0 \t1 \t0 \t1 \t260\n",
      "# 23 \t1 \t0 \t1 \t1 \t0 \t240\n",
      "# 24 \t1 \t0 \t1 \t1 \t1 \t280\n",
      "# 25 \t1 \t1 \t0 \t0 \t0 \t260\n",
      "# 26 \t1 \t1 \t0 \t0 \t1 \t300\n",
      "# 27 \t1 \t1 \t0 \t1 \t0 \t280\n",
      "# 28 \t1 \t1 \t0 \t1 \t1 \t320\n",
      "# 29 \t1 \t1 \t1 \t0 \t0 \t340\n",
      "# 30 \t1 \t1 \t1 \t0 \t1 \t380\n",
      "# 31 \t1 \t1 \t1 \t1 \t0 \t360\n",
      "# 32 \t1 \t1 \t1 \t1 \t1 \t400\n"
     ]
    }
   ],
   "source": [
    "dog_cal = 140\n",
    "bun_cal = 120\n",
    "mus_cal = 20\n",
    "ket_cal = 80\n",
    "onion_cal = 40\n",
    "print '\\tDog\\tBun\\tKetchup\\tMustard\\tOnions\\tCalories'\n",
    "count = 1\n",
    "for dog in [0, 1]:\n",
    "    for bun in [0, 1]:\n",
    "        for ketchup in [0, 1]:\n",
    "            for mustard in [0, 1]:\n",
    "                for onion in [0, 1]:\n",
    "                    tot_cal = (dog * dog_cal + bun * bun_cal + \n",
    "                              mustard * mus_cal + ketchup * ket_cal + \n",
    "                              onion * onion_cal)\n",
    "                    print '#', count, '\\t', dog, '\\t', bun, '\\t',\n",
    "                    print ketchup, '\\t', mustard, '\\t', onion, '\\t',\n",
    "                    print tot_cal\n",
    "                    count += 1"
   ]
  },
  {
   "cell_type": "code",
   "execution_count": 15,
   "metadata": {},
   "outputs": [
    {
     "name": "stdout",
     "output_type": "stream",
     "text": [
      "How many seconds? 4\n",
      "4 * * * *\n",
      "3 * * *\n",
      "2 * *\n",
      "1 *\n",
      "BLAST OFF!\n"
     ]
    }
   ],
   "source": [
    "import time\n",
    "\n",
    "\n",
    "starter = int(raw_input(\"How many seconds? \"))\n",
    "for i in range(starter, 0, -1):\n",
    "    print i,\n",
    "    for j in range(i):\n",
    "        print '*',\n",
    "    print\n",
    "    time.sleep(1)\n",
    "print \"BLAST OFF!\""
   ]
  },
  {
   "cell_type": "code",
   "execution_count": 17,
   "metadata": {},
   "outputs": [
    {
     "name": "stdout",
     "output_type": "stream",
     "text": [
      "['d', 'a', 'e', 'c', 'b']\n",
      "['a', 'b', 'c', 'd', 'e']\n"
     ]
    }
   ],
   "source": [
    "letters = ['d', 'a', 'e', 'c', 'b']\n",
    "print letters\n",
    "letters.sort()\n",
    "print letters"
   ]
  },
  {
   "cell_type": "code",
   "execution_count": 18,
   "metadata": {},
   "outputs": [
    {
     "name": "stdout",
     "output_type": "stream",
     "text": [
      "None\n"
     ]
    }
   ],
   "source": [
    "letters = ['d', 'a', 'e', 'c', 'b']\n",
    "print letters.sort()"
   ]
  },
  {
   "cell_type": "code",
   "execution_count": 19,
   "metadata": {},
   "outputs": [
    {
     "name": "stdout",
     "output_type": "stream",
     "text": [
      "['a', 'b', 'c', 'd', 'e']\n"
     ]
    }
   ],
   "source": [
    "letters = ['d', 'a', 'e', 'c', 'b']\n",
    "letters.sort()\n",
    "print letters"
   ]
  },
  {
   "cell_type": "code",
   "execution_count": null,
   "metadata": {},
   "outputs": [],
   "source": []
  }
 ],
 "metadata": {
  "kernelspec": {
   "display_name": "Python 2",
   "language": "python",
   "name": "python2"
  },
  "language_info": {
   "codemirror_mode": {
    "name": "ipython",
    "version": 2
   },
   "file_extension": ".py",
   "mimetype": "text/x-python",
   "name": "python",
   "nbconvert_exporter": "python",
   "pygments_lexer": "ipython2",
   "version": "2.7.10"
  }
 },
 "nbformat": 4,
 "nbformat_minor": 2
}
