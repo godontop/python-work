{
 "cells": [
  {
   "cell_type": "markdown",
   "metadata": {},
   "source": [
    "## for循环\n",
    "for循环中，break被调用之后，会立即跳出for循环。程序跳出for循环之后会继续执行for代码块之后的代码。"
   ]
  },
  {
   "cell_type": "code",
   "execution_count": 5,
   "metadata": {},
   "outputs": [
    {
     "name": "stdout",
     "output_type": "stream",
     "text": [
      "a\n",
      "b\n",
      "normal output\n"
     ]
    }
   ],
   "source": [
    "list_ = ['a', 'b', 'c', 'd']\n",
    "for e in list_:\n",
    "    if e == 'c':\n",
    "        break\n",
    "    print(e)\n",
    "\n",
    "print('normal output')"
   ]
  },
  {
   "cell_type": "markdown",
   "metadata": {},
   "source": [
    "## while循环\n",
    "while循环体中，如果break被调用，则会立即跳出循环，break之后的代码不会被执行。程序跳出while循环后会继续向下执行，即执行while代码块之后的代码。"
   ]
  },
  {
   "cell_type": "code",
   "execution_count": 4,
   "metadata": {},
   "outputs": [
    {
     "name": "stdout",
     "output_type": "stream",
     "text": [
      "normal output after while code block\n"
     ]
    }
   ],
   "source": [
    "while True:\n",
    "    break\n",
    "    print('not print')\n",
    "\n",
    "print('normal output after while code block')"
   ]
  },
  {
   "cell_type": "markdown",
   "metadata": {},
   "source": [
    "## Python 2与Python 3的差异\n",
    "**input(`[`*prompt*`]`)函数**  \n",
    "1.Python 2中input函数输入的数字的默认类型为int，而Python 3中input函数输入的数字的默认类型为str；"
   ]
  },
  {
   "cell_type": "code",
   "execution_count": 6,
   "metadata": {},
   "outputs": [
    {
     "name": "stdout",
     "output_type": "stream",
     "text": [
      "guess = input(\"What's your guess number: \")\r\n",
      "print(type(guess))\r\n"
     ]
    }
   ],
   "source": [
    "!cat input.py"
   ]
  },
  {
   "cell_type": "markdown",
   "metadata": {},
   "source": [
    "```\n",
    "Mac:python_work huage$ python input.py  \n",
    "What's your guess number: 8  \n",
    "<type 'int'>  \n",
    "Mac:python_work huage$ python3 input.py  \n",
    "What's your guess number: 8  \n",
    "<class 'str'>\n",
    "```"
   ]
  },
  {
   "cell_type": "code",
   "execution_count": null,
   "metadata": {},
   "outputs": [],
   "source": []
  }
 ],
 "metadata": {
  "kernelspec": {
   "display_name": "Python 3",
   "language": "python",
   "name": "python3"
  },
  "language_info": {
   "codemirror_mode": {
    "name": "ipython",
    "version": 3
   },
   "file_extension": ".py",
   "mimetype": "text/x-python",
   "name": "python",
   "nbconvert_exporter": "python",
   "pygments_lexer": "ipython3",
   "version": "3.6.2"
  }
 },
 "nbformat": 4,
 "nbformat_minor": 2
}
