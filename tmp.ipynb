{
 "cells": [
  {
   "cell_type": "code",
   "execution_count": 1,
   "metadata": {},
   "outputs": [
    {
     "name": "stdout",
     "output_type": "stream",
     "text": [
      "2345\\*10\n"
     ]
    }
   ],
   "source": [
    "print('2345\\*10')"
   ]
  },
  {
   "cell_type": "code",
   "execution_count": 2,
   "metadata": {},
   "outputs": [
    {
     "name": "stdout",
     "output_type": "stream",
     "text": [
      "0001python.ipynb               newfile.txt\r\n",
      "LICENSE                        next.py\r\n",
      "README.md                      none.py\r\n",
      "a_simple_game.py               numeric_functions.py\r\n",
      "abc.txt                        opem.txt\r\n",
      "albert_einstein.py             opened_write_mode.py\r\n",
      "apostrophe.py                  pac_server.py\r\n",
      "assertion.py                   property.py\r\n",
      "assertion_2.py                 property_2.py\r\n",
      "autovivification.py            python-notes.ipynb\r\n",
      "bicycles.py                    python_codes.py\r\n",
      "birthday.py                    raising_exception.py\r\n",
      "calc.py                        raising_exception_2.py\r\n",
      "calculator.py                  raising_exception_3.py\r\n",
      "cars.py                        rc.local\r\n",
      "class_instance.py              re.py\r\n",
      "class_method.py                re.search.py\r\n",
      "client.json                    re_1.py\r\n",
      "comment.py                     re_charactor_class.py\r\n",
      "data.pkl                       re_charactor_class_2.py\r\n",
      "decorator.py                   re_charactor_class_3.py\r\n",
      "default_values.py              re_email_extraction.py\r\n",
      "del_array_element.py           re_match_group.py\r\n",
      "dictionaries.py                re_match_group_2.py\r\n",
      "dictionaries_2.py              re_metecharactor.py\r\n",
      "dunder_add.py                  re_reading_file.py\r\n",
      "encoding.py                    re_special_sequences.py\r\n",
      "enumerate.py                   re_special_sequences_2.py\r\n",
      "exception_finally.py           re_special_sequences_3.py\r\n",
      "exception_finally_2.py         re_sub.py\r\n",
      "factorial.py                   reading_file.py\r\n",
      "famous_person.py               readlines.py\r\n",
      "filename.txt                   server.py\r\n",
      "findproxyurl.js                sets_math_operation.py\r\n",
      "for_else.py                    \u001b[31mshadowsocks-2.8.2.tar.gz\u001b[m\u001b[m\r\n",
      "format_string.py               simple_message.py\r\n",
      "friends_list.py                simple_messages.py\r\n",
      "function_arguments.py          slate.pkl\r\n",
      "function_arguments_2.py        sololearn.ipynb\r\n",
      "generator.py                   sololearn.py\r\n",
      "generator_infinite_numbers.py  some_script.py\r\n",
      "hello_eric.py                  \u001b[34msomedir\u001b[m\u001b[m\r\n",
      "hello_world.py                 sorted_function.py\r\n",
      "infinite_generator.py          static_method.py\r\n",
      "inherit.py                     string_escape.py\r\n",
      "inheritance_super.py           string_formatting.py\r\n",
      "itertools.py                   string_functions.py\r\n",
      "itertools_count.py             string_list_slice.py\r\n",
      "itertools_product.py           string_method_join.py\r\n",
      "join_method.py                 strip_blank.py\r\n",
      "\u001b[31mkeyword_20171006.csv\u001b[m\u001b[m           strongly_private_method.py\r\n",
      "lambdas.py                     ternary_operator.py\r\n",
      "list_comprehension.py          test.csv\r\n",
      "list_comprehension_if.py       test.txt\r\n",
      "list_slice.py                  text_analyzer.py\r\n",
      "loop_return.py                 text_analyzer_2.py\r\n",
      "magic_method.py                tmp-2017-11-09_15-07-24-279.py\r\n",
      "magic_method_2.py              tmp-2017-11-09_15-47-52-155.py\r\n",
      "magic_method_3.py              tmp.ipynb\r\n",
      "magic_method_4.py              \u001b[31mtmp.py\u001b[m\u001b[m\r\n",
      "magic_method_compare.py        travel.py\r\n",
      "magic_method_container.py      trip_way.py\r\n",
      "magic_method_del.py            try_except_else.py\r\n",
      "magic_method_gt.py             tuple.py\r\n",
      "magic_method_unicode.py        tuple_slice.py\r\n",
      "magicians.py                   tuple_unpacking.py\r\n",
      "merge_number_string.py         untitled\r\n",
      "module.py                      weakly_private_method.py\r\n",
      "module_as.py                   with_statement.py\r\n",
      "motorecycles.py                writing_file.py\r\n",
      "name.py                        zen_of_python.py\r\n",
      "name_format.py\r\n"
     ]
    }
   ],
   "source": [
    "!ls"
   ]
  },
  {
   "cell_type": "code",
   "execution_count": 3,
   "metadata": {},
   "outputs": [
    {
     "name": "stdout",
     "output_type": "stream",
     "text": [
      "abc.txt      filename.txt newfile.txt  opem.txt     test.txt\r\n"
     ]
    }
   ],
   "source": [
    "!ls *.txt"
   ]
  },
  {
   "cell_type": "code",
   "execution_count": 6,
   "metadata": {},
   "outputs": [],
   "source": [
    "!cat abc.txt"
   ]
  },
  {
   "cell_type": "code",
   "execution_count": 7,
   "metadata": {},
   "outputs": [],
   "source": [
    "!rm -rf abc.txt"
   ]
  },
  {
   "cell_type": "code",
   "execution_count": 8,
   "metadata": {},
   "outputs": [
    {
     "name": "stdout",
     "output_type": "stream",
     "text": [
      "filename.txt newfile.txt  opem.txt     test.txt\r\n"
     ]
    }
   ],
   "source": [
    "!ls *.txt"
   ]
  },
  {
   "cell_type": "code",
   "execution_count": 9,
   "metadata": {},
   "outputs": [
    {
     "name": "stdout",
     "output_type": "stream",
     "text": [
      "Ornhgvshy vf orggre guna htyl.\r\n",
      "Rkcyvpvg vf orggre gunna vzcyvpvg.\r\n",
      "Fvzcyr vf orggre guna pbzcyvpngrq.\r\n",
      "Syng vf orggre guna arfgrq.\r\n",
      "Fcenfr fv orggre guna qrafr.\r\n",
      "Ernqnovyvgl pbhagf.\r\n",
      "Fcrpvny pnfrf nera'g fcrpvng rabthu gb oernx gur ehyrf.\r\n",
      "Nygubhtu cenpgvpnyvgl orgnf chevgl.\r\n",
      "Reebef fubhyq arire cnff fvyragyl.\r\n",
      "Hayrff rkcyvpvgyl fvyraprq.\r\n",
      "Va gur snpr bs nzovthvgl, ershrf gur grzcgngvba bg thrff.\r\n",
      "Gurer fubhyq or bar-- naq cersrenoylbayl bar --boivbhf jnl gb qb vg.\r\n",
      "Nygubhtu gung jnl znl abg or boivbhf ng svefg hayrff lbh'er Qhgpu.\r\n",
      "Abj vf orggre guna arrire.\r\n",
      "Nygubhtu arire vf bsgra orggre guna *evtug* abj.\r\n",
      "Vs gur vzcyrzragngvba vf uneq gb rkcynva, vg'f n onq vqrn.\r\n",
      "Vs gur vzcyrzragngvba vf rnfl gb rkcynva, vg znl or n tbbq vqrn.\r\n",
      "Anzrfcnprf ner bar ubaxvat terng vqrn -- yrg'f qb zber bs gubfr!"
     ]
    }
   ],
   "source": [
    "!cat test.txt"
   ]
  },
  {
   "cell_type": "code",
   "execution_count": 42,
   "metadata": {},
   "outputs": [
    {
     "ename": "NameError",
     "evalue": "name 'timsAnswer' is not defined",
     "output_type": "error",
     "traceback": [
      "\u001b[0;31m---------------------------------------------------------------------------\u001b[0m",
      "\u001b[0;31mNameError\u001b[0m                                 Traceback (most recent call last)",
      "\u001b[0;32m<ipython-input-42-20fd00c50a51>\u001b[0m in \u001b[0;36m<module>\u001b[0;34m()\u001b[0m\n\u001b[0;32m----> 1\u001b[0;31m \u001b[0;32mif\u001b[0m \u001b[0mtimsAnswer\u001b[0m \u001b[0;34m==\u001b[0m \u001b[0mcorrectAnswer\u001b[0m\u001b[0;34m:\u001b[0m\u001b[0;34m\u001b[0m\u001b[0m\n\u001b[0m\u001b[1;32m      2\u001b[0m     \u001b[0mprint\u001b[0m\u001b[0;34m(\u001b[0m\u001b[0;34m'You got it right!'\u001b[0m\u001b[0;34m)\u001b[0m\u001b[0;34m\u001b[0m\u001b[0m\n\u001b[1;32m      3\u001b[0m     \u001b[0mscore\u001b[0m \u001b[0;34m=\u001b[0m \u001b[0mscore\u001b[0m \u001b[0;34m+\u001b[0m \u001b[0;36m10\u001b[0m\u001b[0;34m\u001b[0m\u001b[0m\n",
      "\u001b[0;31mNameError\u001b[0m: name 'timsAnswer' is not defined"
     ]
    }
   ],
   "source": [
    "if timsAnswer == correctAnswer:\n",
    "    print('You got it right!')\n",
    "    score = score + 10"
   ]
  },
  {
   "cell_type": "code",
   "execution_count": 43,
   "metadata": {},
   "outputs": [
    {
     "name": "stdout",
     "output_type": "stream",
     "text": [
      "Hello World!\n"
     ]
    }
   ],
   "source": [
    "print('Hello World!')"
   ]
  },
  {
   "cell_type": "code",
   "execution_count": 44,
   "metadata": {},
   "outputs": [
    {
     "name": "stdout",
     "output_type": "stream",
     "text": [
      "8\n"
     ]
    }
   ],
   "source": [
    "print(5 + 3)"
   ]
  },
  {
   "cell_type": "code",
   "execution_count": 45,
   "metadata": {},
   "outputs": [
    {
     "name": "stdout",
     "output_type": "stream",
     "text": [
      "15\n"
     ]
    }
   ],
   "source": [
    "print(5 * 3)"
   ]
  },
  {
   "cell_type": "code",
   "execution_count": 46,
   "metadata": {},
   "outputs": [
    {
     "name": "stdout",
     "output_type": "stream",
     "text": [
      "15920205\n"
     ]
    }
   ],
   "source": [
    "print(2345 * 6789)"
   ]
  },
  {
   "cell_type": "code",
   "execution_count": 47,
   "metadata": {},
   "outputs": [
    {
     "name": "stdout",
     "output_type": "stream",
     "text": [
      "12193263200731596000609652202408166072245112635269\n"
     ]
    }
   ],
   "source": [
    "print(1234567898765432123456789 * 9876543212345678987654321)"
   ]
  },
  {
   "cell_type": "code",
   "execution_count": 48,
   "metadata": {},
   "outputs": [
    {
     "name": "stdout",
     "output_type": "stream",
     "text": [
      "catdog\n"
     ]
    }
   ],
   "source": [
    "print('cat' + 'dog')"
   ]
  },
  {
   "cell_type": "code",
   "execution_count": 50,
   "metadata": {},
   "outputs": [
    {
     "name": "stdout",
     "output_type": "stream",
     "text": [
      "Hello Hello Hello Hello Hello Hello Hello Hello Hello Hello Hello Hello Hello Hello Hello Hello Hello Hello Hello Hello \n"
     ]
    }
   ],
   "source": [
    "print('Hello ' * 20)"
   ]
  },
  {
   "cell_type": "code",
   "execution_count": 51,
   "metadata": {},
   "outputs": [
    {
     "name": "stdout",
     "output_type": "stream",
     "text": [
      "10080\n"
     ]
    }
   ],
   "source": [
    "print(7 * 24 * 60)"
   ]
  },
  {
   "cell_type": "code",
   "execution_count": 52,
   "metadata": {},
   "outputs": [
    {
     "name": "stdout",
     "output_type": "stream",
     "text": [
      "My name is Daye Yee.\n",
      "I was born January 1, 1987.\n",
      "My favorite color is blue.\n"
     ]
    }
   ],
   "source": [
    "print(\"My name is Daye Yee.\")\n",
    "print(\"I was born January 1, 1987.\")\n",
    "print(\"My favorite color is blue.\")"
   ]
  },
  {
   "cell_type": "code",
   "execution_count": 16,
   "metadata": {},
   "outputs": [
    {
     "name": "stdout",
     "output_type": "stream",
     "text": [
      "<class '_io.TextIOWrapper'>\n"
     ]
    }
   ],
   "source": [
    "with open('test.txt', 'r') as f:\n",
    "    print(type(f))"
   ]
  },
  {
   "cell_type": "code",
   "execution_count": 15,
   "metadata": {},
   "outputs": [
    {
     "name": "stdout",
     "output_type": "stream",
     "text": [
      "<class '_io.TextIOWrapper'>\n"
     ]
    }
   ],
   "source": [
    "with open('test.txt', 'w') as f:\n",
    "    print(type(f))"
   ]
  },
  {
   "cell_type": "code",
   "execution_count": 17,
   "metadata": {},
   "outputs": [
    {
     "name": "stdout",
     "output_type": "stream",
     "text": [
      "<class '_io.TextIOWrapper'>\n"
     ]
    }
   ],
   "source": [
    "with open('test.txt', 'rt') as f:\n",
    "    print(type(f))"
   ]
  },
  {
   "cell_type": "code",
   "execution_count": 18,
   "metadata": {},
   "outputs": [
    {
     "name": "stdout",
     "output_type": "stream",
     "text": [
      "<class '_io.TextIOWrapper'>\n"
     ]
    }
   ],
   "source": [
    "with open('test.txt', 'wt') as f:\n",
    "    print(type(f))"
   ]
  },
  {
   "cell_type": "code",
   "execution_count": 22,
   "metadata": {},
   "outputs": [
    {
     "name": "stdout",
     "output_type": "stream",
     "text": [
      "<class '_io.TextIOWrapper'>\n"
     ]
    }
   ],
   "source": [
    "with open('test.txt', 'r+') as f:\n",
    "    print(type(f))"
   ]
  },
  {
   "cell_type": "code",
   "execution_count": 40,
   "metadata": {},
   "outputs": [
    {
     "name": "stdout",
     "output_type": "stream",
     "text": [
      "<class '_io.TextIOWrapper'>\n"
     ]
    }
   ],
   "source": [
    "with open('test.txt', 'r+t') as f:\n",
    "    print(type(f))"
   ]
  },
  {
   "cell_type": "code",
   "execution_count": 19,
   "metadata": {},
   "outputs": [
    {
     "data": {
      "text/plain": [
       "True"
      ]
     },
     "execution_count": 19,
     "metadata": {},
     "output_type": "execute_result"
    }
   ],
   "source": [
    "import io\n",
    "issubclass(io.TextIOWrapper, io.TextIOBase)"
   ]
  },
  {
   "cell_type": "code",
   "execution_count": 24,
   "metadata": {},
   "outputs": [
    {
     "name": "stdout",
     "output_type": "stream",
     "text": [
      "<class '_io.BufferedReader'>\n"
     ]
    }
   ],
   "source": [
    "with open('test.txt', 'rb') as f:\n",
    "    print(type(f))"
   ]
  },
  {
   "cell_type": "code",
   "execution_count": 25,
   "metadata": {},
   "outputs": [
    {
     "name": "stdout",
     "output_type": "stream",
     "text": [
      "<class '_io.BufferedWriter'>\n"
     ]
    }
   ],
   "source": [
    "with open('test.txt', 'wb') as f:\n",
    "    print(type(f))"
   ]
  },
  {
   "cell_type": "code",
   "execution_count": 26,
   "metadata": {},
   "outputs": [
    {
     "name": "stdout",
     "output_type": "stream",
     "text": [
      "<class '_io.BufferedWriter'>\n"
     ]
    }
   ],
   "source": [
    "with open('test.txt', 'ab') as f:\n",
    "    print(type(f))"
   ]
  },
  {
   "cell_type": "code",
   "execution_count": 30,
   "metadata": {},
   "outputs": [
    {
     "name": "stdout",
     "output_type": "stream",
     "text": [
      "<class '_io.BufferedRandom'>\n"
     ]
    }
   ],
   "source": [
    "with open('test.txt', 'r+b') as f:\n",
    "    print(type(f))"
   ]
  },
  {
   "cell_type": "code",
   "execution_count": 33,
   "metadata": {},
   "outputs": [
    {
     "name": "stdout",
     "output_type": "stream",
     "text": [
      "True\n",
      "True\n",
      "True\n"
     ]
    }
   ],
   "source": [
    "import io\n",
    "print(issubclass(io.BufferedReader, io.BufferedIOBase))\n",
    "print(issubclass(io.BufferedWriter, io.BufferedIOBase))\n",
    "print(issubclass(io.BufferedRandom, io.BufferedIOBase))"
   ]
  },
  {
   "cell_type": "code",
   "execution_count": 35,
   "metadata": {},
   "outputs": [
    {
     "name": "stdout",
     "output_type": "stream",
     "text": [
      "<class '_io.FileIO'>\n"
     ]
    }
   ],
   "source": [
    "with open('test.txt', 'rb', buffering=0) as f:\n",
    "    print(type(f))"
   ]
  },
  {
   "cell_type": "code",
   "execution_count": 36,
   "metadata": {},
   "outputs": [
    {
     "name": "stdout",
     "output_type": "stream",
     "text": [
      "<class '_io.FileIO'>\n"
     ]
    }
   ],
   "source": [
    "with open('test.txt', 'wb', buffering=0) as f:\n",
    "    print(type(f))"
   ]
  },
  {
   "cell_type": "code",
   "execution_count": 37,
   "metadata": {},
   "outputs": [
    {
     "name": "stdout",
     "output_type": "stream",
     "text": [
      "<class '_io.FileIO'>\n"
     ]
    }
   ],
   "source": [
    "with open('test.txt', 'ab', buffering=0) as f:\n",
    "    print(type(f))"
   ]
  },
  {
   "cell_type": "code",
   "execution_count": 38,
   "metadata": {},
   "outputs": [
    {
     "name": "stdout",
     "output_type": "stream",
     "text": [
      "<class '_io.FileIO'>\n"
     ]
    }
   ],
   "source": [
    "with open('test.txt', 'r+b', buffering=0) as f:\n",
    "    print(type(f))"
   ]
  },
  {
   "cell_type": "code",
   "execution_count": 39,
   "metadata": {},
   "outputs": [
    {
     "name": "stdout",
     "output_type": "stream",
     "text": [
      "True\n"
     ]
    }
   ],
   "source": [
    "import io\n",
    "print(issubclass(io.FileIO, io.RawIOBase))"
   ]
  },
  {
   "cell_type": "code",
   "execution_count": 53,
   "metadata": {},
   "outputs": [
    {
     "name": "stdout",
     "output_type": "stream",
     "text": [
      "<class 'bytes'>\n"
     ]
    }
   ],
   "source": [
    "with open('test.txt', 'rb') as f:\n",
    "    print(type(f.read()))"
   ]
  },
  {
   "cell_type": "code",
   "execution_count": 57,
   "metadata": {},
   "outputs": [
    {
     "name": "stdout",
     "output_type": "stream",
     "text": [
      "<class 'str'>\n"
     ]
    }
   ],
   "source": [
    "with open('test.txt', 'rb') as f:\n",
    "    print(type(f.read().decode('utf-8')))"
   ]
  },
  {
   "cell_type": "code",
   "execution_count": 54,
   "metadata": {},
   "outputs": [
    {
     "name": "stdout",
     "output_type": "stream",
     "text": [
      "<class 'bytes'>\n"
     ]
    }
   ],
   "source": [
    "with open('test.txt', 'rb', buffering=0) as f:\n",
    "    print(type(f.read()))"
   ]
  },
  {
   "cell_type": "code",
   "execution_count": 56,
   "metadata": {},
   "outputs": [
    {
     "name": "stdout",
     "output_type": "stream",
     "text": [
      "<class 'str'>\n"
     ]
    }
   ],
   "source": [
    "with open('test.txt', 'rb', buffering=0) as f:\n",
    "    print(type(f.read().decode('utf-8')))"
   ]
  },
  {
   "cell_type": "code",
   "execution_count": 55,
   "metadata": {},
   "outputs": [
    {
     "name": "stdout",
     "output_type": "stream",
     "text": [
      "<class 'str'>\n"
     ]
    }
   ],
   "source": [
    "with open('test.txt', 'r') as f:\n",
    "    print(type(f.read()))"
   ]
  },
  {
   "cell_type": "code",
   "execution_count": 1,
   "metadata": {},
   "outputs": [
    {
     "name": "stdout",
     "output_type": "stream",
     "text": [
      "False\n",
      "True\n"
     ]
    }
   ],
   "source": [
    "with open('test.txt', 'w') as f:\n",
    "    f.write('Spam and eggs!')\n",
    "    print(f.closed)\n",
    "print(f.closed)"
   ]
  },
  {
   "cell_type": "code",
   "execution_count": 3,
   "metadata": {},
   "outputs": [
    {
     "name": "stdout",
     "output_type": "stream",
     "text": [
      "False\n",
      "False\n",
      "True\n",
      "True\n",
      "True\n",
      "True\n",
      "True\n",
      "True\n",
      "True\n"
     ]
    }
   ],
   "source": [
    "import io\n",
    "\n",
    "\n",
    "print(issubclass(io.BufferedRandom, io.BufferedReader))\n",
    "print(issubclass(io.BufferedRandom, io.BufferedWriter))\n",
    "print(issubclass(io.BufferedRandom, io.BufferedIOBase))\n",
    "print(issubclass(io.BufferedRandom, io.IOBase))\n",
    "print(issubclass(io.BufferedReader, io.BufferedIOBase))\n",
    "print(issubclass(io.BufferedReader, io.IOBase))\n",
    "print(issubclass(io.BufferedWriter, io.BufferedIOBase))\n",
    "print(issubclass(io.BufferedWriter, io.IOBase))\n",
    "print(issubclass(io.BufferedIOBase, io.IOBase))"
   ]
  },
  {
   "cell_type": "code",
   "execution_count": 3,
   "metadata": {},
   "outputs": [
    {
     "name": "stdout",
     "output_type": "stream",
     "text": [
      "sys.version_info(major=3, minor=6, micro=2, releaselevel='final', serial=0)\n",
      "3\n"
     ]
    }
   ],
   "source": [
    "import sys\n",
    "\n",
    "\n",
    "print(sys.version_info)\n",
    "print(sys.version_info.major)"
   ]
  },
  {
   "cell_type": "code",
   "execution_count": 4,
   "metadata": {},
   "outputs": [
    {
     "data": {
      "text/plain": [
       "str"
      ]
     },
     "execution_count": 4,
     "metadata": {},
     "output_type": "execute_result"
    }
   ],
   "source": [
    "type(\"Hello World\")"
   ]
  },
  {
   "cell_type": "code",
   "execution_count": 5,
   "metadata": {},
   "outputs": [
    {
     "data": {
      "text/plain": [
       "bytes"
      ]
     },
     "execution_count": 5,
     "metadata": {},
     "output_type": "execute_result"
    }
   ],
   "source": [
    "type(b'Hello World')"
   ]
  },
  {
   "cell_type": "code",
   "execution_count": null,
   "metadata": {},
   "outputs": [],
   "source": []
  }
 ],
 "metadata": {
  "kernelspec": {
   "display_name": "Python 3",
   "language": "python",
   "name": "python3"
  },
  "language_info": {
   "codemirror_mode": {
    "name": "ipython",
    "version": 3
   },
   "file_extension": ".py",
   "mimetype": "text/x-python",
   "name": "python",
   "nbconvert_exporter": "python",
   "pygments_lexer": "ipython3",
   "version": "3.6.2"
  }
 },
 "nbformat": 4,
 "nbformat_minor": 2
}
