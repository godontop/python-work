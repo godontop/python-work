{
 "cells": [
  {
   "cell_type": "code",
   "execution_count": 1,
   "metadata": {},
   "outputs": [
    {
     "data": {
      "text/plain": [
       "3"
      ]
     },
     "execution_count": 1,
     "metadata": {},
     "output_type": "execute_result"
    }
   ],
   "source": [
    "1 + 2"
   ]
  },
  {
   "cell_type": "code",
   "execution_count": 2,
   "metadata": {},
   "outputs": [
    {
     "name": "stdout",
     "output_type": "stream",
     "text": [
      "1+2\n"
     ]
    }
   ],
   "source": [
    "print('1+2')"
   ]
  },
  {
   "cell_type": "code",
   "execution_count": 3,
   "metadata": {},
   "outputs": [
    {
     "name": "stdout",
     "output_type": "stream",
     "text": [
      "Overwriting test.py\n"
     ]
    }
   ],
   "source": [
    "%%writefile test.py\n",
    "print('1+2')"
   ]
  },
  {
   "cell_type": "code",
   "execution_count": 4,
   "metadata": {},
   "outputs": [
    {
     "name": "stdout",
     "output_type": "stream",
     "text": [
      "print('1+2')"
     ]
    }
   ],
   "source": [
    "!cat test.py"
   ]
  },
  {
   "cell_type": "code",
   "execution_count": 5,
   "metadata": {},
   "outputs": [
    {
     "name": "stdout",
     "output_type": "stream",
     "text": [
      "1+2\r\n"
     ]
    }
   ],
   "source": [
    "!python3 test.py"
   ]
  },
  {
   "cell_type": "code",
   "execution_count": 6,
   "metadata": {},
   "outputs": [],
   "source": [
    "!rm test.py"
   ]
  },
  {
   "cell_type": "code",
   "execution_count": 10,
   "metadata": {},
   "outputs": [
    {
     "data": {
      "text/plain": [
       "7"
      ]
     },
     "execution_count": 10,
     "metadata": {},
     "output_type": "execute_result"
    }
   ],
   "source": [
    "import random\n",
    "\n",
    "random.randint(3, 10)"
   ]
  },
  {
   "cell_type": "code",
   "execution_count": 11,
   "metadata": {},
   "outputs": [
    {
     "data": {
      "text/plain": [
       "0.00523"
      ]
     },
     "execution_count": 11,
     "metadata": {},
     "output_type": "execute_result"
    }
   ],
   "source": [
    "52.3E-4"
   ]
  },
  {
   "cell_type": "code",
   "execution_count": 12,
   "metadata": {},
   "outputs": [
    {
     "data": {
      "text/plain": [
       "'string'"
      ]
     },
     "execution_count": 12,
     "metadata": {},
     "output_type": "execute_result"
    }
   ],
   "source": [
    "'string'"
   ]
  },
  {
   "cell_type": "code",
   "execution_count": 13,
   "metadata": {},
   "outputs": [
    {
     "data": {
      "text/plain": [
       "'string'"
      ]
     },
     "execution_count": 13,
     "metadata": {},
     "output_type": "execute_result"
    }
   ],
   "source": [
    "\"string\""
   ]
  },
  {
   "cell_type": "code",
   "execution_count": 14,
   "metadata": {},
   "outputs": [
    {
     "data": {
      "text/plain": [
       "'string'"
      ]
     },
     "execution_count": 14,
     "metadata": {},
     "output_type": "execute_result"
    }
   ],
   "source": [
    "'''string'''"
   ]
  },
  {
   "cell_type": "code",
   "execution_count": 15,
   "metadata": {},
   "outputs": [
    {
     "data": {
      "text/plain": [
       "'string'"
      ]
     },
     "execution_count": 15,
     "metadata": {},
     "output_type": "execute_result"
    }
   ],
   "source": [
    "\"\"\"string\"\"\""
   ]
  },
  {
   "cell_type": "code",
   "execution_count": 16,
   "metadata": {},
   "outputs": [
    {
     "data": {
      "text/plain": [
       "True"
      ]
     },
     "execution_count": 16,
     "metadata": {},
     "output_type": "execute_result"
    }
   ],
   "source": [
    "True"
   ]
  },
  {
   "cell_type": "code",
   "execution_count": 17,
   "metadata": {},
   "outputs": [
    {
     "data": {
      "text/plain": [
       "False"
      ]
     },
     "execution_count": 17,
     "metadata": {},
     "output_type": "execute_result"
    }
   ],
   "source": [
    "False"
   ]
  },
  {
   "cell_type": "code",
   "execution_count": 18,
   "metadata": {},
   "outputs": [
    {
     "data": {
      "text/plain": [
       "False"
      ]
     },
     "execution_count": 18,
     "metadata": {},
     "output_type": "execute_result"
    }
   ],
   "source": [
    "1 == 0"
   ]
  },
  {
   "cell_type": "code",
   "execution_count": 19,
   "metadata": {},
   "outputs": [
    {
     "data": {
      "text/plain": [
       "True"
      ]
     },
     "execution_count": 19,
     "metadata": {},
     "output_type": "execute_result"
    }
   ],
   "source": [
    "1 == 1"
   ]
  },
  {
   "cell_type": "code",
   "execution_count": 20,
   "metadata": {},
   "outputs": [],
   "source": [
    "None"
   ]
  },
  {
   "cell_type": "code",
   "execution_count": 21,
   "metadata": {},
   "outputs": [
    {
     "data": {
      "text/plain": [
       "\"what's wrong\""
      ]
     },
     "execution_count": 21,
     "metadata": {},
     "output_type": "execute_result"
    }
   ],
   "source": [
    "'what\\'s wrong'"
   ]
  },
  {
   "cell_type": "code",
   "execution_count": 22,
   "metadata": {},
   "outputs": [
    {
     "data": {
      "text/plain": [
       "\"what\\\\'s wrong\""
      ]
     },
     "execution_count": 22,
     "metadata": {},
     "output_type": "execute_result"
    }
   ],
   "source": [
    "r'what\\'s wrong'"
   ]
  },
  {
   "cell_type": "code",
   "execution_count": 23,
   "metadata": {},
   "outputs": [
    {
     "name": "stdout",
     "output_type": "stream",
     "text": [
      "what\\'s wrong\n"
     ]
    }
   ],
   "source": [
    "print(r'what\\'s wrong')"
   ]
  },
  {
   "cell_type": "code",
   "execution_count": 24,
   "metadata": {},
   "outputs": [
    {
     "name": "stdout",
     "output_type": "stream",
     "text": [
      "what \\'s wrong\n"
     ]
    }
   ],
   "source": [
    "print(\"what \\\\'s wrong\")"
   ]
  },
  {
   "cell_type": "code",
   "execution_count": 25,
   "metadata": {},
   "outputs": [
    {
     "name": "stdout",
     "output_type": "stream",
     "text": [
      "what\\'s wrong\n"
     ]
    }
   ],
   "source": [
    "print(\"what\\\\'s wrong\")"
   ]
  },
  {
   "cell_type": "code",
   "execution_count": 27,
   "metadata": {},
   "outputs": [
    {
     "name": "stdout",
     "output_type": "stream",
     "text": [
      "2\n",
      "2\n",
      "4\n",
      "4\n"
     ]
    }
   ],
   "source": [
    "a = '中国'\n",
    "b = u'中国'\n",
    "c = '2017'\n",
    "d = u'2017'\n",
    "print(len(a))\n",
    "print(len(b))\n",
    "print(len(c))\n",
    "print(len(d))"
   ]
  },
  {
   "cell_type": "code",
   "execution_count": 28,
   "metadata": {},
   "outputs": [
    {
     "data": {
      "text/plain": [
       "'string'"
      ]
     },
     "execution_count": 28,
     "metadata": {},
     "output_type": "execute_result"
    }
   ],
   "source": [
    "u'string'"
   ]
  },
  {
   "cell_type": "code",
   "execution_count": 29,
   "metadata": {},
   "outputs": [
    {
     "data": {
      "text/plain": [
       "'string'"
      ]
     },
     "execution_count": 29,
     "metadata": {},
     "output_type": "execute_result"
    }
   ],
   "source": [
    "u'string'"
   ]
  },
  {
   "cell_type": "code",
   "execution_count": 31,
   "metadata": {},
   "outputs": [
    {
     "data": {
      "text/plain": [
       "True"
      ]
     },
     "execution_count": 31,
     "metadata": {},
     "output_type": "execute_result"
    }
   ],
   "source": [
    "'string' == u'string'"
   ]
  },
  {
   "cell_type": "code",
   "execution_count": 32,
   "metadata": {},
   "outputs": [
    {
     "data": {
      "text/plain": [
       "True"
      ]
     },
     "execution_count": 32,
     "metadata": {},
     "output_type": "execute_result"
    }
   ],
   "source": [
    "# _*_ coding: utf-8 _*_\n",
    "'中文' == u'中文'"
   ]
  },
  {
   "cell_type": "code",
   "execution_count": 34,
   "metadata": {},
   "outputs": [
    {
     "name": "stdout",
     "output_type": "stream",
     "text": [
      "30\n"
     ]
    }
   ],
   "source": [
    "a = 10\n",
    "a = a + 10\n",
    "a += 10\n",
    "print(a)"
   ]
  },
  {
   "cell_type": "code",
   "execution_count": 35,
   "metadata": {},
   "outputs": [
    {
     "data": {
      "text/plain": [
       "False"
      ]
     },
     "execution_count": 35,
     "metadata": {},
     "output_type": "execute_result"
    }
   ],
   "source": [
    "1 + 8 <= 1 + 2 * 3"
   ]
  },
  {
   "cell_type": "code",
   "execution_count": 36,
   "metadata": {},
   "outputs": [
    {
     "data": {
      "text/plain": [
       "12"
      ]
     },
     "execution_count": 36,
     "metadata": {},
     "output_type": "execute_result"
    }
   ],
   "source": [
    "1 + 2 and 3 * 4 or 5 ** 6"
   ]
  },
  {
   "cell_type": "code",
   "execution_count": 37,
   "metadata": {},
   "outputs": [],
   "source": [
    "None"
   ]
  },
  {
   "cell_type": "code",
   "execution_count": 38,
   "metadata": {},
   "outputs": [
    {
     "data": {
      "text/plain": [
       "False"
      ]
     },
     "execution_count": 38,
     "metadata": {},
     "output_type": "execute_result"
    }
   ],
   "source": [
    "None == False"
   ]
  },
  {
   "cell_type": "code",
   "execution_count": 39,
   "metadata": {},
   "outputs": [
    {
     "data": {
      "text/plain": [
       "False"
      ]
     },
     "execution_count": 39,
     "metadata": {},
     "output_type": "execute_result"
    }
   ],
   "source": [
    "None == True"
   ]
  },
  {
   "cell_type": "code",
   "execution_count": 40,
   "metadata": {},
   "outputs": [
    {
     "data": {
      "text/plain": [
       "False"
      ]
     },
     "execution_count": 40,
     "metadata": {},
     "output_type": "execute_result"
    }
   ],
   "source": [
    "3 and False"
   ]
  },
  {
   "cell_type": "code",
   "execution_count": 41,
   "metadata": {},
   "outputs": [
    {
     "data": {
      "text/plain": [
       "True"
      ]
     },
     "execution_count": 41,
     "metadata": {},
     "output_type": "execute_result"
    }
   ],
   "source": [
    "3 and True"
   ]
  },
  {
   "cell_type": "code",
   "execution_count": 42,
   "metadata": {},
   "outputs": [
    {
     "data": {
      "text/plain": [
       "4"
      ]
     },
     "execution_count": 42,
     "metadata": {},
     "output_type": "execute_result"
    }
   ],
   "source": [
    "3 and False or 4"
   ]
  },
  {
   "cell_type": "code",
   "execution_count": 43,
   "metadata": {},
   "outputs": [
    {
     "data": {
      "text/plain": [
       "3"
      ]
     },
     "execution_count": 43,
     "metadata": {},
     "output_type": "execute_result"
    }
   ],
   "source": [
    "3 or False and 4"
   ]
  },
  {
   "cell_type": "code",
   "execution_count": 44,
   "metadata": {},
   "outputs": [
    {
     "name": "stdout",
     "output_type": "stream",
     "text": [
      "area is 78.5\n"
     ]
    }
   ],
   "source": [
    "Pi = 3.14\n",
    "r = 5\n",
    "area = Pi * r * r\n",
    "print(\"area is {0}\".format(area))"
   ]
  },
  {
   "cell_type": "code",
   "execution_count": 46,
   "metadata": {},
   "outputs": [
    {
     "name": "stdout",
     "output_type": "stream",
     "text": [
      "my name is shell and the length of name is 5\n",
      "my name is shell and the length of name is 5\n"
     ]
    }
   ],
   "source": [
    "name = 'shell'\n",
    "\n",
    "print('my name is {0} and the length of name is {1}'.format(name, len(name)))\n",
    "print('my name is %s and the length of name is %d' % (name, len(name)))"
   ]
  },
  {
   "cell_type": "code",
   "execution_count": 47,
   "metadata": {},
   "outputs": [
    {
     "name": "stdout",
     "output_type": "stream",
     "text": [
      "hello, world\n"
     ]
    }
   ],
   "source": [
    "print('hello, world')"
   ]
  },
  {
   "cell_type": "code",
   "execution_count": 48,
   "metadata": {},
   "outputs": [
    {
     "name": "stdout",
     "output_type": "stream",
     "text": [
      "hello, yeweihua\n"
     ]
    }
   ],
   "source": [
    "name = 'yeweihua'\n",
    "print('hello, {}'.format(name))"
   ]
  },
  {
   "cell_type": "code",
   "execution_count": 49,
   "metadata": {},
   "outputs": [
    {
     "name": "stdout",
     "output_type": "stream",
     "text": [
      "5\n"
     ]
    }
   ],
   "source": [
    "i = 5; print(i)"
   ]
  },
  {
   "cell_type": "code",
   "execution_count": 50,
   "metadata": {},
   "outputs": [
    {
     "name": "stdout",
     "output_type": "stream",
     "text": [
      "5\n"
     ]
    }
   ],
   "source": [
    "i = 5; print(i);"
   ]
  },
  {
   "cell_type": "code",
   "execution_count": 52,
   "metadata": {},
   "outputs": [
    {
     "name": "stdout",
     "output_type": "stream",
     "text": [
      "hello, world\n"
     ]
    }
   ],
   "source": [
    "print(\n",
    "    'hello, world')"
   ]
  },
  {
   "cell_type": "code",
   "execution_count": 53,
   "metadata": {},
   "outputs": [
    {
     "name": "stdout",
     "output_type": "stream",
     "text": [
      "ok\n",
      "done\n"
     ]
    }
   ],
   "source": [
    "a = 1\n",
    "if a == 1:\n",
    "    print('ok')\n",
    "print('done')"
   ]
  },
  {
   "cell_type": "code",
   "execution_count": 57,
   "metadata": {},
   "outputs": [
    {
     "name": "stdout",
     "output_type": "stream",
     "text": [
      "done\n",
      "------\n",
      "ok\n",
      "done\n"
     ]
    }
   ],
   "source": [
    "a = 0\n",
    "if a == 1:\n",
    "    print('ok')\n",
    "print('done')\n",
    "\n",
    "print('------')\n",
    "\n",
    "a = 1\n",
    "if a == 1:\n",
    "    print('ok')\n",
    "print('done')"
   ]
  },
  {
   "cell_type": "code",
   "execution_count": 58,
   "metadata": {},
   "outputs": [
    {
     "name": "stdout",
     "output_type": "stream",
     "text": [
      "------\n",
      "ok\n",
      "done\n"
     ]
    }
   ],
   "source": [
    "a = 0\n",
    "if a == 1:\n",
    "    print('ok')\n",
    "    print('done')\n",
    "    \n",
    "print('------')\n",
    "\n",
    "a = 1\n",
    "if a == 1:\n",
    "    print('ok')\n",
    "    print('done')"
   ]
  },
  {
   "cell_type": "code",
   "execution_count": 59,
   "metadata": {},
   "outputs": [
    {
     "name": "stdout",
     "output_type": "stream",
     "text": [
      "ok\n"
     ]
    }
   ],
   "source": [
    "if True: print('ok')"
   ]
  },
  {
   "cell_type": "code",
   "execution_count": 62,
   "metadata": {},
   "outputs": [
    {
     "name": "stdout",
     "output_type": "stream",
     "text": [
      "Enter an integer : 23\n",
      "Congratulation, you guessed it.\n",
      "(but you do not win any prizes!)\n",
      "Done\n"
     ]
    }
   ],
   "source": [
    "# input是Python3的写法，raw_input是对应的Python2的写法。\n",
    "try:\n",
    "    input = raw_input\n",
    "except NameError:\n",
    "    pass\n",
    "\n",
    "number = 23\n",
    "\n",
    "guess = int(input('Enter an integer : '))\n",
    "if guess == number:\n",
    "    print('Congratulation, you guessed it.')\n",
    "    print('(but you do not win any prizes!)')\n",
    "elif guess < number:\n",
    "    print('No, it is a little higher than that')\n",
    "else:\n",
    "    print('No, it is a little lower than that')\n",
    "print('Done')"
   ]
  },
  {
   "cell_type": "code",
   "execution_count": 64,
   "metadata": {},
   "outputs": [
    {
     "name": "stdout",
     "output_type": "stream",
     "text": [
      "Enter an integer : 10\n",
      "No, it is a little higher than that\n",
      "Enter an integer : 30\n",
      "No, it is a little lower than that\n",
      "Enter an integer : 23\n",
      "Congratulation, you guessed it.\n",
      "(but you do not win any prizes!)\n",
      "The while loop is over.\n",
      "Done\n"
     ]
    }
   ],
   "source": [
    "try:\n",
    "    input = raw_input\n",
    "except NameError:\n",
    "    pass\n",
    "\n",
    "number = 23\n",
    "running = True\n",
    "while running:\n",
    "    guess = int(input('Enter an integer : '))\n",
    "    if guess == number:\n",
    "        print('Congratulation, you guessed it.')\n",
    "        print('(but you do not win any prizes!)')\n",
    "        running = False\n",
    "    elif guess < number:\n",
    "        print('No, it is a little higher than that')\n",
    "    else:\n",
    "        print('No, it is a little lower than that')\n",
    "else:\n",
    "    print('The while loop is over.')\n",
    "print('Done')"
   ]
  },
  {
   "cell_type": "code",
   "execution_count": 65,
   "metadata": {},
   "outputs": [
    {
     "name": "stdout",
     "output_type": "stream",
     "text": [
      "1\n",
      "2\n",
      "3\n",
      "4\n",
      "The for loop is over\n"
     ]
    }
   ],
   "source": [
    "for i in range(1, 5):\n",
    "    print(i)\n",
    "else:\n",
    "    print('The for loop is over')"
   ]
  },
  {
   "cell_type": "code",
   "execution_count": 66,
   "metadata": {},
   "outputs": [
    {
     "name": "stdout",
     "output_type": "stream",
     "text": [
      "Enter something : 1\n",
      "Length of the string is 1\n",
      "Enter something : 2\n",
      "Length of the string is 1\n",
      "Enter something : 3\n",
      "Length of the string is 1\n",
      "Enter something : quit\n",
      "Done\n"
     ]
    }
   ],
   "source": [
    "try:\n",
    "    input = raw_input\n",
    "except NameError:\n",
    "    pass\n",
    "\n",
    "while True:\n",
    "    s = input('Enter something : ')\n",
    "    if s == 'quit':\n",
    "        break\n",
    "    print('Length of the string is %d' % len(s))\n",
    "print('Done')"
   ]
  },
  {
   "cell_type": "code",
   "execution_count": 68,
   "metadata": {},
   "outputs": [
    {
     "name": "stdout",
     "output_type": "stream",
     "text": [
      "Enter something : 1\n",
      "Too small\n",
      "Enter something : 12\n",
      "Too small\n",
      "Enter something : 123\n",
      "Input is an sufficient length\n",
      "Enter something : quit\n"
     ]
    }
   ],
   "source": [
    "try:\n",
    "    input = raw_input\n",
    "except NameError:\n",
    "    pass\n",
    "\n",
    "while True:\n",
    "    s = input('Enter something : ')\n",
    "    if s == 'quit':\n",
    "        break\n",
    "    if len(s) < 3:\n",
    "        print('Too small')\n",
    "        continue\n",
    "    print('Input is an sufficient length')"
   ]
  },
  {
   "cell_type": "code",
   "execution_count": 69,
   "metadata": {},
   "outputs": [
    {
     "name": "stdout",
     "output_type": "stream",
     "text": [
      "5\n",
      "6\n",
      "7\n",
      "8\n",
      "9\n"
     ]
    }
   ],
   "source": [
    "for i in range(12):\n",
    "    if i < 5:\n",
    "        continue\n",
    "    elif i > 9:\n",
    "        break\n",
    "    else:\n",
    "        print(i)"
   ]
  },
  {
   "cell_type": "code",
   "execution_count": 70,
   "metadata": {},
   "outputs": [],
   "source": [
    "def say_hello():\n",
    "    print('hello world')"
   ]
  },
  {
   "cell_type": "code",
   "execution_count": 71,
   "metadata": {},
   "outputs": [
    {
     "name": "stdout",
     "output_type": "stream",
     "text": [
      "hello world\n"
     ]
    }
   ],
   "source": [
    "say_hello()"
   ]
  },
  {
   "cell_type": "code",
   "execution_count": 73,
   "metadata": {},
   "outputs": [
    {
     "name": "stdout",
     "output_type": "stream",
     "text": [
      "4 is maximum.\n"
     ]
    }
   ],
   "source": [
    "def print_max(a, b):\n",
    "    if a > b:\n",
    "        print('{0} is maximum.'.format(a))\n",
    "    elif a == b:\n",
    "        print('{0} is equal to {1}'.format(a, b))\n",
    "    else:\n",
    "        print('{0} is maximum.'.format(b))\n",
    "print_max(3, 4)"
   ]
  },
  {
   "cell_type": "code",
   "execution_count": 76,
   "metadata": {},
   "outputs": [
    {
     "ename": "TypeError",
     "evalue": "'>' not supported between instances of 'str' and 'int'",
     "output_type": "error",
     "traceback": [
      "\u001b[0;31m---------------------------------------------------------------------------\u001b[0m",
      "\u001b[0;31mTypeError\u001b[0m                                 Traceback (most recent call last)",
      "\u001b[0;32m<ipython-input-76-faf710078841>\u001b[0m in \u001b[0;36m<module>\u001b[0;34m()\u001b[0m\n\u001b[1;32m      1\u001b[0m \u001b[0;31m# Python2.7下通过，Python3下报错\u001b[0m\u001b[0;34m\u001b[0m\u001b[0;34m\u001b[0m\u001b[0m\n\u001b[0;32m----> 2\u001b[0;31m \u001b[0mprint_max\u001b[0m\u001b[0;34m(\u001b[0m\u001b[0;34m'3'\u001b[0m\u001b[0;34m,\u001b[0m \u001b[0;36m4\u001b[0m\u001b[0;34m)\u001b[0m\u001b[0;34m\u001b[0m\u001b[0m\n\u001b[0m",
      "\u001b[0;32m<ipython-input-73-08e4d551cba2>\u001b[0m in \u001b[0;36mprint_max\u001b[0;34m(a, b)\u001b[0m\n\u001b[1;32m      1\u001b[0m \u001b[0;32mdef\u001b[0m \u001b[0mprint_max\u001b[0m\u001b[0;34m(\u001b[0m\u001b[0ma\u001b[0m\u001b[0;34m,\u001b[0m \u001b[0mb\u001b[0m\u001b[0;34m)\u001b[0m\u001b[0;34m:\u001b[0m\u001b[0;34m\u001b[0m\u001b[0m\n\u001b[0;32m----> 2\u001b[0;31m     \u001b[0;32mif\u001b[0m \u001b[0ma\u001b[0m \u001b[0;34m>\u001b[0m \u001b[0mb\u001b[0m\u001b[0;34m:\u001b[0m\u001b[0;34m\u001b[0m\u001b[0m\n\u001b[0m\u001b[1;32m      3\u001b[0m         \u001b[0mprint\u001b[0m\u001b[0;34m(\u001b[0m\u001b[0;34m'{0} is maximum.'\u001b[0m\u001b[0;34m.\u001b[0m\u001b[0mformat\u001b[0m\u001b[0;34m(\u001b[0m\u001b[0ma\u001b[0m\u001b[0;34m)\u001b[0m\u001b[0;34m)\u001b[0m\u001b[0;34m\u001b[0m\u001b[0m\n\u001b[1;32m      4\u001b[0m     \u001b[0;32melif\u001b[0m \u001b[0ma\u001b[0m \u001b[0;34m==\u001b[0m \u001b[0mb\u001b[0m\u001b[0;34m:\u001b[0m\u001b[0;34m\u001b[0m\u001b[0m\n\u001b[1;32m      5\u001b[0m         \u001b[0mprint\u001b[0m\u001b[0;34m(\u001b[0m\u001b[0;34m'{0} is equal to {1}'\u001b[0m\u001b[0;34m.\u001b[0m\u001b[0mformat\u001b[0m\u001b[0;34m(\u001b[0m\u001b[0ma\u001b[0m\u001b[0;34m,\u001b[0m \u001b[0mb\u001b[0m\u001b[0;34m)\u001b[0m\u001b[0;34m)\u001b[0m\u001b[0;34m\u001b[0m\u001b[0m\n",
      "\u001b[0;31mTypeError\u001b[0m: '>' not supported between instances of 'str' and 'int'"
     ]
    }
   ],
   "source": [
    "# Python2.7下通过，Python3下报错\n",
    "print_max('3', 4)"
   ]
  },
  {
   "cell_type": "code",
   "execution_count": 77,
   "metadata": {},
   "outputs": [
    {
     "name": "stdout",
     "output_type": "stream",
     "text": [
      "Changed local x to 2\n",
      "50\n"
     ]
    }
   ],
   "source": [
    "x = 50 \n",
    "def func():\n",
    "    x = 2\n",
    "    print('Changed local x to {0}'.format(x))\n",
    "func()\n",
    "print(x)"
   ]
  },
  {
   "cell_type": "code",
   "execution_count": 80,
   "metadata": {},
   "outputs": [
    {
     "name": "stdout",
     "output_type": "stream",
     "text": [
      "Changed local x to 3\n",
      "50\n"
     ]
    }
   ],
   "source": [
    "x = 50\n",
    "def func(x):\n",
    "    print('Changed local x to {0}'.format(x))\n",
    "func(3)\n",
    "print(x)"
   ]
  },
  {
   "cell_type": "code",
   "execution_count": 81,
   "metadata": {},
   "outputs": [
    {
     "name": "stdout",
     "output_type": "stream",
     "text": [
      "x is 50\n"
     ]
    }
   ],
   "source": [
    "x = 50\n",
    "def func():\n",
    "    print('x is {}'.format(x))\n",
    "func()"
   ]
  },
  {
   "cell_type": "code",
   "execution_count": 82,
   "metadata": {},
   "outputs": [
    {
     "name": "stdout",
     "output_type": "stream",
     "text": [
      "x is 50 before function.\n",
      "x is 50\n",
      "Changed x to 2\n",
      "x is 2 after function.\n"
     ]
    }
   ],
   "source": [
    "x = 50\n",
    "def func():\n",
    "    global x\n",
    "    print('x is {}'.format(x))\n",
    "    x = 2\n",
    "    print('Changed x to {}'.format(x))\n",
    "    \n",
    "print('x is {} before function.'.format(x))\n",
    "func()\n",
    "print('x is {} after function.'.format(x))"
   ]
  },
  {
   "cell_type": "code",
   "execution_count": 83,
   "metadata": {},
   "outputs": [
    {
     "ename": "UnboundLocalError",
     "evalue": "local variable 'x' referenced before assignment",
     "output_type": "error",
     "traceback": [
      "\u001b[0;31m---------------------------------------------------------------------------\u001b[0m",
      "\u001b[0;31mUnboundLocalError\u001b[0m                         Traceback (most recent call last)",
      "\u001b[0;32m<ipython-input-83-d73f257fa89f>\u001b[0m in \u001b[0;36m<module>\u001b[0;34m()\u001b[0m\n\u001b[1;32m      5\u001b[0m     \u001b[0mx\u001b[0m \u001b[0;34m=\u001b[0m \u001b[0;36m2\u001b[0m\u001b[0;34m\u001b[0m\u001b[0m\n\u001b[1;32m      6\u001b[0m \u001b[0;34m\u001b[0m\u001b[0m\n\u001b[0;32m----> 7\u001b[0;31m \u001b[0mfunc\u001b[0m\u001b[0;34m(\u001b[0m\u001b[0;34m)\u001b[0m\u001b[0;34m\u001b[0m\u001b[0m\n\u001b[0m",
      "\u001b[0;32m<ipython-input-83-d73f257fa89f>\u001b[0m in \u001b[0;36mfunc\u001b[0;34m()\u001b[0m\n\u001b[1;32m      2\u001b[0m \u001b[0;34m\u001b[0m\u001b[0m\n\u001b[1;32m      3\u001b[0m \u001b[0;32mdef\u001b[0m \u001b[0mfunc\u001b[0m\u001b[0;34m(\u001b[0m\u001b[0;34m)\u001b[0m\u001b[0;34m:\u001b[0m\u001b[0;34m\u001b[0m\u001b[0m\n\u001b[0;32m----> 4\u001b[0;31m     \u001b[0mprint\u001b[0m\u001b[0;34m(\u001b[0m\u001b[0mx\u001b[0m\u001b[0;34m)\u001b[0m\u001b[0;34m\u001b[0m\u001b[0m\n\u001b[0m\u001b[1;32m      5\u001b[0m     \u001b[0mx\u001b[0m \u001b[0;34m=\u001b[0m \u001b[0;36m2\u001b[0m\u001b[0;34m\u001b[0m\u001b[0m\n\u001b[1;32m      6\u001b[0m \u001b[0;34m\u001b[0m\u001b[0m\n",
      "\u001b[0;31mUnboundLocalError\u001b[0m: local variable 'x' referenced before assignment"
     ]
    }
   ],
   "source": [
    "x = 1\n",
    "\n",
    "def func():\n",
    "    print(x)\n",
    "    x = 2\n",
    "    \n",
    "func()"
   ]
  },
  {
   "cell_type": "code",
   "execution_count": 84,
   "metadata": {},
   "outputs": [
    {
     "name": "stdout",
     "output_type": "stream",
     "text": [
      "Hello\n",
      "WorldWorldWorldWorldWorld\n"
     ]
    }
   ],
   "source": [
    "def say(message, times=1):\n",
    "    print(message * times)\n",
    "    \n",
    "say('Hello')\n",
    "say('World', 5)"
   ]
  },
  {
   "cell_type": "code",
   "execution_count": 85,
   "metadata": {},
   "outputs": [
    {
     "name": "stdout",
     "output_type": "stream",
     "text": [
      "[1]\n",
      "[1]\n",
      "------\n",
      "[1]\n",
      "[1, 1]\n"
     ]
    }
   ],
   "source": [
    "def append1(l=[]):\n",
    "    l.append(1)\n",
    "    return l\n",
    "\n",
    "print(append1([]))\n",
    "print(append1([]))\n",
    "\n",
    "print('------')\n",
    "\n",
    "print(append1())\n",
    "print(append1())"
   ]
  },
  {
   "cell_type": "code",
   "execution_count": 87,
   "metadata": {},
   "outputs": [
    {
     "name": "stdout",
     "output_type": "stream",
     "text": [
      "[1]\n",
      "[1]\n",
      "------\n",
      "[1]\n",
      "[1]\n"
     ]
    }
   ],
   "source": [
    "def append1(l=None):\n",
    "    if l is None:\n",
    "        l = []\n",
    "    l.append(1)\n",
    "    return l\n",
    "\n",
    "print(append1([]))\n",
    "print(append1([]))\n",
    "\n",
    "print('------')\n",
    "\n",
    "print(append1())\n",
    "print(append1())"
   ]
  },
  {
   "cell_type": "code",
   "execution_count": 89,
   "metadata": {},
   "outputs": [
    {
     "name": "stdout",
     "output_type": "stream",
     "text": [
      "3\n",
      "The numbers are equal\n"
     ]
    }
   ],
   "source": [
    "def maximum(x, y):\n",
    "    if x > y:\n",
    "        return x\n",
    "    elif x == y:\n",
    "        return 'The numbers are equal'\n",
    "    else:\n",
    "        return y\n",
    "    \n",
    "print(maximum(2, 3))\n",
    "print(maximum(2, 2))"
   ]
  },
  {
   "cell_type": "code",
   "execution_count": 90,
   "metadata": {},
   "outputs": [
    {
     "name": "stdout",
     "output_type": "stream",
     "text": [
      "(1, 2, 3, 4, 5)\n",
      "3\n"
     ]
    }
   ],
   "source": [
    "def f():\n",
    "    return 1, 2, 3, 4, 5\n",
    "print(f())\n",
    "\n",
    "a, b, c, d, e = f()\n",
    "print(c)"
   ]
  },
  {
   "cell_type": "code",
   "execution_count": 93,
   "metadata": {},
   "outputs": [
    {
     "name": "stdout",
     "output_type": "stream",
     "text": [
      "5 is maximum\n",
      "Prints the maximum of two numbers. \n",
      "The two values must be integer.\n"
     ]
    },
    {
     "data": {
      "text/plain": [
       "['__annotations__',\n",
       " '__call__',\n",
       " '__class__',\n",
       " '__closure__',\n",
       " '__code__',\n",
       " '__defaults__',\n",
       " '__delattr__',\n",
       " '__dict__',\n",
       " '__dir__',\n",
       " '__doc__',\n",
       " '__eq__',\n",
       " '__format__',\n",
       " '__ge__',\n",
       " '__get__',\n",
       " '__getattribute__',\n",
       " '__globals__',\n",
       " '__gt__',\n",
       " '__hash__',\n",
       " '__init__',\n",
       " '__init_subclass__',\n",
       " '__kwdefaults__',\n",
       " '__le__',\n",
       " '__lt__',\n",
       " '__module__',\n",
       " '__name__',\n",
       " '__ne__',\n",
       " '__new__',\n",
       " '__qualname__',\n",
       " '__reduce__',\n",
       " '__reduce_ex__',\n",
       " '__repr__',\n",
       " '__setattr__',\n",
       " '__sizeof__',\n",
       " '__str__',\n",
       " '__subclasshook__']"
      ]
     },
     "execution_count": 93,
     "metadata": {},
     "output_type": "execute_result"
    }
   ],
   "source": [
    "def print_max(x, y):\n",
    "    '''Prints the maximum of two numbers. \\nThe two values must be integer.'''\n",
    "    x = int(x)\n",
    "    y = int(y)\n",
    "    if x > y:\n",
    "        print('{} is maximum'.format(x))\n",
    "    else:\n",
    "        print('{} is maximum'.format(y))\n",
    "        \n",
    "print_max(3, 5)\n",
    "print(print_max.__doc__)\n",
    "dir(print_max)"
   ]
  },
  {
   "cell_type": "code",
   "execution_count": 96,
   "metadata": {},
   "outputs": [
    {
     "name": "stdout",
     "output_type": "stream",
     "text": [
      "11\n",
      "21\n"
     ]
    }
   ],
   "source": [
    "def inc(n):\n",
    "    return n+1\n",
    "print(inc(10))\n",
    "\n",
    "inc2 = lambda n: n+1\n",
    "print(inc2(20))"
   ]
  },
  {
   "cell_type": "code",
   "execution_count": 97,
   "metadata": {},
   "outputs": [
    {
     "data": {
      "text/plain": [
       "89"
      ]
     },
     "execution_count": 97,
     "metadata": {},
     "output_type": "execute_result"
    }
   ],
   "source": [
    "def fib(n):\n",
    "    if n <= 1:\n",
    "        return 1\n",
    "    return fib(n-1) + fib(n-2)\n",
    "\n",
    "fib(10)"
   ]
  },
  {
   "cell_type": "code",
   "execution_count": 98,
   "metadata": {},
   "outputs": [
    {
     "name": "stdout",
     "output_type": "stream",
     "text": [
      "variable1 = 1\r\n",
      "variable2 = 2\r\n",
      "\r\n",
      "def add(a, b):\r\n",
      "    return a+b\r\n",
      "\r\n",
      "if __name__ == '__main__':\r\n",
      "    print('run as script')"
     ]
    }
   ],
   "source": [
    "!cat testmod.py"
   ]
  },
  {
   "cell_type": "code",
   "execution_count": 99,
   "metadata": {},
   "outputs": [
    {
     "name": "stdout",
     "output_type": "stream",
     "text": [
      "Overwriting testmod.py\n"
     ]
    }
   ],
   "source": [
    "%%writefile testmod.py\n",
    "variable1 = 1\n",
    "variable2 = 2\n",
    "\n",
    "def add(a, b):\n",
    "    return a+b\n",
    "\n",
    "if __name__ == '__main__':\n",
    "    print('run as script')"
   ]
  },
  {
   "cell_type": "code",
   "execution_count": 100,
   "metadata": {},
   "outputs": [
    {
     "name": "stdout",
     "output_type": "stream",
     "text": [
      "-rw-r--r--  1 huage  staff  113 11 25 10:22 testmod.py\r\n"
     ]
    }
   ],
   "source": [
    "!ls -l testmod.py"
   ]
  },
  {
   "cell_type": "code",
   "execution_count": 101,
   "metadata": {},
   "outputs": [
    {
     "data": {
      "text/plain": [
       "1"
      ]
     },
     "execution_count": 101,
     "metadata": {},
     "output_type": "execute_result"
    }
   ],
   "source": [
    "import testmod\n",
    "testmod.variable1"
   ]
  },
  {
   "cell_type": "code",
   "execution_count": 102,
   "metadata": {},
   "outputs": [
    {
     "data": {
      "text/plain": [
       "2"
      ]
     },
     "execution_count": 102,
     "metadata": {},
     "output_type": "execute_result"
    }
   ],
   "source": [
    "from testmod import variable2\n",
    "variable2"
   ]
  },
  {
   "cell_type": "code",
   "execution_count": 103,
   "metadata": {},
   "outputs": [
    {
     "data": {
      "text/plain": [
       "['__builtins__',\n",
       " '__cached__',\n",
       " '__doc__',\n",
       " '__file__',\n",
       " '__loader__',\n",
       " '__name__',\n",
       " '__package__',\n",
       " '__spec__',\n",
       " 'add',\n",
       " 'variable1',\n",
       " 'variable2']"
      ]
     },
     "execution_count": 103,
     "metadata": {},
     "output_type": "execute_result"
    }
   ],
   "source": [
    "import testmod\n",
    "dir(testmod)"
   ]
  },
  {
   "cell_type": "code",
   "execution_count": 104,
   "metadata": {},
   "outputs": [
    {
     "name": "stdout",
     "output_type": "stream",
     "text": [
      "-rw-r--r--  1 huage  staff  113 11 25 10:22 testmod.py\r\n",
      "-rw-r--r--  1 huage  staff  335 11 18 11:06 testmod.pyc\r\n"
     ]
    }
   ],
   "source": [
    "!ls -l testmod*"
   ]
  },
  {
   "cell_type": "code",
   "execution_count": 105,
   "metadata": {},
   "outputs": [
    {
     "name": "stdout",
     "output_type": "stream",
     "text": [
      "ls: __pychache__/testmod*: No such file or directory\r\n"
     ]
    }
   ],
   "source": [
    "!ls -alh __pychache__/testmod*"
   ]
  },
  {
   "cell_type": "code",
   "execution_count": 106,
   "metadata": {},
   "outputs": [
    {
     "name": "stdout",
     "output_type": "stream",
     "text": [
      "-rw-r--r--  1 huage  staff   336B 11 25 10:23 __pycache__/testmod.cpython-36.pyc\r\n"
     ]
    }
   ],
   "source": [
    "!ls -alh __pycache__/testmod*"
   ]
  },
  {
   "cell_type": "code",
   "execution_count": 107,
   "metadata": {},
   "outputs": [
    {
     "name": "stdout",
     "output_type": "stream",
     "text": [
      "total 16\r\n",
      "drwxr-xr-x    4 huage  staff   128B 11 25 10:23 \u001b[34m.\u001b[m\u001b[m\r\n",
      "drwxr-xr-x  130 huage  staff   4.1K 11 25 10:30 \u001b[34m..\u001b[m\u001b[m\r\n",
      "-rw-r--r--    1 huage  staff   332B 11  9 22:08 sololearn.cpython-36.pyc\r\n",
      "-rw-r--r--    1 huage  staff   336B 11 25 10:23 testmod.cpython-36.pyc\r\n"
     ]
    }
   ],
   "source": [
    "!ls -alh __pycache__/"
   ]
  },
  {
   "cell_type": "code",
   "execution_count": 108,
   "metadata": {},
   "outputs": [
    {
     "name": "stdout",
     "output_type": "stream",
     "text": [
      "-rw-r--r--  1 huage  staff   335B 11 18 11:06 testmod.pyc\r\n"
     ]
    }
   ],
   "source": [
    "ls -alh *.pyc"
   ]
  },
  {
   "cell_type": "code",
   "execution_count": 109,
   "metadata": {},
   "outputs": [
    {
     "name": "stdout",
     "output_type": "stream",
     "text": [
      "-rw-r--r--  1 huage  staff   335B 11 18 11:06 testmod.pyc\r\n"
     ]
    }
   ],
   "source": [
    "!ls -alh *.pyc"
   ]
  },
  {
   "cell_type": "code",
   "execution_count": 110,
   "metadata": {},
   "outputs": [
    {
     "name": "stdout",
     "output_type": "stream",
     "text": [
      "\u0003�\r",
      "\r\n",
      "\u000f�\u000fZc\u0000\u0000\u0000\u0000\u0000\u0000\u0000\u0000\u0002\u0000\u0000\u0000@\u0000\u0000\u0000s-\u0000\u0000\u0000d\u0000\u0000Z\u0000\u0000d\u0001\u0000Z\u0001\u0000d\u0002\u0000�\u0000\u0000Z\u0002\u0000e\u0003\u0000d\u0003\u0000k\u0002\u0000r)\u0000d\u0004\u0000GHn\u0000\u0000d\u0005\u0000S(\u0006\u0000\u0000\u0000i\u0001\u0000\u0000\u0000i\u0002\u0000\u0000\u0000c\u0002\u0000\u0000\u0000\u0002\u0000\u0000\u0000\u0002\u0000\u0000\u0000C\u0000\u0000\u0000s\b\u0000\u0000\u0000|\u0000\u0000|\u0001\u0000\u0017S(\u0001\u0000\u0000\u0000N(\u0000\u0000\u0000\u0000(\u0002\u0000\u0000\u0000t\u0001\u0000\u0000\u0000at\u0001\u0000\u0000\u0000b(\u0000\u0000\u0000\u0000(\u0000\u0000\u0000\u0000s\r\n",
      "\u0000\u0000\u0000testmod.pyt\u0003\u0000\u0000\u0000add\u0004\u0000\u0000\u0000s\u0002\u0000\u0000\u0000\u0000\u0001t\b\u0000\u0000\u0000__main__s\r",
      "\u0000\u0000\u0000run as scriptN(\u0004\u0000\u0000\u0000t\t\u0000\u0000\u0000variable1t\t\u0000\u0000\u0000variable2R\u0002\u0000\u0000\u0000t\b\u0000\u0000\u0000__name__(\u0000\u0000\u0000\u0000(\u0000\u0000\u0000\u0000(\u0000\u0000\u0000\u0000s\r\n",
      "\u0000\u0000\u0000testmod.pyt\b\u0000\u0000\u0000<module>\u0001\u0000\u0000\u0000s\b\u0000\u0000\u0000\u0006\u0001\u0006\u0002\t\u0003\f",
      "\u0001"
     ]
    }
   ],
   "source": [
    "!cat testmod.pyc"
   ]
  },
  {
   "cell_type": "code",
   "execution_count": 111,
   "metadata": {},
   "outputs": [
    {
     "name": "stdout",
     "output_type": "stream",
     "text": [
      "3\r",
      "\r",
      "\r\n",
      "��\u0018Zq\u0000\u0000\u0000�\u0000\u0000\u0000\u0000\u0000\u0000\u0000\u0000\u0000\u0000\u0000\u0000\u0002\u0000\u0000\u0000@\u0000\u0000\u0000s$\u0000\u0000\u0000d\u0000Z\u0000d\u0001Z\u0001d\u0002d\u0003�\u0000Z\u0002e\u0003d\u0004k\u0002r e\u0004d\u0005�\u0001\u0001\u0000d\u0006S\u0000)\u0007�\u0001\u0000\u0000\u0000�\u0002\u0000\u0000\u0000c\u0002\u0000\u0000\u0000\u0000\u0000\u0000\u0000\u0002\u0000\u0000\u0000\u0002\u0000\u0000\u0000C\u0000\u0000\u0000s\b\u0000\u0000\u0000|\u0000|\u0001\u0017\u0000S\u0000)\u0001N�\u0000)\u0002�\u0001a�\u0001br\u0003\u0000\u0000\u0000r\u0003\u0000\u0000\u0000�3/Users/huage/My Cloud/GitHub/python_work/testmod.py�\u0003add\u0004\u0000\u0000\u0000s\u0002\u0000\u0000\u0000\u0000\u0001r\u0007\u0000\u0000\u0000�\b__main__z\r",
      "run as scriptN)\u0005�\tvariable1Z\tvariable2r\u0007\u0000\u0000\u0000�\b__name__�\u0005printr\u0003\u0000\u0000\u0000r\u0003\u0000\u0000\u0000r\u0003\u0000\u0000\u0000r\u0006\u0000\u0000\u0000�\b<module>\u0001\u0000\u0000\u0000s\b\u0000\u0000\u0000\u0004\u0001\u0004\u0002\b\u0003\b\u0001"
     ]
    }
   ],
   "source": [
    "!cat __pycache__/testmod.cpython-36.pyc"
   ]
  },
  {
   "cell_type": "code",
   "execution_count": 112,
   "metadata": {},
   "outputs": [
    {
     "data": {
      "text/plain": [
       "'__main__'"
      ]
     },
     "execution_count": 112,
     "metadata": {},
     "output_type": "execute_result"
    }
   ],
   "source": [
    "__name__"
   ]
  },
  {
   "cell_type": "code",
   "execution_count": 113,
   "metadata": {},
   "outputs": [
    {
     "data": {
      "text/plain": [
       "'testmod'"
      ]
     },
     "execution_count": 113,
     "metadata": {},
     "output_type": "execute_result"
    }
   ],
   "source": [
    "testmod.__name__"
   ]
  },
  {
   "cell_type": "code",
   "execution_count": 114,
   "metadata": {},
   "outputs": [
    {
     "name": "stdout",
     "output_type": "stream",
     "text": [
      "if __name__ == '__main__':\r\n",
      "    print('run as script')"
     ]
    }
   ],
   "source": [
    "!tail -n 2 testmod.py"
   ]
  },
  {
   "cell_type": "code",
   "execution_count": 115,
   "metadata": {},
   "outputs": [
    {
     "name": "stdout",
     "output_type": "stream",
     "text": [
      "run as script\r\n"
     ]
    }
   ],
   "source": [
    "!python3 testmod.py"
   ]
  },
  {
   "cell_type": "code",
   "execution_count": 116,
   "metadata": {},
   "outputs": [],
   "source": [
    "!rm testmod*"
   ]
  },
  {
   "cell_type": "code",
   "execution_count": 117,
   "metadata": {},
   "outputs": [
    {
     "name": "stdout",
     "output_type": "stream",
     "text": [
      "ls: testmod*: No such file or directory\r\n"
     ]
    }
   ],
   "source": [
    "!ls -alh testmod*"
   ]
  },
  {
   "cell_type": "code",
   "execution_count": 118,
   "metadata": {},
   "outputs": [
    {
     "name": "stdout",
     "output_type": "stream",
     "text": [
      "total 16\r\n",
      "drwxr-xr-x    4 huage  staff   128B 11 25 10:23 \u001b[34m.\u001b[m\u001b[m\r\n",
      "drwxr-xr-x  128 huage  staff   4.0K 11 25 10:39 \u001b[34m..\u001b[m\u001b[m\r\n",
      "-rw-r--r--    1 huage  staff   332B 11  9 22:08 sololearn.cpython-36.pyc\r\n",
      "-rw-r--r--    1 huage  staff   336B 11 25 10:23 testmod.cpython-36.pyc\r\n"
     ]
    }
   ],
   "source": [
    "!ls -alh __pycache__/"
   ]
  },
  {
   "cell_type": "code",
   "execution_count": 119,
   "metadata": {},
   "outputs": [
    {
     "name": "stdout",
     "output_type": "stream",
     "text": [
      "setprofile\n",
      "settrace\n"
     ]
    }
   ],
   "source": [
    "import sys\n",
    "for name in dir(sys):\n",
    "    if name.startswith('s') and name.endswith('e'):\n",
    "        print(name)"
   ]
  },
  {
   "cell_type": "code",
   "execution_count": 122,
   "metadata": {},
   "outputs": [
    {
     "name": "stdout",
     "output_type": "stream",
     "text": [
      "I have 4 items to purchase.\n",
      "These items are: apple mango carrot banana \n",
      "I also have to buy rice.\n",
      "My shopping list is now ['apple', 'mango', 'carrot', 'banana', 'rice']\n",
      "I will sort my list now\n",
      "Sorted shopping list is ['apple', 'banana', 'carrot', 'mango', 'rice']\n",
      "The first item I will buy is apple\n",
      "I bought the apple\n",
      "My shopping list is now ['banana', 'carrot', 'mango', 'rice']\n"
     ]
    }
   ],
   "source": [
    "import sys\n",
    "shoplist = ['apple', 'mango', 'carrot', 'banana']\n",
    "\n",
    "print('I have {} items to purchase.'.format(len(shoplist)))\n",
    "sys.stdout.write('These items are: ')\n",
    "for item in shoplist:\n",
    "    sys.stdout.write(item + ' ')\n",
    "    \n",
    "print('\\nI also have to buy rice.')\n",
    "shoplist.append('rice')\n",
    "print('My shopping list is now {}'.format(shoplist))\n",
    "\n",
    "print('I will sort my list now')\n",
    "shoplist.sort()\n",
    "print('Sorted shopping list is {}'.format(shoplist))\n",
    "\n",
    "print('The first item I will buy is {0}'.format(shoplist[0]))\n",
    "olditem = shoplist[0]\n",
    "del shoplist[0]\n",
    "print('I bought the {0}'.format(olditem))\n",
    "print('My shopping list is now {0}'.format(shoplist))"
   ]
  },
  {
   "cell_type": "code",
   "execution_count": 123,
   "metadata": {},
   "outputs": [
    {
     "name": "stdout",
     "output_type": "stream",
     "text": [
      "Number of animals in the zoo is 3\n",
      "Number of cages in the new zoo is 3\n",
      "All animals in the new zoo is ('monkey', 'camel', ('python', 'elephant', 'penguin'))\n",
      "Animals brought from old zoo are ('python', 'elephant', 'penguin')\n",
      "Last animal brought from old zoo is penguin\n",
      "Number of animals in the new zoo is 5\n"
     ]
    }
   ],
   "source": [
    "zoo = ('python', 'elephant', 'penguin')\n",
    "print('Number of animals in the zoo is {0}'.format(len(zoo)))\n",
    "\n",
    "new_zoo = 'monkey', 'camel', zoo\n",
    "print('Number of cages in the new zoo is {}'.format(len(new_zoo)))\n",
    "\n",
    "print('All animals in the new zoo is {0}'.format(new_zoo))\n",
    "print('Animals brought from old zoo are {0}'.format(new_zoo[2]))\n",
    "print('Last animal brought from old zoo is {0}'.format(new_zoo[2][2]))\n",
    "print('Number of animals in the new zoo is {0}'.format(len(new_zoo) + len(new_zoo[2]) - 1))"
   ]
  },
  {
   "cell_type": "code",
   "execution_count": 124,
   "metadata": {},
   "outputs": [
    {
     "data": {
      "text/plain": [
       "(1, 2, 3)"
      ]
     },
     "execution_count": 124,
     "metadata": {},
     "output_type": "execute_result"
    }
   ],
   "source": [
    "r = 1, 2, 3\n",
    "r"
   ]
  },
  {
   "cell_type": "code",
   "execution_count": 125,
   "metadata": {},
   "outputs": [
    {
     "name": "stdout",
     "output_type": "stream",
     "text": [
      "1\n",
      "2\n",
      "3\n"
     ]
    }
   ],
   "source": [
    "a, b, c = r\n",
    "print(a)\n",
    "print(b)\n",
    "print(c)"
   ]
  },
  {
   "cell_type": "code",
   "execution_count": 126,
   "metadata": {},
   "outputs": [
    {
     "name": "stdout",
     "output_type": "stream",
     "text": [
      "2\n",
      "1\n"
     ]
    }
   ],
   "source": [
    "a, b = b, a\n",
    "print(a)\n",
    "print(b)"
   ]
  },
  {
   "cell_type": "code",
   "execution_count": 127,
   "metadata": {},
   "outputs": [
    {
     "name": "stdout",
     "output_type": "stream",
     "text": [
      "Item 0 is apple\n",
      "Item 1 is mango\n",
      "Item 2 is carrot\n",
      "Item 3 is banana\n",
      "Item -1 is banana\n",
      "Item -2 is carrot\n",
      "Character 0 is s\n",
      "Item 1 to 3 is ['mango', 'carrot']\n",
      "Item 2 to end is ['carrot', 'banana']\n",
      "Item 1 to -1 is ['mango', 'carrot']\n",
      "Item start to end is ['apple', 'mango', 'carrot', 'banana']\n",
      "Item start to end is ['apple', 'mango', 'carrot', 'banana']\n",
      "characters 1 to 3 is wa\n",
      "characters 2 to end is aroop\n",
      "characters 1 to -1 is waroo\n",
      "characters start to end is swaroop\n",
      "characters start to end is swaroop\n",
      "reversed characters is pooraws\n"
     ]
    }
   ],
   "source": [
    "shoplist = ['apple', 'mango', 'carrot', 'banana']\n",
    "name = 'swaroop'\n",
    "print('Item 0 is {0}'.format(shoplist[0]))\n",
    "print('Item 1 is {0}'.format(shoplist[1]))\n",
    "print('Item 2 is {0}'.format(shoplist[2]))\n",
    "print('Item 3 is {0}'.format(shoplist[3]))\n",
    "print('Item -1 is {0}'.format(shoplist[-1]))\n",
    "print('Item -2 is {0}'.format(shoplist[-2]))\n",
    "print('Character 0 is {0}'.format(name[0]))\n",
    "\n",
    "print('Item 1 to 3 is {0}'.format(shoplist[1:3]))\n",
    "print('Item 2 to end is {0}'.format(shoplist[2:]))\n",
    "print('Item 1 to -1 is {0}'.format(shoplist[1:-1]))\n",
    "print('Item start to end is {0}'.format(shoplist[:]))\n",
    "print('Item start to end is {0}'.format(shoplist[::]))\n",
    "print('characters 1 to 3 is {0}'.format(name[1:3]))\n",
    "print('characters 2 to end is {0}'.format(name[2:]))\n",
    "print('characters 1 to -1 is {0}'.format(name[1:-1]))\n",
    "print('characters start to end is {0}'.format(name[:]))\n",
    "print('characters start to end is {0}'.format(name[::]))\n",
    "print('reversed characters is {0}'.format(name[::-1]))"
   ]
  },
  {
   "cell_type": "code",
   "execution_count": 128,
   "metadata": {},
   "outputs": [
    {
     "data": {
      "text/plain": [
       "[2, 3, 5, 7]"
      ]
     },
     "execution_count": 128,
     "metadata": {},
     "output_type": "execute_result"
    }
   ],
   "source": [
    "primes = [2, 3, 5, 7]\n",
    "primes"
   ]
  },
  {
   "cell_type": "code",
   "execution_count": 129,
   "metadata": {},
   "outputs": [
    {
     "name": "stdout",
     "output_type": "stream",
     "text": [
      "[2, 3, 5, 7, 11, 13, 17, 19, 23, 29, 31, 37, 41, 43, 47, 53, 59, 61, 67, 71, 73, 79, 83, 89, 97]\n"
     ]
    }
   ],
   "source": [
    "for i in range(10, 100):\n",
    "    prime = True\n",
    "    for j in primes:\n",
    "        if i % j == 0:\n",
    "            prime = False\n",
    "            break\n",
    "    if prime:\n",
    "        primes.append(i)\n",
    "print(primes)"
   ]
  },
  {
   "cell_type": "code",
   "execution_count": 130,
   "metadata": {},
   "outputs": [
    {
     "name": "stdout",
     "output_type": "stream",
     "text": [
      "(2, 3, 5, 7, 11, 13, 17, 19, 23, 29, 31, 37, 41, 43, 47, 53, 59, 61, 67, 71, 73, 79, 83, 89, 97)\n"
     ]
    }
   ],
   "source": [
    "tuple_primes = tuple(primes)\n",
    "print(tuple_primes)"
   ]
  },
  {
   "cell_type": "code",
   "execution_count": 131,
   "metadata": {},
   "outputs": [
    {
     "name": "stdout",
     "output_type": "stream",
     "text": [
      "(97, 89, 83, 79, 73, 71, 67, 61, 59, 53, 47, 43, 41, 37, 31, 29, 23, 19, 17, 13, 11, 7, 5, 3, 2)\n"
     ]
    }
   ],
   "source": [
    "print(tuple_primes[::-1])"
   ]
  },
  {
   "cell_type": "code",
   "execution_count": 132,
   "metadata": {},
   "outputs": [
    {
     "name": "stdout",
     "output_type": "stream",
     "text": [
      "(97, 89, 83, 79, 73, 71, 67, 61, 59, 53, 47, 43, 41, 37, 31, 29, 23, 19, 17, 13, 11, 7, 5, 3, 2)\n"
     ]
    }
   ],
   "source": [
    "print(tuple(reversed(tuple_primes)))"
   ]
  },
  {
   "cell_type": "code",
   "execution_count": 133,
   "metadata": {},
   "outputs": [
    {
     "data": {
      "text/plain": [
       "(1, 2, 3)"
      ]
     },
     "execution_count": 133,
     "metadata": {},
     "output_type": "execute_result"
    }
   ],
   "source": [
    "1, 2, 3"
   ]
  },
  {
   "cell_type": "code",
   "execution_count": 134,
   "metadata": {},
   "outputs": [
    {
     "data": {
      "text/plain": [
       "([37, 31, 29, 23, 19, 17, 13, 11, 7, 5, 3, 2],\n",
       " [97, 89, 83, 79, 73, 71, 67, 61, 59, 53, 47, 43, 41])"
      ]
     },
     "execution_count": 134,
     "metadata": {},
     "output_type": "execute_result"
    }
   ],
   "source": [
    "list(reversed(primes[:int(len(primes) / 2)])), list(reversed(primes[int(len(primes) / 2):]))"
   ]
  },
  {
   "cell_type": "code",
   "execution_count": 135,
   "metadata": {},
   "outputs": [
    {
     "data": {
      "text/plain": [
       "([37, 31, 29, 23, 19, 17, 13, 11, 7, 5, 3, 2],\n",
       " [97, 89, 83, 79, 73, 71, 67, 61, 59, 53, 47, 43, 41])"
      ]
     },
     "execution_count": 135,
     "metadata": {},
     "output_type": "execute_result"
    }
   ],
   "source": [
    "primes[int(len(primes) / 2 - 1)::-1], primes[:int(len(primes) / 2 -1):-1]"
   ]
  },
  {
   "cell_type": "code",
   "execution_count": null,
   "metadata": {},
   "outputs": [],
   "source": []
  },
  {
   "cell_type": "code",
   "execution_count": 138,
   "metadata": {},
   "outputs": [
    {
     "name": "stdout",
     "output_type": "stream",
     "text": [
      "[0, 1, 4, 9, 16, 25, 36, 49, 64, 81, 100, 121]\n",
      "[1, 9, 25, 49, 81, 121]\n"
     ]
    }
   ],
   "source": [
    "l = range(12)\n",
    "t = [i * i for i in l]\n",
    "print(t)\n",
    "t = [i * i for i in l if i % 2 != 0]\n",
    "print(t)"
   ]
  },
  {
   "cell_type": "code",
   "execution_count": 137,
   "metadata": {},
   "outputs": [
    {
     "name": "stdout",
     "output_type": "stream",
     "text": [
      "[0, 4, 16, 36, 64, 100]\n"
     ]
    }
   ],
   "source": [
    "t = [i * i for i in l if i % 2 == 0]\n",
    "print(t)"
   ]
  },
  {
   "cell_type": "code",
   "execution_count": 139,
   "metadata": {},
   "outputs": [
    {
     "name": "stdout",
     "output_type": "stream",
     "text": [
      "Swaroop's address is swaroop@swaroopch.com\n",
      "There are 3 contacts in the address-book\n",
      "Name List: Swaroop, Larry, Matsumoto\n",
      "Contact Swaroop at swaroop@swaroopch.com\n",
      "Contact Larry at larry@wall.org\n",
      "Contact Matsumoto at matz@ruby-lang.org\n",
      "Guido's address is guido@python.org\n"
     ]
    }
   ],
   "source": [
    "ab = {\n",
    "    'Swaroop': 'swaroop@swaroopch.com',\n",
    "    'Larry': 'larry@wall.org',\n",
    "    'Matsumoto': 'matz@ruby-lang.org',\n",
    "    'Spammer': 'spammer@hotmail.com'\n",
    "}\n",
    "\n",
    "print(\"Swaroop's address is {}\".format(ab['Swaroop']))\n",
    "del ab['Spammer']\n",
    "\n",
    "print('There are {} contacts in the address-book'.format(len(ab)))\n",
    "print('Name List: %s' % ', '.join(ab))\n",
    "for name, address in ab.items():\n",
    "    print('Contact {} at {}'.format(name, address))\n",
    "    \n",
    "ab['Guido'] = 'guido@python.org'\n",
    "if 'Guido' in ab:\n",
    "    print(\"Guido's address is {}\".format(ab['Guido']))"
   ]
  },
  {
   "cell_type": "code",
   "execution_count": 140,
   "metadata": {},
   "outputs": [
    {
     "data": {
      "text/plain": [
       "True"
      ]
     },
     "execution_count": 140,
     "metadata": {},
     "output_type": "execute_result"
    }
   ],
   "source": [
    "bri = set(['brazil', 'russia', 'india'])\n",
    "bri = {'brazil', 'russia', 'india'}  # Python2.7以后可用\n",
    "'india' in bri"
   ]
  },
  {
   "cell_type": "code",
   "execution_count": 141,
   "metadata": {},
   "outputs": [
    {
     "data": {
      "text/plain": [
       "False"
      ]
     },
     "execution_count": 141,
     "metadata": {},
     "output_type": "execute_result"
    }
   ],
   "source": [
    "'usa' in bri"
   ]
  },
  {
   "cell_type": "code",
   "execution_count": 145,
   "metadata": {},
   "outputs": [
    {
     "name": "stdout",
     "output_type": "stream",
     "text": [
      "{'brazil', 'india', 'russia', 'china'}\n"
     ]
    },
    {
     "data": {
      "text/plain": [
       "True"
      ]
     },
     "execution_count": 145,
     "metadata": {},
     "output_type": "execute_result"
    }
   ],
   "source": [
    "bric = bri.copy()\n",
    "bric.add('china')\n",
    "print(bric)\n",
    "bric.issuperset(bri)"
   ]
  },
  {
   "cell_type": "code",
   "execution_count": 146,
   "metadata": {},
   "outputs": [
    {
     "name": "stdout",
     "output_type": "stream",
     "text": [
      "{'brazil', 'india', 'china'}\n"
     ]
    },
    {
     "data": {
      "text/plain": [
       "{'brazil', 'india'}"
      ]
     },
     "execution_count": 146,
     "metadata": {},
     "output_type": "execute_result"
    }
   ],
   "source": [
    "bric.remove('russia')\n",
    "print(bric)\n",
    "bri & bric"
   ]
  },
  {
   "cell_type": "code",
   "execution_count": 147,
   "metadata": {},
   "outputs": [
    {
     "data": {
      "text/plain": [
       "{'brazil', 'china', 'india', 'russia'}"
      ]
     },
     "execution_count": 147,
     "metadata": {},
     "output_type": "execute_result"
    }
   ],
   "source": [
    "bri | bric"
   ]
  },
  {
   "cell_type": "code",
   "execution_count": 148,
   "metadata": {},
   "outputs": [
    {
     "name": "stdout",
     "output_type": "stream",
     "text": [
      "Yes, the string starts with \"Swa\"\n",
      "Yes, it contains the string \"a\"\n",
      "position of the string \"war\" is 1\n",
      "the string replace war to peace is Speaceoop\n",
      "the string replace o to 0 is Swar00p\n",
      "uppper case: SWAROOP\n",
      "lower case: swaroop\n",
      "Brazil_*_Russia_*_India_*_China\n",
      "['Brazil', 'Russia', 'India', 'China']\n",
      "['Brazil_', '_Russia_', '_India_', '_China']\n"
     ]
    }
   ],
   "source": [
    "name = 'Swaroop'\n",
    "if name.startswith('Swa'):\n",
    "    print('Yes, the string starts with \"Swa\"')\n",
    "    \n",
    "if 'a' in name:\n",
    "    print('Yes, it contains the string \"a\"')\n",
    "    \n",
    "pos = name.find('war')\n",
    "if pos != -1:\n",
    "    print('position of the string \"war\" is %d' % pos)\n",
    "    \n",
    "print(\"the string replace war to peace is %s\" % name.replace('war', 'peace'))\n",
    "print(\"the string replace o to 0 is %s\" % name.replace('o', '0'))\n",
    "\n",
    "print(\"uppper case: %s\" % name.upper())\n",
    "print(\"lower case: %s\" % name.lower())\n",
    "\n",
    "delimiter = '_*_'\n",
    "mylist = ['Brazil', 'Russia', 'India', 'China']\n",
    "print(delimiter.join(mylist))\n",
    "\n",
    "print(delimiter.join(mylist).split(delimiter))\n",
    "print(delimiter.join(mylist).split('*'))"
   ]
  },
  {
   "cell_type": "code",
   "execution_count": 153,
   "metadata": {},
   "outputs": [
    {
     "name": "stdout",
     "output_type": "stream",
     "text": [
      "numbers: ['+86', '1123', '+65', '1234', '+51', '2347', '+30', '9123', '+65', '1246', '+30', '2347', '+86', '2935']\n",
      "filtered: ['+86', '+65', '+51', '+30', '+65', '+30', '+86']\n",
      "filtered and mapped: 中国, 新加坡, 秘鲁, 希腊, 新加坡, 希腊, 中国\n",
      "希腊, 秘鲁, 新加坡, 中国\n"
     ]
    }
   ],
   "source": [
    "number2country = {\n",
    "    '+30': u'希腊',\n",
    "    '+45': u'丹麦',\n",
    "    '+51': u'秘鲁',\n",
    "    '+65': u'新加坡',\n",
    "    '+86': u'中国'\n",
    "}\n",
    "\n",
    "numbers = \"+86 1123 +65 1234 +51 2347 +30 9123 +65 1246 +30 2347 +86 2935\".split()\n",
    "print(\"numbers: %s\" % str(numbers))\n",
    "print(\"filtered: %s\" % str([n for n in numbers if n.startswith('+')]))\n",
    "print(\"filtered and mapped: %s\" % ', '.join([number2country[n] for n in numbers if n.startswith('+')]))\n",
    "country_set = set([number2country[n] for n in numbers if n.startswith('+')])\n",
    "print(', '.join(country_set))"
   ]
  },
  {
   "cell_type": "code",
   "execution_count": 157,
   "metadata": {},
   "outputs": [
    {
     "name": "stdout",
     "output_type": "stream",
     "text": [
      "4\n",
      "{'希腊', '秘鲁', '新加坡', '中国'}\n",
      "希腊, 秘鲁, 新加坡, 中国\n"
     ]
    }
   ],
   "source": [
    "number2country = {\n",
    "    '+30': u'希腊',\n",
    "    '+45': u'丹麦',\n",
    "    '+51': u'秘鲁',\n",
    "    '+65': u'新加坡',\n",
    "    '+86': u'中国'\n",
    "}\n",
    "\n",
    "numbers = \"+86 1123 +65 1234 +51 2347 +30 9123 +65 1246 +30 2347 +86 2935\".split()\n",
    "country_set = {number2country[n] for n in numbers if n.startswith('+')}\n",
    "print(len(country_set))\n",
    "# 注意：这里的输出顺序在不同的机器上可能不一样，具体依赖于Python的版本和实现。set本身是没有顺序约定的。\n",
    "print(country_set)\n",
    "print(', '.join(country_set))"
   ]
  },
  {
   "cell_type": "code",
   "execution_count": 158,
   "metadata": {},
   "outputs": [],
   "source": [
    "class Person:\n",
    "    pass  # An empty block"
   ]
  },
  {
   "cell_type": "code",
   "execution_count": 159,
   "metadata": {},
   "outputs": [
    {
     "name": "stdout",
     "output_type": "stream",
     "text": [
      "<__main__.Person object at 0x108a747b8>\n"
     ]
    }
   ],
   "source": [
    "p = Person()\n",
    "print(p)"
   ]
  },
  {
   "cell_type": "code",
   "execution_count": 160,
   "metadata": {},
   "outputs": [
    {
     "name": "stdout",
     "output_type": "stream",
     "text": [
      "Hello, how are you?\n"
     ]
    }
   ],
   "source": [
    "class Person:\n",
    "    def say_hi(self):\n",
    "        print('Hello, how are you?')\n",
    "        \n",
    "p = Person()\n",
    "p.say_hi()"
   ]
  },
  {
   "cell_type": "code",
   "execution_count": 162,
   "metadata": {},
   "outputs": [
    {
     "name": "stdout",
     "output_type": "stream",
     "text": [
      "shell\n",
      "hello, shell, how are you?\n"
     ]
    }
   ],
   "source": [
    "class Person:\n",
    "    def set_name(self, name):\n",
    "        self.name = name\n",
    "        \n",
    "    def say_hi(self):\n",
    "        print('hello, {}, how are you?'.format(self.name))\n",
    "        \n",
    "p = Person()\n",
    "p.set_name('shell')\n",
    "print(p.name)\n",
    "p.say_hi()"
   ]
  },
  {
   "cell_type": "code",
   "execution_count": 163,
   "metadata": {},
   "outputs": [
    {
     "name": "stdout",
     "output_type": "stream",
     "text": [
      "Swaroop\n",
      "hello, Swaroop, how are you?\n",
      "shell\n",
      "hello, shell, how are you?\n"
     ]
    }
   ],
   "source": [
    "class Person:\n",
    "    def __init__(self, name):\n",
    "        self.name = name\n",
    "        \n",
    "    def set_name(self, name):\n",
    "        self.name = name\n",
    "        \n",
    "    def say_hi(self):\n",
    "        print('hello, {}, how are you?'.format(self.name))\n",
    "        \n",
    "p = Person('Swaroop')\n",
    "print(p.name)\n",
    "p.say_hi()\n",
    "\n",
    "p.set_name('shell')\n",
    "print(p.name)\n",
    "p.say_hi()"
   ]
  },
  {
   "cell_type": "code",
   "execution_count": 166,
   "metadata": {},
   "outputs": [],
   "source": [
    "class Mug:\n",
    "    \n",
    "    def __init__(self):\n",
    "        self.water = 0\n",
    "        \n",
    "    def drink(self, mass):\n",
    "        self.water -= mass\n",
    "              \n",
    "    def watering(self, mass):\n",
    "        self.water += mass"
   ]
  },
  {
   "cell_type": "code",
   "execution_count": 170,
   "metadata": {},
   "outputs": [
    {
     "name": "stdout",
     "output_type": "stream",
     "text": [
      "(Initializing R2-D2)\n",
      "Greetings, my masters call me R2-D2.\n",
      "We have 1 robots.\n",
      "(Initializing C-3PO)\n",
      "Greetings, my masters call me C-3PO.\n",
      "We have 2 robots.\n",
      "\n",
      "Robots can do some work here.\n",
      "\n",
      "Robots have finished their work. So let's destroy them.\n",
      "R2-D2 is being destroyed!\n",
      "The are still 1 robots working.\n",
      "C-3PO is being destroyed!\n",
      "C-3PO was the last one.\n",
      "We have 0 robots.\n"
     ]
    }
   ],
   "source": [
    "class Robot:\n",
    "    \"\"\"Represents a robot, with a name.\"\"\"\n",
    "    \n",
    "    # A class variable, counting the number of robots\n",
    "    population = 0\n",
    "    \n",
    "    def __init__(self, name):\n",
    "        \"\"\"Initializes the data.\"\"\"\n",
    "        self.name = name\n",
    "        print(\"(Initializing {})\".format(self.name))\n",
    "        # When this person is created, the robot\n",
    "        # adds to the population\n",
    "        Robot.population += 1\n",
    "        \n",
    "    def die(self):\n",
    "        \"\"\"I am dying.\"\"\"\n",
    "        print(\"{} is being destroyed!\".format(self.name))\n",
    "        Robot.population -= 1\n",
    "        if Robot.population == 0:\n",
    "            print(\"{} was the last one.\".format(self.name))\n",
    "        else:\n",
    "            print(\"The are still {:d} robots working.\".format(Robot.population))\n",
    "            \n",
    "    def say_hi(self):\n",
    "        \"\"\"Greeting by the robot.\n",
    "        Yeah, they can do that.\"\"\"\n",
    "        print(\"Greetings, my masters call me {}.\".format(self.name))\n",
    "        \n",
    "    @classmethod\n",
    "    def how_many(cls):\n",
    "        \"\"\"Prints the current population.\"\"\"\n",
    "        print(\"We have {:d} robots.\".format(cls.population))\n",
    "        \n",
    "droid1 = Robot(\"R2-D2\")\n",
    "droid1.say_hi()\n",
    "Robot.how_many()\n",
    "\n",
    "droid2 = Robot(\"C-3PO\")\n",
    "droid2.say_hi()\n",
    "Robot.how_many()\n",
    "\n",
    "print(\"\\nRobots can do some work here.\\n\")\n",
    "\n",
    "print(\"Robots have finished their work. So let's destroy them.\")\n",
    "droid1.die()\n",
    "droid2.die()\n",
    "\n",
    "Robot.how_many()"
   ]
  },
  {
   "cell_type": "code",
   "execution_count": 171,
   "metadata": {},
   "outputs": [],
   "source": [
    "class Mug:\n",
    "    \n",
    "    capacity = 300\n",
    "    \n",
    "    def __init__(self):\n",
    "        self.water = 0\n",
    "        \n",
    "    def drink(self, mass):\n",
    "        self.water -= mass\n",
    "        if self.water < 0:\n",
    "            self.water = 0\n",
    "            \n",
    "    def watering(self, mass):\n",
    "        self.water += mass\n",
    "        if self.water > self.capacity:\n",
    "            self.water = self.capacity"
   ]
  },
  {
   "cell_type": "code",
   "execution_count": 172,
   "metadata": {},
   "outputs": [
    {
     "ename": "NameError",
     "evalue": "name 'Animal' is not defined",
     "output_type": "error",
     "traceback": [
      "\u001b[0;31m---------------------------------------------------------------------------\u001b[0m",
      "\u001b[0;31mNameError\u001b[0m                                 Traceback (most recent call last)",
      "\u001b[0;32m<ipython-input-172-a037cbb3646e>\u001b[0m in \u001b[0;36m<module>\u001b[0;34m()\u001b[0m\n\u001b[0;32m----> 1\u001b[0;31m \u001b[0;32mclass\u001b[0m \u001b[0mPeson\u001b[0m\u001b[0;34m(\u001b[0m\u001b[0mAnimal\u001b[0m\u001b[0;34m)\u001b[0m\u001b[0;34m:\u001b[0m\u001b[0;34m\u001b[0m\u001b[0m\n\u001b[0m\u001b[1;32m      2\u001b[0m     \u001b[0;32mpass\u001b[0m\u001b[0;34m\u001b[0m\u001b[0m\n",
      "\u001b[0;31mNameError\u001b[0m: name 'Animal' is not defined"
     ]
    }
   ],
   "source": [
    "class Peson(Animal):\n",
    "    pass"
   ]
  },
  {
   "cell_type": "code",
   "execution_count": 176,
   "metadata": {},
   "outputs": [
    {
     "name": "stdout",
     "output_type": "stream",
     "text": [
      "(Initialized SchoolMember: Mrs. Shrividya)\n",
      "(Initialized Teacher: Mrs. Shrividya)\n",
      "(Initialized SchoolMember: Swaroop)\n",
      "(Initialized Student: Swaroop)\n",
      "\n",
      "Name:\"Mrs. Shrividya\" Age:\"40\"\n",
      "Salary: \"30000\"\n",
      "Name:\"Swaroop\" Age:\"25\"\n",
      "Marks: \"75\"\n"
     ]
    }
   ],
   "source": [
    "class SchoolMember:\n",
    "    '''Represents any school member.'''\n",
    "    def __init__(self, name, age):\n",
    "        self.name = name\n",
    "        self.age = age\n",
    "        print('(Initialized SchoolMember: {})'.format(self.name))\n",
    "        \n",
    "    def tell(self):\n",
    "        '''Tell my details.'''\n",
    "        print('Name:\"{}\" Age:\"{}\"'.format(self.name, self.age))\n",
    "        \n",
    "        \n",
    "class Teacher(SchoolMember):\n",
    "    '''Represents a teacher.'''\n",
    "    def __init__(self, name, age, salary):\n",
    "        SchoolMember.__init__(self, name, age)\n",
    "        self.salary = salary\n",
    "        print('(Initialized Teacher: {})'.format(self.name))\n",
    "        \n",
    "    def tell(self):\n",
    "        SchoolMember.tell(self)\n",
    "        print('Salary: \"{:d}\"'.format(self.salary))\n",
    "        \n",
    "        \n",
    "class Student(SchoolMember):\n",
    "    '''Represents a student.'''\n",
    "    def __init__(self, name, age, marks):\n",
    "        SchoolMember.__init__(self, name, age)\n",
    "        self.marks = marks\n",
    "        print('(Initialized Student: {})'.format(self.name))\n",
    "        \n",
    "    def tell(self):\n",
    "        SchoolMember.tell(self)\n",
    "        print('Marks: \"{:d}\"'.format(self.marks))\n",
    "        \n",
    "t = Teacher('Mrs. Shrividya', 40, 30000)\n",
    "s = Student('Swaroop', 25, 75)\n",
    "\n",
    "# prints a blank line\n",
    "print()\n",
    "\n",
    "members = [t, s]\n",
    "for member in members:\n",
    "    # Works for both Teachers and Students\n",
    "    member.tell()"
   ]
  },
  {
   "cell_type": "code",
   "execution_count": 177,
   "metadata": {},
   "outputs": [],
   "source": [
    "class Mug(object):\n",
    "    capacity = 300\n",
    "    \n",
    "    def __init__(self):\n",
    "        self.water = 0\n",
    "        \n",
    "    def drink(self, mass):\n",
    "        self.water -= mass\n",
    "        if self.water < 0:\n",
    "            self.water = 0\n",
    "            \n",
    "    def watering(self, mass):\n",
    "        self.water =+ mass\n",
    "        if self.water > self.capacity:\n",
    "            self.water = self.capacity\n",
    "            \n",
    "    def full(self):\n",
    "        mass = self.capacity - self.water\n",
    "        self.watering(mass)"
   ]
  },
  {
   "cell_type": "code",
   "execution_count": 179,
   "metadata": {},
   "outputs": [
    {
     "name": "stdout",
     "output_type": "stream",
     "text": [
      "200\n",
      "400\n"
     ]
    }
   ],
   "source": [
    "class Cup(object):\n",
    "    \n",
    "    def __init__(self):\n",
    "        self.water = 0\n",
    "        \n",
    "    def full(self):\n",
    "        mass = self.capacity - self.water\n",
    "        self.watering(mass)\n",
    "        \n",
    "\n",
    "class Mug(Cup):\n",
    "    capacity = 300\n",
    "    \n",
    "    def drink(self, mass):\n",
    "        self.water -= mass\n",
    "        if self.water < 0:\n",
    "            self.water = 0\n",
    "            \n",
    "    def watering(self, mass):\n",
    "        self.water += mass\n",
    "        if self.water > self.capacity:\n",
    "            self.water = self.capacity\n",
    "            \n",
    "\n",
    "class SportBottle(Cup):\n",
    "    capacity = 500\n",
    "    \n",
    "    def drink(self, mass):\n",
    "        self.water -= mass\n",
    "        if self.water < 0:\n",
    "            self.water = 0\n",
    "            \n",
    "    def watering(self, mass):\n",
    "        self.water += mass\n",
    "        if self.water > self.capacity:\n",
    "            self.water = self.capacity\n",
    "            \n",
    "m = Mug()\n",
    "m.full()\n",
    "m.drink(100)\n",
    "print(m.water)\n",
    "\n",
    "s = SportBottle()\n",
    "s.full()\n",
    "s.drink(100)\n",
    "print(s.water)"
   ]
  },
  {
   "cell_type": "code",
   "execution_count": 180,
   "metadata": {},
   "outputs": [
    {
     "name": "stdout",
     "output_type": "stream",
     "text": [
      "Enter text: Rise to vote, sir.\n",
      "No, it is not a palindrome\n"
     ]
    }
   ],
   "source": [
    "# Rise to vote, sir.\n",
    "try:\n",
    "    input = raw_input\n",
    "except NameError:\n",
    "    pass\n",
    "\n",
    "def reverse(text):\n",
    "    return text[::-1]\n",
    "\n",
    "def is_palindrome(text):\n",
    "    return text == reverse(text)\n",
    "\n",
    "something = input(\"Enter text: \")\n",
    "\n",
    "if is_palindrome(something):\n",
    "    print(\"Yes, it is a palindrome\")\n",
    "else:\n",
    "    print(\"No, it is not a palindrome\")"
   ]
  },
  {
   "cell_type": "code",
   "execution_count": 193,
   "metadata": {},
   "outputs": [
    {
     "name": "stdout",
     "output_type": "stream",
     "text": [
      "Enter text: Rise to vote, sir.\n",
      "Yes, it is a palindrome\n"
     ]
    }
   ],
   "source": [
    "import re\n",
    "\n",
    "try:\n",
    "    input = raw_input\n",
    "except NameError:\n",
    "    pass\n",
    "\n",
    "def reverse(text):\n",
    "    return text[::-1]\n",
    "\n",
    "def is_palindrome(text):\n",
    "    text = re.sub(r'[,. ]', '', text)\n",
    "    text = text.lower()\n",
    "    return text == reverse(text)\n",
    "\n",
    "something = input(\"Enter text: \")\n",
    "\n",
    "if is_palindrome(something):\n",
    "    print(\"Yes, it is a palindrome\")\n",
    "else:\n",
    "    print(\"No, it is not a palindrome\")"
   ]
  },
  {
   "cell_type": "code",
   "execution_count": 192,
   "metadata": {},
   "outputs": [
    {
     "data": {
      "text/plain": [
       "'Risetovotesir'"
      ]
     },
     "execution_count": 192,
     "metadata": {},
     "output_type": "execute_result"
    }
   ],
   "source": [
    "import re\n",
    "text = \"Rise to vote, sir.\"\n",
    "pattern = r'[,. ]'\n",
    "re.sub(pattern, '', text)"
   ]
  },
  {
   "cell_type": "code",
   "execution_count": 194,
   "metadata": {},
   "outputs": [
    {
     "name": "stdout",
     "output_type": "stream",
     "text": [
      "Programming is fun\n",
      "When the work is done\n",
      "if you wanna make your work also fun:\n",
      "    use Python!\n"
     ]
    }
   ],
   "source": [
    "import sys\n",
    "poem = '''\\\n",
    "Programming is fun\n",
    "When the work is done\n",
    "if you wanna make your work also fun:\n",
    "    use Python!\n",
    "'''\n",
    "f = open('poem.txt', 'w')\n",
    "f.write(poem)\n",
    "f.close()\n",
    "\n",
    "f = open('poem.txt')\n",
    "while True:\n",
    "    line = f.readline()\n",
    "    if len(line) == 0:\n",
    "        break\n",
    "    sys.stdout.write(line)\n",
    "f.close()"
   ]
  },
  {
   "cell_type": "code",
   "execution_count": 195,
   "metadata": {},
   "outputs": [
    {
     "name": "stdout",
     "output_type": "stream",
     "text": [
      "-rw-r--r--  1 huage  staff  95 11 26 22:13 poem.txt\r\n"
     ]
    }
   ],
   "source": [
    "!ls -l poem.txt"
   ]
  },
  {
   "cell_type": "code",
   "execution_count": 196,
   "metadata": {},
   "outputs": [
    {
     "name": "stdout",
     "output_type": "stream",
     "text": [
      "Programming is fun\r\n",
      "When the work is done\r\n",
      "if you wanna make your work also fun:\r\n",
      "    use Python!\r\n"
     ]
    }
   ],
   "source": [
    "!cat poem.txt"
   ]
  },
  {
   "cell_type": "code",
   "execution_count": 197,
   "metadata": {},
   "outputs": [
    {
     "name": "stdout",
     "output_type": "stream",
     "text": [
      "layer1 called\n",
      "layer2 called\n"
     ]
    },
    {
     "ename": "Exception",
     "evalue": "('arg1', 2)",
     "output_type": "error",
     "traceback": [
      "\u001b[0;31m---------------------------------------------------------------------------\u001b[0m",
      "\u001b[0;31mException\u001b[0m                                 Traceback (most recent call last)",
      "\u001b[0;32m<ipython-input-197-ee9e317c1a37>\u001b[0m in \u001b[0;36m<module>\u001b[0;34m()\u001b[0m\n\u001b[1;32m      8\u001b[0m     \u001b[0;32mreturn\u001b[0m \u001b[0;36m1\u001b[0m\u001b[0;34m\u001b[0m\u001b[0m\n\u001b[1;32m      9\u001b[0m \u001b[0;34m\u001b[0m\u001b[0m\n\u001b[0;32m---> 10\u001b[0;31m \u001b[0mprint\u001b[0m\u001b[0;34m(\u001b[0m\u001b[0mlayer1\u001b[0m\u001b[0;34m(\u001b[0m\u001b[0;34m)\u001b[0m\u001b[0;34m)\u001b[0m\u001b[0;34m\u001b[0m\u001b[0m\n\u001b[0m",
      "\u001b[0;32m<ipython-input-197-ee9e317c1a37>\u001b[0m in \u001b[0;36mlayer1\u001b[0;34m()\u001b[0m\n\u001b[1;32m      1\u001b[0m \u001b[0;32mdef\u001b[0m \u001b[0mlayer1\u001b[0m\u001b[0;34m(\u001b[0m\u001b[0;34m)\u001b[0m\u001b[0;34m:\u001b[0m\u001b[0;34m\u001b[0m\u001b[0m\n\u001b[1;32m      2\u001b[0m     \u001b[0mprint\u001b[0m\u001b[0;34m(\u001b[0m\u001b[0;34m'layer1 called'\u001b[0m\u001b[0;34m)\u001b[0m\u001b[0;34m\u001b[0m\u001b[0m\n\u001b[0;32m----> 3\u001b[0;31m     \u001b[0;32mreturn\u001b[0m \u001b[0mlayer2\u001b[0m\u001b[0;34m(\u001b[0m\u001b[0;34m)\u001b[0m\u001b[0;34m\u001b[0m\u001b[0m\n\u001b[0m\u001b[1;32m      4\u001b[0m \u001b[0;34m\u001b[0m\u001b[0m\n\u001b[1;32m      5\u001b[0m \u001b[0;32mdef\u001b[0m \u001b[0mlayer2\u001b[0m\u001b[0;34m(\u001b[0m\u001b[0;34m)\u001b[0m\u001b[0;34m:\u001b[0m\u001b[0;34m\u001b[0m\u001b[0m\n",
      "\u001b[0;32m<ipython-input-197-ee9e317c1a37>\u001b[0m in \u001b[0;36mlayer2\u001b[0;34m()\u001b[0m\n\u001b[1;32m      5\u001b[0m \u001b[0;32mdef\u001b[0m \u001b[0mlayer2\u001b[0m\u001b[0;34m(\u001b[0m\u001b[0;34m)\u001b[0m\u001b[0;34m:\u001b[0m\u001b[0;34m\u001b[0m\u001b[0m\n\u001b[1;32m      6\u001b[0m     \u001b[0mprint\u001b[0m\u001b[0;34m(\u001b[0m\u001b[0;34m'layer2 called'\u001b[0m\u001b[0;34m)\u001b[0m\u001b[0;34m\u001b[0m\u001b[0m\n\u001b[0;32m----> 7\u001b[0;31m     \u001b[0;32mraise\u001b[0m \u001b[0mException\u001b[0m\u001b[0;34m(\u001b[0m\u001b[0;34m'arg1'\u001b[0m\u001b[0;34m,\u001b[0m \u001b[0;36m2\u001b[0m\u001b[0;34m)\u001b[0m\u001b[0;34m\u001b[0m\u001b[0m\n\u001b[0m\u001b[1;32m      8\u001b[0m     \u001b[0;32mreturn\u001b[0m \u001b[0;36m1\u001b[0m\u001b[0;34m\u001b[0m\u001b[0m\n\u001b[1;32m      9\u001b[0m \u001b[0;34m\u001b[0m\u001b[0m\n",
      "\u001b[0;31mException\u001b[0m: ('arg1', 2)"
     ]
    }
   ],
   "source": [
    "def layer1():\n",
    "    print('layer1 called')\n",
    "    return layer2()\n",
    "\n",
    "def layer2():\n",
    "    print('layer2 called')\n",
    "    raise Exception('arg1', 2)\n",
    "    return 1\n",
    "\n",
    "print(layer1())"
   ]
  },
  {
   "cell_type": "code",
   "execution_count": 199,
   "metadata": {},
   "outputs": [
    {
     "name": "stdout",
     "output_type": "stream",
     "text": [
      "Enter something --> 10\n",
      "11\n"
     ]
    }
   ],
   "source": [
    "try:\n",
    "    input = raw_input\n",
    "except NameError:\n",
    "    pass\n",
    "\n",
    "try:\n",
    "    number = int(input('Enter something --> '))\n",
    "except ValueError:\n",
    "    print('Illegal number')\n",
    "else:\n",
    "    print(number+1)"
   ]
  },
  {
   "cell_type": "code",
   "execution_count": 200,
   "metadata": {},
   "outputs": [
    {
     "name": "stdout",
     "output_type": "stream",
     "text": [
      "I'm ok\n",
      "actually not\n"
     ]
    }
   ],
   "source": [
    "def f():\n",
    "    print(\"I'm ok\")\n",
    "    raise Exception('actually not')\n",
    "    \n",
    "try:\n",
    "    f()\n",
    "except Exception as err:\n",
    "    print(err)"
   ]
  },
  {
   "cell_type": "code",
   "execution_count": 204,
   "metadata": {},
   "outputs": [
    {
     "name": "stdout",
     "output_type": "stream",
     "text": [
      "Enter something --> 123\n",
      "No exception was raised.\n"
     ]
    }
   ],
   "source": [
    "# 自定义的异常必须自Exception中继承\n",
    "class ShortInputException(Exception):\n",
    "    '''A use-defined exception class.'''\n",
    "    def __init__(self, length, atleast):\n",
    "        Exception.__init__(self)\n",
    "        self.length = length\n",
    "        self.atleast = atleast\n",
    "        \n",
    "try:\n",
    "    input = raw_input\n",
    "except NameError:\n",
    "    pass\n",
    "\n",
    "try:\n",
    "    text = input('Enter something --> ')\n",
    "    if len(text) < 3:\n",
    "        raise ShortInputException(len(text), 3)\n",
    "except ShortInputException as ex:\n",
    "    print('ShortInputException: The input was {0} long, expected at least {1}'.format(ex.length, ex.atleast))\n",
    "else:\n",
    "    print('No exception was raised.')"
   ]
  },
  {
   "cell_type": "code",
   "execution_count": 206,
   "metadata": {},
   "outputs": [
    {
     "name": "stdout",
     "output_type": "stream",
     "text": [
      "Enter something --> 10\n",
      "11\n",
      "(clean up here)\n"
     ]
    }
   ],
   "source": [
    "try:\n",
    "    input = raw_input\n",
    "except NameError:\n",
    "    pass\n",
    "\n",
    "try:\n",
    "    number = int(input('Enter something --> '))\n",
    "except ValueError:\n",
    "    print('Illegal number')\n",
    "else:\n",
    "    print(number+1)\n",
    "finally:\n",
    "    print('(clean up here)')"
   ]
  },
  {
   "cell_type": "code",
   "execution_count": 207,
   "metadata": {},
   "outputs": [
    {
     "name": "stdout",
     "output_type": "stream",
     "text": [
      "Programming is fun\n",
      "When the work is done\n",
      "if you wanna make your work also fun:\n",
      "    use Python!\n"
     ]
    }
   ],
   "source": [
    "import sys\n",
    "with open(\"poem.txt\") as f:\n",
    "    for line in f:\n",
    "        sys.stdout.write(line)"
   ]
  },
  {
   "cell_type": "code",
   "execution_count": 208,
   "metadata": {},
   "outputs": [],
   "source": [
    "!rm -f poem.txt"
   ]
  },
  {
   "cell_type": "code",
   "execution_count": 209,
   "metadata": {},
   "outputs": [
    {
     "name": "stdout",
     "output_type": "stream",
     "text": [
      "ls: poem.txt: No such file or directory\r\n"
     ]
    }
   ],
   "source": [
    "!ls -l poem.txt"
   ]
  },
  {
   "cell_type": "code",
   "execution_count": 211,
   "metadata": {},
   "outputs": [
    {
     "ename": "AssertionError",
     "evalue": "of course",
     "output_type": "error",
     "traceback": [
      "\u001b[0;31m---------------------------------------------------------------------------\u001b[0m",
      "\u001b[0;31mAssertionError\u001b[0m                            Traceback (most recent call last)",
      "\u001b[0;32m<ipython-input-211-edbb3195c18c>\u001b[0m in \u001b[0;36m<module>\u001b[0;34m()\u001b[0m\n\u001b[0;32m----> 1\u001b[0;31m \u001b[0;32massert\u001b[0m \u001b[0;36m1\u001b[0m \u001b[0;34m==\u001b[0m \u001b[0;36m0\u001b[0m\u001b[0;34m,\u001b[0m \u001b[0mException\u001b[0m\u001b[0;34m(\u001b[0m\u001b[0;34m'of course'\u001b[0m\u001b[0;34m)\u001b[0m\u001b[0;34m\u001b[0m\u001b[0m\n\u001b[0m",
      "\u001b[0;31mAssertionError\u001b[0m: of course"
     ]
    }
   ],
   "source": [
    "assert 1 == 0, Exception('of course')"
   ]
  },
  {
   "cell_type": "code",
   "execution_count": 217,
   "metadata": {},
   "outputs": [
    {
     "ename": "AssertionError",
     "evalue": "of course",
     "output_type": "error",
     "traceback": [
      "\u001b[0;31m---------------------------------------------------------------------------\u001b[0m",
      "\u001b[0;31mAssertionError\u001b[0m                            Traceback (most recent call last)",
      "\u001b[0;32m<ipython-input-217-edbb3195c18c>\u001b[0m in \u001b[0;36m<module>\u001b[0;34m()\u001b[0m\n\u001b[0;32m----> 1\u001b[0;31m \u001b[0;32massert\u001b[0m \u001b[0;36m1\u001b[0m \u001b[0;34m==\u001b[0m \u001b[0;36m0\u001b[0m\u001b[0;34m,\u001b[0m \u001b[0mException\u001b[0m\u001b[0;34m(\u001b[0m\u001b[0;34m'of course'\u001b[0m\u001b[0;34m)\u001b[0m\u001b[0;34m\u001b[0m\u001b[0m\n\u001b[0m",
      "\u001b[0;31mAssertionError\u001b[0m: of course"
     ]
    }
   ],
   "source": [
    "assert 1 == 0, Exception('of course')"
   ]
  },
  {
   "cell_type": "code",
   "execution_count": 218,
   "metadata": {},
   "outputs": [
    {
     "name": "stdout",
     "output_type": "stream",
     "text": [
      "a is 3 and b is 7 and c is 10\n",
      "a is 25 and b is 5 and c is 40\n",
      "a is 100 and b is 5 and c is 50\n"
     ]
    }
   ],
   "source": [
    "def func(a, b=5, c=10):\n",
    "    print('a is', a, 'and b is', b, 'and c is', c)\n",
    "    \n",
    "func(3, 7)\n",
    "func(25, c=40)\n",
    "func(c=50, a=100)"
   ]
  },
  {
   "cell_type": "code",
   "execution_count": 219,
   "metadata": {},
   "outputs": [
    {
     "name": "stdout",
     "output_type": "stream",
     "text": [
      "a b\n"
     ]
    }
   ],
   "source": [
    "print('a','b')"
   ]
  },
  {
   "cell_type": "code",
   "execution_count": 220,
   "metadata": {},
   "outputs": [
    {
     "ename": "SyntaxError",
     "evalue": "non-default argument follows default argument (<ipython-input-220-0b7aa2af6713>, line 1)",
     "output_type": "error",
     "traceback": [
      "\u001b[0;36m  File \u001b[0;32m\"<ipython-input-220-0b7aa2af6713>\"\u001b[0;36m, line \u001b[0;32m1\u001b[0m\n\u001b[0;31m    def func(a=5, b):\u001b[0m\n\u001b[0m            ^\u001b[0m\n\u001b[0;31mSyntaxError\u001b[0m\u001b[0;31m:\u001b[0m non-default argument follows default argument\n"
     ]
    }
   ],
   "source": [
    "def func(a=5, b):\n",
    "    print(a, b)\n",
    "    \n",
    "func(2, 3)"
   ]
  },
  {
   "cell_type": "code",
   "execution_count": 230,
   "metadata": {},
   "outputs": [
    {
     "name": "stdout",
     "output_type": "stream",
     "text": [
      "1 3 5\n",
      "2 4 8\n",
      "5 9 20\n"
     ]
    }
   ],
   "source": [
    "def func(a, b=5, c=10):\n",
    "    print(a, b, c)\n",
    "    \n",
    "func(1, 3, 5)  # 1、3 和 5 都是位置参数\n",
    "func(a=2, b=4, c=8)  # a=2、b=4 和 c=8 都是关键字参数\n",
    "func(5, 9, c=20)  # 5 和 9 是位置参数；c=20 是关键字参数"
   ]
  },
  {
   "cell_type": "code",
   "execution_count": 234,
   "metadata": {},
   "outputs": [
    {
     "name": "stdout",
     "output_type": "stream",
     "text": [
      "1 3 5\n",
      "5 9 20\n",
      "2 4 8\n"
     ]
    },
    {
     "ename": "TypeError",
     "evalue": "func() missing 1 required positional argument: 'a'",
     "output_type": "error",
     "traceback": [
      "\u001b[0;31m---------------------------------------------------------------------------\u001b[0m",
      "\u001b[0;31mTypeError\u001b[0m                                 Traceback (most recent call last)",
      "\u001b[0;32m<ipython-input-234-656da71bcae6>\u001b[0m in \u001b[0;36m<module>\u001b[0;34m()\u001b[0m\n\u001b[1;32m      5\u001b[0m \u001b[0mfunc\u001b[0m\u001b[0;34m(\u001b[0m\u001b[0;36m5\u001b[0m\u001b[0;34m,\u001b[0m \u001b[0;36m9\u001b[0m\u001b[0;34m,\u001b[0m \u001b[0mc\u001b[0m\u001b[0;34m=\u001b[0m\u001b[0;36m20\u001b[0m\u001b[0;34m)\u001b[0m  \u001b[0;31m# 5 和 9 是位置参数；c=20 是关键字参数\u001b[0m\u001b[0;34m\u001b[0m\u001b[0m\n\u001b[1;32m      6\u001b[0m \u001b[0mfunc\u001b[0m\u001b[0;34m(\u001b[0m\u001b[0ma\u001b[0m\u001b[0;34m=\u001b[0m\u001b[0;36m2\u001b[0m\u001b[0;34m,\u001b[0m \u001b[0mb\u001b[0m\u001b[0;34m=\u001b[0m\u001b[0;36m4\u001b[0m\u001b[0;34m,\u001b[0m \u001b[0mc\u001b[0m\u001b[0;34m=\u001b[0m\u001b[0;36m8\u001b[0m\u001b[0;34m)\u001b[0m  \u001b[0;31m# a=2、b=4 和 c=8 都是关键字参数\u001b[0m\u001b[0;34m\u001b[0m\u001b[0m\n\u001b[0;32m----> 7\u001b[0;31m \u001b[0mfunc\u001b[0m\u001b[0;34m(\u001b[0m\u001b[0mb\u001b[0m\u001b[0;34m=\u001b[0m\u001b[0;36m6\u001b[0m\u001b[0;34m,\u001b[0m\u001b[0mc\u001b[0m\u001b[0;34m=\u001b[0m\u001b[0;36m7\u001b[0m\u001b[0;34m)\u001b[0m\u001b[0;34m\u001b[0m\u001b[0m\n\u001b[0m",
      "\u001b[0;31mTypeError\u001b[0m: func() missing 1 required positional argument: 'a'"
     ]
    }
   ],
   "source": [
    "def func(a, b=5, c=10):\n",
    "    print(a, b, c)\n",
    "    \n",
    "func(1, 3, 5)  # 1、3 和 5 都是位置参数\n",
    "func(5, 9, c=20)  # 5 和 9 是位置参数；c=20 是关键字参数\n",
    "func(a=2, b=4, c=8)  # a=2、b=4 和 c=8 都是关键字参数\n",
    "func(b=6,c=7)"
   ]
  },
  {
   "cell_type": "code",
   "execution_count": 235,
   "metadata": {},
   "outputs": [
    {
     "name": "stdout",
     "output_type": "stream",
     "text": [
      "(1, 2, 3, 4, 5)\n",
      "{'a': 1, 'b': 2, 'c': 3, 'd': 4, 'e': 5}\n"
     ]
    }
   ],
   "source": [
    "def any_arguments(*p, **kw):\n",
    "    print(p)\n",
    "    print(kw)\n",
    "    \n",
    "any_arguments(1, 2, 3, 4, 5, a=1, b=2, c=3, d=4, e=5)"
   ]
  },
  {
   "cell_type": "code",
   "execution_count": 245,
   "metadata": {},
   "outputs": [
    {
     "name": "stdout",
     "output_type": "stream",
     "text": [
      "3\n",
      "6\n"
     ]
    }
   ],
   "source": [
    "def sum(a, b, *p):\n",
    "    s = a + b\n",
    "    for i in p: s += i\n",
    "    return s\n",
    "\n",
    "print(sum(1, 2))\n",
    "print(sum(1, 2, 3))"
   ]
  },
  {
   "cell_type": "code",
   "execution_count": 242,
   "metadata": {},
   "outputs": [
    {
     "name": "stdout",
     "output_type": "stream",
     "text": [
      "5050\n"
     ]
    }
   ],
   "source": [
    "def sum(l, inital=0):\n",
    "    s = inital\n",
    "    for i in l: s += i\n",
    "    return s\n",
    "\n",
    "print(sum(range(101)))"
   ]
  },
  {
   "cell_type": "code",
   "execution_count": 243,
   "metadata": {},
   "outputs": [
    {
     "name": "stdout",
     "output_type": "stream",
     "text": [
      "1 2 3\n"
     ]
    }
   ],
   "source": [
    "print(1, 2, 3)"
   ]
  },
  {
   "cell_type": "code",
   "execution_count": 246,
   "metadata": {},
   "outputs": [
    {
     "name": "stdout",
     "output_type": "stream",
     "text": [
      "3\n"
     ]
    }
   ],
   "source": [
    "op_set = {\n",
    "    '+': lambda x, y: x+y,\n",
    "    '-': lambda x, y: x-y,\n",
    "    '*': lambda x, y: x*y,\n",
    "    '/': lambda x, y: x/y,\n",
    "}\n",
    "\n",
    "print(op_set['+'](1, 2))"
   ]
  },
  {
   "cell_type": "code",
   "execution_count": 249,
   "metadata": {},
   "outputs": [
    {
     "name": "stdout",
     "output_type": "stream",
     "text": [
      "60\n",
      "60\n"
     ]
    }
   ],
   "source": [
    "def addn(n):\n",
    "    def add(x):\n",
    "        return x+n\n",
    "    return add\n",
    "\n",
    "add10 = addn(10)\n",
    "print(add10(50))\n",
    "print(addn(10)(50))"
   ]
  },
  {
   "cell_type": "code",
   "execution_count": 250,
   "metadata": {},
   "outputs": [
    {
     "data": {
      "application/json": {
       "cell": {
        "!": "OSMagics",
        "HTML": "Other",
        "SVG": "Other",
        "bash": "Other",
        "capture": "ExecutionMagics",
        "debug": "ExecutionMagics",
        "file": "Other",
        "html": "DisplayMagics",
        "javascript": "DisplayMagics",
        "js": "DisplayMagics",
        "latex": "DisplayMagics",
        "markdown": "DisplayMagics",
        "perl": "Other",
        "prun": "ExecutionMagics",
        "pypy": "Other",
        "python": "Other",
        "python2": "Other",
        "python3": "Other",
        "ruby": "Other",
        "script": "ScriptMagics",
        "sh": "Other",
        "svg": "DisplayMagics",
        "sx": "OSMagics",
        "system": "OSMagics",
        "time": "ExecutionMagics",
        "timeit": "ExecutionMagics",
        "writefile": "OSMagics"
       },
       "line": {
        "alias": "OSMagics",
        "alias_magic": "BasicMagics",
        "autocall": "AutoMagics",
        "automagic": "AutoMagics",
        "autosave": "KernelMagics",
        "bookmark": "OSMagics",
        "cat": "Other",
        "cd": "OSMagics",
        "clear": "KernelMagics",
        "colors": "BasicMagics",
        "config": "ConfigMagics",
        "connect_info": "KernelMagics",
        "cp": "Other",
        "debug": "ExecutionMagics",
        "dhist": "OSMagics",
        "dirs": "OSMagics",
        "doctest_mode": "BasicMagics",
        "ed": "Other",
        "edit": "KernelMagics",
        "env": "OSMagics",
        "gui": "BasicMagics",
        "hist": "Other",
        "history": "HistoryMagics",
        "killbgscripts": "ScriptMagics",
        "ldir": "Other",
        "less": "KernelMagics",
        "lf": "Other",
        "lk": "Other",
        "ll": "Other",
        "load": "CodeMagics",
        "load_ext": "ExtensionMagics",
        "loadpy": "CodeMagics",
        "logoff": "LoggingMagics",
        "logon": "LoggingMagics",
        "logstart": "LoggingMagics",
        "logstate": "LoggingMagics",
        "logstop": "LoggingMagics",
        "ls": "Other",
        "lsmagic": "BasicMagics",
        "lx": "Other",
        "macro": "ExecutionMagics",
        "magic": "BasicMagics",
        "man": "KernelMagics",
        "matplotlib": "PylabMagics",
        "mkdir": "Other",
        "more": "KernelMagics",
        "mv": "Other",
        "notebook": "BasicMagics",
        "page": "BasicMagics",
        "pastebin": "CodeMagics",
        "pdb": "ExecutionMagics",
        "pdef": "NamespaceMagics",
        "pdoc": "NamespaceMagics",
        "pfile": "NamespaceMagics",
        "pinfo": "NamespaceMagics",
        "pinfo2": "NamespaceMagics",
        "pip": "BasicMagics",
        "popd": "OSMagics",
        "pprint": "BasicMagics",
        "precision": "BasicMagics",
        "profile": "BasicMagics",
        "prun": "ExecutionMagics",
        "psearch": "NamespaceMagics",
        "psource": "NamespaceMagics",
        "pushd": "OSMagics",
        "pwd": "OSMagics",
        "pycat": "OSMagics",
        "pylab": "PylabMagics",
        "qtconsole": "KernelMagics",
        "quickref": "BasicMagics",
        "recall": "HistoryMagics",
        "rehashx": "OSMagics",
        "reload_ext": "ExtensionMagics",
        "rep": "Other",
        "rerun": "HistoryMagics",
        "reset": "NamespaceMagics",
        "reset_selective": "NamespaceMagics",
        "rm": "Other",
        "rmdir": "Other",
        "run": "ExecutionMagics",
        "save": "CodeMagics",
        "sc": "OSMagics",
        "set_env": "OSMagics",
        "store": "StoreMagics",
        "sx": "OSMagics",
        "system": "OSMagics",
        "tb": "ExecutionMagics",
        "time": "ExecutionMagics",
        "timeit": "ExecutionMagics",
        "unalias": "OSMagics",
        "unload_ext": "ExtensionMagics",
        "who": "NamespaceMagics",
        "who_ls": "NamespaceMagics",
        "whos": "NamespaceMagics",
        "xdel": "NamespaceMagics",
        "xmode": "BasicMagics"
       }
      },
      "text/plain": [
       "Available line magics:\n",
       "%alias  %alias_magic  %autocall  %automagic  %autosave  %bookmark  %cat  %cd  %clear  %colors  %config  %connect_info  %cp  %debug  %dhist  %dirs  %doctest_mode  %ed  %edit  %env  %gui  %hist  %history  %killbgscripts  %ldir  %less  %lf  %lk  %ll  %load  %load_ext  %loadpy  %logoff  %logon  %logstart  %logstate  %logstop  %ls  %lsmagic  %lx  %macro  %magic  %man  %matplotlib  %mkdir  %more  %mv  %notebook  %page  %pastebin  %pdb  %pdef  %pdoc  %pfile  %pinfo  %pinfo2  %popd  %pprint  %precision  %profile  %prun  %psearch  %psource  %pushd  %pwd  %pycat  %pylab  %qtconsole  %quickref  %recall  %rehashx  %reload_ext  %rep  %rerun  %reset  %reset_selective  %rm  %rmdir  %run  %save  %sc  %set_env  %store  %sx  %system  %tb  %time  %timeit  %unalias  %unload_ext  %who  %who_ls  %whos  %xdel  %xmode\n",
       "\n",
       "Available cell magics:\n",
       "%%!  %%HTML  %%SVG  %%bash  %%capture  %%debug  %%file  %%html  %%javascript  %%js  %%latex  %%markdown  %%perl  %%prun  %%pypy  %%python  %%python2  %%python3  %%ruby  %%script  %%sh  %%svg  %%sx  %%system  %%time  %%timeit  %%writefile\n",
       "\n",
       "Automagic is ON, % prefix IS NOT needed for line magics."
      ]
     },
     "execution_count": 250,
     "metadata": {},
     "output_type": "execute_result"
    }
   ],
   "source": [
    "%lsmagic"
   ]
  },
  {
   "cell_type": "code",
   "execution_count": 251,
   "metadata": {},
   "outputs": [
    {
     "name": "stdout",
     "output_type": "stream",
     "text": [
      "\u001b[34m__pycache__\u001b[m\u001b[m/                    name.py\r\n",
      "a_simple_game.py                name_format.py\r\n",
      "albert_einstein.py              newfile.txt\r\n",
      "apostrophe.py                   none.py\r\n",
      "assertion.py                    numeric_functions.py\r\n",
      "assertion_2.py                  opem.txt\r\n",
      "autovivification.py             opened_write_mode.py\r\n",
      "bicycles.py                     property_2.py\r\n",
      "birthday.py                     python_codes.py\r\n",
      "calculator.py                   raising_exception.py\r\n",
      "cars.py                         raising_exception_2.py\r\n",
      "comment.py                      raising_exception_3.py\r\n",
      "data.pkl                        re.py\r\n",
      "decorator.py                    re.search.py\r\n",
      "default_values.py               re_1.py\r\n",
      "del_array_element.py            re_charactor_class.py\r\n",
      "dictionaries.py                 re_charactor_class_2.py\r\n",
      "dictionaries_2.py               re_charactor_class_3.py\r\n",
      "dunder_add.py                   re_email_extraction.py\r\n",
      "encoding.py                     re_match_group.py\r\n",
      "enumerate.py                    re_match_group_2.py\r\n",
      "exception_finally.py            re_metecharactor.py\r\n",
      "exception_finally_2.py          re_reading_file.py\r\n",
      "factorial.py                    re_special_sequences.py\r\n",
      "famous_person.py                re_special_sequences_2.py\r\n",
      "filename.txt                    re_special_sequences_3.py\r\n",
      "for_else.py                     re_sub.py\r\n",
      "format_string.py                reading_file.py\r\n",
      "friends_list.py                 readlines.py\r\n",
      "function_arguments.py           sets_math_operation.py\r\n",
      "function_arguments_2.py         simple_message.py\r\n",
      "generator.py                    simple_messages.py\r\n",
      "generator_infinite_numbers.py   slate.pkl\r\n",
      "hello_eric.py                   sololearn.ipynb\r\n",
      "hello_world.py                  sololearn.py\r\n",
      "infinite_generator.py           some_script.py\r\n",
      "inherit.py                      sorted_function.py\r\n",
      "inheritance_super.py            string_escape.py\r\n",
      "itertools.py                    string_formatting.py\r\n",
      "itertools_count.py              string_functions.py\r\n",
      "itertools_product.py            strip_blank.py\r\n",
      "join_method.py                  strongly_private_method.py\r\n",
      "\u001b[31mkeyword_20171006.csv\u001b[m\u001b[m*           test.csv\r\n",
      "list_comprehension.py           test.txt\r\n",
      "list_comprehension_if.py        text_analyzer.py\r\n",
      "list_slice.py                   text_analyzer_2.py\r\n",
      "loop_return.py                  tmp-2017-11-09_15-07-24-279.py\r\n",
      "magic_method.py                 tmp-2017-11-09_15-47-52-155.py\r\n",
      "magic_method_2.py               tmp.ipynb\r\n",
      "magic_method_3.py               tmp.py\r\n",
      "magic_method_4.py               travel.py\r\n",
      "magic_method_compare.py         trip_way.py\r\n",
      "magic_method_container.py       try_except_else.py\r\n",
      "magic_method_del.py             tuple.py\r\n",
      "magic_method_gt.py              tuple_slice.py\r\n",
      "magic_method_unicode.py         tuple_unpacking.py\r\n",
      "magicians.py                    untitled\r\n",
      "merge_number_string.py          weakly_private_method.py\r\n",
      "module.py                       with_statement.py\r\n",
      "module_as.py                    writing_file.py\r\n",
      "motorecycles.py                 zen_of_python.py\r\n"
     ]
    }
   ],
   "source": [
    "ls"
   ]
  },
  {
   "cell_type": "code",
   "execution_count": 252,
   "metadata": {},
   "outputs": [
    {
     "data": {
      "application/json": {
       "cell": {
        "!": "OSMagics",
        "HTML": "Other",
        "SVG": "Other",
        "bash": "Other",
        "capture": "ExecutionMagics",
        "debug": "ExecutionMagics",
        "file": "Other",
        "html": "DisplayMagics",
        "javascript": "DisplayMagics",
        "js": "DisplayMagics",
        "latex": "DisplayMagics",
        "markdown": "DisplayMagics",
        "perl": "Other",
        "prun": "ExecutionMagics",
        "pypy": "Other",
        "python": "Other",
        "python2": "Other",
        "python3": "Other",
        "ruby": "Other",
        "script": "ScriptMagics",
        "sh": "Other",
        "svg": "DisplayMagics",
        "sx": "OSMagics",
        "system": "OSMagics",
        "time": "ExecutionMagics",
        "timeit": "ExecutionMagics",
        "writefile": "OSMagics"
       },
       "line": {
        "alias": "OSMagics",
        "alias_magic": "BasicMagics",
        "autocall": "AutoMagics",
        "automagic": "AutoMagics",
        "autosave": "KernelMagics",
        "bookmark": "OSMagics",
        "cat": "Other",
        "cd": "OSMagics",
        "clear": "KernelMagics",
        "colors": "BasicMagics",
        "config": "ConfigMagics",
        "connect_info": "KernelMagics",
        "cp": "Other",
        "debug": "ExecutionMagics",
        "dhist": "OSMagics",
        "dirs": "OSMagics",
        "doctest_mode": "BasicMagics",
        "ed": "Other",
        "edit": "KernelMagics",
        "env": "OSMagics",
        "gui": "BasicMagics",
        "hist": "Other",
        "history": "HistoryMagics",
        "killbgscripts": "ScriptMagics",
        "ldir": "Other",
        "less": "KernelMagics",
        "lf": "Other",
        "lk": "Other",
        "ll": "Other",
        "load": "CodeMagics",
        "load_ext": "ExtensionMagics",
        "loadpy": "CodeMagics",
        "logoff": "LoggingMagics",
        "logon": "LoggingMagics",
        "logstart": "LoggingMagics",
        "logstate": "LoggingMagics",
        "logstop": "LoggingMagics",
        "ls": "Other",
        "lsmagic": "BasicMagics",
        "lx": "Other",
        "macro": "ExecutionMagics",
        "magic": "BasicMagics",
        "man": "KernelMagics",
        "matplotlib": "PylabMagics",
        "mkdir": "Other",
        "more": "KernelMagics",
        "mv": "Other",
        "notebook": "BasicMagics",
        "page": "BasicMagics",
        "pastebin": "CodeMagics",
        "pdb": "ExecutionMagics",
        "pdef": "NamespaceMagics",
        "pdoc": "NamespaceMagics",
        "pfile": "NamespaceMagics",
        "pinfo": "NamespaceMagics",
        "pinfo2": "NamespaceMagics",
        "pip": "BasicMagics",
        "popd": "OSMagics",
        "pprint": "BasicMagics",
        "precision": "BasicMagics",
        "profile": "BasicMagics",
        "prun": "ExecutionMagics",
        "psearch": "NamespaceMagics",
        "psource": "NamespaceMagics",
        "pushd": "OSMagics",
        "pwd": "OSMagics",
        "pycat": "OSMagics",
        "pylab": "PylabMagics",
        "qtconsole": "KernelMagics",
        "quickref": "BasicMagics",
        "recall": "HistoryMagics",
        "rehashx": "OSMagics",
        "reload_ext": "ExtensionMagics",
        "rep": "Other",
        "rerun": "HistoryMagics",
        "reset": "NamespaceMagics",
        "reset_selective": "NamespaceMagics",
        "rm": "Other",
        "rmdir": "Other",
        "run": "ExecutionMagics",
        "save": "CodeMagics",
        "sc": "OSMagics",
        "set_env": "OSMagics",
        "store": "StoreMagics",
        "sx": "OSMagics",
        "system": "OSMagics",
        "tb": "ExecutionMagics",
        "time": "ExecutionMagics",
        "timeit": "ExecutionMagics",
        "unalias": "OSMagics",
        "unload_ext": "ExtensionMagics",
        "who": "NamespaceMagics",
        "who_ls": "NamespaceMagics",
        "whos": "NamespaceMagics",
        "xdel": "NamespaceMagics",
        "xmode": "BasicMagics"
       }
      },
      "text/plain": [
       "Available line magics:\n",
       "%alias  %alias_magic  %autocall  %automagic  %autosave  %bookmark  %cat  %cd  %clear  %colors  %config  %connect_info  %cp  %debug  %dhist  %dirs  %doctest_mode  %ed  %edit  %env  %gui  %hist  %history  %killbgscripts  %ldir  %less  %lf  %lk  %ll  %load  %load_ext  %loadpy  %logoff  %logon  %logstart  %logstate  %logstop  %ls  %lsmagic  %lx  %macro  %magic  %man  %matplotlib  %mkdir  %more  %mv  %notebook  %page  %pastebin  %pdb  %pdef  %pdoc  %pfile  %pinfo  %pinfo2  %popd  %pprint  %precision  %profile  %prun  %psearch  %psource  %pushd  %pwd  %pycat  %pylab  %qtconsole  %quickref  %recall  %rehashx  %reload_ext  %rep  %rerun  %reset  %reset_selective  %rm  %rmdir  %run  %save  %sc  %set_env  %store  %sx  %system  %tb  %time  %timeit  %unalias  %unload_ext  %who  %who_ls  %whos  %xdel  %xmode\n",
       "\n",
       "Available cell magics:\n",
       "%%!  %%HTML  %%SVG  %%bash  %%capture  %%debug  %%file  %%html  %%javascript  %%js  %%latex  %%markdown  %%perl  %%prun  %%pypy  %%python  %%python2  %%python3  %%ruby  %%script  %%sh  %%svg  %%sx  %%system  %%time  %%timeit  %%writefile\n",
       "\n",
       "Automagic is ON, % prefix IS NOT needed for line magics."
      ]
     },
     "execution_count": 252,
     "metadata": {},
     "output_type": "execute_result"
    }
   ],
   "source": [
    "lsmagic"
   ]
  },
  {
   "cell_type": "code",
   "execution_count": 253,
   "metadata": {},
   "outputs": [
    {
     "name": "stdout",
     "output_type": "stream",
     "text": [
      "CPU times: user 18 µs, sys: 4 µs, total: 22 µs\n",
      "Wall time: 1.11 ms\n"
     ]
    }
   ],
   "source": [
    "time"
   ]
  },
  {
   "cell_type": "code",
   "execution_count": 255,
   "metadata": {},
   "outputs": [
    {
     "name": "stdout",
     "output_type": "stream",
     "text": [
      "60\n"
     ]
    },
    {
     "data": {
      "text/plain": [
       "['__call__',\n",
       " '__class__',\n",
       " '__delattr__',\n",
       " '__dict__',\n",
       " '__dir__',\n",
       " '__doc__',\n",
       " '__eq__',\n",
       " '__format__',\n",
       " '__ge__',\n",
       " '__getattribute__',\n",
       " '__gt__',\n",
       " '__hash__',\n",
       " '__init__',\n",
       " '__init_subclass__',\n",
       " '__le__',\n",
       " '__lt__',\n",
       " '__module__',\n",
       " '__ne__',\n",
       " '__new__',\n",
       " '__reduce__',\n",
       " '__reduce_ex__',\n",
       " '__repr__',\n",
       " '__setattr__',\n",
       " '__sizeof__',\n",
       " '__str__',\n",
       " '__subclasshook__',\n",
       " '__weakref__']"
      ]
     },
     "execution_count": 255,
     "metadata": {},
     "output_type": "execute_result"
    }
   ],
   "source": [
    "class addn(object):\n",
    "    def __init__(self, n):\n",
    "        self.n = n\n",
    "    def __call__(self, x):\n",
    "        return x + self.n\n",
    "    \n",
    "add10 = addn(10)\n",
    "print(add10(50))\n",
    "dir(addn)"
   ]
  },
  {
   "cell_type": "code",
   "execution_count": 256,
   "metadata": {},
   "outputs": [
    {
     "name": "stdout",
     "output_type": "stream",
     "text": [
      "2\n"
     ]
    }
   ],
   "source": [
    "my_variable = 1\n",
    "def func():\n",
    "    my_variable = 2\n",
    "    print(my_variable)\n",
    "    \n",
    "func()"
   ]
  },
  {
   "cell_type": "code",
   "execution_count": 258,
   "metadata": {},
   "outputs": [
    {
     "name": "stdout",
     "output_type": "stream",
     "text": [
      "3\n"
     ]
    }
   ],
   "source": [
    "my_variable = 1\n",
    "\n",
    "def func():\n",
    "    my_variable = 2\n",
    "    def func1():\n",
    "        my_variable = 3\n",
    "        print(my_variable)\n",
    "    return func1\n",
    "\n",
    "func()()"
   ]
  },
  {
   "cell_type": "code",
   "execution_count": 266,
   "metadata": {},
   "outputs": [
    {
     "name": "stdout",
     "output_type": "stream",
     "text": [
      "(10, 20) {}\n",
      "50\n"
     ]
    }
   ],
   "source": [
    "from __future__ import print_function\n",
    "\n",
    "class print_arg(object):\n",
    "    def __init__(self, f):\n",
    "        self.f = f\n",
    "        \n",
    "    def __call__(self, *p, **kw):\n",
    "        print(p, kw)\n",
    "        return self.f(*p, **kw)\n",
    "    \n",
    "def add(a, b):\n",
    "    return a + 2*b\n",
    "add = print_arg(add)\n",
    "\n",
    "print(add(10, 20))"
   ]
  },
  {
   "cell_type": "code",
   "execution_count": 267,
   "metadata": {},
   "outputs": [
    {
     "name": "stdout",
     "output_type": "stream",
     "text": [
      "(10, 20) {}\n",
      "30\n"
     ]
    }
   ],
   "source": [
    "def print_arg(f):\n",
    "    def inner(*p, **kw):\n",
    "        print(p, kw)\n",
    "        return f(*p, **kw)\n",
    "    return inner\n",
    "\n",
    "def add(a, b):\n",
    "    return a + b\n",
    "add = print_arg(add)\n",
    "\n",
    "print(add(10, 20))"
   ]
  },
  {
   "cell_type": "code",
   "execution_count": 268,
   "metadata": {},
   "outputs": [
    {
     "name": "stdout",
     "output_type": "stream",
     "text": [
      "(10, 20) {}\n",
      "30\n"
     ]
    }
   ],
   "source": [
    "@print_arg\n",
    "def add(a, b):\n",
    "    return a + b\n",
    "\n",
    "print(add(10, 20))"
   ]
  },
  {
   "cell_type": "code",
   "execution_count": 269,
   "metadata": {},
   "outputs": [
    {
     "name": "stdout",
     "output_type": "stream",
     "text": [
      "(10, 20) {}\n",
      "30\n"
     ]
    }
   ],
   "source": [
    "def print_arg(f):\n",
    "    def inner(*p, **kw):\n",
    "        print(p, kw)\n",
    "        return f(*p, **kw)\n",
    "    return inner\n",
    "\n",
    "@print_arg\n",
    "def add(a, b):\n",
    "    return a + b\n",
    "\n",
    "print(add(10, 20))"
   ]
  },
  {
   "cell_type": "code",
   "execution_count": 274,
   "metadata": {},
   "outputs": [
    {
     "ename": "SyntaxError",
     "evalue": "invalid syntax (<ipython-input-274-d4ba54be7af8>, line 5)",
     "output_type": "error",
     "traceback": [
      "\u001b[0;36m  File \u001b[0;32m\"<ipython-input-274-d4ba54be7af8>\"\u001b[0;36m, line \u001b[0;32m5\u001b[0m\n\u001b[0;31m    time fib(35)\u001b[0m\n\u001b[0m           ^\u001b[0m\n\u001b[0;31mSyntaxError\u001b[0m\u001b[0;31m:\u001b[0m invalid syntax\n"
     ]
    }
   ],
   "source": [
    "def fib(n):\n",
    "    if n <= 1: return 1\n",
    "    return fib(n-1) + fib(n-2)\n",
    "\n",
    "time fib(35)"
   ]
  },
  {
   "cell_type": "code",
   "execution_count": 275,
   "metadata": {},
   "outputs": [
    {
     "name": "stdout",
     "output_type": "stream",
     "text": [
      "CPU times: user 7.28 s, sys: 46.9 ms, total: 7.33 s\n",
      "Wall time: 7.46 s\n"
     ]
    },
    {
     "data": {
      "text/plain": [
       "14930352"
      ]
     },
     "execution_count": 275,
     "metadata": {},
     "output_type": "execute_result"
    }
   ],
   "source": [
    "def fib(n):\n",
    "    if n <= 1: return 1\n",
    "    return fib(n-1) + fib(n-2)\n",
    "\n",
    "%time fib(35)"
   ]
  },
  {
   "cell_type": "code",
   "execution_count": 279,
   "metadata": {},
   "outputs": [
    {
     "name": "stdout",
     "output_type": "stream",
     "text": [
      "CPU times: user 59 µs, sys: 0 ns, total: 59 µs\n",
      "Wall time: 62.9 µs\n"
     ]
    },
    {
     "data": {
      "text/plain": [
       "14930352"
      ]
     },
     "execution_count": 279,
     "metadata": {},
     "output_type": "execute_result"
    }
   ],
   "source": [
    "def memorized(f):\n",
    "    global cache\n",
    "    cache = {}\n",
    "    def inner(n):\n",
    "        if n not in cache:\n",
    "            cache[n] = f(n)\n",
    "        return cache[n]\n",
    "    return inner\n",
    "\n",
    "@memorized\n",
    "def fib(n):\n",
    "    if n <= 1: return 1\n",
    "    return fib(n-1) + fib(n-2)\n",
    "\n",
    "%time fib(35)"
   ]
  },
  {
   "cell_type": "code",
   "execution_count": 283,
   "metadata": {},
   "outputs": [
    {
     "name": "stdout",
     "output_type": "stream",
     "text": [
      "CPU times: user 1 ms, sys: 24 µs, total: 1.03 ms\n",
      "Wall time: 1.04 ms\n"
     ]
    },
    {
     "data": {
      "text/plain": [
       "225591516161936330872512695036072072046011324913758190588638866418474627738686883405015987052796968498626"
      ]
     },
     "execution_count": 283,
     "metadata": {},
     "output_type": "execute_result"
    }
   ],
   "source": [
    "def memorized(f):\n",
    "    cache = {}\n",
    "    def inner(*p):\n",
    "        if p not in cache:\n",
    "            cache[p] = f(*p)\n",
    "        return cache[p]\n",
    "    return inner\n",
    "\n",
    "@memorized\n",
    "def fib(n):\n",
    "    if n <= 1: return 1\n",
    "    return fib(n-1) + fib(n-2)\n",
    "\n",
    "%time fib(500)"
   ]
  },
  {
   "cell_type": "code",
   "execution_count": 286,
   "metadata": {},
   "outputs": [
    {
     "name": "stdout",
     "output_type": "stream",
     "text": [
      "[2, 3, 5, 8, 13, 21, 34, 55, 89, 144, 233, 377, 610, 987, 1597, 2584, 4181, 6765, 10946, 17711]\n"
     ]
    }
   ],
   "source": [
    "def fib_seq(n):\n",
    "    l = []\n",
    "    a, b = 1, 1\n",
    "    for i in range(n):\n",
    "        a, b = a+b, a\n",
    "        l.append(a)\n",
    "    return l\n",
    "    \n",
    "print(fib_seq(20))"
   ]
  },
  {
   "cell_type": "code",
   "execution_count": 287,
   "metadata": {},
   "outputs": [
    {
     "name": "stdout",
     "output_type": "stream",
     "text": [
      "<generator object fib_seq at 0x108c63410>\n",
      "[2, 3, 5, 8, 13, 21, 34, 55, 89, 144, 233, 377, 610, 987, 1597, 2584, 4181, 6765, 10946, 17711]\n"
     ]
    }
   ],
   "source": [
    "def fib_seq(n):\n",
    "    a, b = 1, 1\n",
    "    for i in range(n):\n",
    "        a, b = a+b, a\n",
    "        yield a\n",
    "        \n",
    "print(fib_seq(20))\n",
    "print(list(fib_seq(20)))"
   ]
  },
  {
   "cell_type": "code",
   "execution_count": 291,
   "metadata": {},
   "outputs": [
    {
     "name": "stdout",
     "output_type": "stream",
     "text": [
      "[1, 2, 3, 5, 8, 13, 21, 34, 55, 89]\n"
     ]
    }
   ],
   "source": [
    "def fib_seq():\n",
    "    a = b = 1\n",
    "    while True:\n",
    "        a, b = a+b, a\n",
    "        yield b\n",
    "        \n",
    "def size_limited_seq(seq, n):\n",
    "    for i in seq:\n",
    "        if n <= 0: \n",
    "            return\n",
    "        yield i\n",
    "        n -= 1\n",
    "        \n",
    "print(list(size_limited_seq(fib_seq(), 10)))"
   ]
  },
  {
   "cell_type": "code",
   "execution_count": 298,
   "metadata": {},
   "outputs": [
    {
     "name": "stdout",
     "output_type": "stream",
     "text": [
      "[1, 2, 3, 5, 8, 13, 21, 34, 55, 89, 144, 233, 377, 610, 987, 1597, 2584, 4181, 6765, 10946, 17711, 28657, 46368, 75025]\n"
     ]
    },
    {
     "ename": "TypeError",
     "evalue": "sum() missing 1 required positional argument: 'b'",
     "output_type": "error",
     "traceback": [
      "\u001b[0;31m---------------------------------------------------------------------------\u001b[0m",
      "\u001b[0;31mTypeError\u001b[0m                                 Traceback (most recent call last)",
      "\u001b[0;32m<ipython-input-298-6ae99596a340>\u001b[0m in \u001b[0;36m<module>\u001b[0;34m()\u001b[0m\n\u001b[1;32m      6\u001b[0m \u001b[0;34m\u001b[0m\u001b[0m\n\u001b[1;32m      7\u001b[0m \u001b[0mprint\u001b[0m\u001b[0;34m(\u001b[0m\u001b[0mlist\u001b[0m\u001b[0;34m(\u001b[0m\u001b[0mnumber_limited_seq\u001b[0m\u001b[0;34m(\u001b[0m\u001b[0mfib_seq\u001b[0m\u001b[0;34m(\u001b[0m\u001b[0;34m)\u001b[0m\u001b[0;34m,\u001b[0m \u001b[0;36m100000\u001b[0m\u001b[0;34m)\u001b[0m\u001b[0;34m)\u001b[0m\u001b[0;34m)\u001b[0m\u001b[0;34m\u001b[0m\u001b[0m\n\u001b[0;32m----> 8\u001b[0;31m \u001b[0mprint\u001b[0m\u001b[0;34m(\u001b[0m\u001b[0msum\u001b[0m\u001b[0;34m(\u001b[0m\u001b[0mnumber_limited_seq\u001b[0m\u001b[0;34m(\u001b[0m\u001b[0mfib_seq\u001b[0m\u001b[0;34m(\u001b[0m\u001b[0;34m)\u001b[0m\u001b[0;34m,\u001b[0m \u001b[0;36m100000\u001b[0m\u001b[0;34m)\u001b[0m\u001b[0;34m)\u001b[0m\u001b[0;34m)\u001b[0m\u001b[0;34m\u001b[0m\u001b[0m\n\u001b[0m",
      "\u001b[0;31mTypeError\u001b[0m: sum() missing 1 required positional argument: 'b'"
     ]
    }
   ],
   "source": [
    "def number_limited_seq(seq, n):\n",
    "    for i in seq:\n",
    "        if i >= n:\n",
    "            break\n",
    "        yield i\n",
    "        \n",
    "print(list(number_limited_seq(fib_seq(), 100000)))"
   ]
  },
  {
   "cell_type": "code",
   "execution_count": 1,
   "metadata": {},
   "outputs": [
    {
     "name": "stdout",
     "output_type": "stream",
     "text": [
      "[1, 2, 3, 5, 8, 13, 21, 34, 55, 89, 144, 233, 377, 610, 987, 1597, 2584, 4181, 6765, 10946, 17711, 28657, 46368, 75025]\n",
      "196416\n"
     ]
    }
   ],
   "source": [
    "# 和前面定义的sum函数联用，sum函数支持生成器\n",
    "def fib_seq():\n",
    "    a = b = 1\n",
    "    while True:\n",
    "        a, b = a+b, a\n",
    "        yield b\n",
    "        \n",
    "def number_limited_seq(seq, n):\n",
    "    for i in seq:\n",
    "        if i >= n:\n",
    "            break\n",
    "        yield i\n",
    "        \n",
    "print(list(number_limited_seq(fib_seq(), 100000)))\n",
    "print(sum(number_limited_seq(fib_seq(), 100000)))"
   ]
  },
  {
   "cell_type": "code",
   "execution_count": 2,
   "metadata": {},
   "outputs": [
    {
     "name": "stdout",
     "output_type": "stream",
     "text": [
      "[1, 2, 3, 5, 8, 13, 21, 34, 55, 89, 144, 233, 377, 610, 987, 1597, 2584, 4181, 6765, 10946, 17711, 28657, 46368, 75025]\n",
      "196416\n"
     ]
    }
   ],
   "source": [
    "def fib_seq():\n",
    "    a = b = 1\n",
    "    while True:\n",
    "        a, b = a+b, a\n",
    "        yield b\n",
    "        \n",
    "def number_limited_seq(seq, n):\n",
    "    for i in seq:\n",
    "        if i >= n:\n",
    "            break\n",
    "        yield i\n",
    "        \n",
    "print(list(number_limited_seq(fib_seq(), 100000)))\n",
    "print(sum(number_limited_seq(fib_seq(), 100000)))"
   ]
  },
  {
   "cell_type": "code",
   "execution_count": 3,
   "metadata": {},
   "outputs": [
    {
     "name": "stdout",
     "output_type": "stream",
     "text": [
      "196416\n"
     ]
    }
   ],
   "source": [
    "print(sum(number_limited_seq(fib_seq(), 100000)))"
   ]
  },
  {
   "cell_type": "code",
   "execution_count": 6,
   "metadata": {},
   "outputs": [
    {
     "name": "stdout",
     "output_type": "stream",
     "text": [
      "[0, 1, 4, 9, 16, 25, 36, 49, 64, 81, 100, 121, 144, 169, 196, 225, 256, 289, 324, 361]\n"
     ]
    }
   ],
   "source": [
    "# Python2下无需list，但是Python3下map返回生成器\n",
    "print(list(map(lambda x: x*x, range(20))))"
   ]
  },
  {
   "cell_type": "code",
   "execution_count": 7,
   "metadata": {},
   "outputs": [
    {
     "name": "stdout",
     "output_type": "stream",
     "text": [
      "[0, 2, 4, 6, 8, 10, 12, 14, 16, 18]\n"
     ]
    }
   ],
   "source": [
    "# Python2下无需list，但是Python3下filter返回生成器\n",
    "print(list(filter(lambda x: x%2 == 0, range(20))))"
   ]
  },
  {
   "cell_type": "code",
   "execution_count": 8,
   "metadata": {},
   "outputs": [
    {
     "data": {
      "text/plain": [
       "121645100408832000"
      ]
     },
     "execution_count": 8,
     "metadata": {},
     "output_type": "execute_result"
    }
   ],
   "source": [
    "from functools import reduce\n",
    "reduce(lambda x, y: x*y, range(1, 20))"
   ]
  },
  {
   "cell_type": "code",
   "execution_count": 9,
   "metadata": {},
   "outputs": [
    {
     "name": "stdout",
     "output_type": "stream",
     "text": [
      "<generator object <genexpr> at 0x1058c39e8>\n"
     ]
    }
   ],
   "source": [
    "print(x*x for x in range(20))"
   ]
  },
  {
   "cell_type": "code",
   "execution_count": 10,
   "metadata": {},
   "outputs": [
    {
     "name": "stdout",
     "output_type": "stream",
     "text": [
      "[0, 1, 4, 9, 16, 25, 36, 49, 64, 81, 100, 121, 144, 169, 196, 225, 256, 289, 324, 361]\n"
     ]
    }
   ],
   "source": [
    "print([x*x for x in range(20)])"
   ]
  },
  {
   "cell_type": "code",
   "execution_count": 12,
   "metadata": {},
   "outputs": [
    {
     "name": "stdout",
     "output_type": "stream",
     "text": [
      "[0, 1, 4, 9, 16, 25, 36, 49, 64, 81, 100, 121, 144, 169, 196, 225, 256, 289, 324, 361]\n"
     ]
    }
   ],
   "source": [
    "l = []\n",
    "for x in range(20):\n",
    "    l.append(x*x)\n",
    "print(l)"
   ]
  },
  {
   "cell_type": "code",
   "execution_count": 13,
   "metadata": {},
   "outputs": [
    {
     "name": "stdout",
     "output_type": "stream",
     "text": [
      "[0, 2, 4, 6, 8, 10, 12, 14, 16, 18]\n"
     ]
    }
   ],
   "source": [
    "print([x for x in range(20) if x % 2 == 0])"
   ]
  },
  {
   "cell_type": "code",
   "execution_count": 14,
   "metadata": {},
   "outputs": [
    {
     "name": "stdout",
     "output_type": "stream",
     "text": [
      "[0, 2, 4, 6, 8, 10, 12, 14, 16, 18]\n"
     ]
    }
   ],
   "source": [
    "l = []\n",
    "for x in range(20):\n",
    "    if x % 2 == 0:\n",
    "        l.append(x)\n",
    "        \n",
    "print(l)"
   ]
  },
  {
   "cell_type": "code",
   "execution_count": 1,
   "metadata": {},
   "outputs": [
    {
     "data": {
      "text/plain": [
       "['Command',\n",
       " 'Distribution',\n",
       " 'Extension',\n",
       " 'Feature',\n",
       " 'PEP420PackageFinder',\n",
       " 'PackageFinder',\n",
       " 'Require',\n",
       " '_Command',\n",
       " '__all__',\n",
       " '__builtins__',\n",
       " '__cached__',\n",
       " '__doc__',\n",
       " '__file__',\n",
       " '__loader__',\n",
       " '__name__',\n",
       " '__package__',\n",
       " '__path__',\n",
       " '__spec__',\n",
       " '__version__',\n",
       " '_find_all_simple',\n",
       " 'bootstrap_install_from',\n",
       " 'config',\n",
       " 'convert_path',\n",
       " 'depends',\n",
       " 'dist',\n",
       " 'distutils',\n",
       " 'extension',\n",
       " 'extern',\n",
       " 'filter',\n",
       " 'filterfalse',\n",
       " 'find_packages',\n",
       " 'findall',\n",
       " 'fnmatchcase',\n",
       " 'functools',\n",
       " 'lib2to3_fixer_packages',\n",
       " 'map',\n",
       " 'monkey',\n",
       " 'msvc',\n",
       " 'os',\n",
       " 'py26compat',\n",
       " 'run_2to3_on_doctests',\n",
       " 'setup',\n",
       " 'setuptools',\n",
       " 'version',\n",
       " 'windows_support']"
      ]
     },
     "execution_count": 1,
     "metadata": {},
     "output_type": "execute_result"
    }
   ],
   "source": [
    "import setuptools\n",
    "\n",
    "dir(setuptools)"
   ]
  },
  {
   "cell_type": "code",
   "execution_count": 2,
   "metadata": {},
   "outputs": [
    {
     "name": "stdout",
     "output_type": "stream",
     "text": [
      "['1', '+', '2']\n"
     ]
    }
   ],
   "source": [
    "op_set = {\n",
    "    '+': lambda x, y: x+y,\n",
    "    '-': lambda x, y: x-y,\n",
    "    '*': lambda x, y: x*y,\n",
    "    '/': lambda x, y: x/y,\n",
    "}\n",
    "\n",
    "def parser_exp(exp):\n",
    "    s = ''\n",
    "    for c in exp:\n",
    "        if c in op_set:\n",
    "            yield s\n",
    "            s = ''\n",
    "            yield c\n",
    "        else:\n",
    "            s += c\n",
    "    if s:\n",
    "        yield s\n",
    "        \n",
    "print(list(parser_exp('1+2')))"
   ]
  },
  {
   "cell_type": "code",
   "execution_count": 10,
   "metadata": {},
   "outputs": [
    {
     "name": "stdout",
     "output_type": "stream",
     "text": [
      "7.0\n",
      "9.0\n"
     ]
    }
   ],
   "source": [
    "def eval_exp(exp):\n",
    "    num = None\n",
    "    s = parser_exp(exp)\n",
    "    for e in s:\n",
    "        if e in op_set:\n",
    "            r = float(next(s))\n",
    "            num = op_set[e](num, r)\n",
    "        else:\n",
    "            num = float(e)\n",
    "    return num\n",
    "\n",
    "print(eval_exp('2*3+1'))\n",
    "print(eval_exp('1+2*3'))"
   ]
  },
  {
   "cell_type": "code",
   "execution_count": 31,
   "metadata": {},
   "outputs": [
    {
     "name": "stdout",
     "output_type": "stream",
     "text": [
      "r is 3.0\n",
      "num is 2.0\n",
      "num is 6.0\n",
      "r is 1.0\n",
      "num is 6.0\n",
      "num is 7.0\n",
      "7.0\n",
      "r is 2.0\n",
      "num is 1.0\n",
      "num is 3.0\n",
      "r is 3.0\n",
      "num is 3.0\n",
      "num is 9.0\n",
      "9.0\n"
     ]
    }
   ],
   "source": [
    "def eval_exp(exp):\n",
    "    num = None\n",
    "    s = parser_exp(exp)\n",
    "    for e in s:\n",
    "        if e in op_set:\n",
    "            r = float(next(s))\n",
    "            print('r is {}'.format(r))\n",
    "            print('num is {}'.format(num))\n",
    "            num = op_set[e](num, r)\n",
    "            print('num is {}'.format(num))\n",
    "        else:\n",
    "            num = float(e)\n",
    "    return num\n",
    "\n",
    "print(eval_exp('2*3+1'))\n",
    "print(eval_exp('1+2*3'))"
   ]
  },
  {
   "cell_type": "code",
   "execution_count": 20,
   "metadata": {},
   "outputs": [
    {
     "name": "stdout",
     "output_type": "stream",
     "text": [
      "2\n"
     ]
    }
   ],
   "source": [
    "# list是可迭代对象（iterable object），但不是迭代器（iterator）\n",
    "s = iter(['2', '*', '3', '+', '1'])\n",
    "jk = next(s)\n",
    "print(jk)"
   ]
  },
  {
   "cell_type": "code",
   "execution_count": 27,
   "metadata": {},
   "outputs": [
    {
     "name": "stdout",
     "output_type": "stream",
     "text": [
      "3\n",
      "5\n",
      "7\n",
      "9\n"
     ]
    }
   ],
   "source": [
    "# 可迭代元素要有偶数个，不然会抛出异常\n",
    "iter1 = iter(['2', '3', '4', '5', '6', '7', '8', '9'])\n",
    "for i in iter1:\n",
    "    r = next(iter1)\n",
    "    print(r)"
   ]
  },
  {
   "cell_type": "code",
   "execution_count": 32,
   "metadata": {},
   "outputs": [
    {
     "name": "stdout",
     "output_type": "stream",
     "text": [
      "7.0\n",
      "9.0\n"
     ]
    }
   ],
   "source": [
    "def eval_exp(exp):\n",
    "    num = None\n",
    "    s = parser_exp(exp)\n",
    "    for e in s:\n",
    "        if e in op_set:\n",
    "            r = float(next(s))\n",
    "            num = op_set[e](num, r)\n",
    "        else:\n",
    "            num = float(e)\n",
    "    return num\n",
    "\n",
    "print(eval_exp('2*3+1'))\n",
    "print(eval_exp('1+2*3'))"
   ]
  },
  {
   "cell_type": "code",
   "execution_count": 33,
   "metadata": {},
   "outputs": [
    {
     "name": "stdout",
     "output_type": "stream",
     "text": [
      "Simple Assignment\n",
      "shoplist is ['mango', 'carrot', 'banana']\n",
      "mylist is ['mango', 'carrot', 'banana']\n",
      "Copy by making a full slice\n",
      "shoplist is ['mango', 'carrot', 'banana']\n",
      "mylist is ['carrot', 'banana']\n"
     ]
    }
   ],
   "source": [
    "print('Simple Assignment')\n",
    "shoplist = ['apple', 'mango', 'carrot', 'banana']\n",
    "mylist = shoplist\n",
    "\n",
    "del shoplist[0]\n",
    "print('shoplist is', shoplist)\n",
    "print('mylist is', mylist)\n",
    "print('Copy by making a full slice')\n",
    "\n",
    "mylist = shoplist[:]\n",
    "del mylist[0]\n",
    "print('shoplist is', shoplist)\n",
    "print('mylist is', mylist)"
   ]
  },
  {
   "cell_type": "code",
   "execution_count": 35,
   "metadata": {},
   "outputs": [
    {
     "name": "stdout",
     "output_type": "stream",
     "text": [
      "[1, 2, 3, [4, 5, 6]]\n",
      "[1, 2, 3, [4, 5, 6, 7], 8]\n",
      "[1, 2, 3, [4, 5, 6]]\n",
      "-----------\n",
      "[1, 2, 3, [4, 5, 6]]\n",
      "[1, 2, 3, [4, 5, 6, 7], 8]\n",
      "[1, 2, 3, [4, 5, 6, 7]]\n"
     ]
    }
   ],
   "source": [
    "import copy\n",
    "\n",
    "orig_list = [1, 2, 3, [4, 5, 6]]\n",
    "\n",
    "new_list =copy.deepcopy(orig_list)\n",
    "print(new_list)\n",
    "new_list[3].append(7)\n",
    "new_list.append(8)\n",
    "print(new_list)\n",
    "print(orig_list)\n",
    "\n",
    "print('-----------')\n",
    "\n",
    "new_list = copy.copy(orig_list)\n",
    "print(new_list)\n",
    "new_list[3].append(7)\n",
    "new_list.append(8)\n",
    "print(new_list)\n",
    "print(orig_list)"
   ]
  },
  {
   "cell_type": "code",
   "execution_count": 36,
   "metadata": {},
   "outputs": [
    {
     "data": {
      "text/plain": [
       "[3, 2, 1]"
      ]
     },
     "execution_count": 36,
     "metadata": {},
     "output_type": "execute_result"
    }
   ],
   "source": [
    "def reversed_list(l):\n",
    "    return l[::-1]\n",
    "\n",
    "reversed_list([1, 2, 3])"
   ]
  },
  {
   "cell_type": "code",
   "execution_count": 37,
   "metadata": {},
   "outputs": [
    {
     "name": "stdout",
     "output_type": "stream",
     "text": [
      "[5, 4, 3, 2, 1]\n"
     ]
    }
   ],
   "source": [
    "l = [1, 2, 3, 4, 5]\n",
    "\n",
    "def my_reverse(l):\n",
    "    for i in range(1, len(l)+1):\n",
    "        yield l[len(l)-i]\n",
    "        \n",
    "print(list(my_reverse(l)))"
   ]
  },
  {
   "cell_type": "code",
   "execution_count": 39,
   "metadata": {},
   "outputs": [
    {
     "name": "stdout",
     "output_type": "stream",
     "text": [
      "[5, 4, 3, 2, 1]\n"
     ]
    }
   ],
   "source": [
    "l = [1, 2, 3, 4, 5]\n",
    "\n",
    "def my_reverse(l):\n",
    "    t = l[:]\n",
    "    del l[:]\n",
    "    for i in range(1, len(t)+1):\n",
    "        l.append(t[len(t)-i])\n",
    "        \n",
    "my_reverse(l)\n",
    "print(l)"
   ]
  },
  {
   "cell_type": "code",
   "execution_count": 45,
   "metadata": {},
   "outputs": [
    {
     "name": "stdout",
     "output_type": "stream",
     "text": [
      "[[...]]\n",
      "[[...], [...]]\n",
      "[[...], [...], [...]]\n"
     ]
    }
   ],
   "source": [
    "l = []\n",
    "l.append(l)\n",
    "print(l)\n",
    "l.append(l)\n",
    "print(l)\n",
    "l.append(l)\n",
    "print(l)"
   ]
  },
  {
   "cell_type": "code",
   "execution_count": 46,
   "metadata": {},
   "outputs": [
    {
     "data": {
      "text/plain": [
       "b'hello world'"
      ]
     },
     "execution_count": 46,
     "metadata": {},
     "output_type": "execute_result"
    }
   ],
   "source": [
    "b\"hello world\""
   ]
  },
  {
   "cell_type": "code",
   "execution_count": 47,
   "metadata": {},
   "outputs": [
    {
     "data": {
      "text/plain": [
       "bytes"
      ]
     },
     "execution_count": 47,
     "metadata": {},
     "output_type": "execute_result"
    }
   ],
   "source": [
    "type(b\"hello world\")"
   ]
  },
  {
   "cell_type": "code",
   "execution_count": 48,
   "metadata": {},
   "outputs": [
    {
     "data": {
      "text/plain": [
       "'hello world'"
      ]
     },
     "execution_count": 48,
     "metadata": {},
     "output_type": "execute_result"
    }
   ],
   "source": [
    "u\"hello world\""
   ]
  },
  {
   "cell_type": "code",
   "execution_count": 49,
   "metadata": {},
   "outputs": [
    {
     "data": {
      "text/plain": [
       "str"
      ]
     },
     "execution_count": 49,
     "metadata": {},
     "output_type": "execute_result"
    }
   ],
   "source": [
    "type(u\"hello world\")"
   ]
  },
  {
   "cell_type": "code",
   "execution_count": 50,
   "metadata": {},
   "outputs": [
    {
     "data": {
      "text/plain": [
       "'hello world'"
      ]
     },
     "execution_count": 50,
     "metadata": {},
     "output_type": "execute_result"
    }
   ],
   "source": [
    "r\"hello world\""
   ]
  },
  {
   "cell_type": "code",
   "execution_count": 51,
   "metadata": {},
   "outputs": [
    {
     "data": {
      "text/plain": [
       "str"
      ]
     },
     "execution_count": 51,
     "metadata": {},
     "output_type": "execute_result"
    }
   ],
   "source": [
    "type(r\"hello world\")"
   ]
  },
  {
   "cell_type": "code",
   "execution_count": 53,
   "metadata": {},
   "outputs": [
    {
     "name": "stdout",
     "output_type": "stream",
     "text": [
      "想象一下这里是某些中文内容，也可能是日文或者韩文\n"
     ]
    }
   ],
   "source": [
    "# encoding=utf-8\n",
    "import io\n",
    "\n",
    "f = io.open(\"abc.txt\", \"wt\", encoding=\"utf-8\")\n",
    "f.write(u\"想象一下这里是某些中文内容，也可能是日文或者韩文\")\n",
    "f.close\n",
    "\n",
    "# 如果在windows下，这个行为反而可能出现乱码。因为windows的默认编码为CP936，而不是UTF-8\n",
    "text = io.open(\"abc.txt\", encoding=\"utf-8\").read()\n",
    "print(text)"
   ]
  },
  {
   "cell_type": "code",
   "execution_count": 54,
   "metadata": {},
   "outputs": [
    {
     "name": "stdout",
     "output_type": "stream",
     "text": [
      "-rw-r--r--  1 huage  staff  72 12  3 20:58 abc.txt\r\n"
     ]
    }
   ],
   "source": [
    "!ls -l abc.txt"
   ]
  },
  {
   "cell_type": "code",
   "execution_count": 55,
   "metadata": {},
   "outputs": [
    {
     "name": "stdout",
     "output_type": "stream",
     "text": [
      "想象一下这里是某些中文内容，也可能是日文或者韩文"
     ]
    }
   ],
   "source": [
    "!cat abc.txt"
   ]
  },
  {
   "cell_type": "code",
   "execution_count": 68,
   "metadata": {},
   "outputs": [
    {
     "name": "stdout",
     "output_type": "stream",
     "text": [
      "想象一下这里是某些中文内容，也可能是日文或者韩文\n"
     ]
    },
    {
     "ename": "UnicodeDecodeError",
     "evalue": "'utf-8' codec can't decode byte 0xcf in position 0: invalid continuation byte",
     "output_type": "error",
     "traceback": [
      "\u001b[0;31m---------------------------------------------------------------------------\u001b[0m",
      "\u001b[0;31mUnicodeDecodeError\u001b[0m                        Traceback (most recent call last)",
      "\u001b[0;32m<ipython-input-68-9a6aa7db00b1>\u001b[0m in \u001b[0;36m<module>\u001b[0;34m()\u001b[0m\n\u001b[1;32m     12\u001b[0m \u001b[0;31m# print(text)\u001b[0m\u001b[0;34m\u001b[0m\u001b[0;34m\u001b[0m\u001b[0m\n\u001b[1;32m     13\u001b[0m \u001b[0;34m\u001b[0m\u001b[0m\n\u001b[0;32m---> 14\u001b[0;31m \u001b[0mtext\u001b[0m \u001b[0;34m=\u001b[0m \u001b[0mio\u001b[0m\u001b[0;34m.\u001b[0m\u001b[0mopen\u001b[0m\u001b[0;34m(\u001b[0m\u001b[0;34m\"abc.txt\"\u001b[0m\u001b[0;34m,\u001b[0m \u001b[0mencoding\u001b[0m\u001b[0;34m=\u001b[0m\u001b[0;34m\"utf-8\"\u001b[0m\u001b[0;34m)\u001b[0m\u001b[0;34m.\u001b[0m\u001b[0mread\u001b[0m\u001b[0;34m(\u001b[0m\u001b[0;34m)\u001b[0m\u001b[0;34m\u001b[0m\u001b[0m\n\u001b[0m\u001b[1;32m     15\u001b[0m \u001b[0mprint\u001b[0m\u001b[0;34m(\u001b[0m\u001b[0mtext\u001b[0m\u001b[0;34m)\u001b[0m\u001b[0;34m\u001b[0m\u001b[0m\n",
      "\u001b[0;32m/usr/local/Cellar/python3/3.6.2/Frameworks/Python.framework/Versions/3.6/lib/python3.6/codecs.py\u001b[0m in \u001b[0;36mdecode\u001b[0;34m(self, input, final)\u001b[0m\n\u001b[1;32m    319\u001b[0m         \u001b[0;31m# decode input (taking the buffer into account)\u001b[0m\u001b[0;34m\u001b[0m\u001b[0;34m\u001b[0m\u001b[0m\n\u001b[1;32m    320\u001b[0m         \u001b[0mdata\u001b[0m \u001b[0;34m=\u001b[0m \u001b[0mself\u001b[0m\u001b[0;34m.\u001b[0m\u001b[0mbuffer\u001b[0m \u001b[0;34m+\u001b[0m \u001b[0minput\u001b[0m\u001b[0;34m\u001b[0m\u001b[0m\n\u001b[0;32m--> 321\u001b[0;31m         \u001b[0;34m(\u001b[0m\u001b[0mresult\u001b[0m\u001b[0;34m,\u001b[0m \u001b[0mconsumed\u001b[0m\u001b[0;34m)\u001b[0m \u001b[0;34m=\u001b[0m \u001b[0mself\u001b[0m\u001b[0;34m.\u001b[0m\u001b[0m_buffer_decode\u001b[0m\u001b[0;34m(\u001b[0m\u001b[0mdata\u001b[0m\u001b[0;34m,\u001b[0m \u001b[0mself\u001b[0m\u001b[0;34m.\u001b[0m\u001b[0merrors\u001b[0m\u001b[0;34m,\u001b[0m \u001b[0mfinal\u001b[0m\u001b[0;34m)\u001b[0m\u001b[0;34m\u001b[0m\u001b[0m\n\u001b[0m\u001b[1;32m    322\u001b[0m         \u001b[0;31m# keep undecoded input until the next call\u001b[0m\u001b[0;34m\u001b[0m\u001b[0;34m\u001b[0m\u001b[0m\n\u001b[1;32m    323\u001b[0m         \u001b[0mself\u001b[0m\u001b[0;34m.\u001b[0m\u001b[0mbuffer\u001b[0m \u001b[0;34m=\u001b[0m \u001b[0mdata\u001b[0m\u001b[0;34m[\u001b[0m\u001b[0mconsumed\u001b[0m\u001b[0;34m:\u001b[0m\u001b[0;34m]\u001b[0m\u001b[0;34m\u001b[0m\u001b[0m\n",
      "\u001b[0;31mUnicodeDecodeError\u001b[0m: 'utf-8' codec can't decode byte 0xcf in position 0: invalid continuation byte"
     ]
    }
   ],
   "source": [
    "# encoding=utf-8\n",
    "import io\n",
    "\n",
    "f = io.open(\"abc.txt\", \"wt\", encoding=\"gbk\")\n",
    "f.write(u\"想象一下这里是某些中文内容，也可能是日文或者韩文\")\n",
    "f.close()\n",
    "\n",
    "text = io.open(\"abc.txt\", encoding=\"gbk\").read()\n",
    "print(text)\n",
    "\n",
    "# text = open(\"abc.txt\").read()\n",
    "# print(text)\n",
    "\n",
    "text = io.open(\"abc.txt\", encoding=\"utf-8\").read()\n",
    "print(text)"
   ]
  },
  {
   "cell_type": "code",
   "execution_count": 69,
   "metadata": {},
   "outputs": [
    {
     "name": "stdout",
     "output_type": "stream",
     "text": [
      "-rw-r--r--  1 huage  staff  48 12  3 21:15 abc.txt\r\n"
     ]
    }
   ],
   "source": [
    "!ls -l abc.txt"
   ]
  },
  {
   "cell_type": "code",
   "execution_count": 70,
   "metadata": {},
   "outputs": [
    {
     "name": "stdout",
     "output_type": "stream",
     "text": [
      "����һ��������ĳЩ�������ݣ�Ҳ���������Ļ��ߺ���"
     ]
    }
   ],
   "source": [
    "!cat abc.txt"
   ]
  },
  {
   "cell_type": "code",
   "execution_count": 71,
   "metadata": {},
   "outputs": [],
   "source": [
    "with open('abc.txt', 'rb') as fi:\n",
    "    data = fi.read()\n",
    "    \n",
    "data = data.decode('gbk').encode('utf-8')\n",
    "with open('abc.txt', 'wb') as fo:\n",
    "    fo.write(data)"
   ]
  },
  {
   "cell_type": "code",
   "execution_count": 72,
   "metadata": {},
   "outputs": [
    {
     "name": "stdout",
     "output_type": "stream",
     "text": [
      "想象一下这里是某些中文内容，也可能是日文或者韩文"
     ]
    }
   ],
   "source": [
    "!cat abc.txt"
   ]
  },
  {
   "cell_type": "code",
   "execution_count": 77,
   "metadata": {},
   "outputs": [
    {
     "name": "stdout",
     "output_type": "stream",
     "text": [
      "b'\\xcf\\xeb\\xcf\\xf3\\xd2\\xbb\\xcf\\xc2\\xd5\\xe2\\xc0\\xef\\xca\\xc7\\xc4\\xb3\\xd0\\xa9\\xd6\\xd0\\xce\\xc4\\xc4\\xda\\xc8\\xdd\\xa3\\xac\\xd2\\xb2\\xbf\\xc9\\xc4\\xdc\\xca\\xc7\\xc8\\xd5\\xce\\xc4\\xbb\\xf2\\xd5\\xdf\\xba\\xab\\xce\\xc4'\n",
      "{'encoding': 'GB2312', 'confidence': 0.99, 'language': 'Chinese'}\n",
      "想象一下这里是某些中文内容，也可能是日文或者韩文\n",
      "<class 'str'>\n"
     ]
    }
   ],
   "source": [
    "# encoding=utf-8\n",
    "import chardet\n",
    "\n",
    "text = u\"想象一下这里是某些中文内容，也可能是日文或者韩文\".encode('gbk')\n",
    "print(text)\n",
    "\n",
    "print(chardet.detect(text))\n",
    "text = text.decode(chardet.detect(text)['encoding'])\n",
    "print(text)\n",
    "print(type(text))"
   ]
  },
  {
   "cell_type": "code",
   "execution_count": 80,
   "metadata": {},
   "outputs": [
    {
     "name": "stdout",
     "output_type": "stream",
     "text": [
      "b'\\xe6\\x83\\xb3\\xe8\\xb1\\xa1\\xe4\\xb8\\x80\\xe4\\xb8\\x8b\\xe8\\xbf\\x99\\xe9\\x87\\x8c\\xe6\\x98\\xaf\\xe6\\x9f\\x90\\xe4\\xba\\x9b\\xe4\\xb8\\xad\\xe6\\x96\\x87\\xe5\\x86\\x85\\xe5\\xae\\xb9\\xef\\xbc\\x8c\\xe4\\xb9\\x9f\\xe5\\x8f\\xaf\\xe8\\x83\\xbd\\xe6\\x98\\xaf\\xe6\\x97\\xa5\\xe6\\x96\\x87\\xe6\\x88\\x96\\xe8\\x80\\x85\\xe9\\x9f\\xa9\\xe6\\x96\\x87'\n",
      "{'encoding': 'utf-8', 'confidence': 0.99, 'language': ''}\n",
      "想象一下这里是某些中文内容，也可能是日文或者韩文\n",
      "<class 'str'>\n"
     ]
    }
   ],
   "source": [
    "# encoding=utf-8\n",
    "import chardet\n",
    "\n",
    "text = u\"想象一下这里是某些中文内容，也可能是日文或者韩文\".encode('utf-8')\n",
    "print(text)\n",
    "\n",
    "print(chardet.detect(text))\n",
    "text = text.decode(chardet.detect(text)['encoding'])\n",
    "print(text)\n",
    "print(type(text))"
   ]
  },
  {
   "cell_type": "code",
   "execution_count": 86,
   "metadata": {},
   "outputs": [
    {
     "name": "stderr",
     "output_type": "stream",
     "text": [
      "DEBUG:root:Start of the program\n",
      "INFO:root:Doing something\n",
      "WARNING:root:Dying now\n"
     ]
    },
    {
     "name": "stdout",
     "output_type": "stream",
     "text": [
      "normal output\n"
     ]
    }
   ],
   "source": [
    "import logging\n",
    "\n",
    "print('normal output')\n",
    "\n",
    "logger = logging.getLogger()\n",
    "logger.setLevel(logging.DEBUG)\n",
    "\n",
    "logging.debug(\"Start of the program\")\n",
    "logging.info(\"Doing something\")\n",
    "logging.warning(\"Dying now\")"
   ]
  },
  {
   "cell_type": "code",
   "execution_count": 85,
   "metadata": {},
   "outputs": [
    {
     "name": "stdout",
     "output_type": "stream",
     "text": [
      "sys.version_info(major=3, minor=6, micro=2, releaselevel='final', serial=0)\n",
      "True\n"
     ]
    }
   ],
   "source": [
    "import sys\n",
    "print(sys.version_info)\n",
    "print(sys.version_info.major == 3)"
   ]
  },
  {
   "cell_type": "code",
   "execution_count": 88,
   "metadata": {},
   "outputs": [
    {
     "data": {
      "text/plain": [
       "['carefully', 'quickly']"
      ]
     },
     "execution_count": 88,
     "metadata": {},
     "output_type": "execute_result"
    }
   ],
   "source": [
    "import re\n",
    "\n",
    "s = 'He was carefully disguised but captured quickly by police.'\n",
    "r = re.compile('\\w+ly')\n",
    "r.findall(s)"
   ]
  },
  {
   "cell_type": "code",
   "execution_count": 89,
   "metadata": {},
   "outputs": [
    {
     "name": "stdout",
     "output_type": "stream",
     "text": [
      "<_sre.SRE_Match object; span=(0, 11), match='13631502086'>\n",
      "None\n"
     ]
    }
   ],
   "source": [
    "import re\n",
    "\n",
    "r = re.compile('1\\d{10}')\n",
    "print(r.match('13631502086'))\n",
    "print(r.match('021-87654321'))"
   ]
  },
  {
   "cell_type": "code",
   "execution_count": 90,
   "metadata": {},
   "outputs": [
    {
     "name": "stdout",
     "output_type": "stream",
     "text": [
      "<_sre.SRE_Match object; span=(0, 11), match='192.168.1.1'>\n",
      "<_sre.SRE_Match object; span=(0, 7), match='8.8.8.8'>\n",
      "<_sre.SRE_Match object; span=(0, 13), match='192.168.1.999'>\n"
     ]
    }
   ],
   "source": [
    "import re\n",
    "\n",
    "r = re.compile(r'\\d{0,3}\\.\\d{0,3}\\.\\d{0,3}\\.\\d{0,3}')\n",
    "print(r.match('192.168.1.1'))\n",
    "print(r.match('8.8.8.8'))\n",
    "print(r.match('192.168.1.999'))"
   ]
  },
  {
   "cell_type": "code",
   "execution_count": 91,
   "metadata": {},
   "outputs": [
    {
     "name": "stdout",
     "output_type": "stream",
     "text": [
      "<_sre.SRE_Match object; span=(0, 31), match='http://regxlib.com/Default.aspx'>\n",
      "None\n"
     ]
    }
   ],
   "source": [
    "import re\n",
    "\n",
    "# source: http://c.biancheng.net/cpp/html/1435.html\n",
    "r = re.compile(r'(http|ftp|https):\\/\\/[\\w\\-_]+(\\.[\\w\\-_]+)+([\\w\\-\\.,@?^=%&amp;:/~\\+#]*)?')\n",
    "print(r.match('http://regxlib.com/Default.aspx'))\n",
    "print(r.match('regxlib.com'))"
   ]
  },
  {
   "cell_type": "code",
   "execution_count": 95,
   "metadata": {},
   "outputs": [
    {
     "name": "stdout",
     "output_type": "stream",
     "text": [
      "<_sre.SRE_Match object; span=(0, 18), match='shell999@gmail.com'>\n",
      "None\n",
      "None\n"
     ]
    }
   ],
   "source": [
    "import re\n",
    "\n",
    "# source: http://bbs.csdn.net/topics/60032440\n",
    "r =re.compile(r'[a-z]([a-z0-9]*[-_]?[a-z0-9]+)*@([a-z0-9]*[-_]?[a-z0-9]+)+[\\.][a-z]{2,3}([\\.][a-z]{2})?')\n",
    "print(r.match('shell999@gmail.com'))\n",
    "print(r.match('000@shell@1'))\n",
    "print(r.match('a-b-@c.com'))"
   ]
  },
  {
   "cell_type": "code",
   "execution_count": 96,
   "metadata": {},
   "outputs": [
    {
     "name": "stdout",
     "output_type": "stream",
     "text": [
      "['apple', 'mango', 'carrot']\n"
     ]
    }
   ],
   "source": [
    "import pickle\n",
    "\n",
    "shoplistfile = 'shoplist.data'\n",
    "shoplist = ['apple', 'mango', 'carrot']\n",
    "f = open(shoplistfile, 'wb')\n",
    "pickle.dump(shoplist, f)\n",
    "f.close()\n",
    "\n",
    "del shoplist\n",
    "f = open(shoplistfile, 'rb')\n",
    "stroedlist = pickle.load(f)\n",
    "print(stroedlist)"
   ]
  },
  {
   "cell_type": "code",
   "execution_count": 97,
   "metadata": {},
   "outputs": [
    {
     "name": "stdout",
     "output_type": "stream",
     "text": [
      "-rw-r--r--  1 huage  staff  45 12  4 23:08 shoplist.data\r\n"
     ]
    }
   ],
   "source": [
    "!ls -l shoplist.data"
   ]
  },
  {
   "cell_type": "code",
   "execution_count": 98,
   "metadata": {},
   "outputs": [
    {
     "name": "stdout",
     "output_type": "stream",
     "text": [
      "�\u0003]q\u0000(X\u0005\u0000\u0000\u0000appleq\u0001X\u0005\u0000\u0000\u0000mangoq\u0002X\u0006\u0000\u0000\u0000carrotq\u0003e."
     ]
    }
   ],
   "source": [
    "!cat shoplist.data"
   ]
  },
  {
   "cell_type": "code",
   "execution_count": 99,
   "metadata": {},
   "outputs": [
    {
     "name": "stdout",
     "output_type": "stream",
     "text": [
      "1\n"
     ]
    }
   ],
   "source": [
    "import datetime\n",
    "print(datetime.date(1789, 7, 14).weekday())"
   ]
  },
  {
   "cell_type": "code",
   "execution_count": 103,
   "metadata": {},
   "outputs": [
    {
     "data": {
      "text/plain": [
       "5"
      ]
     },
     "execution_count": 103,
     "metadata": {},
     "output_type": "execute_result"
    }
   ],
   "source": [
    "s = 2**15\n",
    "len(str(s))"
   ]
  },
  {
   "cell_type": "code",
   "execution_count": 106,
   "metadata": {},
   "outputs": [
    {
     "data": {
      "text/plain": [
       "457"
      ]
     },
     "execution_count": 106,
     "metadata": {},
     "output_type": "execute_result"
    }
   ],
   "source": [
    "len(str(2**1515))"
   ]
  },
  {
   "cell_type": "code",
   "execution_count": 107,
   "metadata": {},
   "outputs": [
    {
     "name": "stdout",
     "output_type": "stream",
     "text": [
      "4.515449934959717\n",
      "5\n",
      "456.06044343093146\n",
      "457\n",
      "4561060.494752745\n",
      "4561061\n"
     ]
    }
   ],
   "source": [
    "# log(2**15151515) == log2 * 15151515 == log10 * (log2/log10) * 15151515\n",
    "# 2 ** 15151515 == 10 ** ((log2/log10) * 15151515)\n",
    "import math\n",
    "\n",
    "print((math.log(2)/math.log(10)) * 15)\n",
    "print(int((math.log(2)/math.log(10)) * 15) + 1)\n",
    "\n",
    "print((math.log(2)/math.log(10)) * 1515)\n",
    "print(int((math.log(2)/math.log(10)) * 1515) + 1)\n",
    "\n",
    "print((math.log(2)/math.log(10)) * 15151515)\n",
    "print(int((math.log(2)/math.log(10)) * 15151515) + 1)"
   ]
  },
  {
   "cell_type": "code",
   "execution_count": 108,
   "metadata": {},
   "outputs": [
    {
     "name": "stdout",
     "output_type": "stream",
     "text": [
      "5\n",
      "457\n",
      "4561061\n"
     ]
    }
   ],
   "source": [
    "import math\n",
    "\n",
    "f = lambda x: int((math.log(2)/math.log(10)) * x) + 1\n",
    "\n",
    "print(f(15))\n",
    "print(f(1515))\n",
    "print(f(15151515))"
   ]
  },
  {
   "cell_type": "code",
   "execution_count": 110,
   "metadata": {},
   "outputs": [
    {
     "name": "stdout",
     "output_type": "stream",
     "text": [
      "吴\n",
      "李\n",
      "李\n",
      "吴\n",
      "郑\n",
      "钱\n"
     ]
    }
   ],
   "source": [
    "s = u'赵钱孙李周吴郑王'\n",
    "s = list(s)\n",
    "\n",
    "import random\n",
    "\n",
    "\n",
    "print(random.choice(s))\n",
    "print(random.choice(s))\n",
    "print(random.choice(s))\n",
    "print(random.choice(s))\n",
    "print(random.choice(s))\n",
    "print(random.choice(s))"
   ]
  },
  {
   "cell_type": "code",
   "execution_count": 111,
   "metadata": {},
   "outputs": [
    {
     "name": "stdout",
     "output_type": "stream",
     "text": [
      "孙\n",
      "钱\n",
      "李\n",
      "周\n",
      "赵\n",
      "郑\n"
     ]
    }
   ],
   "source": [
    "s = u'赵钱孙李周吴郑王'\n",
    "s = list(s)\n",
    "\n",
    "import random\n",
    "\n",
    "random.shuffle(s)\n",
    "print(s.pop())\n",
    "print(s.pop())\n",
    "print(s.pop())\n",
    "print(s.pop())\n",
    "print(s.pop())\n",
    "print(s.pop())"
   ]
  },
  {
   "cell_type": "code",
   "execution_count": 112,
   "metadata": {},
   "outputs": [
    {
     "name": "stdout",
     "output_type": "stream",
     "text": [
      "\u001b[34m__pycache__\u001b[m\u001b[m                    name.py\r\n",
      "a_simple_game.py               name_format.py\r\n",
      "abc.txt                        newfile.txt\r\n",
      "albert_einstein.py             none.py\r\n",
      "apostrophe.py                  numeric_functions.py\r\n",
      "assertion.py                   opem.txt\r\n",
      "assertion_2.py                 opened_write_mode.py\r\n",
      "autovivification.py            property_2.py\r\n",
      "bicycles.py                    python_codes.py\r\n",
      "birthday.py                    raising_exception.py\r\n",
      "calculator.py                  raising_exception_2.py\r\n",
      "cars.py                        raising_exception_3.py\r\n",
      "comment.py                     re.py\r\n",
      "data.pkl                       re.search.py\r\n",
      "decorator.py                   re_1.py\r\n",
      "default_values.py              re_charactor_class.py\r\n",
      "del_array_element.py           re_charactor_class_2.py\r\n",
      "dictionaries.py                re_charactor_class_3.py\r\n",
      "dictionaries_2.py              re_email_extraction.py\r\n",
      "dunder_add.py                  re_match_group.py\r\n",
      "encoding.py                    re_match_group_2.py\r\n",
      "enumerate.py                   re_metecharactor.py\r\n",
      "exception_finally.py           re_reading_file.py\r\n",
      "exception_finally_2.py         re_special_sequences.py\r\n",
      "factorial.py                   re_special_sequences_2.py\r\n",
      "famous_person.py               re_special_sequences_3.py\r\n",
      "filename.txt                   re_sub.py\r\n",
      "for_else.py                    reading_file.py\r\n",
      "format_string.py               readlines.py\r\n",
      "friends_list.py                sets_math_operation.py\r\n",
      "function_arguments.py          shoplist.data\r\n",
      "function_arguments_2.py        simple_message.py\r\n",
      "generator.py                   simple_messages.py\r\n",
      "generator_infinite_numbers.py  slate.pkl\r\n",
      "hello_eric.py                  sololearn.ipynb\r\n",
      "hello_world.py                 sololearn.py\r\n",
      "infinite_generator.py          some_script.py\r\n",
      "inherit.py                     sorted_function.py\r\n",
      "inheritance_super.py           string_escape.py\r\n",
      "itertools.py                   string_formatting.py\r\n",
      "itertools_count.py             string_functions.py\r\n",
      "itertools_product.py           strip_blank.py\r\n",
      "join_method.py                 strongly_private_method.py\r\n",
      "\u001b[31mkeyword_20171006.csv\u001b[m\u001b[m           test.csv\r\n",
      "list_comprehension.py          test.txt\r\n",
      "list_comprehension_if.py       text_analyzer.py\r\n",
      "list_slice.py                  text_analyzer_2.py\r\n",
      "loop_return.py                 tmp-2017-11-09_15-07-24-279.py\r\n",
      "magic_method.py                tmp-2017-11-09_15-47-52-155.py\r\n",
      "magic_method_2.py              tmp.ipynb\r\n",
      "magic_method_3.py              tmp.py\r\n",
      "magic_method_4.py              travel.py\r\n",
      "magic_method_compare.py        trip_way.py\r\n",
      "magic_method_container.py      try_except_else.py\r\n",
      "magic_method_del.py            tuple.py\r\n",
      "magic_method_gt.py             tuple_slice.py\r\n",
      "magic_method_unicode.py        tuple_unpacking.py\r\n",
      "magicians.py                   untitled\r\n",
      "merge_number_string.py         weakly_private_method.py\r\n",
      "module.py                      with_statement.py\r\n",
      "module_as.py                   writing_file.py\r\n",
      "motorecycles.py                zen_of_python.py\r\n"
     ]
    }
   ],
   "source": [
    "!ls"
   ]
  },
  {
   "cell_type": "code",
   "execution_count": 113,
   "metadata": {},
   "outputs": [
    {
     "name": "stdout",
     "output_type": "stream",
     "text": [
      "AFP.conf                              nfs.conf\r\n",
      "afpovertcp.cfg                        nfs.conf~orig\r\n",
      "afpovertcp.cfg~orig                   notify.conf\r\n",
      "\u001b[35maliases\u001b[m\u001b[m                               ntp-restrict.conf\r\n",
      "aliases.db                            ntp.conf\r\n",
      "\u001b[34mapache2\u001b[m\u001b[m                               ntp_opendirectory.conf\r\n",
      "\u001b[34masl\u001b[m\u001b[m                                   \u001b[34mopenldap\u001b[m\u001b[m\r\n",
      "asl.conf                              \u001b[34mpam.d\u001b[m\u001b[m\r\n",
      "authorization.deprecated              passwd\r\n",
      "auto_home                             passwd~orig\r\n",
      "auto_master                           paths\r\n",
      "auto_master~orig                      \u001b[34mpaths.d\u001b[m\u001b[m\r\n",
      "autofs.conf                           paths~orig\r\n",
      "bashrc                                \u001b[34mperiodic\u001b[m\u001b[m\r\n",
      "bashrc_Apple_Terminal                 \u001b[34mpf.anchors\u001b[m\u001b[m\r\n",
      "bashrc~previous                       pf.conf\r\n",
      "com.apple.screensharing.agent.launchd pf.os\r\n",
      "csh.cshrc                             php-fpm.conf.default\r\n",
      "csh.cshrc~orig                        \u001b[34mphp-fpm.d\u001b[m\u001b[m\r\n",
      "csh.login                             php.ini.default\r\n",
      "csh.login~orig                        php.ini.default-5.2-previous\r\n",
      "csh.logout                            php.ini.default-5.2-previous~orig\r\n",
      "csh.logout~orig                       php.ini.default-previous\r\n",
      "\u001b[34mcups\u001b[m\u001b[m                                  php.ini.default-previous~orig\r\n",
      "\u001b[34mdefaults\u001b[m\u001b[m                              \u001b[34mpostfix\u001b[m\u001b[m\r\n",
      "dnsextd.conf                          \u001b[34mppp\u001b[m\u001b[m\r\n",
      "\u001b[34mdnsmasq.d\u001b[m\u001b[m                             profile\r\n",
      "efax.rc~previous                      profile~orig\r\n",
      "\u001b[34memond.d\u001b[m\u001b[m                               protocols\r\n",
      "find.codes                            protocols~previous\r\n",
      "find.codes~orig                       \u001b[34mpure-ftpd\u001b[m\u001b[m\r\n",
      "fstab.hd                              \u001b[34mracoon\u001b[m\u001b[m\r\n",
      "fstab.hd~previous                     rc.common\r\n",
      "ftpusers                              rc.common~previous\r\n",
      "ftpusers~orig                         rc.netboot\r\n",
      "gettytab                              \u001b[35mresolv.conf\u001b[m\u001b[m\r\n",
      "gettytab~orig                         resolv.dnsmasq.conf\r\n",
      "group                                 resolv.dnsmasq.conf~\r\n",
      "group~previous                        rmtab\r\n",
      "hostconfig                            rpc\r\n",
      "hosts                                 rpc~previous\r\n",
      "hosts.equiv                           rtadvd.conf\r\n",
      "hosts~                                rtadvd.conf~previous\r\n",
      "hosts~orig                            \u001b[34msecurity\u001b[m\u001b[m\r\n",
      "irbrc                                 services\r\n",
      "kern_loader.conf                      services~previous\r\n",
      "kern_loader.conf~previous             shells\r\n",
      "krb5.keytab                           shells~orig\r\n",
      "\u001b[35mlocaltime\u001b[m\u001b[m                             \u001b[34msnmp\u001b[m\u001b[m\r\n",
      "locate.rc                             \u001b[34mssh\u001b[m\u001b[m\r\n",
      "\u001b[34mmach_init.d\u001b[m\u001b[m                           ssh_config~orig\r\n",
      "\u001b[34mmach_init_per_login_session.d\u001b[m\u001b[m         sshd_config~previous\r\n",
      "\u001b[34mmach_init_per_user.d\u001b[m\u001b[m                  \u001b[34mssl\u001b[m\u001b[m\r\n",
      "mail.rc                               sudo_lecture\r\n",
      "mail.rc~orig                          sudoers\r\n",
      "man.conf                              \u001b[34msudoers.d\u001b[m\u001b[m\r\n",
      "manpaths                              sudoers~orig\r\n",
      "\u001b[34mmanpaths.d\u001b[m\u001b[m                            syslog.conf\r\n",
      "master.passwd                         syslog.conf~previous\r\n",
      "master.passwd~orig                    ttys\r\n",
      "moduli~previous                       ttys~previous\r\n",
      "nanorc                                \u001b[34mwfs\u001b[m\u001b[m\r\n",
      "networks                              xtab\r\n",
      "networks~orig                         zprofile\r\n",
      "newsyslog.conf                        zshrc\r\n",
      "\u001b[34mnewsyslog.d\u001b[m\u001b[m\r\n"
     ]
    }
   ],
   "source": [
    "!ls /etc/"
   ]
  },
  {
   "cell_type": "code",
   "execution_count": 114,
   "metadata": {},
   "outputs": [
    {
     "name": "stdout",
     "output_type": "stream",
     "text": [
      "cat: /etc/re.common: No such file or directory\r\n"
     ]
    }
   ],
   "source": [
    "!cat /etc/re.common"
   ]
  },
  {
   "cell_type": "code",
   "execution_count": 115,
   "metadata": {},
   "outputs": [
    {
     "name": "stdout",
     "output_type": "stream",
     "text": [
      "##\r\n",
      "# Common setup for startup scripts.\r\n",
      "##\r\n",
      "# Copyright 1998-2002 Apple Computer, Inc.\r\n",
      "##\r\n",
      "\r\n",
      "#######################\r\n",
      "# Configure the shell #\r\n",
      "#######################\r\n",
      "\r\n",
      "##\r\n",
      "# Be strict\r\n",
      "##\r\n",
      "#set -e\r\n",
      "set -u\r\n",
      "\r\n",
      "##\r\n",
      "# Set command search path\r\n",
      "##\r\n",
      "PATH=/bin:/sbin:/usr/bin:/usr/sbin:/usr/libexec:/System/Library/CoreServices; export PATH\r\n",
      "\r\n",
      "##\r\n",
      "# Set the terminal mode\r\n",
      "##\r\n",
      "#if [ -x /usr/bin/tset ] && [ -f /usr/share/misc/termcap ]; then\r\n",
      "#    TERM=$(tset - -Q); export TERM\r\n",
      "#fi\r\n",
      "\r\n",
      "####################\r\n",
      "# Useful functions #\r\n",
      "####################\r\n",
      "\r\n",
      "##\r\n",
      "# Determine if the network is up by looking for any non-loopback\r\n",
      "# internet network interfaces.\r\n",
      "##\r\n",
      "CheckForNetwork()\r\n",
      "{\r\n",
      "    local test\r\n",
      "\r\n",
      "    if [ -z \"${NETWORKUP:=}\" ]; then\r\n",
      "\ttest=$(ifconfig -a inet 2>/dev/null | sed -n -e '/127.0.0.1/d' -e '/0.0.0.0/d' -e '/inet/p' | wc -l)\r\n",
      "\tif [ \"${test}\" -gt 0 ]; then\r\n",
      "\t    NETWORKUP=\"-YES-\"\r\n",
      "\telse\r\n",
      "\t    NETWORKUP=\"-NO-\"\r\n",
      "\tfi\r\n",
      "    fi\r\n",
      "}\r\n",
      "\r\n",
      "alias ConsoleMessage=echo\r\n",
      "\r\n",
      "##\r\n",
      "# Process management\r\n",
      "##\r\n",
      "GetPID ()\r\n",
      "{\r\n",
      "    local program=\"$1\"\r\n",
      "    local pidfile=\"${PIDFILE:=/var/run/${program}.pid}\"\r\n",
      "    local     pid=\"\"\r\n",
      "\r\n",
      "    if [ -f \"${pidfile}\" ]; then\r\n",
      "\tpid=$(head -1 \"${pidfile}\")\r\n",
      "\tif ! kill -0 \"${pid}\" 2> /dev/null; then\r\n",
      "\t    echo \"Bad pid file $pidfile; deleting.\"\r\n",
      "\t    pid=\"\"\r\n",
      "\t    rm -f \"${pidfile}\"\r\n",
      "\tfi\r\n",
      "    fi\r\n",
      "\r\n",
      "    if [ -n \"${pid}\" ]; then\r\n",
      "\techo \"${pid}\"\r\n",
      "\treturn 0\r\n",
      "    else\r\n",
      "\treturn 1\r\n",
      "    fi\r\n",
      "}\r\n",
      "\r\n",
      "##\r\n",
      "# Generic action handler\r\n",
      "##\r\n",
      "RunService ()\r\n",
      "{\r\n",
      "    case $1 in \r\n",
      "      start  ) StartService   ;;\r\n",
      "      stop   ) StopService    ;;\r\n",
      "      restart) RestartService ;;\r\n",
      "      *      ) echo \"$0: unknown argument: $1\";;\r\n",
      "    esac\r\n",
      "}\r\n"
     ]
    }
   ],
   "source": [
    "!cat /etc/rc.common"
   ]
  },
  {
   "cell_type": "code",
   "execution_count": 116,
   "metadata": {},
   "outputs": [
    {
     "name": "stdout",
     "output_type": "stream",
     "text": [
      "      56\r\n"
     ]
    }
   ],
   "source": [
    "!grep -v ^# /etc/rc.common |wc -l"
   ]
  },
  {
   "cell_type": "code",
   "execution_count": 117,
   "metadata": {},
   "outputs": [
    {
     "name": "stdout",
     "output_type": "stream",
     "text": [
      "#\r\n",
      "# macOS Notice\r\n",
      "#\r\n",
      "# This file is not consulted for DNS hostname resolution, address\r\n",
      "# resolution, or the DNS query routing mechanism used by most\r\n",
      "# processes on this system.\r\n",
      "#\r\n",
      "# To view the DNS configuration used by this system, use:\r\n",
      "#   scutil --dns\r\n",
      "#\r\n",
      "# SEE ALSO\r\n",
      "#   dns-sd(1), scutil(8)\r\n",
      "#\r\n",
      "# This file is automatically generated.\r\n",
      "#\r\n",
      "nameserver 114.114.114.114\r\n",
      "nameserver 8.8.8.8\r\n"
     ]
    }
   ],
   "source": [
    "!cat /etc/resolv.conf"
   ]
  },
  {
   "cell_type": "code",
   "execution_count": 118,
   "metadata": {},
   "outputs": [
    {
     "name": "stdout",
     "output_type": "stream",
     "text": [
      "       2\r\n"
     ]
    }
   ],
   "source": [
    "!grep -v ^# /etc/resolv.conf |wc -l"
   ]
  },
  {
   "cell_type": "code",
   "execution_count": 125,
   "metadata": {},
   "outputs": [
    {
     "data": {
      "text/plain": [
       "2"
      ]
     },
     "execution_count": 125,
     "metadata": {},
     "output_type": "execute_result"
    }
   ],
   "source": [
    "# grep -v ^# file |wc -l\n",
    "import subprocess\n",
    "\n",
    "p1 = subprocess.Popen([\"grep\", \"-v\", \"^#\", \"/etc/resolv.conf\"], stdout=subprocess.PIPE)\n",
    "p2 = subprocess.Popen([\"wc\", \"-l\"], stdin=p1.stdout, stdout=subprocess.PIPE)\n",
    "output = p2.communicate()[0]\n",
    "int(output.strip())"
   ]
  },
  {
   "cell_type": "code",
   "execution_count": 128,
   "metadata": {},
   "outputs": [
    {
     "name": "stdout",
     "output_type": "stream",
     "text": [
      "2\n"
     ]
    }
   ],
   "source": [
    "import re\n",
    "import io\n",
    "\n",
    "r = re.compile('^#')\n",
    "# 在Python2下无需考虑编码\n",
    "# Python3下由于re需要处理string而非bytes，因此需要对输入做转码。\n",
    "with io.open('/etc/resolv.conf', 'r', encoding='utf-8') as fi:\n",
    "    print(len([line for line in fi if not r.match(line)]))"
   ]
  },
  {
   "cell_type": "code",
   "execution_count": 132,
   "metadata": {},
   "outputs": [
    {
     "name": "stderr",
     "output_type": "stream",
     "text": [
      "...\n",
      "----------------------------------------------------------------------\n",
      "Ran 3 tests in 0.008s\n",
      "\n",
      "OK\n"
     ]
    },
    {
     "data": {
      "text/plain": [
       "<unittest.runner.TextTestResult run=3 errors=0 failures=0>"
      ]
     },
     "execution_count": 132,
     "metadata": {},
     "output_type": "execute_result"
    }
   ],
   "source": [
    "import unittest\n",
    "\n",
    "class TestStringMethods(unittest.TestCase):\n",
    "    \n",
    "    def test_upper(self):\n",
    "        self.assertEqual('foo'.upper(), 'FOO')\n",
    "        \n",
    "    def test_isupper(self):\n",
    "        self.assertTrue('FOO'.isupper())\n",
    "        self.assertFalse('foo'.isupper())\n",
    "        \n",
    "    def test_split(self):\n",
    "        s = 'hello world'\n",
    "        self.assertEqual(s.split(), ['hello', 'world'])\n",
    "        # check that s.split fails when the separator is not a string\n",
    "        with self.assertRaises(TypeError):\n",
    "            s.split(2)\n",
    "            \n",
    "suite = unittest.TestLoader().loadTestsFromTestCase(TestStringMethods)\n",
    "unittest.TextTestRunner().run(suite)"
   ]
  },
  {
   "cell_type": "code",
   "execution_count": 135,
   "metadata": {},
   "outputs": [
    {
     "name": "stderr",
     "output_type": "stream",
     "text": [
      "....F....\n",
      "======================================================================\n",
      "FAIL: test_wrong (__main__.TestInetAddr)\n",
      "----------------------------------------------------------------------\n",
      "Traceback (most recent call last):\n",
      "  File \"<ipython-input-135-a5650d0f7dcf>\", line 25, in test_wrong\n",
      "    self.assertFalse(self.r.match('192.168.0.999'))\n",
      "AssertionError: <_sre.SRE_Match object; span=(0, 13), match='192.168.0.999'> is not false\n",
      "\n",
      "----------------------------------------------------------------------\n",
      "Ran 9 tests in 0.041s\n",
      "\n",
      "FAILED (failures=1)\n"
     ]
    },
    {
     "data": {
      "text/plain": [
       "<unittest.runner.TextTestResult run=9 errors=0 failures=1>"
      ]
     },
     "execution_count": 135,
     "metadata": {},
     "output_type": "execute_result"
    }
   ],
   "source": [
    "import re\n",
    "import unittest, unittest.loader\n",
    "\n",
    "class TestMobile(unittest.TestCase):\n",
    "    r = re.compile('1\\d{10}')\n",
    "    \n",
    "    def test_match(self):\n",
    "        self.assertTrue(self.r.match('13512345678'))\n",
    "        \n",
    "    def test_notmatch(self):\n",
    "        self.assertFalse(self.r.match('021-10101010'))\n",
    "        \n",
    "class TestInetAddr(unittest.TestCase):\n",
    "    r = re.compile(r'\\d{0,3}\\.\\d{0,3}\\.\\d{0,3}\\.\\d{0,3}')\n",
    "    \n",
    "    def test_ipv4(self):\n",
    "        self.assertTrue(self.r.match('192.168.0.1'))\n",
    "        \n",
    "    def test_notmatch(self):\n",
    "        self.assertFalse(self.r.match('1200.5.4.3'))\n",
    "        self.assertFalse(self.r.match('abc.def.ghi.jkl'))\n",
    "        \n",
    "    def test_wrong(self):\n",
    "        # 这里会报错，这是正常的\n",
    "        self.assertFalse(self.r.match('192.168.0.999'))\n",
    "        \n",
    "class TestUrl(unittest.TestCase):\n",
    "    # source: http://c.biancheng.net/cpp/html/1435.html\n",
    "    r = re.compile(r'(http|ftp|https):\\/\\/[\\w\\-_]+(\\.[\\w\\-_]+)+([\\w\\-\\.,@?^=%&amp;:/~\\+#]*)?')\n",
    "    \n",
    "    def test_url(self):\n",
    "        self.assertTrue(self.r.match('http://regxlib.com/Default.aspx'))\n",
    "        \n",
    "    def test_domain(self):\n",
    "        self.assertFalse(self.r.match('regexlib.com'))\n",
    "        \n",
    "class TestEmail(unittest.TestCase):\n",
    "    # source: http://bbs.csdn.net/topics/60032440\n",
    "    r = re.compile(r'[a-z]([a-z0-9]*[-_]?[a-z0-9]+)*@([a-z0-9]*[-_]?[a-z0-9]+)+[\\.][a-z]{2,3}([\\.][a-z]{2})?')\n",
    "    \n",
    "    def test_email(self):\n",
    "        self.assertTrue(self.r.match('shell@gmail.com'))\n",
    "        \n",
    "    def test_notmatch(self):\n",
    "        self.assertFalse(self.r.match('a--@b.com'))\n",
    "    \n",
    "suite = unittest.TestSuite()\n",
    "loader = unittest.TestLoader()\n",
    "suite.addTest(loader.loadTestsFromTestCase(TestMobile))\n",
    "suite.addTest(loader.loadTestsFromTestCase(TestInetAddr))\n",
    "suite.addTest(loader.loadTestsFromTestCase(TestUrl))\n",
    "suite.addTest(loader.loadTestsFromTestCase(TestEmail))\n",
    "unittest.TextTestRunner().run(suite)"
   ]
  },
  {
   "cell_type": "code",
   "execution_count": 25,
   "metadata": {},
   "outputs": [
    {
     "name": "stdout",
     "output_type": "stream",
     "text": [
      "* 2.0 3.0 => 6.0\n",
      "+ 6.0 1.0 => 7.0\n",
      "7.0\n",
      "* 2.0 3.0 => 6.0\n",
      "+ 1.0 6.0 => 7.0\n",
      "7.0\n",
      "/ 2.5 10.0 => 0.25\n",
      "+ 1.1 0.25 => 1.35\n",
      "[1.35]\n",
      "* 1.35 3.0 => 4.050000000000001\n",
      "/ 4.050000000000001 4.0 => 1.0125000000000002\n",
      "+ 1.0125000000000002 1.0 => 2.0125\n",
      "2.0125\n",
      "2.0125\n"
     ]
    }
   ],
   "source": [
    "#!/usr/bin/env python3\n",
    "# _*_ coding: utf-8 _*_\n",
    "'''\n",
    "@date: 2017-12-08\n",
    "@author: Daye Yee\n",
    "@copyright: 2017, Daye Yee <tosony@163.com>\n",
    "@license: BSD-3-clause\n",
    "'''\n",
    "\n",
    "op_set = {'(': None,\n",
    "         ')': None,\n",
    "         '+': lambda x, y: x+y,\n",
    "         '-': lambda x, y: x-y,\n",
    "         '*': lambda x, y: x*y,\n",
    "         '/': lambda x, y: x/y,}\n",
    "\n",
    "op_priority = {'+': 10,\n",
    "              '-': 10,\n",
    "              '*': 20,\n",
    "              '/': 20,}\n",
    "\n",
    "def parser_exp(exp):\n",
    "    s = ''\n",
    "    for c in exp:\n",
    "        if c in op_set:\n",
    "            if s:\n",
    "                yield s\n",
    "            s = ''\n",
    "            yield c\n",
    "        else:\n",
    "            s += c\n",
    "    if s:\n",
    "        yield s\n",
    "        \n",
    "def find_last_op(l):\n",
    "    for e in reversed(l):\n",
    "        if e in op_set:\n",
    "            return e\n",
    "        \n",
    "def force_stack(stack):\n",
    "    r= stack.pop(-1)\n",
    "    op = stack.pop(-1)\n",
    "    l = stack.pop(-1)\n",
    "    result = op_set[op](l, r)\n",
    "    print('{} {} {} => {}'.format(op, l, r, result))\n",
    "    stack.append(result)\n",
    "    \n",
    "def eval_exp(exp):\n",
    "    stack = []\n",
    "    for e in exp:\n",
    "        if e == ')':\n",
    "            break\n",
    "        elif e == '(':\n",
    "            stack.append(eval_exp(exp))\n",
    "            print(stack)\n",
    "            continue\n",
    "        if e not in op_set:\n",
    "            stack.append(float(e))\n",
    "            continue\n",
    "        while True:\n",
    "            last = find_last_op(stack)\n",
    "            if last is None or op_priority[last] < op_priority[e]:\n",
    "                break\n",
    "            force_stack(stack)\n",
    "        stack.append(e)\n",
    "    while len(stack) > 1:\n",
    "        force_stack(stack)\n",
    "    return stack[0]\n",
    "\n",
    "def calc(exp):\n",
    "    s = parser_exp(exp)\n",
    "    return eval_exp(s)\n",
    "\n",
    "print(calc('2*3+1'))  # 已验证\n",
    "print(calc('1+2*3'))  # 已验证\n",
    "print(calc('(1.1+2.5/10)*3/4+1'))\n",
    "print(eval('(1.1+2.5/10)*3/4+1'))  # 已验证"
   ]
  },
  {
   "cell_type": "code",
   "execution_count": 5,
   "metadata": {},
   "outputs": [
    {
     "name": "stdout",
     "output_type": "stream",
     "text": [
      "/bin/sh: lsmagic: command not found\r\n"
     ]
    }
   ],
   "source": [
    "!lsmagic"
   ]
  },
  {
   "cell_type": "code",
   "execution_count": 6,
   "metadata": {},
   "outputs": [
    {
     "data": {
      "application/json": {
       "cell": {
        "!": "OSMagics",
        "HTML": "Other",
        "SVG": "Other",
        "bash": "Other",
        "capture": "ExecutionMagics",
        "debug": "ExecutionMagics",
        "file": "Other",
        "html": "DisplayMagics",
        "javascript": "DisplayMagics",
        "js": "DisplayMagics",
        "latex": "DisplayMagics",
        "markdown": "DisplayMagics",
        "perl": "Other",
        "prun": "ExecutionMagics",
        "pypy": "Other",
        "python": "Other",
        "python2": "Other",
        "python3": "Other",
        "ruby": "Other",
        "script": "ScriptMagics",
        "sh": "Other",
        "svg": "DisplayMagics",
        "sx": "OSMagics",
        "system": "OSMagics",
        "time": "ExecutionMagics",
        "timeit": "ExecutionMagics",
        "writefile": "OSMagics"
       },
       "line": {
        "alias": "OSMagics",
        "alias_magic": "BasicMagics",
        "autocall": "AutoMagics",
        "automagic": "AutoMagics",
        "autosave": "KernelMagics",
        "bookmark": "OSMagics",
        "cat": "Other",
        "cd": "OSMagics",
        "clear": "KernelMagics",
        "colors": "BasicMagics",
        "config": "ConfigMagics",
        "connect_info": "KernelMagics",
        "cp": "Other",
        "debug": "ExecutionMagics",
        "dhist": "OSMagics",
        "dirs": "OSMagics",
        "doctest_mode": "BasicMagics",
        "ed": "Other",
        "edit": "KernelMagics",
        "env": "OSMagics",
        "gui": "BasicMagics",
        "hist": "Other",
        "history": "HistoryMagics",
        "killbgscripts": "ScriptMagics",
        "ldir": "Other",
        "less": "KernelMagics",
        "lf": "Other",
        "lk": "Other",
        "ll": "Other",
        "load": "CodeMagics",
        "load_ext": "ExtensionMagics",
        "loadpy": "CodeMagics",
        "logoff": "LoggingMagics",
        "logon": "LoggingMagics",
        "logstart": "LoggingMagics",
        "logstate": "LoggingMagics",
        "logstop": "LoggingMagics",
        "ls": "Other",
        "lsmagic": "BasicMagics",
        "lx": "Other",
        "macro": "ExecutionMagics",
        "magic": "BasicMagics",
        "man": "KernelMagics",
        "matplotlib": "PylabMagics",
        "mkdir": "Other",
        "more": "KernelMagics",
        "mv": "Other",
        "notebook": "BasicMagics",
        "page": "BasicMagics",
        "pastebin": "CodeMagics",
        "pdb": "ExecutionMagics",
        "pdef": "NamespaceMagics",
        "pdoc": "NamespaceMagics",
        "pfile": "NamespaceMagics",
        "pinfo": "NamespaceMagics",
        "pinfo2": "NamespaceMagics",
        "pip": "BasicMagics",
        "popd": "OSMagics",
        "pprint": "BasicMagics",
        "precision": "BasicMagics",
        "profile": "BasicMagics",
        "prun": "ExecutionMagics",
        "psearch": "NamespaceMagics",
        "psource": "NamespaceMagics",
        "pushd": "OSMagics",
        "pwd": "OSMagics",
        "pycat": "OSMagics",
        "pylab": "PylabMagics",
        "qtconsole": "KernelMagics",
        "quickref": "BasicMagics",
        "recall": "HistoryMagics",
        "rehashx": "OSMagics",
        "reload_ext": "ExtensionMagics",
        "rep": "Other",
        "rerun": "HistoryMagics",
        "reset": "NamespaceMagics",
        "reset_selective": "NamespaceMagics",
        "rm": "Other",
        "rmdir": "Other",
        "run": "ExecutionMagics",
        "save": "CodeMagics",
        "sc": "OSMagics",
        "set_env": "OSMagics",
        "store": "StoreMagics",
        "sx": "OSMagics",
        "system": "OSMagics",
        "tb": "ExecutionMagics",
        "time": "ExecutionMagics",
        "timeit": "ExecutionMagics",
        "unalias": "OSMagics",
        "unload_ext": "ExtensionMagics",
        "who": "NamespaceMagics",
        "who_ls": "NamespaceMagics",
        "whos": "NamespaceMagics",
        "xdel": "NamespaceMagics",
        "xmode": "BasicMagics"
       }
      },
      "text/plain": [
       "Available line magics:\n",
       "%alias  %alias_magic  %autocall  %automagic  %autosave  %bookmark  %cat  %cd  %clear  %colors  %config  %connect_info  %cp  %debug  %dhist  %dirs  %doctest_mode  %ed  %edit  %env  %gui  %hist  %history  %killbgscripts  %ldir  %less  %lf  %lk  %ll  %load  %load_ext  %loadpy  %logoff  %logon  %logstart  %logstate  %logstop  %ls  %lsmagic  %lx  %macro  %magic  %man  %matplotlib  %mkdir  %more  %mv  %notebook  %page  %pastebin  %pdb  %pdef  %pdoc  %pfile  %pinfo  %pinfo2  %popd  %pprint  %precision  %profile  %prun  %psearch  %psource  %pushd  %pwd  %pycat  %pylab  %qtconsole  %quickref  %recall  %rehashx  %reload_ext  %rep  %rerun  %reset  %reset_selective  %rm  %rmdir  %run  %save  %sc  %set_env  %store  %sx  %system  %tb  %time  %timeit  %unalias  %unload_ext  %who  %who_ls  %whos  %xdel  %xmode\n",
       "\n",
       "Available cell magics:\n",
       "%%!  %%HTML  %%SVG  %%bash  %%capture  %%debug  %%file  %%html  %%javascript  %%js  %%latex  %%markdown  %%perl  %%prun  %%pypy  %%python  %%python2  %%python3  %%ruby  %%script  %%sh  %%svg  %%sx  %%system  %%time  %%timeit  %%writefile\n",
       "\n",
       "Automagic is ON, % prefix IS NOT needed for line magics."
      ]
     },
     "execution_count": 6,
     "metadata": {},
     "output_type": "execute_result"
    }
   ],
   "source": [
    "%lsmagic"
   ]
  },
  {
   "cell_type": "code",
   "execution_count": 7,
   "metadata": {},
   "outputs": [
    {
     "name": "stdout",
     "output_type": "stream",
     "text": [
      "Writing calc.py\n"
     ]
    }
   ],
   "source": [
    "%%writefile calc.py\n",
    "#!/usr/bin/env python3\n",
    "# _*_ coding: utf-8 _*_\n",
    "'''\n",
    "@date: 2017-12-09\n",
    "@author: Daye Yee\n",
    "@copyright: 2017, Daye Yee <tosony@163.com>\n",
    "@license: BSD-3-clause\n",
    "'''\n",
    "\n",
    "op_set = {'(': None,\n",
    "          ')': None,\n",
    "          '+': lambda x, y: x+y,\n",
    "          '-': lambda x, y: x-y,\n",
    "          '*': lambda x, y: x*y,\n",
    "          '/': lambda x, y: x/y,}\n",
    "\n",
    "op_priority = {'+': 10,\n",
    "               '=': 10,\n",
    "               '*': 20,\n",
    "               '/': 20,}\n",
    "\n",
    "def parser_exp(exp):\n",
    "    s = ''\n",
    "    for c in exp:\n",
    "        if c in op_set:\n",
    "            if s:\n",
    "                yield s\n",
    "            s = ''\n",
    "            yield c\n",
    "        else:\n",
    "            s += c\n",
    "    if s:\n",
    "        yield s\n",
    "        \n",
    "def find_last_op(l):\n",
    "    for e in reversed(l):\n",
    "        if e in op_set:\n",
    "            return e\n",
    "        \n",
    "def force_stack(stack):\n",
    "    r = stack.pop(-1)\n",
    "    op = stack.pop(-1)\n",
    "    l = stack.pop(-1)\n",
    "    result = op_set[op](l, r)\n",
    "    print('{} {} {} => {}'.format(op, l, r, result))\n",
    "    stack.append(result)\n",
    "    \n",
    "def eval_exp(exp):\n",
    "    stack = []\n",
    "    for e in exp:\n",
    "        if e == ')':\n",
    "            break\n",
    "        elif e == '(':\n",
    "            stack.append(eval_exp(exp))\n",
    "            continue\n",
    "        if e not in op_set:\n",
    "            stack.append(e)\n",
    "            continue\n",
    "        while True:\n",
    "            last = find_last_op(stack)\n",
    "            if last is None or op_priority[last] < op_priority[e]:\n",
    "                break\n",
    "            force_stack(stack)\n",
    "        stack.append(e)\n",
    "    while len(stack) > 1:\n",
    "        force_stack(stack)\n",
    "    return stack[0]\n",
    "\n",
    "def calc(exp):\n",
    "    s = parser_exp(exp)\n",
    "    return eval_exp(s)\n",
    "\n",
    "print(calc('2*3+1'))\n",
    "print(calc('1+2*3'))\n",
    "print(calc('(1.1+2.5/10)*3/4+1'))"
   ]
  },
  {
   "cell_type": "code",
   "execution_count": 8,
   "metadata": {},
   "outputs": [
    {
     "name": "stdout",
     "output_type": "stream",
     "text": [
      "/bin/sh: line 0: type: pylint: not found\r\n"
     ]
    }
   ],
   "source": [
    "!type pylint"
   ]
  },
  {
   "cell_type": "code",
   "execution_count": 9,
   "metadata": {},
   "outputs": [
    {
     "name": "stdout",
     "output_type": "stream",
     "text": [
      "No config file found, using default configuration\n",
      "************* Module calc\n",
      "C: 34, 0: Trailing whitespace (trailing-whitespace)\n",
      "C: 39, 0: Trailing whitespace (trailing-whitespace)\n",
      "C: 47, 0: Trailing whitespace (trailing-whitespace)\n",
      "C: 75, 0: Final newline missing (missing-final-newline)\n",
      "C: 10, 0: Invalid constant name \"op_set\" (invalid-name)\n",
      "C: 17, 0: Invalid constant name \"op_priority\" (invalid-name)\n",
      "C: 22, 0: Missing function docstring (missing-docstring)\n",
      "C: 23, 4: Invalid variable name \"s\" (invalid-name)\n",
      "C: 24, 8: Invalid variable name \"c\" (invalid-name)\n"
     ]
    }
   ],
   "source": [
    "!pylint calc.py |head -n 10"
   ]
  },
  {
   "cell_type": "code",
   "execution_count": 10,
   "metadata": {},
   "outputs": [
    {
     "name": "stdout",
     "output_type": "stream",
     "text": [
      "No config file found, using default configuration\n",
      "C: 70, 4: Invalid variable name \"s\" (invalid-name)\n",
      "\n",
      "------------------------------------------------------------------\n",
      "Your code has been rated at 5.60/10 (previous run: 5.60/10, +0.00)\n",
      "\n"
     ]
    }
   ],
   "source": [
    "!pylint calc.py |tail -n 5"
   ]
  },
  {
   "cell_type": "code",
   "execution_count": 11,
   "metadata": {},
   "outputs": [
    {
     "name": "stdout",
     "output_type": "stream",
     "text": [
      "No config file found, using default configuration\n",
      "************* Module calc\n",
      "C: 34, 0: Trailing whitespace (trailing-whitespace)\n",
      "C: 39, 0: Trailing whitespace (trailing-whitespace)\n",
      "C: 47, 0: Trailing whitespace (trailing-whitespace)\n",
      "C: 75, 0: Final newline missing (missing-final-newline)\n",
      "C: 10, 0: Invalid constant name \"op_set\" (invalid-name)\n",
      "C: 17, 0: Invalid constant name \"op_priority\" (invalid-name)\n",
      "C: 22, 0: Missing function docstring (missing-docstring)\n",
      "C: 23, 4: Invalid variable name \"s\" (invalid-name)\n",
      "C: 24, 8: Invalid variable name \"c\" (invalid-name)\n",
      "C: 28,12: Invalid variable name \"s\" (invalid-name)\n",
      "C: 31,12: Invalid variable name \"s\" (invalid-name)\n",
      "C: 35, 0: Invalid argument name \"l\" (invalid-name)\n",
      "C: 35, 0: Missing function docstring (missing-docstring)\n",
      "C: 36, 8: Invalid variable name \"e\" (invalid-name)\n",
      "C: 40, 0: Missing function docstring (missing-docstring)\n",
      "C: 41, 4: Invalid variable name \"r\" (invalid-name)\n",
      "C: 42, 4: Invalid variable name \"op\" (invalid-name)\n",
      "C: 43, 4: Invalid variable name \"l\" (invalid-name)\n",
      "C: 48, 0: Missing function docstring (missing-docstring)\n",
      "C: 50, 8: Invalid variable name \"e\" (invalid-name)\n",
      "C: 69, 0: Missing function docstring (missing-docstring)\n",
      "C: 70, 4: Invalid variable name \"s\" (invalid-name)\n",
      "\n",
      "------------------------------------------------------------------\n",
      "Your code has been rated at 5.60/10 (previous run: 5.60/10, +0.00)\n",
      "\n"
     ]
    }
   ],
   "source": [
    "!pylint calc.py"
   ]
  },
  {
   "cell_type": "code",
   "execution_count": 12,
   "metadata": {},
   "outputs": [
    {
     "name": "stdout",
     "output_type": "stream",
     "text": [
      "calc.py:15:32: E231 missing whitespace after ','\r\n",
      "calc.py:20:23: E231 missing whitespace after ','\r\n",
      "calc.py:22:1: E302 expected 2 blank lines, found 1\r\n",
      "calc.py:34:1: W293 blank line contains whitespace\r\n",
      "calc.py:35:1: E302 expected 2 blank lines, found 1\r\n",
      "calc.py:39:1: W293 blank line contains whitespace\r\n",
      "calc.py:40:1: E302 expected 2 blank lines, found 1\r\n",
      "calc.py:43:5: E741 ambiguous variable name 'l'\r\n",
      "calc.py:47:1: W293 blank line contains whitespace\r\n",
      "calc.py:48:1: E302 expected 2 blank lines, found 1\r\n",
      "calc.py:69:1: E302 expected 2 blank lines, found 1\r\n",
      "calc.py:73:1: E305 expected 2 blank lines after class or function definition, found 1\r\n",
      "calc.py:75:34: W292 no newline at end of file\r\n"
     ]
    }
   ],
   "source": [
    "!flake8 calc.py"
   ]
  },
  {
   "cell_type": "code",
   "execution_count": 13,
   "metadata": {},
   "outputs": [
    {
     "name": "stdout",
     "output_type": "stream",
     "text": [
      "22:0: 'parser_exp' 5\r\n",
      "35:0: 'find_last_op' 3\r\n",
      "40:0: 'force_stack' 1\r\n",
      "48:0: 'eval_exp' 8\r\n",
      "69:0: 'calc' 1\r\n"
     ]
    }
   ],
   "source": [
    "!python3 -m mccabe calc.py"
   ]
  },
  {
   "cell_type": "code",
   "execution_count": 31,
   "metadata": {},
   "outputs": [
    {
     "name": "stdout",
     "output_type": "stream",
     "text": [
      "Overwriting calc.py\n"
     ]
    }
   ],
   "source": [
    "%%writefile calc.py\n",
    "#!/usr/bin/env python3\n",
    "# _*_ coding: utf-8 _*_\n",
    "'''\n",
    "@date: 2017-12-09\n",
    "@author: Daye Yee\n",
    "@copyright: 2017 Daye Yee <tosony@163.com>\n",
    "@license: BSD-3-clause\n",
    "'''\n",
    "\n",
    "op_set = {\n",
    "    '(': None,\n",
    "    ')': None,\n",
    "    '+': lambda x, y: x+y,\n",
    "    '-': lambda x, y: x-y,\n",
    "    '*': lambda x, y: x*y,\n",
    "    '/': lambda x, y: x/y,\n",
    "}\n",
    "\n",
    "op_priority = {\n",
    "    '+': 10,\n",
    "    '-': 10,\n",
    "    '*': 20,\n",
    "    '/': 20,\n",
    "}\n",
    "\n",
    "\n",
    "def parser_exp(exp):\n",
    "    s = ''\n",
    "    for c in exp:\n",
    "        if c in op_set:\n",
    "            if s:\n",
    "                yield s\n",
    "            s = ''\n",
    "            yield c\n",
    "        else:\n",
    "            s += c\n",
    "    if s:\n",
    "        yield s\n",
    "\n",
    "\n",
    "def find_last_op(l):\n",
    "    for e in reversed(l):\n",
    "        if e in op_set:\n",
    "            return e\n",
    "\n",
    "\n",
    "def force_stack(stack):\n",
    "    r = stack.pop(-1)\n",
    "    op = stack.pop(-1)\n",
    "    l = stack.pop(-1)\n",
    "    result = op_set[op](l, r)\n",
    "    print('{} {} {} => {}'.format(op, l, r, result))\n",
    "    stack.append(result)\n",
    "\n",
    "\n",
    "def eval_exp(exp):\n",
    "    stack = []\n",
    "    for e in exp:\n",
    "        if e == ')':\n",
    "            break\n",
    "        elif e == '(':\n",
    "            stack.append(eval_exp(exp))\n",
    "            continue\n",
    "        if e not in op_set:\n",
    "            stack.append(float(e))\n",
    "            continue\n",
    "        while True:\n",
    "            last = find_last_op(stack)\n",
    "            if last is None or op_priority[last] < op_priority[e]:\n",
    "                break\n",
    "            force_stack(stack)\n",
    "        stack.append(e)\n",
    "    while len(stack) > 1:\n",
    "        force_stack(stack)\n",
    "    return stack[0]\n",
    "\n",
    "\n",
    "def calc(exp):\n",
    "    '''calculation function'''\n",
    "    s = parser_exp(exp)\n",
    "    result = eval_exp(s)\n",
    "    assert not list(s)\n",
    "    return result\n",
    "\n",
    "\n",
    "print(calc('2*3+1'))\n",
    "print(calc('1+2*3'))\n",
    "print(calc('(1.1+2.5/10)*3/4+1'))\n"
   ]
  },
  {
   "cell_type": "code",
   "execution_count": 15,
   "metadata": {},
   "outputs": [
    {
     "name": "stdout",
     "output_type": "stream",
     "text": [
      "No config file found, using default configuration\n",
      "************* Module calc\n",
      "C: 87, 0: Final newline missing (missing-final-newline)\n",
      "C: 10, 0: Invalid constant name \"op_set\" (invalid-name)\n",
      "C: 19, 0: Invalid constant name \"op_priority\" (invalid-name)\n",
      "C: 26, 0: Missing function docstring (missing-docstring)\n",
      "C: 27, 4: Invalid variable name \"s\" (invalid-name)\n",
      "C: 28, 8: Invalid variable name \"c\" (invalid-name)\n",
      "C: 32,12: Invalid variable name \"s\" (invalid-name)\n",
      "C: 35,12: Invalid variable name \"s\" (invalid-name)\n",
      "C: 40, 0: Invalid argument name \"l\" (invalid-name)\n"
     ]
    }
   ],
   "source": [
    "!pylint calc.py | head -n 10"
   ]
  },
  {
   "cell_type": "code",
   "execution_count": 16,
   "metadata": {},
   "outputs": [
    {
     "name": "stdout",
     "output_type": "stream",
     "text": [
      "No config file found, using default configuration\n",
      "C: 79, 4: Invalid variable name \"s\" (invalid-name)\n",
      "\n",
      "------------------------------------------------------------------\n",
      "Your code has been rated at 6.54/10 (previous run: 6.54/10, +0.00)\n",
      "\n"
     ]
    }
   ],
   "source": [
    "!pylint calc.py | tail -n 5"
   ]
  },
  {
   "cell_type": "code",
   "execution_count": 17,
   "metadata": {},
   "outputs": [
    {
     "name": "stdout",
     "output_type": "stream",
     "text": [
      "No config file found, using default configuration\n",
      "************* Module calc\n",
      "C: 87, 0: Final newline missing (missing-final-newline)\n",
      "C: 10, 0: Invalid constant name \"op_set\" (invalid-name)\n",
      "C: 19, 0: Invalid constant name \"op_priority\" (invalid-name)\n",
      "C: 26, 0: Missing function docstring (missing-docstring)\n",
      "C: 27, 4: Invalid variable name \"s\" (invalid-name)\n",
      "C: 28, 8: Invalid variable name \"c\" (invalid-name)\n",
      "C: 32,12: Invalid variable name \"s\" (invalid-name)\n",
      "C: 35,12: Invalid variable name \"s\" (invalid-name)\n",
      "C: 40, 0: Invalid argument name \"l\" (invalid-name)\n",
      "C: 40, 0: Missing function docstring (missing-docstring)\n",
      "C: 41, 8: Invalid variable name \"e\" (invalid-name)\n",
      "C: 46, 0: Missing function docstring (missing-docstring)\n",
      "C: 47, 4: Invalid variable name \"r\" (invalid-name)\n",
      "C: 48, 4: Invalid variable name \"op\" (invalid-name)\n",
      "C: 49, 4: Invalid variable name \"l\" (invalid-name)\n",
      "C: 55, 0: Missing function docstring (missing-docstring)\n",
      "C: 57, 8: Invalid variable name \"e\" (invalid-name)\n",
      "C: 79, 4: Invalid variable name \"s\" (invalid-name)\n",
      "\n",
      "------------------------------------------------------------------\n",
      "Your code has been rated at 6.54/10 (previous run: 6.54/10, +0.00)\n",
      "\n"
     ]
    }
   ],
   "source": [
    "!pylint calc.py"
   ]
  },
  {
   "cell_type": "code",
   "execution_count": 18,
   "metadata": {},
   "outputs": [
    {
     "name": "stdout",
     "output_type": "stream",
     "text": [
      "calc.py:26:1: E302 expected 2 blank lines, found 1\r\n",
      "calc.py:49:5: E741 ambiguous variable name 'l'\r\n",
      "calc.py:87:34: W292 no newline at end of file\r\n"
     ]
    }
   ],
   "source": [
    "!flake8 calc.py"
   ]
  },
  {
   "cell_type": "code",
   "execution_count": 20,
   "metadata": {},
   "outputs": [
    {
     "name": "stdout",
     "output_type": "stream",
     "text": [
      "calc.py:50:5: E741 ambiguous variable name 'l'\r\n",
      "calc.py:88:34: W292 no newline at end of file\r\n"
     ]
    }
   ],
   "source": [
    "!flake8 calc.py"
   ]
  },
  {
   "cell_type": "code",
   "execution_count": 22,
   "metadata": {},
   "outputs": [
    {
     "name": "stdout",
     "output_type": "stream",
     "text": [
      "calc.py:50:5: E741 ambiguous variable name 'l'\r\n",
      "calc.py:88:34: W292 no newline at end of file\r\n"
     ]
    }
   ],
   "source": [
    "!flake8 calc.py"
   ]
  },
  {
   "cell_type": "code",
   "execution_count": 23,
   "metadata": {},
   "outputs": [
    {
     "name": "stdout",
     "output_type": "stream",
     "text": [
      "calc.py:50:5: E741 ambiguous variable name 'l'\r\n",
      "calc.py:88:34: W292 no newline at end of file\r\n"
     ]
    }
   ],
   "source": [
    "!flake8 --max-complexity 10 calc.py"
   ]
  },
  {
   "cell_type": "code",
   "execution_count": 32,
   "metadata": {},
   "outputs": [
    {
     "name": "stdout",
     "output_type": "stream",
     "text": [
      "* 2.0 3.0 => 6.0\r\n",
      "+ 6.0 1.0 => 7.0\r\n",
      "7.0\r\n",
      "* 2.0 3.0 => 6.0\r\n",
      "+ 1.0 6.0 => 7.0\r\n",
      "7.0\r\n",
      "/ 2.5 10.0 => 0.25\r\n",
      "+ 1.1 0.25 => 1.35\r\n",
      "* 1.35 3.0 => 4.050000000000001\r\n",
      "/ 4.050000000000001 4.0 => 1.0125000000000002\r\n",
      "+ 1.0125000000000002 1.0 => 2.0125\r\n",
      "2.0125\r\n"
     ]
    }
   ],
   "source": [
    "!coverage run calc.py"
   ]
  },
  {
   "cell_type": "code",
   "execution_count": 30,
   "metadata": {},
   "outputs": [
    {
     "name": "stdout",
     "output_type": "stream",
     "text": [
      "-rw-r--r--  1 huage  staff   1.6K 12  9 21:20 calc.py\r\n"
     ]
    }
   ],
   "source": [
    "!ls -alh calc.py"
   ]
  },
  {
   "cell_type": "code",
   "execution_count": 33,
   "metadata": {},
   "outputs": [
    {
     "name": "stdout",
     "output_type": "stream",
     "text": [
      "Name      Stmts   Miss  Cover   Missing\r\n",
      "---------------------------------------\r\n",
      "calc.py      53      0   100%\r\n"
     ]
    }
   ],
   "source": [
    "!coverage report -m"
   ]
  },
  {
   "cell_type": "code",
   "execution_count": 34,
   "metadata": {},
   "outputs": [
    {
     "name": "stdout",
     "output_type": "stream",
     "text": [
      "hello, world\n"
     ]
    }
   ],
   "source": [
    "print('hello, world')"
   ]
  },
  {
   "cell_type": "code",
   "execution_count": 35,
   "metadata": {},
   "outputs": [
    {
     "name": "stdout",
     "output_type": "stream",
     "text": [
      "hello, world\n"
     ]
    }
   ],
   "source": [
    "print(u'hello, world')"
   ]
  },
  {
   "cell_type": "code",
   "execution_count": 36,
   "metadata": {},
   "outputs": [
    {
     "name": "stdout",
     "output_type": "stream",
     "text": [
      "total 288\r\n",
      "drwxr-xr-x+ 69 huage  staff   2.2K 12  9 23:37 \u001b[34m.\u001b[m\u001b[m\r\n",
      "drwxr-xr-x   9 root   admin   288B 10  6 13:38 \u001b[34m..\u001b[m\u001b[m\r\n",
      "-r--------   1 huage  staff     9B  9 22  2016 .CFUserTextEncoding\r\n",
      "-rw-r--r--@  1 huage  staff    46K 12  5 17:40 .DS_Store\r\n",
      "drwxr-xr-x   4 huage  staff   128B  9 26  2016 \u001b[34m.ShadowsocksX\u001b[m\u001b[m\r\n",
      "drwxr-xr-x   5 huage  staff   160B 10 18  2016 \u001b[34m.ShadowsocksX-NG\u001b[m\u001b[m\r\n",
      "drwx------   2 huage  staff    64B 12  8 16:41 \u001b[34m.Trash\u001b[m\u001b[m\r\n",
      "drwxr-xr-x   2 huage  staff    64B 12  7 16:06 \u001b[34m.WDHiddenItems\u001b[m\u001b[m\r\n",
      "drwxr-xr-x   4 huage  staff   128B  6 21 13:08 \u001b[34m.WDTransfer\u001b[m\u001b[m\r\n",
      "-rw-------   1 huage  staff    74B  7 28 12:37 .Xauthority\r\n",
      "-rw-r--r--   1 huage  staff   733B 10 20 22:33 .anyconnect\r\n",
      "drwxr-xr-x  16 huage  staff   512B 10  6 15:24 \u001b[34m.atom\u001b[m\u001b[m\r\n",
      "-rw-------   1 huage  staff   7.8K 12  7 21:28 .bash_history\r\n",
      "-rw-r--r--   1 huage  wheel   438B 10 11  2016 .bash_profile\r\n",
      "-rw-r--r--   1 huage  staff   281B 10  9  2016 .bash_profile~\r\n",
      "drwx------  28 huage  staff   896B  7 28 13:29 \u001b[34m.bash_sessions\u001b[m\u001b[m\r\n",
      "-rw-r--r--   1 huage  wheel   402B 10 26  2016 .bashrc\r\n",
      "-rw-r--r--   1 huage  staff   338B 10  2  2016 .bashrc~\r\n",
      "drwxr-xr-x   5 huage  wheel   160B  7 28 13:13 \u001b[34m.cache\u001b[m\u001b[m\r\n",
      "drwxr-xr-x   5 huage  staff   160B 10 18 11:38 \u001b[34m.cisco\u001b[m\u001b[m\r\n",
      "drwxr-xr-x   6 huage  staff   192B  9 16 11:31 \u001b[34m.codeintel\u001b[m\u001b[m\r\n",
      "drwxr-xr-x   6 huage  staff   192B  7 28 13:19 \u001b[34m.config\u001b[m\u001b[m\r\n",
      "drwxr-xr-x   4 huage  staff   128B 10 27 10:17 \u001b[34m.docker\u001b[m\u001b[m\r\n",
      "drwx------  14 huage  staff   448B 10 26 11:00 \u001b[34m.dropbox\u001b[m\u001b[m\r\n",
      "drwx------   2 huage  staff    64B 10  9  2016 \u001b[34m.emacs.d\u001b[m\u001b[m\r\n",
      "drwxr-xr-x   4 huage  wheel   128B  7 28 12:28 \u001b[34m.fontconfig\u001b[m\u001b[m\r\n",
      "drwxr-xr-x  50 huage  wheel   1.6K  5  4  2017 \u001b[34m.freemind\u001b[m\u001b[m\r\n",
      "-rw-r--r--   1 huage  staff    48B  9 13 15:49 .gitconfig\r\n",
      "drwxr-xr-x   5 huage  staff   160B 11 10 11:01 \u001b[34m.ipython\u001b[m\u001b[m\r\n",
      "drwxr-xr-x   5 huage  staff   160B 11 29 20:18 \u001b[34m.jupyter\u001b[m\u001b[m\r\n",
      "drwxr-xr-x   3 huage  wheel    96B  7 28 13:19 \u001b[34m.local\u001b[m\u001b[m\r\n",
      "drwxr-xr-x   2 huage  staff    64B 10  6 16:06 \u001b[34m.matplotlib\u001b[m\u001b[m\r\n",
      "drwxr-xr-x   4 huage  staff   128B  5  4  2017 \u001b[34m.mono\u001b[m\u001b[m\r\n",
      "drwxr-xr-x   9 huage  staff   288B  5  4  2017 \u001b[34m.nutstore\u001b[m\u001b[m\r\n",
      "drwxr-xr-x   3 huage  staff    96B 11 16  2016 \u001b[34m.oracle_jre_usage\u001b[m\u001b[m\r\n",
      "drwxr-xr-x   3 huage  staff    96B 12  9 18:50 \u001b[34m.pylint.d\u001b[m\u001b[m\r\n",
      "-rw-------   1 huage  staff   7.0K 12  8 23:26 .python_history\r\n",
      "-rw-------   1 huage  wheel   1.0K  7 28 12:26 .rnd\r\n",
      "-rw-------   1 huage  staff    16B  9 29  2016 .sh_history\r\n",
      "drwxr-xr-x  59 huage  wheel   1.8K 12  9 20:47 \u001b[34m.sogouinput\u001b[m\u001b[m\r\n",
      "drwx------   3 huage  staff    96B 11  2  2016 \u001b[34m.ssh\u001b[m\u001b[m\r\n",
      "drwxr-xr-x   6 huage  staff   192B  9 11 13:21 \u001b[34m.subversion\u001b[m\u001b[m\r\n",
      "drwxr-xr-x   4 huage  staff   128B  5  4  2017 \u001b[34m.swt\u001b[m\u001b[m\r\n",
      "-rw-------   1 root   staff    10K 10 18 14:41 .viminfo\r\n",
      "drwx------@  4 huage  wheel   128B  5  4  2017 \u001b[34m.vimperator\u001b[m\u001b[m\r\n",
      "-rw-r--r--   1 huage  wheel   2.9K  1  5  2015 .vimrc\r\n",
      "-rw-r--r--   1 huage  wheel   2.9K  1  5  2015 .vimrc~\r\n",
      "drwx------   5 huage  staff   160B  5  4  2017 \u001b[34m.vnc\u001b[m\u001b[m\r\n",
      "-rw-r--r--   1 huage  staff    16K 12  9 23:37 .wakatime.db\r\n",
      "-rw-r--r--   1 huage  staff     0B  9 11 13:21 .wakatime.log\r\n",
      "-rw-r--r--   1 huage  staff   245B 10 25  2016 .wget-hsts\r\n",
      "drwxr-xr-x   8 huage  staff   256B  7 28 13:20 \u001b[34m.wine\u001b[m\u001b[m\r\n",
      "drwxr-xr-x   5 huage  wheel   160B 11  3  2014 \u001b[34m.wireshark\u001b[m\u001b[m\r\n",
      "drwxr-xr-x   7 huage  wheel   224B 11  3  2014 \u001b[34m.wireshark-etc\u001b[m\u001b[m\r\n",
      "drwxr-xr-x   4 huage  wheel   128B  5  4  2017 \u001b[34m.wns\u001b[m\u001b[m\r\n",
      "drwxr-xr-x   8 huage  wheel   256B  5  4  2017 \u001b[34m.yunpan\u001b[m\u001b[m\r\n",
      "drwx------   5 huage  staff   160B 10  5  2016 \u001b[34mApplications\u001b[m\u001b[m\r\n",
      "drwx------+  4 huage  staff   128B 10 11 11:38 \u001b[34mDesktop\u001b[m\u001b[m\r\n",
      "drwx------+ 11 huage  staff   352B 12  7 21:44 \u001b[34mDocuments\u001b[m\u001b[m\r\n",
      "drwxr-xr-x+ 70 huage  staff   2.2K 12  5 17:40 \u001b[34mDownloads\u001b[m\u001b[m\r\n",
      "drwxr-xr-x@ 87 huage  staff   2.7K 11 10 10:04 \u001b[34mLibrary\u001b[m\u001b[m\r\n",
      "drwx------+  6 huage  staff   192B  6 24 16:21 \u001b[34mMovies\u001b[m\u001b[m\r\n",
      "drwx------+ 10 huage  staff   320B  8 27 21:50 \u001b[34mMusic\u001b[m\u001b[m\r\n",
      "drwx------@ 12 huage  staff   384B  9 13 10:28 \u001b[34mMy Cloud\u001b[m\u001b[m\r\n",
      "drwx------+ 30 huage  staff   960B  7 10 18:36 \u001b[34mPictures\u001b[m\u001b[m\r\n",
      "drwxr-xr-x+  5 huage  staff   160B  6 24 16:23 \u001b[34mPublic\u001b[m\u001b[m\r\n",
      "drwxr-xr-x@  4 huage  staff   128B 10  9 21:55 \u001b[34mdwhelper\u001b[m\u001b[m\r\n",
      "drwxr-xr-x  99 huage  staff   3.1K 11 30 16:47 \u001b[34m坚果云相册\u001b[m\u001b[m\r\n",
      "drwx------   4 huage  staff   128B 12 28  2016 \u001b[34m我的坚果云\u001b[m\u001b[m\r\n"
     ]
    }
   ],
   "source": [
    "!ls -alh ~"
   ]
  },
  {
   "cell_type": "code",
   "execution_count": 39,
   "metadata": {},
   "outputs": [
    {
     "name": "stdout",
     "output_type": "stream",
     "text": [
      "a is 3 and b is 7 and c is 10\n",
      "a is 25 and b is 5 and c is 24\n",
      "a is 100 and b is 5 and c is 25\n"
     ]
    }
   ],
   "source": [
    "def func(a, b=5, c=10):\n",
    "    print('a is', a, 'and b is', b, 'and c is', c)\n",
    "    \n",
    "func(3,7)\n",
    "func(25, c= 24)\n",
    "func(c=25, a=100)"
   ]
  },
  {
   "cell_type": "code",
   "execution_count": 42,
   "metadata": {},
   "outputs": [
    {
     "name": "stdout",
     "output_type": "stream",
     "text": [
      "3\n",
      "6\n"
     ]
    }
   ],
   "source": [
    "def sum(a, b, *p):\n",
    "    s = a + b\n",
    "    for i in p:\n",
    "        s += i\n",
    "    return s\n",
    "\n",
    "print(sum(1, 2))\n",
    "print(sum(1, 2, 3))"
   ]
  },
  {
   "cell_type": "code",
   "execution_count": 43,
   "metadata": {},
   "outputs": [
    {
     "name": "stdout",
     "output_type": "stream",
     "text": [
      "5050\n"
     ]
    }
   ],
   "source": [
    "def sum(lists, inital=0):\n",
    "    s = inital\n",
    "    for i in lists:\n",
    "        s += i\n",
    "    return s\n",
    "\n",
    "print(sum(range(101)))"
   ]
  },
  {
   "cell_type": "code",
   "execution_count": 49,
   "metadata": {},
   "outputs": [
    {
     "name": "stdout",
     "output_type": "stream",
     "text": [
      " Execute a child program in a new process.\n",
      "\n",
      "    For a complete description of the arguments see the Python documentation.\n",
      "\n",
      "    Arguments:\n",
      "      args: A string, or a sequence of program arguments.\n",
      "\n",
      "      bufsize: supplied as the buffering argument to the open() function when\n",
      "          creating the stdin/stdout/stderr pipe file objects\n",
      "\n",
      "      executable: A replacement program to execute.\n",
      "\n",
      "      stdin, stdout and stderr: These specify the executed programs' standard\n",
      "          input, standard output and standard error file handles, respectively.\n",
      "\n",
      "      preexec_fn: (POSIX only) An object to be called in the child process\n",
      "          just before the child is executed.\n",
      "\n",
      "      close_fds: Controls closing or inheriting of file descriptors.\n",
      "\n",
      "      shell: If true, the command will be executed through the shell.\n",
      "\n",
      "      cwd: Sets the current directory before the child is executed.\n",
      "\n",
      "      env: Defines the environment variables for the new process.\n",
      "\n",
      "      universal_newlines: If true, use universal line endings for file\n",
      "          objects stdin, stdout and stderr.\n",
      "\n",
      "      startupinfo and creationflags (Windows only)\n",
      "\n",
      "      restore_signals (POSIX only)\n",
      "\n",
      "      start_new_session (POSIX only)\n",
      "\n",
      "      pass_fds (POSIX only)\n",
      "\n",
      "      encoding and errors: Text mode encoding and error handling to use for\n",
      "          file objects stdin, stdout and stderr.\n",
      "\n",
      "    Attributes:\n",
      "        stdin, stdout, stderr, pid, returncode\n",
      "    \n"
     ]
    }
   ],
   "source": [
    "import subprocess\n",
    "\n",
    "\n",
    "print(subprocess.Popen.__doc__)"
   ]
  },
  {
   "cell_type": "code",
   "execution_count": 50,
   "metadata": {},
   "outputs": [
    {
     "name": "stdout",
     "output_type": "stream",
     "text": [
      "3\n"
     ]
    }
   ],
   "source": [
    "op_set = {\n",
    "    '+': lambda x, y: x+y,\n",
    "    '-': lambda x, y: x-y,\n",
    "    '*': lambda x, y: x*y,\n",
    "    '/': lambda x, y: x/y,\n",
    "}\n",
    "\n",
    "print(op_set['+'](1, 2))"
   ]
  },
  {
   "cell_type": "code",
   "execution_count": 51,
   "metadata": {},
   "outputs": [
    {
     "name": "stdout",
     "output_type": "stream",
     "text": [
      "60\n"
     ]
    }
   ],
   "source": [
    "def addn(n):\n",
    "    def add(x):\n",
    "        return x+n\n",
    "    return add\n",
    "\n",
    "add10 = addn(10)\n",
    "print(add10(50))"
   ]
  },
  {
   "cell_type": "code",
   "execution_count": 52,
   "metadata": {},
   "outputs": [
    {
     "name": "stdout",
     "output_type": "stream",
     "text": [
      "60\n"
     ]
    }
   ],
   "source": [
    "class addn(object):\n",
    "    def __init__(self, n):\n",
    "        self.n = n\n",
    "    def __call__(self, x):\n",
    "        return x + self.n\n",
    "    \n",
    "add10 = addn(10)\n",
    "print(add10(50))"
   ]
  },
  {
   "cell_type": "code",
   "execution_count": 53,
   "metadata": {},
   "outputs": [
    {
     "name": "stdout",
     "output_type": "stream",
     "text": [
      "2\n"
     ]
    }
   ],
   "source": [
    "my_variable = 1\n",
    "\n",
    "\n",
    "def func():\n",
    "    my_variable = 2\n",
    "    print(my_variable)\n",
    "    \n",
    "func()"
   ]
  },
  {
   "cell_type": "code",
   "execution_count": 54,
   "metadata": {},
   "outputs": [
    {
     "name": "stdout",
     "output_type": "stream",
     "text": [
      "3\n"
     ]
    }
   ],
   "source": [
    "my_variable = 1\n",
    "\n",
    "def func():\n",
    "    my_variable = 2\n",
    "    def func1():\n",
    "        my_variable = 3\n",
    "        print(my_variable)\n",
    "    return func1\n",
    "\n",
    "func()()"
   ]
  },
  {
   "cell_type": "code",
   "execution_count": 1,
   "metadata": {},
   "outputs": [
    {
     "name": "stdout",
     "output_type": "stream",
     "text": [
      "CPU times: user 8.1 s, sys: 62.7 ms, total: 8.16 s\n",
      "Wall time: 8.8 s\n"
     ]
    },
    {
     "data": {
      "text/plain": [
       "14930352"
      ]
     },
     "execution_count": 1,
     "metadata": {},
     "output_type": "execute_result"
    }
   ],
   "source": [
    "def fib(n):\n",
    "    if n <= 1:\n",
    "        return 1\n",
    "    return fib(n-1) + fib(n-2)\n",
    "\n",
    "%time fib(35)"
   ]
  },
  {
   "cell_type": "code",
   "execution_count": 2,
   "metadata": {},
   "outputs": [
    {
     "name": "stdout",
     "output_type": "stream",
     "text": [
      "CPU times: user 2.69 ms, sys: 4.81 ms, total: 7.5 ms\n",
      "Wall time: 10.8 ms\n"
     ]
    },
    {
     "data": {
      "text/plain": [
       "14930352"
      ]
     },
     "execution_count": 2,
     "metadata": {},
     "output_type": "execute_result"
    }
   ],
   "source": [
    "def memorized(f):\n",
    "    cache = {}\n",
    "    def inner(n):\n",
    "        if n not in cache:\n",
    "            cache[n] = f(n)\n",
    "        return cache[n]\n",
    "    return inner\n",
    "\n",
    "@memorized\n",
    "def fib(n):\n",
    "    if n <= 1:\n",
    "        return 1\n",
    "    return fib(n-1) + fib(n-2)\n",
    "\n",
    "%time fib(35)"
   ]
  },
  {
   "cell_type": "code",
   "execution_count": 6,
   "metadata": {},
   "outputs": [
    {
     "name": "stdout",
     "output_type": "stream",
     "text": [
      "CPU times: user 112 µs, sys: 1 µs, total: 113 µs\n",
      "Wall time: 122 µs\n"
     ]
    },
    {
     "data": {
      "text/plain": [
       "14930352"
      ]
     },
     "execution_count": 6,
     "metadata": {},
     "output_type": "execute_result"
    }
   ],
   "source": [
    "def memorized(f):\n",
    "    cache = {}\n",
    "    def inner(*p):\n",
    "        if p not in cache:\n",
    "            cache[p] = f(*p)\n",
    "        return cache[p]\n",
    "    return inner\n",
    "\n",
    "@memorized\n",
    "def fib(n):\n",
    "    if n <= 1:\n",
    "        return 1\n",
    "    return fib(n-1) + fib(n-2)\n",
    "\n",
    "\n",
    "%time fib(35)"
   ]
  },
  {
   "cell_type": "code",
   "execution_count": 7,
   "metadata": {},
   "outputs": [
    {
     "name": "stdout",
     "output_type": "stream",
     "text": [
      "[2, 3, 5, 8, 13, 21, 34, 55, 89, 144, 233, 377, 610, 987, 1597, 2584, 4181, 6765, 10946, 17711]\n"
     ]
    }
   ],
   "source": [
    "def fib_seq(n):\n",
    "    l = []\n",
    "    a, b = 1, 1\n",
    "    for i in range(n):\n",
    "        a, b = a + b, a\n",
    "        l.append(a)\n",
    "    return l\n",
    "\n",
    "\n",
    "print(fib_seq(20))"
   ]
  },
  {
   "cell_type": "code",
   "execution_count": 11,
   "metadata": {},
   "outputs": [
    {
     "name": "stdout",
     "output_type": "stream",
     "text": [
      "<generator object fib_seq at 0x1089a8af0>\n",
      "[2, 3, 5, 8, 13, 21, 34, 55, 89, 144, 233, 377, 610, 987, 1597, 2584, 4181, 6765, 10946, 17711]\n"
     ]
    }
   ],
   "source": [
    "def fib_seq(n):\n",
    "    a, b = 1, 1\n",
    "    for i in range(n):\n",
    "        a, b = a + b, a\n",
    "        yield a\n",
    "        \n",
    "        \n",
    "print(fib_seq(20))\n",
    "print(list(fib_seq(20)))"
   ]
  },
  {
   "cell_type": "code",
   "execution_count": 12,
   "metadata": {},
   "outputs": [
    {
     "name": "stdout",
     "output_type": "stream",
     "text": [
      "[1, 2, 3, 5, 8, 13, 21, 34, 55, 89]\n"
     ]
    }
   ],
   "source": [
    "def fib_seq():\n",
    "    a = b = 1\n",
    "    while True:\n",
    "        a, b = a + b, a\n",
    "        yield b\n",
    "        \n",
    "        \n",
    "def size_limited_seq(seq, n):\n",
    "    for i in seq:\n",
    "        if n <= 0:\n",
    "            return\n",
    "        yield i\n",
    "        n -= 1\n",
    "        \n",
    "        \n",
    "print(list(size_limited_seq(fib_seq(), 10)))"
   ]
  },
  {
   "cell_type": "code",
   "execution_count": 13,
   "metadata": {},
   "outputs": [
    {
     "name": "stdout",
     "output_type": "stream",
     "text": [
      "[1, 2, 3, 5, 8, 13, 21, 34, 55, 89, 144, 233, 377, 610, 987, 1597, 2584, 4181, 6765, 10946, 17711, 28657, 46368, 75025]\n"
     ]
    }
   ],
   "source": [
    "def number_limited_seq(seq, n):\n",
    "    for i in seq:\n",
    "        if i >= n:\n",
    "            break\n",
    "        yield i\n",
    "        \n",
    "        \n",
    "print(list(number_limited_seq(fib_seq(), 100000)))"
   ]
  },
  {
   "cell_type": "code",
   "execution_count": 14,
   "metadata": {},
   "outputs": [
    {
     "name": "stdout",
     "output_type": "stream",
     "text": [
      "196416\n"
     ]
    }
   ],
   "source": [
    "# 和前面定义的sum函数联用，sum函数支持生成器\n",
    "print(sum(number_limited_seq(fib_seq(), 100000)))"
   ]
  },
  {
   "cell_type": "code",
   "execution_count": 15,
   "metadata": {},
   "outputs": [
    {
     "name": "stdout",
     "output_type": "stream",
     "text": [
      "[0, 1, 4, 9, 16, 25, 36, 49, 64, 81, 100, 121, 144, 169, 196, 225, 256, 289, 324, 361]\n"
     ]
    }
   ],
   "source": [
    "# 在Python2下无需list，但是Python3下map返回的是生成器\n",
    "print(list(map(lambda x: x * x, range(20))))"
   ]
  },
  {
   "cell_type": "code",
   "execution_count": 16,
   "metadata": {},
   "outputs": [
    {
     "name": "stdout",
     "output_type": "stream",
     "text": [
      "[0, 2, 4, 6, 8, 10, 12, 14, 16, 18]\n"
     ]
    }
   ],
   "source": [
    "# 在Python2下无需list，但是Python3下filter返回生成器\n",
    "print(list(filter(lambda x: x % 2 == 0, range(20))))"
   ]
  },
  {
   "cell_type": "code",
   "execution_count": 17,
   "metadata": {},
   "outputs": [
    {
     "data": {
      "text/plain": [
       "121645100408832000"
      ]
     },
     "execution_count": 17,
     "metadata": {},
     "output_type": "execute_result"
    }
   ],
   "source": [
    "# 在Python2下，无需import。\n",
    "# Python3中，reduce已经被从全局命名空间中移除了，所以需要import。\n",
    "from functools import reduce\n",
    "reduce(lambda x, y: x * y, range(1, 20))"
   ]
  },
  {
   "cell_type": "code",
   "execution_count": 18,
   "metadata": {},
   "outputs": [
    {
     "name": "stdout",
     "output_type": "stream",
     "text": [
      "[0, 1, 4, 9, 16, 25, 36, 49, 64, 81, 100, 121, 144, 169, 196, 225, 256, 289, 324, 361]\n"
     ]
    }
   ],
   "source": [
    "print([x * x for x in range(20)])"
   ]
  },
  {
   "cell_type": "code",
   "execution_count": 19,
   "metadata": {},
   "outputs": [
    {
     "name": "stdout",
     "output_type": "stream",
     "text": [
      "[0, 1, 4, 9, 16, 25, 36, 49, 64, 81, 100, 121, 144, 169, 196, 225, 256, 289, 324, 361]\n"
     ]
    }
   ],
   "source": [
    "l = []\n",
    "for x in range(20):\n",
    "    l.append(x * x)\n",
    "    \n",
    "print(l)"
   ]
  },
  {
   "cell_type": "code",
   "execution_count": 20,
   "metadata": {},
   "outputs": [
    {
     "name": "stdout",
     "output_type": "stream",
     "text": [
      "[0, 2, 4, 6, 8, 10, 12, 14, 16, 18]\n"
     ]
    }
   ],
   "source": [
    "print([x for x in range(20) if x % 2 == 0])"
   ]
  },
  {
   "cell_type": "code",
   "execution_count": 21,
   "metadata": {},
   "outputs": [
    {
     "name": "stdout",
     "output_type": "stream",
     "text": [
      "[0, 2, 4, 6, 8, 10, 12, 14, 16, 18]\n"
     ]
    }
   ],
   "source": [
    "l = []\n",
    "for x in range(20):\n",
    "    if x % 2 == 0:\n",
    "        l.append(x)\n",
    "        \n",
    "print(l)"
   ]
  },
  {
   "cell_type": "code",
   "execution_count": 23,
   "metadata": {},
   "outputs": [
    {
     "name": "stdout",
     "output_type": "stream",
     "text": [
      "['1', '+', '2']\n"
     ]
    }
   ],
   "source": [
    "op_set = {\n",
    "    '+': lambda x, y: x+y,\n",
    "    '-': lambda x, y: x-y,\n",
    "    '*': lambda x, y: x*y,\n",
    "    '/': lambda x, y: x/y,\n",
    "}\n",
    "\n",
    "\n",
    "def parser_exp(exp):\n",
    "    s = ''\n",
    "    for c in exp:  # for循环生成了'1'和'+'\n",
    "        '''for循环执行完成后，才会执行for语句之后的代码'''\n",
    "        if c in op_set:\n",
    "            yield s\n",
    "            s = ''\n",
    "            yield c\n",
    "        else:\n",
    "            s += c\n",
    "            \n",
    "    if s:  # if语句生成了'2'\n",
    "        yield s\n",
    "        \n",
    "        \n",
    "print(list(parser_exp('1+2')))"
   ]
  },
  {
   "cell_type": "code",
   "execution_count": 35,
   "metadata": {},
   "outputs": [
    {
     "data": {
      "text/plain": [
       "True"
      ]
     },
     "execution_count": 35,
     "metadata": {},
     "output_type": "execute_result"
    }
   ],
   "source": [
    "import io\n",
    "issubclass(io.FileIO, io.RawIOBase)\n",
    "issubclass(io.RawIOBase, io.IOBase)"
   ]
  },
  {
   "cell_type": "code",
   "execution_count": 36,
   "metadata": {},
   "outputs": [
    {
     "name": "stdout",
     "output_type": "stream",
     "text": [
      "7.0\n",
      "9.0\n"
     ]
    }
   ],
   "source": [
    "def eval_exp(exp):\n",
    "    num = None\n",
    "    s = parser_exp(exp)\n",
    "    for e in s:\n",
    "        if e in op_set:\n",
    "            r = float(next(s))\n",
    "            num = op_set[e](num, r)\n",
    "        else:\n",
    "            num = float(e)\n",
    "    return num\n",
    "\n",
    "\n",
    "print(eval_exp('2*3+1'))\n",
    "print(eval_exp('1+2*3'))"
   ]
  },
  {
   "cell_type": "code",
   "execution_count": 38,
   "metadata": {},
   "outputs": [
    {
     "name": "stdout",
     "output_type": "stream",
     "text": [
      "Simple Assignment\n",
      "shoplist is ['mango', 'carrot', 'banana']\n",
      "mylist is ['mango', 'carrot', 'banana']\n",
      "Copy by making a full slice\n",
      "shoplist is ['mango', 'carrot', 'banana']\n",
      "mylist is ['carrot', 'banana']\n"
     ]
    }
   ],
   "source": [
    "print('Simple Assignment')\n",
    "shoplist = ['apple', 'mango', 'carrot', 'banana']\n",
    "mylist = shoplist\n",
    "\n",
    "del shoplist[0]\n",
    "print('shoplist is', shoplist)\n",
    "print('mylist is', mylist)\n",
    "print('Copy by making a full slice')\n",
    "\n",
    "mylist = shoplist[::]\n",
    "del mylist[0]\n",
    "print('shoplist is', shoplist)\n",
    "print('mylist is', mylist)"
   ]
  },
  {
   "cell_type": "code",
   "execution_count": 40,
   "metadata": {},
   "outputs": [
    {
     "name": "stdout",
     "output_type": "stream",
     "text": [
      "[1, 2, 3, [4, 5, 6]]\n",
      "[1, 2, 3, [4, 5, 6, 7], 8]\n",
      "[1, 2, 3, [4, 5, 6]]\n",
      "---------\n",
      "[1, 2, 3, [4, 5, 6]]\n",
      "[1, 2, 3, [4, 5, 6, 7], 8]\n",
      "[1, 2, 3, [4, 5, 6, 7]]\n"
     ]
    }
   ],
   "source": [
    "import copy\n",
    "\n",
    "\n",
    "orig_list = [1, 2, 3, [4, 5, 6]]\n",
    "\n",
    "new_list = copy.deepcopy(orig_list)\n",
    "print(new_list)\n",
    "new_list[3].append(7)\n",
    "new_list.append(8)\n",
    "print(new_list)\n",
    "print(orig_list)\n",
    "\n",
    "print('---------')\n",
    "\n",
    "new_list = copy.copy(orig_list)\n",
    "# 对于浅拷贝对象，对内层可变对象的修改会作用于原始对象的内层可变对象\n",
    "print(new_list)\n",
    "new_list[3].append(7)\n",
    "new_list.append(8)\n",
    "print(new_list)\n",
    "print(orig_list)"
   ]
  },
  {
   "cell_type": "code",
   "execution_count": 41,
   "metadata": {},
   "outputs": [
    {
     "name": "stdout",
     "output_type": "stream",
     "text": [
      "[5, 4, 3, 2, 1]\n"
     ]
    }
   ],
   "source": [
    "l = [1, 2, 3, 4, 5]\n",
    "\n",
    "\n",
    "def my_reverse(l):\n",
    "    return l[::-1]\n",
    "\n",
    "\n",
    "print(my_reverse(l))"
   ]
  },
  {
   "cell_type": "code",
   "execution_count": 42,
   "metadata": {},
   "outputs": [
    {
     "name": "stdout",
     "output_type": "stream",
     "text": [
      "[5, 4, 3, 2, 1]\n"
     ]
    }
   ],
   "source": [
    "l = [1, 2, 3, 4, 5]\n",
    "\n",
    "\n",
    "def my_reverse(l):\n",
    "    for i in range(1, len(l)+1):\n",
    "        yield l[len(l)-i]\n",
    "        \n",
    "        \n",
    "print(list(my_reverse(l)))"
   ]
  },
  {
   "cell_type": "code",
   "execution_count": 43,
   "metadata": {},
   "outputs": [
    {
     "name": "stdout",
     "output_type": "stream",
     "text": [
      "[5, 4, 3, 2, 1]\n"
     ]
    }
   ],
   "source": [
    "l = [1, 2, 3, 4, 5]\n",
    "\n",
    "\n",
    "def my_reverse(l):\n",
    "    t = l[::]\n",
    "    del l[::]\n",
    "    for i in range(1, len(t) + 1):\n",
    "        l.append(t[len(t)-i])\n",
    "        \n",
    "        \n",
    "my_reverse(l)\n",
    "print(l)"
   ]
  },
  {
   "cell_type": "code",
   "execution_count": 45,
   "metadata": {},
   "outputs": [
    {
     "name": "stdout",
     "output_type": "stream",
     "text": [
      "[[...], [...]]\n"
     ]
    }
   ],
   "source": [
    "l = []\n",
    "l.append(l)\n",
    "l.append(l)\n",
    "print(l)"
   ]
  },
  {
   "cell_type": "code",
   "execution_count": 7,
   "metadata": {},
   "outputs": [
    {
     "name": "stdout",
     "output_type": "stream",
     "text": [
      "Test the HTTP request handler class.\n",
      "\n",
      "    This runs an HTTP server on port 8000 (or the port argument).\n",
      "\n",
      "    \n",
      "-------------------\n"
     ]
    },
    {
     "data": {
      "text/plain": [
       "['BaseHTTPRequestHandler',\n",
       " 'CGIHTTPRequestHandler',\n",
       " 'DEFAULT_ERROR_CONTENT_TYPE',\n",
       " 'DEFAULT_ERROR_MESSAGE',\n",
       " 'HTTPServer',\n",
       " 'HTTPStatus',\n",
       " 'SimpleHTTPRequestHandler',\n",
       " '__all__',\n",
       " '__builtins__',\n",
       " '__cached__',\n",
       " '__doc__',\n",
       " '__file__',\n",
       " '__loader__',\n",
       " '__name__',\n",
       " '__package__',\n",
       " '__spec__',\n",
       " '__version__',\n",
       " '_url_collapse_path',\n",
       " 'argparse',\n",
       " 'copy',\n",
       " 'email',\n",
       " 'executable',\n",
       " 'html',\n",
       " 'http',\n",
       " 'io',\n",
       " 'mimetypes',\n",
       " 'nobody',\n",
       " 'nobody_uid',\n",
       " 'os',\n",
       " 'posixpath',\n",
       " 'select',\n",
       " 'shutil',\n",
       " 'socket',\n",
       " 'socketserver',\n",
       " 'sys',\n",
       " 'test',\n",
       " 'time',\n",
       " 'urllib']"
      ]
     },
     "execution_count": 7,
     "metadata": {},
     "output_type": "execute_result"
    }
   ],
   "source": [
    "import http.server\n",
    "print(http.server.test.__doc__)\n",
    "print('-------------------')\n",
    "dir(http.server)"
   ]
  },
  {
   "cell_type": "code",
   "execution_count": 8,
   "metadata": {},
   "outputs": [
    {
     "data": {
      "text/plain": [
       "['',\n",
       " '/usr/local/Cellar/python3/3.6.2/Frameworks/Python.framework/Versions/3.6/lib/python36.zip',\n",
       " '/usr/local/Cellar/python3/3.6.2/Frameworks/Python.framework/Versions/3.6/lib/python3.6',\n",
       " '/usr/local/Cellar/python3/3.6.2/Frameworks/Python.framework/Versions/3.6/lib/python3.6/lib-dynload',\n",
       " '/usr/local/lib/python3.6/site-packages',\n",
       " '/usr/local/lib/python3.6/site-packages/IPython/extensions',\n",
       " '/Users/huage/.ipython']"
      ]
     },
     "execution_count": 8,
     "metadata": {},
     "output_type": "execute_result"
    }
   ],
   "source": [
    "from http.server import sys\n",
    "sys.path"
   ]
  },
  {
   "cell_type": "code",
   "execution_count": 12,
   "metadata": {},
   "outputs": [
    {
     "data": {
      "text/plain": [
       "time.struct_time(tm_year=2017, tm_mon=12, tm_mday=25, tm_hour=10, tm_min=37, tm_sec=38, tm_wday=0, tm_yday=359, tm_isdst=0)"
      ]
     },
     "execution_count": 12,
     "metadata": {},
     "output_type": "execute_result"
    }
   ],
   "source": [
    "import http.server\n",
    "time.localtime()"
   ]
  },
  {
   "cell_type": "code",
   "execution_count": 1,
   "metadata": {},
   "outputs": [
    {
     "data": {
      "text/plain": [
       "b'hello world'"
      ]
     },
     "execution_count": 1,
     "metadata": {},
     "output_type": "execute_result"
    }
   ],
   "source": [
    "b'hello world'"
   ]
  },
  {
   "cell_type": "code",
   "execution_count": 2,
   "metadata": {},
   "outputs": [
    {
     "data": {
      "text/plain": [
       "bytes"
      ]
     },
     "execution_count": 2,
     "metadata": {},
     "output_type": "execute_result"
    }
   ],
   "source": [
    "type(b'hello world')"
   ]
  },
  {
   "cell_type": "code",
   "execution_count": 3,
   "metadata": {},
   "outputs": [
    {
     "data": {
      "text/plain": [
       "'hello world'"
      ]
     },
     "execution_count": 3,
     "metadata": {},
     "output_type": "execute_result"
    }
   ],
   "source": [
    "u'hello world'"
   ]
  },
  {
   "cell_type": "code",
   "execution_count": 4,
   "metadata": {},
   "outputs": [
    {
     "data": {
      "text/plain": [
       "str"
      ]
     },
     "execution_count": 4,
     "metadata": {},
     "output_type": "execute_result"
    }
   ],
   "source": [
    "type(u'hello world')"
   ]
  },
  {
   "cell_type": "code",
   "execution_count": 17,
   "metadata": {},
   "outputs": [
    {
     "name": "stdout",
     "output_type": "stream",
     "text": [
      "<class '_io.TextIOWrapper'>\n",
      "['_CHUNK_SIZE', '__class__', '__del__', '__delattr__', '__dict__', '__dir__', '__doc__', '__enter__', '__eq__', '__exit__', '__format__', '__ge__', '__getattribute__', '__getstate__', '__gt__', '__hash__', '__init__', '__init_subclass__', '__iter__', '__le__', '__lt__', '__ne__', '__new__', '__next__', '__reduce__', '__reduce_ex__', '__repr__', '__setattr__', '__sizeof__', '__str__', '__subclasshook__', '_checkClosed', '_checkReadable', '_checkSeekable', '_checkWritable', '_finalizing', 'buffer', 'close', 'closed', 'detach', 'encoding', 'errors', 'fileno', 'flush', 'isatty', 'line_buffering', 'mode', 'name', 'newlines', 'read', 'readable', 'readline', 'readlines', 'seek', 'seekable', 'tell', 'truncate', 'writable', 'write', 'writelines']\n",
      "想象一下这里是某些中文内容，也可能是日文或者韩文\n"
     ]
    }
   ],
   "source": [
    "# encoding=utf-8\n",
    "import io\n",
    "\n",
    "\n",
    "f = io.open(\"abc.txt\", 'wt', encoding='utf-8')\n",
    "f.write(u'想象一下这里是某些中文内容，也可能是日文或者韩文')\n",
    "print(type(f))\n",
    "print(dir(f))\n",
    "f.close()\n",
    "\n",
    "# 如果在windows下，这个行为反而可能出现乱码。因为windows的默认编码为CP936，而不是UTF-8.\n",
    "text = io.open('abc.txt', encoding='utf-8').read()\n",
    "print(text)"
   ]
  },
  {
   "cell_type": "code",
   "execution_count": 11,
   "metadata": {},
   "outputs": [
    {
     "name": "stdout",
     "output_type": "stream",
     "text": [
      "-rw-r--r--  1 huage  staff  72 12 29 09:10 abc.txt\r\n"
     ]
    }
   ],
   "source": [
    "!ls -l abc.txt"
   ]
  },
  {
   "cell_type": "code",
   "execution_count": 12,
   "metadata": {},
   "outputs": [
    {
     "name": "stdout",
     "output_type": "stream",
     "text": [
      "想象一下这里是某些中文内容，也可能是日文或者韩文"
     ]
    }
   ],
   "source": [
    "!cat abc.txt"
   ]
  },
  {
   "cell_type": "code",
   "execution_count": 21,
   "metadata": {},
   "outputs": [
    {
     "name": "stdout",
     "output_type": "stream",
     "text": [
      "想象一下这里是某些中文内容，也有可能是日文或者韩文，write text mode\n"
     ]
    },
    {
     "ename": "UnicodeDecodeError",
     "evalue": "'utf-8' codec can't decode byte 0xcf in position 0: invalid continuation byte",
     "output_type": "error",
     "traceback": [
      "\u001b[0;31m---------------------------------------------------------------------------\u001b[0m",
      "\u001b[0;31mUnicodeDecodeError\u001b[0m                        Traceback (most recent call last)",
      "\u001b[0;32m<ipython-input-21-d696dab12749>\u001b[0m in \u001b[0;36m<module>\u001b[0;34m()\u001b[0m\n\u001b[1;32m     11\u001b[0m \u001b[0mprint\u001b[0m\u001b[0;34m(\u001b[0m\u001b[0mtext\u001b[0m\u001b[0;34m)\u001b[0m\u001b[0;34m\u001b[0m\u001b[0m\n\u001b[1;32m     12\u001b[0m \u001b[0;34m\u001b[0m\u001b[0m\n\u001b[0;32m---> 13\u001b[0;31m \u001b[0mtext\u001b[0m \u001b[0;34m=\u001b[0m \u001b[0mopen\u001b[0m\u001b[0;34m(\u001b[0m\u001b[0;34m'abc.txt'\u001b[0m\u001b[0;34m)\u001b[0m\u001b[0;34m.\u001b[0m\u001b[0mread\u001b[0m\u001b[0;34m(\u001b[0m\u001b[0;34m)\u001b[0m\u001b[0;34m\u001b[0m\u001b[0m\n\u001b[0m\u001b[1;32m     14\u001b[0m \u001b[0mprint\u001b[0m\u001b[0;34m(\u001b[0m\u001b[0mtext\u001b[0m\u001b[0;34m)\u001b[0m\u001b[0;34m\u001b[0m\u001b[0m\n\u001b[1;32m     15\u001b[0m \u001b[0;34m\u001b[0m\u001b[0m\n",
      "\u001b[0;32m/usr/local/Cellar/python3/3.6.2/Frameworks/Python.framework/Versions/3.6/lib/python3.6/codecs.py\u001b[0m in \u001b[0;36mdecode\u001b[0;34m(self, input, final)\u001b[0m\n\u001b[1;32m    319\u001b[0m         \u001b[0;31m# decode input (taking the buffer into account)\u001b[0m\u001b[0;34m\u001b[0m\u001b[0;34m\u001b[0m\u001b[0m\n\u001b[1;32m    320\u001b[0m         \u001b[0mdata\u001b[0m \u001b[0;34m=\u001b[0m \u001b[0mself\u001b[0m\u001b[0;34m.\u001b[0m\u001b[0mbuffer\u001b[0m \u001b[0;34m+\u001b[0m \u001b[0minput\u001b[0m\u001b[0;34m\u001b[0m\u001b[0m\n\u001b[0;32m--> 321\u001b[0;31m         \u001b[0;34m(\u001b[0m\u001b[0mresult\u001b[0m\u001b[0;34m,\u001b[0m \u001b[0mconsumed\u001b[0m\u001b[0;34m)\u001b[0m \u001b[0;34m=\u001b[0m \u001b[0mself\u001b[0m\u001b[0;34m.\u001b[0m\u001b[0m_buffer_decode\u001b[0m\u001b[0;34m(\u001b[0m\u001b[0mdata\u001b[0m\u001b[0;34m,\u001b[0m \u001b[0mself\u001b[0m\u001b[0;34m.\u001b[0m\u001b[0merrors\u001b[0m\u001b[0;34m,\u001b[0m \u001b[0mfinal\u001b[0m\u001b[0;34m)\u001b[0m\u001b[0;34m\u001b[0m\u001b[0m\n\u001b[0m\u001b[1;32m    322\u001b[0m         \u001b[0;31m# keep undecoded input until the next call\u001b[0m\u001b[0;34m\u001b[0m\u001b[0;34m\u001b[0m\u001b[0m\n\u001b[1;32m    323\u001b[0m         \u001b[0mself\u001b[0m\u001b[0;34m.\u001b[0m\u001b[0mbuffer\u001b[0m \u001b[0;34m=\u001b[0m \u001b[0mdata\u001b[0m\u001b[0;34m[\u001b[0m\u001b[0mconsumed\u001b[0m\u001b[0;34m:\u001b[0m\u001b[0;34m]\u001b[0m\u001b[0;34m\u001b[0m\u001b[0m\n",
      "\u001b[0;31mUnicodeDecodeError\u001b[0m: 'utf-8' codec can't decode byte 0xcf in position 0: invalid continuation byte"
     ]
    }
   ],
   "source": [
    "# encoding=utf-8\n",
    "\n",
    "import io\n",
    "\n",
    "\n",
    "f = io.open('abc.txt', 'wt', encoding='gbk')\n",
    "f.write(u'想象一下这里是某些中文内容，也有可能是日文或者韩文，write text mode')\n",
    "f.close()\n",
    "\n",
    "text = io.open('abc.txt', encoding='gbk').read()\n",
    "print(text)\n",
    "\n",
    "text = open('abc.txt').read()\n",
    "print(text)\n",
    "\n",
    "text = io.open('abc.txt', encoding='utf-8').read()\n",
    "print(text)"
   ]
  },
  {
   "cell_type": "code",
   "execution_count": 22,
   "metadata": {},
   "outputs": [
    {
     "name": "stdout",
     "output_type": "stream",
     "text": [
      "-rw-r--r--  1 huage  staff  67 12 29 10:57 abc.txt\r\n"
     ]
    }
   ],
   "source": [
    "!ls -l abc.txt"
   ]
  },
  {
   "cell_type": "code",
   "execution_count": 23,
   "metadata": {},
   "outputs": [
    {
     "name": "stdout",
     "output_type": "stream",
     "text": [
      "����һ��������ĳЩ�������ݣ�Ҳ�п��������Ļ��ߺ��ģ�write text mode"
     ]
    }
   ],
   "source": [
    "!cat abc.txt"
   ]
  },
  {
   "cell_type": "code",
   "execution_count": 29,
   "metadata": {},
   "outputs": [],
   "source": [
    "with open('abc.txt', 'rb') as fi:\n",
    "    data = fi.read()\n",
    "data = data.decode('gbk').encode('utf-8')\n",
    "with open('abc.txt', 'wb') as fo:\n",
    "    fo.write(data)"
   ]
  },
  {
   "cell_type": "code",
   "execution_count": 30,
   "metadata": {},
   "outputs": [
    {
     "name": "stdout",
     "output_type": "stream",
     "text": [
      "想象一下这里是某些中文内容，也有可能是日文或者韩文，write text mode"
     ]
    }
   ],
   "source": [
    "!cat abc.txt"
   ]
  },
  {
   "cell_type": "code",
   "execution_count": 32,
   "metadata": {},
   "outputs": [
    {
     "name": "stdout",
     "output_type": "stream",
     "text": [
      "<class 'bytes'>\n",
      "<class 'str'>\n"
     ]
    }
   ],
   "source": [
    "with open('abc.txt', 'rb') as fi:\n",
    "    data = fi.read()\n",
    "print(type(data))\n",
    "data = data.decode('utf-8')\n",
    "print(type(data))"
   ]
  },
  {
   "cell_type": "code",
   "execution_count": 33,
   "metadata": {},
   "outputs": [
    {
     "name": "stdout",
     "output_type": "stream",
     "text": [
      "b'\\xcf\\xeb\\xcf\\xf3\\xd2\\xbb\\xcf\\xc2\\xd5\\xe2\\xc0\\xef\\xca\\xc7\\xc4\\xb3\\xd0\\xa9\\xd6\\xd0\\xce\\xc4\\xa3\\xac\\xd2\\xb2\\xbf\\xc9\\xc4\\xdc\\xca\\xc7\\xc8\\xd5\\xce\\xc4\\xbb\\xf2\\xd5\\xdf\\xba\\xab\\xce\\xc4'\n",
      "{'encoding': 'GB2312', 'confidence': 0.99, 'language': 'Chinese'}\n",
      "想象一下这里是某些中文，也可能是日文或者韩文\n",
      "<class 'str'>\n"
     ]
    }
   ],
   "source": [
    "# encoding=utf-8\n",
    "\n",
    "import chardet\n",
    "\n",
    "\n",
    "text = u'想象一下这里是某些中文，也可能是日文或者韩文'.encode('gbk')\n",
    "print(text)\n",
    "\n",
    "print(chardet.detect(text))\n",
    "text = text.decode(chardet.detect(text)['encoding'])\n",
    "print(text)\n",
    "print(type(text))"
   ]
  },
  {
   "cell_type": "code",
   "execution_count": 34,
   "metadata": {},
   "outputs": [
    {
     "name": "stdout",
     "output_type": "stream",
     "text": [
      "b'\\xe6\\x83\\xb3\\xe8\\xb1\\xa1\\xe4\\xb8\\x80\\xe4\\xb8\\x8b\\xe8\\xbf\\x99\\xe9\\x87\\x8c\\xe6\\x98\\xaf\\xe6\\x9f\\x90\\xe4\\xba\\x9b\\xe4\\xb8\\xad\\xe6\\x96\\x87\\xe5\\x86\\x85\\xe5\\xae\\xb9\\xef\\xbc\\x8c\\xe4\\xb9\\x9f\\xe5\\x8f\\xaf\\xe8\\x83\\xbd\\xe6\\x98\\xaf\\xe6\\x97\\xa5\\xe6\\x96\\x87\\xe6\\x88\\x96\\xe8\\x80\\x85\\xe9\\x9f\\xa9\\xe6\\x96\\x87'\n",
      "{'encoding': 'utf-8', 'confidence': 0.99, 'language': ''}\n",
      "想象一下这里是某些中文内容，也可能是日文或者韩文\n",
      "<class 'str'>\n"
     ]
    }
   ],
   "source": [
    "# encoding=utf-8\n",
    "\n",
    "import chardet\n",
    "\n",
    "\n",
    "text = u'想象一下这里是某些中文内容，也可能是日文或者韩文'.encode('utf-8')\n",
    "print(text)\n",
    "\n",
    "print(chardet.detect(text))\n",
    "text = text.decode(chardet.detect(text)['encoding'])\n",
    "print(text)\n",
    "print(type(text))"
   ]
  },
  {
   "cell_type": "code",
   "execution_count": 35,
   "metadata": {},
   "outputs": [
    {
     "name": "stdout",
     "output_type": "stream",
     "text": [
      "sys.version_info(major=3, minor=6, micro=2, releaselevel='final', serial=0)\n",
      "True\n"
     ]
    }
   ],
   "source": [
    "import sys\n",
    "\n",
    "\n",
    "print(sys.version_info)\n",
    "print(sys.version_info.major == 3)"
   ]
  },
  {
   "cell_type": "code",
   "execution_count": 1,
   "metadata": {},
   "outputs": [
    {
     "name": "stderr",
     "output_type": "stream",
     "text": [
      "2017-12-29 15:27:00,997 INFO: Doing something\n",
      "2017-12-29 15:27:01,000 WARNING: Dying now\n"
     ]
    },
    {
     "name": "stdout",
     "output_type": "stream",
     "text": [
      "normal output\n"
     ]
    }
   ],
   "source": [
    "import os\n",
    "import platform\n",
    "import logging\n",
    "\n",
    "\n",
    "print('normal output')\n",
    "\n",
    "logging.basicConfig(level=logging.INFO,\n",
    "                    format='%(asctime)s %(levelname)s: %(message)s')\n",
    "\n",
    "logging.debug('Start of the program')\n",
    "logging.info('Doing something')\n",
    "logging.warning('Dying now')"
   ]
  },
  {
   "cell_type": "code",
   "execution_count": 2,
   "metadata": {},
   "outputs": [
    {
     "data": {
      "text/plain": [
       "['carefully', 'quickly']"
      ]
     },
     "execution_count": 2,
     "metadata": {},
     "output_type": "execute_result"
    }
   ],
   "source": [
    "import re\n",
    "\n",
    "\n",
    "s = 'He was carefully disguised but captured quickly by police.'\n",
    "r = re.compile('\\w+ly')\n",
    "r.findall(s)"
   ]
  },
  {
   "cell_type": "code",
   "execution_count": 3,
   "metadata": {},
   "outputs": [
    {
     "name": "stdout",
     "output_type": "stream",
     "text": [
      "<_sre.SRE_Match object; span=(0, 11), match='13512345678'>\n",
      "None\n"
     ]
    }
   ],
   "source": [
    "import re\n",
    "\n",
    "\n",
    "r = re.compile('1\\d{10}')\n",
    "print(r.match('13512345678'))\n",
    "print(r.match('021-10101010'))"
   ]
  },
  {
   "cell_type": "code",
   "execution_count": 5,
   "metadata": {},
   "outputs": [
    {
     "name": "stdout",
     "output_type": "stream",
     "text": [
      "<_sre.SRE_Match object; span=(0, 11), match='192.168.0.1'>\n",
      "None\n",
      "None\n",
      "<_sre.SRE_Match object; span=(0, 13), match='192.168.0.999'>\n",
      "None\n"
     ]
    }
   ],
   "source": [
    "import re\n",
    "\n",
    "\n",
    "r = re.compile(r'\\d{1,3}\\.\\d{1,3}\\.\\d{1,3}\\.\\d{1,3}')\n",
    "print(r.match('192.168.0.1'))\n",
    "print(r.match('1200.5.4.3'))\n",
    "print(r.match('abc.def.ghi.jkl'))\n",
    "print(r.match('192.168.0.999'))\n",
    "print(r.match('.1.1.1'))"
   ]
  },
  {
   "cell_type": "code",
   "execution_count": 6,
   "metadata": {},
   "outputs": [
    {
     "name": "stdout",
     "output_type": "stream",
     "text": [
      "<_sre.SRE_Match object; span=(0, 31), match='http://regxlib.com/Default.aspx'>\n",
      "None\n"
     ]
    }
   ],
   "source": [
    "import re\n",
    "\n",
    "\n",
    "# source: http://c.biacheng.net/cpp/html/1435.html\n",
    "r = re.compile(r'(http|ftp|https):\\/\\/[\\w\\-_]+(\\.[\\w\\-_]+)+([\\w\\-\\.,@?^=%&amp;:/~\\+=]*)?')\n",
    "print(r.match('http://regxlib.com/Default.aspx'))\n",
    "print(r.match('regexlib.com'))"
   ]
  },
  {
   "cell_type": "code",
   "execution_count": 7,
   "metadata": {},
   "outputs": [
    {
     "name": "stdout",
     "output_type": "stream",
     "text": [
      "<_sre.SRE_Match object; span=(0, 17), match='shell99@gmail.com'>\n",
      "None\n"
     ]
    }
   ],
   "source": [
    "import re\n",
    "\n",
    "\n",
    "# source: http://bbs.csdn.net/topics/60032440\n",
    "r = re.compile(r'[a-z]([a-z0-9]*[-_]?[a-z0-9]+)*@([a-z0-9]*[-_]?[a-z0-9]+)+[\\.][a-z]{2,3}([\\.][a-z]{2})?')\n",
    "print(r.match('shell99@gmail.com'))\n",
    "print(r.match('abc@def@1'))"
   ]
  },
  {
   "cell_type": "code",
   "execution_count": 9,
   "metadata": {},
   "outputs": [
    {
     "name": "stdout",
     "output_type": "stream",
     "text": [
      "['apple', 'mango', 'carrot']\n"
     ]
    }
   ],
   "source": [
    "import pickle\n",
    "\n",
    "\n",
    "shoplistfile = 'shoplist.data'\n",
    "shoplist = ['apple', 'mango', 'carrot']\n",
    "f = open(shoplistfile, 'wb')\n",
    "pickle.dump(shoplist, f)\n",
    "f.close()\n",
    "del shoplist\n",
    "f = open(shoplistfile, 'rb')\n",
    "storedlist = pickle.load(f)\n",
    "print(storedlist)"
   ]
  },
  {
   "cell_type": "code",
   "execution_count": 10,
   "metadata": {},
   "outputs": [
    {
     "name": "stdout",
     "output_type": "stream",
     "text": [
      "-rw-r--r--  1 huage  staff  45 12 29 17:54 shoplist.data\r\n"
     ]
    }
   ],
   "source": [
    "!ls -l shoplist.data"
   ]
  },
  {
   "cell_type": "code",
   "execution_count": 11,
   "metadata": {},
   "outputs": [],
   "source": [
    "!rm -rf shoplist.data"
   ]
  },
  {
   "cell_type": "code",
   "execution_count": 12,
   "metadata": {},
   "outputs": [
    {
     "name": "stdout",
     "output_type": "stream",
     "text": [
      "Return the day of the week represented by the date.\n",
      "Monday == 0 ... Sunday == 6\n"
     ]
    }
   ],
   "source": [
    "import datetime\n",
    "\n",
    "print(datetime.date.weekday.__doc__)"
   ]
  },
  {
   "cell_type": "code",
   "execution_count": 13,
   "metadata": {},
   "outputs": [
    {
     "name": "stdout",
     "output_type": "stream",
     "text": [
      "Return the day of the week represented by the date.\n",
      "Monday == 1 ... Sunday == 7\n"
     ]
    }
   ],
   "source": [
    "import datetime\n",
    "\n",
    "print(datetime.date.isoweekday.__doc__)"
   ]
  },
  {
   "cell_type": "code",
   "execution_count": 14,
   "metadata": {},
   "outputs": [
    {
     "data": {
      "text/plain": [
       "['__add__',\n",
       " '__class__',\n",
       " '__delattr__',\n",
       " '__dir__',\n",
       " '__doc__',\n",
       " '__eq__',\n",
       " '__format__',\n",
       " '__ge__',\n",
       " '__getattribute__',\n",
       " '__gt__',\n",
       " '__hash__',\n",
       " '__init__',\n",
       " '__init_subclass__',\n",
       " '__le__',\n",
       " '__lt__',\n",
       " '__ne__',\n",
       " '__new__',\n",
       " '__radd__',\n",
       " '__reduce__',\n",
       " '__reduce_ex__',\n",
       " '__repr__',\n",
       " '__rsub__',\n",
       " '__setattr__',\n",
       " '__sizeof__',\n",
       " '__str__',\n",
       " '__sub__',\n",
       " '__subclasshook__',\n",
       " 'ctime',\n",
       " 'day',\n",
       " 'fromordinal',\n",
       " 'fromtimestamp',\n",
       " 'isocalendar',\n",
       " 'isoformat',\n",
       " 'isoweekday',\n",
       " 'max',\n",
       " 'min',\n",
       " 'month',\n",
       " 'replace',\n",
       " 'resolution',\n",
       " 'strftime',\n",
       " 'timetuple',\n",
       " 'today',\n",
       " 'toordinal',\n",
       " 'weekday',\n",
       " 'year']"
      ]
     },
     "execution_count": 14,
     "metadata": {},
     "output_type": "execute_result"
    }
   ],
   "source": [
    "import datetime\n",
    "\n",
    "dir(datetime.date)"
   ]
  },
  {
   "cell_type": "code",
   "execution_count": 15,
   "metadata": {},
   "outputs": [
    {
     "data": {
      "text/plain": [
       "['MAXYEAR',\n",
       " 'MINYEAR',\n",
       " '__builtins__',\n",
       " '__cached__',\n",
       " '__doc__',\n",
       " '__file__',\n",
       " '__loader__',\n",
       " '__name__',\n",
       " '__package__',\n",
       " '__spec__',\n",
       " '_divide_and_round',\n",
       " 'date',\n",
       " 'datetime',\n",
       " 'datetime_CAPI',\n",
       " 'time',\n",
       " 'timedelta',\n",
       " 'timezone',\n",
       " 'tzinfo']"
      ]
     },
     "execution_count": 15,
     "metadata": {},
     "output_type": "execute_result"
    }
   ],
   "source": [
    "import datetime\n",
    "\n",
    "dir(datetime)"
   ]
  },
  {
   "cell_type": "code",
   "execution_count": 16,
   "metadata": {},
   "outputs": [
    {
     "name": "stdout",
     "output_type": "stream",
     "text": [
      "2\n"
     ]
    }
   ],
   "source": [
    "import datetime\n",
    "\n",
    "\n",
    "print(datetime.date(1789, 7, 14).isoweekday())"
   ]
  },
  {
   "cell_type": "code",
   "execution_count": 17,
   "metadata": {},
   "outputs": [
    {
     "data": {
      "text/plain": [
       "5"
      ]
     },
     "execution_count": 17,
     "metadata": {},
     "output_type": "execute_result"
    }
   ],
   "source": [
    "2**15\n",
    "len(str(2**15))"
   ]
  },
  {
   "cell_type": "code",
   "execution_count": 18,
   "metadata": {},
   "outputs": [
    {
     "data": {
      "text/plain": [
       "1149326528034702581682260802282483154731794952366680598907315749676350303455258941969435226491616272765850432529872896570140083779714087641224676603265178037383658094111263859162703551253166913832114001816457662609862015656425761751871770440149072630404384442015791262449967076912697519498726922973530707535919651560412212344672313695699099755325593751836252686364599363077472034064061672117649734107141736148353976201394067293417855894280067914417745952768"
      ]
     },
     "execution_count": 18,
     "metadata": {},
     "output_type": "execute_result"
    }
   ],
   "source": [
    "2**1515"
   ]
  },
  {
   "cell_type": "code",
   "execution_count": 19,
   "metadata": {},
   "outputs": [
    {
     "data": {
      "text/plain": [
       "457"
      ]
     },
     "execution_count": 19,
     "metadata": {},
     "output_type": "execute_result"
    }
   ],
   "source": [
    "len(str(2**1515))"
   ]
  },
  {
   "cell_type": "code",
   "execution_count": 20,
   "metadata": {},
   "outputs": [
    {
     "name": "stdout",
     "output_type": "stream",
     "text": [
      "4.515449934959717\n",
      "5\n",
      "456.06044343093146\n",
      "457\n",
      "4561060.494752745\n",
      "4561061\n"
     ]
    }
   ],
   "source": [
    "# log(2**15151515) == log2 * 15151515 == log10 * (log2/log10) * 15151515\n",
    "# 2**15151515 == 10**((log2/log10)*15151515)\n",
    "import math\n",
    "\n",
    "\n",
    "print((math.log(2)/math.log(10)) * 15)\n",
    "print(int((math.log(2)/math.log(10)) * 15) + 1)\n",
    "\n",
    "print((math.log(2)/math.log(10)) * 1515)\n",
    "print(int((math.log(2)/math.log(10)) * 1515) + 1)\n",
    "\n",
    "print((math.log(2)/math.log(10)) * 15151515)\n",
    "print(int((math.log(2)/math.log(10)) * 15151515) + 1)"
   ]
  },
  {
   "cell_type": "code",
   "execution_count": 22,
   "metadata": {},
   "outputs": [
    {
     "name": "stdout",
     "output_type": "stream",
     "text": [
      "5\n",
      "457\n",
      "4561061\n"
     ]
    }
   ],
   "source": [
    "import math\n",
    "\n",
    "\n",
    "f = lambda x: int((math.log(2)/math.log(10)) * x) + 1\n",
    "\n",
    "print(f(15))\n",
    "print(f(1515))\n",
    "print(f(15151515))"
   ]
  },
  {
   "cell_type": "code",
   "execution_count": 23,
   "metadata": {},
   "outputs": [
    {
     "name": "stdout",
     "output_type": "stream",
     "text": [
      "王\n",
      "周\n",
      "吴\n",
      "李\n",
      "周\n",
      "钱\n"
     ]
    }
   ],
   "source": [
    "s = u'赵钱孙李周吴郑王'\n",
    "s = list(s)\n",
    "\n",
    "import random\n",
    "\n",
    "\n",
    "print(random.choice(s))\n",
    "print(random.choice(s))\n",
    "print(random.choice(s))\n",
    "print(random.choice(s))\n",
    "print(random.choice(s))\n",
    "print(random.choice(s))"
   ]
  },
  {
   "cell_type": "code",
   "execution_count": 27,
   "metadata": {},
   "outputs": [
    {
     "name": "stdout",
     "output_type": "stream",
     "text": [
      "钱\n",
      "吴\n",
      "孙\n",
      "郑\n",
      "周\n",
      "赵\n",
      "['李', '王']\n"
     ]
    }
   ],
   "source": [
    "s = u'赵钱孙李周吴郑王'\n",
    "s = list(s)\n",
    "\n",
    "import random\n",
    "\n",
    "\n",
    "random.shuffle(s)\n",
    "print(s.pop())\n",
    "print(s.pop())\n",
    "print(s.pop())\n",
    "print(s.pop())\n",
    "print(s.pop())\n",
    "print(s.pop())\n",
    "print(s)"
   ]
  },
  {
   "cell_type": "code",
   "execution_count": 28,
   "metadata": {},
   "outputs": [
    {
     "name": "stdout",
     "output_type": "stream",
     "text": [
      "       2\r\n"
     ]
    }
   ],
   "source": [
    "!grep -v ^# rc.local |wc -l"
   ]
  },
  {
   "cell_type": "code",
   "execution_count": 30,
   "metadata": {},
   "outputs": [
    {
     "name": "stdout",
     "output_type": "stream",
     "text": [
      "<class 'bytes'>\n"
     ]
    },
    {
     "data": {
      "text/plain": [
       "2"
      ]
     },
     "execution_count": 30,
     "metadata": {},
     "output_type": "execute_result"
    }
   ],
   "source": [
    "# grep -v ^# file |wc -l\n",
    "import subprocess\n",
    "\n",
    "\n",
    "p1 = subprocess.Popen([\"grep\", '-v', '^#', 'rc.local'], stdout=subprocess.PIPE)\n",
    "p2 = subprocess.Popen(['wc', '-l'], stdin=p1.stdout, stdout=subprocess.PIPE)\n",
    "output = p2.communicate()[0]\n",
    "print(type(output))\n",
    "int(output.strip())"
   ]
  },
  {
   "cell_type": "code",
   "execution_count": 35,
   "metadata": {},
   "outputs": [
    {
     "name": "stdout",
     "output_type": "stream",
     "text": [
      "2\n",
      "['\\n', 'exit 0\\n']\n",
      "exit 0\n",
      "\n"
     ]
    }
   ],
   "source": [
    "import re\n",
    "import io\n",
    "\n",
    "\n",
    "r = re.compile('^#')\n",
    "# 在Python2下无需考虑编码。\n",
    "# Python3下由于re需要处理string而非bytes，因此需要对输入做转码。\n",
    "with io.open('rc.local', 'r', encoding='utf-8') as fi:\n",
    "    aa = [line for line in fi if not r.match(line)]\n",
    "    print(len(aa))\n",
    "    print(aa)\n",
    "    print(aa[1])"
   ]
  },
  {
   "cell_type": "code",
   "execution_count": 34,
   "metadata": {},
   "outputs": [
    {
     "name": "stdout",
     "output_type": "stream",
     "text": [
      "#!/bin/sh -e\r\n",
      "#\r\n",
      "# rc.local\r\n",
      "#\r\n",
      "# This script is executed at the end of each multiuser runlevel.\r\n",
      "# Make sure that the script will \"exit 0\" on success or any other\r\n",
      "# value on error.\r\n",
      "#\r\n",
      "# In order to enable or disable this script just chage the execution\r\n",
      "# bits.\r\n",
      "#\r\n",
      "# By default this script does nothing.\r\n",
      "\r\n",
      "exit 0\r\n"
     ]
    }
   ],
   "source": [
    "!cat rc.local"
   ]
  },
  {
   "cell_type": "code",
   "execution_count": 36,
   "metadata": {},
   "outputs": [
    {
     "name": "stderr",
     "output_type": "stream",
     "text": [
      "...\n",
      "----------------------------------------------------------------------\n",
      "Ran 3 tests in 0.005s\n",
      "\n",
      "OK\n"
     ]
    },
    {
     "data": {
      "text/plain": [
       "<unittest.runner.TextTestResult run=3 errors=0 failures=0>"
      ]
     },
     "execution_count": 36,
     "metadata": {},
     "output_type": "execute_result"
    }
   ],
   "source": [
    "import unittest\n",
    "\n",
    "\n",
    "class TestStringMethods(unittest.TestCase):\n",
    "    \n",
    "    def test_upper(self):\n",
    "        self.assertEqual('foo'.upper(), 'FOO')\n",
    "        \n",
    "    def test_isupper(self):\n",
    "        self.assertTrue('FOO'.isupper())\n",
    "        self.assertFalse('Foo'.isupper())\n",
    "        \n",
    "    def test_split(self):\n",
    "        s = 'hello world'\n",
    "        self.assertEqual(s.split(), ['hello', 'world'])\n",
    "        # check that s.split fails when the separator is not a string\n",
    "        with self.assertRaises(TypeError):\n",
    "            s.split(2)\n",
    "            \n",
    "            \n",
    "suite = unittest.TestLoader().loadTestsFromTestCase(TestStringMethods)\n",
    "unittest.TextTestRunner().run(suite)"
   ]
  },
  {
   "cell_type": "code",
   "execution_count": 37,
   "metadata": {},
   "outputs": [
    {
     "name": "stderr",
     "output_type": "stream",
     "text": [
      "....F....\n",
      "======================================================================\n",
      "FAIL: test_wrong (__main__.TestInetAddr)\n",
      "----------------------------------------------------------------------\n",
      "Traceback (most recent call last):\n",
      "  File \"<ipython-input-37-5e4f26f7c0a9>\", line 27, in test_wrong\n",
      "    self.assertFalse(self.r.match('192.168.0.999'))\n",
      "AssertionError: <_sre.SRE_Match object; span=(0, 13), match='192.168.0.999'> is not false\n",
      "\n",
      "----------------------------------------------------------------------\n",
      "Ran 9 tests in 0.020s\n",
      "\n",
      "FAILED (failures=1)\n"
     ]
    },
    {
     "data": {
      "text/plain": [
       "<unittest.runner.TextTestResult run=9 errors=0 failures=1>"
      ]
     },
     "execution_count": 37,
     "metadata": {},
     "output_type": "execute_result"
    }
   ],
   "source": [
    "import re\n",
    "import unittest, unittest.loader\n",
    "\n",
    "\n",
    "class TestMobile(unittest.TestCase):\n",
    "    r = re.compile('1\\d{10}')\n",
    "    \n",
    "    def test_match(self):\n",
    "        self.assertTrue(self.r.match('13512345678'))\n",
    "        \n",
    "    def test_notmatch(self):\n",
    "        self.assertFalse(self.r.match('021-10101010'))\n",
    "        \n",
    "        \n",
    "class TestInetAddr(unittest.TestCase):\n",
    "    r = re.compile(r'\\d{1,3}\\.\\d{1,3}\\.\\d{1,3}\\.\\d{1,3}')\n",
    "    \n",
    "    def test_ipv4(self):\n",
    "        self.assertTrue(self.r.match('192.168.0.1'))\n",
    "        \n",
    "    def test_notmatch(self):\n",
    "        self.assertFalse(self.r.match('1200.5.4.3'))\n",
    "        self.assertFalse(self.r.match('abc.def.ghi.jkl'))\n",
    "        \n",
    "    def test_wrong(self):\n",
    "        # 这里会报错，这是正常的\n",
    "        self.assertFalse(self.r.match('192.168.0.999'))\n",
    "        \n",
    "        \n",
    "class TestUrl(unittest.TestCase):\n",
    "    # source: http://c.biancheng.net/cpp/html/1435.html\n",
    "    r = re.compile(r'(http|ftp|https):\\/\\/[\\w\\-]+(\\.[\\w\\-]+)+([\\w\\-\\.,@?^=%&amp;:/~\\+#]*)?')\n",
    "    \n",
    "    def test_url(self):\n",
    "        self.assertTrue(self.r.match('http://regxlib.com/Default.aspx'))\n",
    "        \n",
    "    def test_domain(self):\n",
    "        self.assertFalse(self.r.match('regxlib.com'))\n",
    "        \n",
    "        \n",
    "class TestEmail(unittest.TestCase):\n",
    "    # source: http://bbs.csdn.net/topics/60032440\n",
    "    r = re.compile(r'[a-z]([a-z0-9]*[-_]?[a-z0-9]+)*@([a-z0-9]*[-_]?[a-z0-9]+)+[\\.][a-z]{2,3}([\\.][a-z]{2})?')\n",
    "    \n",
    "    def test_email(self):\n",
    "        self.assertTrue(self.r.match('shell99@gmail.com'))\n",
    "        \n",
    "    def test_notmatch(self):\n",
    "        self.assertFalse(self.r.match('000@shell@1'))\n",
    "        \n",
    "        \n",
    "suite = unittest.TestSuite()\n",
    "loader = unittest.TestLoader()\n",
    "suite.addTest(loader.loadTestsFromTestCase(TestMobile))\n",
    "suite.addTest(loader.loadTestsFromTestCase(TestInetAddr))\n",
    "suite.addTest(loader.loadTestsFromTestCase(TestUrl))\n",
    "suite.addTest(loader.loadTestsFromTestCase(TestEmail))\n",
    "unittest.TextTestRunner().run(suite)"
   ]
  },
  {
   "cell_type": "code",
   "execution_count": 38,
   "metadata": {},
   "outputs": [
    {
     "name": "stdout",
     "output_type": "stream",
     "text": [
      "* 2.0 3.0 => 6.0\n",
      "+ 6.0 1.0 => 7.0\n",
      "7.0\n",
      "* 2.0 3.0 => 6.0\n",
      "+ 1.0 6.0 => 7.0\n",
      "7.0\n",
      "/ 2.5 10.0 => 0.25\n",
      "+ 1.1 0.25 => 1.35\n",
      "* 1.35 3.0 => 4.050000000000001\n",
      "/ 4.050000000000001 4.0 => 1.0125000000000002\n",
      "+ 1.0125000000000002 1.0 => 2.0125\n",
      "2.0125\n",
      "2.0125\n"
     ]
    }
   ],
   "source": [
    "#!/usr/bin/env python3\n",
    "# -*- coding: utf-8 -*-\n",
    "'''\n",
    "@date: 2016-09-02\n",
    "@author: Shell.Xu\n",
    "@copyright: 2016, Shell.Xu <shell909090@gmail.com>\n",
    "@license: BSD-3-clause\n",
    "'''\n",
    "\n",
    "op_set = {\n",
    "    '(': None,\n",
    "    ')': None,\n",
    "    '+': lambda x, y: x + y,\n",
    "    '-': lambda x, y: x - y,\n",
    "    '*': lambda x, y: x * y,\n",
    "    '/': lambda x, y: x / y,\n",
    "}\n",
    "\n",
    "op_priority = {\n",
    "    '+': 10,\n",
    "    '-': 10,\n",
    "    '*': 20,\n",
    "    '/': 20,\n",
    "}\n",
    "\n",
    "\n",
    "def parser_exp(exp):\n",
    "    s = ''\n",
    "    for c in exp:\n",
    "        if c in op_set:\n",
    "            if s:\n",
    "                yield s\n",
    "            s = ''\n",
    "            yield c\n",
    "        else: s += c\n",
    "    if s:\n",
    "        yield s\n",
    "        \n",
    "        \n",
    "def find_last_op(l):\n",
    "    for e in reversed(l):\n",
    "        if e in op_set:\n",
    "            return e\n",
    "        \n",
    "        \n",
    "def force_stack(stack):\n",
    "    r = stack.pop(-1)\n",
    "    op = stack.pop(-1)\n",
    "    l = stack.pop(-1)\n",
    "    result = op_set[op](l, r)\n",
    "    print('{} {} {} => {}'.format(op, l, r, result))\n",
    "    stack.append(result)\n",
    "    \n",
    "    \n",
    "def eval_exp(exp):\n",
    "    stack = []\n",
    "    for e in exp:\n",
    "        if e == ')':\n",
    "            break\n",
    "        elif e == '(':\n",
    "            stack.append(eval_exp(exp))\n",
    "            continue\n",
    "        if e not in op_set:\n",
    "            stack.append(float(e))\n",
    "            continue\n",
    "        while True:\n",
    "            last = find_last_op(stack)\n",
    "            if last is None or op_priority[last] < op_priority[e]:\n",
    "                break\n",
    "            force_stack(stack)\n",
    "        stack.append(e)\n",
    "    while len(stack) > 1:\n",
    "        force_stack(stack)\n",
    "    return stack[0]\n",
    "\n",
    "\n",
    "def calc(exp):\n",
    "    s = parser_exp(exp)\n",
    "    return eval_exp(s)\n",
    "\n",
    "\n",
    "print(calc('2*3+1'))\n",
    "print(calc('1+2*3'))\n",
    "print(calc('(1.1+2.5/10)*3/4+1'))\n",
    "print(eval('(1.1+2.5/10)*3/4+1'))"
   ]
  },
  {
   "cell_type": "code",
   "execution_count": 39,
   "metadata": {},
   "outputs": [
    {
     "name": "stdout",
     "output_type": "stream",
     "text": [
      "Overwriting calc.py\n"
     ]
    }
   ],
   "source": [
    "%%writefile calc.py\n",
    "#!/usr/bin/env python3\n",
    "# -*- coding: utf-8 -*-\n",
    "'''\n",
    "@date: 2016-09-02\n",
    "@author: Shell.Xu\n",
    "@copyright: 2016, Shell.Xu <shell909090@gmail.com>\n",
    "@license: BSD-3-clause\n",
    "'''\n",
    "\n",
    "op_set = {\n",
    "    '(': None,\n",
    "    ')': None,\n",
    "    '+': lambda x, y: x + y,\n",
    "    '-': lambda x, y: x - y,\n",
    "    '*': lambda x, y: x * y,\n",
    "    '/': lambda x, y: x / y,\n",
    "}\n",
    "\n",
    "op_priority = {\n",
    "    '+': 10,\n",
    "    '-': 10,\n",
    "    '*': 20,\n",
    "    '/': 20,\n",
    "}\n",
    "\n",
    "\n",
    "def parser_exp(exp):\n",
    "    s = ''\n",
    "    for c in exp:\n",
    "        if c in op_set:\n",
    "            if s:\n",
    "                yield s\n",
    "            yield c\n",
    "        else:\n",
    "            s += c\n",
    "    if s:\n",
    "        yield s\n",
    "        \n",
    "        \n",
    "def find_last_op(l):\n",
    "    for e in reversed(l):\n",
    "        if e in op_set:\n",
    "            return e\n",
    "        \n",
    "        \n",
    "def force_stack(stack):\n",
    "    r = stack.pop(-1)\n",
    "    op = stack.pop(-1)\n",
    "    l = stack.pop(-1)\n",
    "    result = op_set[op](l, r)\n",
    "    print('{} {} {} => {}'.format(op, l, r, result))\n",
    "    stack.append(result)\n",
    "    \n",
    "    \n",
    "def eval_exp(exp):\n",
    "    stack = []\n",
    "    for e in exp:\n",
    "        if e == ')':\n",
    "            break\n",
    "        elif e == '(':\n",
    "            stack.append(eval_exp(exp))\n",
    "            continue\n",
    "        while True:\n",
    "            last = find_last_op(stack)\n",
    "            if last is None or op_priority[last] < op_priority[e]:\n",
    "                break\n",
    "            force_stack(stack)\n",
    "        stack.append(e)\n",
    "    while len(stack) > 1:\n",
    "        force_stack(stack)\n",
    "    return stack[0]\n",
    "\n",
    "\n",
    "def calc(exp):\n",
    "    s = parser_exp(exp)\n",
    "    return eval_exp(s)\n",
    "\n",
    "\n",
    "print(calc('2*3+1'))\n",
    "print(calc('1+2*3'))\n",
    "print(calc('(1.1+2.5/10)*3/4+1'))"
   ]
  },
  {
   "cell_type": "code",
   "execution_count": 40,
   "metadata": {},
   "outputs": [
    {
     "name": "stdout",
     "output_type": "stream",
     "text": [
      "No config file found, using default configuration\n",
      "************* Module calc\n",
      "C: 38, 0: Trailing whitespace (trailing-whitespace)\n",
      "C: 39, 0: Trailing whitespace (trailing-whitespace)\n",
      "C: 44, 0: Trailing whitespace (trailing-whitespace)\n",
      "C: 45, 0: Trailing whitespace (trailing-whitespace)\n",
      "C: 53, 0: Trailing whitespace (trailing-whitespace)\n",
      "C: 54, 0: Trailing whitespace (trailing-whitespace)\n",
      "C: 81, 0: Final newline missing (missing-final-newline)\n",
      "C: 10, 0: Invalid constant name \"op_set\" (invalid-name)\n",
      "C: 19, 0: Invalid constant name \"op_priority\" (invalid-name)\n"
     ]
    }
   ],
   "source": [
    "!pylint calc.py |head -n 10"
   ]
  },
  {
   "cell_type": "code",
   "execution_count": 41,
   "metadata": {},
   "outputs": [
    {
     "name": "stdout",
     "output_type": "stream",
     "text": [
      "No config file found, using default configuration\n",
      "C: 75, 4: Invalid variable name \"s\" (invalid-name)\n",
      "\n",
      "------------------------------------------------------------------\n",
      "Your code has been rated at 4.78/10 (previous run: 4.78/10, +0.00)\n",
      "\n"
     ]
    }
   ],
   "source": [
    "!pylint calc |tail -n 5"
   ]
  },
  {
   "cell_type": "code",
   "execution_count": 42,
   "metadata": {},
   "outputs": [
    {
     "name": "stdout",
     "output_type": "stream",
     "text": [
      "calc.py:38:1: W293 blank line contains whitespace\r\n",
      "calc.py:39:1: W293 blank line contains whitespace\r\n",
      "calc.py:44:1: W293 blank line contains whitespace\r\n",
      "calc.py:45:1: W293 blank line contains whitespace\r\n",
      "calc.py:49:5: E741 ambiguous variable name 'l'\r\n",
      "calc.py:53:1: W293 blank line contains whitespace\r\n",
      "calc.py:54:1: W293 blank line contains whitespace\r\n",
      "calc.py:81:34: W292 no newline at end of file\r\n"
     ]
    }
   ],
   "source": [
    "!flake8 calc.py"
   ]
  },
  {
   "cell_type": "code",
   "execution_count": 43,
   "metadata": {},
   "outputs": [
    {
     "name": "stdout",
     "output_type": "stream",
     "text": [
      "27:0: 'parser_exp' 5\r\n",
      "40:0: 'find_last_op' 3\r\n",
      "46:0: 'force_stack' 1\r\n",
      "55:0: 'eval_exp' 7\r\n",
      "74:0: 'calc' 1\r\n"
     ]
    }
   ],
   "source": [
    "!python3 -m mccabe calc.py"
   ]
  },
  {
   "cell_type": "code",
   "execution_count": 68,
   "metadata": {},
   "outputs": [
    {
     "name": "stdout",
     "output_type": "stream",
     "text": [
      "Overwriting calc.py\n"
     ]
    }
   ],
   "source": [
    "%%writefile calc.py\n",
    "#!/usr/bin/env python3\n",
    "# -*- coding: utf-8 -*-\n",
    "'''\n",
    "@date: 2016-09-02\n",
    "@author: DayeLee\n",
    "@copyright: 2016, Shell.Xu <shell909090@gmail.com>\n",
    "@license: BSD-3-clause\n",
    "'''\n",
    "\n",
    "OP_SET = {\n",
    "    '(': None,\n",
    "    ')': None,\n",
    "    '+': lambda x, y: x + y,\n",
    "    '-': lambda x, y: x - y,\n",
    "    '*': lambda x, y: x * y,\n",
    "    '/': lambda x, y: x / y,\n",
    "}\n",
    "\n",
    "OP_PRIORITY = {\n",
    "    '+': 10,\n",
    "    '-': 10,\n",
    "    '*': 20,\n",
    "    '/': 20,\n",
    "}\n",
    "\n",
    "\n",
    "def parser_exp(exp):\n",
    "    s = ''\n",
    "    for c in exp:\n",
    "        if c in OP_SET:\n",
    "            if s:\n",
    "                yield s\n",
    "            s = ''\n",
    "            yield c\n",
    "        else:\n",
    "            s += c\n",
    "    if s:\n",
    "        yield s\n",
    "\n",
    "\n",
    "def find_last_op(list_):\n",
    "    for e in reversed(list_):\n",
    "        if e in OP_SET:\n",
    "            return e\n",
    "\n",
    "\n",
    "def force_stack(stack):\n",
    "    r = stack.pop(-1)\n",
    "    op = stack.pop(-1)\n",
    "    l = stack.pop(-1)\n",
    "    result = OP_SET[op](l, r)\n",
    "    print('{} {} {} => {}'.format(op, l, r, result))\n",
    "    stack.append(result)\n",
    "\n",
    "\n",
    "def eval_exp(exp):\n",
    "    stack = []\n",
    "    for e in exp:\n",
    "        if e == ')':\n",
    "            break\n",
    "        elif e == '(':\n",
    "            stack.append(eval_exp(exp))\n",
    "            continue\n",
    "        if e not in OP_SET:\n",
    "            stack.append(float(e))\n",
    "            continue\n",
    "        while True:\n",
    "            last = find_last_op(stack)\n",
    "            if last is None or OP_PRIORITY[last] < OP_PRIORITY[e]:\n",
    "                break\n",
    "            force_stack(stack)\n",
    "        stack.append(e)\n",
    "    while len(stack) > 1:\n",
    "        force_stack(stack)\n",
    "    return stack[0]\n",
    "\n",
    "\n",
    "def calc(exp):\n",
    "    s = parser_exp(exp)\n",
    "    result = eval_exp(s)\n",
    "    assert not list(s)\n",
    "    return result\n",
    "\n",
    "\n",
    "print(calc('2*3+1'))\n",
    "print(calc('1+2*3'))\n",
    "print(calc('(1.1+2.5/10)*3/4+1'))  # expression can not contain whitespace\n"
   ]
  },
  {
   "cell_type": "code",
   "execution_count": 47,
   "metadata": {},
   "outputs": [
    {
     "name": "stdout",
     "output_type": "stream",
     "text": [
      "No config file found, using default configuration\n",
      "************* Module calc\n",
      "C: 87, 0: Final newline missing (missing-final-newline)\n",
      "C: 27, 0: Missing function docstring (missing-docstring)\n",
      "C: 28, 4: Invalid variable name \"s\" (invalid-name)\n",
      "C: 29, 8: Invalid variable name \"c\" (invalid-name)\n",
      "C: 33,12: Invalid variable name \"s\" (invalid-name)\n",
      "C: 36,12: Invalid variable name \"s\" (invalid-name)\n",
      "C: 41, 0: Missing function docstring (missing-docstring)\n",
      "C: 42, 8: Invalid variable name \"e\" (invalid-name)\n",
      "C: 47, 0: Missing function docstring (missing-docstring)\n"
     ]
    }
   ],
   "source": [
    "!pylint calc.py |head -n 10"
   ]
  },
  {
   "cell_type": "code",
   "execution_count": 48,
   "metadata": {},
   "outputs": [
    {
     "name": "stdout",
     "output_type": "stream",
     "text": [
      "No config file found, using default configuration\n",
      "C: 79, 4: Invalid variable name \"s\" (invalid-name)\n",
      "\n",
      "------------------------------------------------------------------\n",
      "Your code has been rated at 5.00/10 (previous run: 5.00/10, +0.00)\n",
      "\n"
     ]
    }
   ],
   "source": [
    "!pylint calc.py |tail -n 5"
   ]
  },
  {
   "cell_type": "code",
   "execution_count": 51,
   "metadata": {},
   "outputs": [
    {
     "name": "stdout",
     "output_type": "stream",
     "text": [
      "calc.py:50:5: E741 ambiguous variable name 'l'\r\n",
      "calc.py:87:44: W292 no newline at end of file\r\n"
     ]
    }
   ],
   "source": [
    "!flake8 calc.py"
   ]
  },
  {
   "cell_type": "code",
   "execution_count": 53,
   "metadata": {},
   "outputs": [
    {
     "name": "stdout",
     "output_type": "stream",
     "text": [
      "calc.py:50:5: E741 ambiguous variable name 'l'\r\n",
      "calc.py:87:44: W292 no newline at end of file\r\n"
     ]
    }
   ],
   "source": [
    "!flake8 --max-complexity 10 calc.py"
   ]
  },
  {
   "cell_type": "code",
   "execution_count": 54,
   "metadata": {},
   "outputs": [
    {
     "name": "stdout",
     "output_type": "stream",
     "text": [
      "/bin/sh: python-coverage: command not found\r\n"
     ]
    }
   ],
   "source": [
    "!python-coverage run calc.py"
   ]
  },
  {
   "cell_type": "code",
   "execution_count": 65,
   "metadata": {},
   "outputs": [
    {
     "name": "stdout",
     "output_type": "stream",
     "text": [
      "* 2.0 3.0 => 6.0\r\n",
      "+ 6.0 1.0 => 7.0\r\n",
      "7.0\r\n",
      "* 2.0 3.0 => 6.0\r\n",
      "+ 1.0 6.0 => 7.0\r\n",
      "7.0\r\n",
      "/ 2.5 10.0 => 0.25\r\n",
      "+ 1.1 0.25 => 1.35\r\n",
      "* 1.35 3.0 => 4.050000000000001\r\n",
      "/ 4.050000000000001 4.0 => 1.0125000000000002\r\n",
      "+ 1.0125000000000002 1.0 => 2.0125\r\n",
      "2.0125\r\n"
     ]
    }
   ],
   "source": [
    "!coverage run calc.py"
   ]
  },
  {
   "cell_type": "code",
   "execution_count": 66,
   "metadata": {},
   "outputs": [
    {
     "name": "stdout",
     "output_type": "stream",
     "text": [
      "Name      Stmts   Miss  Cover   Missing\r\n",
      "---------------------------------------\r\n",
      "calc.py      53      0   100%\r\n"
     ]
    }
   ],
   "source": [
    "!coverage report -m"
   ]
  },
  {
   "cell_type": "code",
   "execution_count": null,
   "metadata": {},
   "outputs": [],
   "source": []
  }
 ],
 "metadata": {
  "kernelspec": {
   "display_name": "Python 3",
   "language": "python",
   "name": "python3"
  },
  "language_info": {
   "codemirror_mode": {
    "name": "ipython",
    "version": 3
   },
   "file_extension": ".py",
   "mimetype": "text/x-python",
   "name": "python",
   "nbconvert_exporter": "python",
   "pygments_lexer": "ipython3",
   "version": "3.6.2"
  }
 },
 "nbformat": 4,
 "nbformat_minor": 2
}
