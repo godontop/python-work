{
 "cells": [
  {
   "cell_type": "markdown",
   "metadata": {},
   "source": [
    "## 变量\n",
    "    a = 'apple'\n",
    "    b = a\n",
    "    a = 'Python'\n",
    "    print(b)\n",
    "最后的输出是apple还是Python？"
   ]
  },
  {
   "cell_type": "code",
   "execution_count": 2,
   "metadata": {},
   "outputs": [
    {
     "name": "stdout",
     "output_type": "stream",
     "text": [
      "apple\n"
     ]
    }
   ],
   "source": [
    "a = 'apple'\n",
    "b = a  # 等同于语句 b = 'apple'\n",
    "a = 'Python'  # 重新给a赋值'Python'，对变量b的值没有影响\n",
    "print(b)  # b的值没有变化，所以输出应该是apple"
   ]
  },
  {
   "cell_type": "code",
   "execution_count": 1,
   "metadata": {},
   "outputs": [
    {
     "name": "stdout",
     "output_type": "stream",
     "text": [
      "[1, 2, 3, 4]\n"
     ]
    }
   ],
   "source": [
    "a = [1, 2, 3, 4]\n",
    "b = a\n",
    "a = [5, 6, 7, 8]\n",
    "print(b)"
   ]
  },
  {
   "cell_type": "markdown",
   "metadata": {},
   "source": [
    "## 字典\n",
    "将字典的值按某种顺序输出（如从小到大）"
   ]
  },
  {
   "cell_type": "code",
   "execution_count": 1,
   "metadata": {},
   "outputs": [
    {
     "name": "stdout",
     "output_type": "stream",
     "text": [
      "bacon 1\n",
      "sausage 1\n",
      "eggs 2\n",
      "spam 500\n"
     ]
    }
   ],
   "source": [
    "# Python 2 source code\n",
    "dishes = {'eggs': 2, 'sausage': 1, 'bacon': 1, 'spam': 500}\n",
    "keys = dishes.keys()\n",
    "values = dishes.values()\n",
    "sorted_key_list = sorted(keys)\n",
    "for value in sorted(values):\n",
    "    for key in sorted_key_list:\n",
    "        if dishes[key] == value:\n",
    "            print key, dishes[key]\n",
    "            # 一个值仅对应一个键，所以当找到键的时候，应删除该键，并跳出内循环，继续查找下一个值对应的键，\n",
    "            # 最后这两行是避免有多个键对应同一个值的情况，如果字典中各个键的值各不相同，则不需要这两行\n",
    "            sorted_key_list.remove(key)  \n",
    "            break                       "
   ]
  },
  {
   "cell_type": "markdown",
   "metadata": {},
   "source": [
    "#### 制表符\"\\t\"的作用——实现对齐"
   ]
  },
  {
   "cell_type": "code",
   "execution_count": 1,
   "metadata": {},
   "outputs": [
    {
     "name": "stdout",
     "output_type": "stream",
     "text": [
      "\tDog\tBun\tKetchup\tMustard\tOnions\n",
      "# 1 \t0 \t0 \t0 \t0 \t0\n",
      "# 2 \t0 \t0 \t0 \t0 \t1\n",
      "# 3 \t0 \t0 \t0 \t1 \t0\n",
      "# 4 \t0 \t0 \t0 \t1 \t1\n",
      "# 5 \t0 \t0 \t1 \t0 \t0\n",
      "# 6 \t0 \t0 \t1 \t0 \t1\n",
      "# 7 \t0 \t0 \t1 \t1 \t0\n",
      "# 8 \t0 \t0 \t1 \t1 \t1\n",
      "# 9 \t0 \t1 \t0 \t0 \t0\n",
      "# 10 \t0 \t1 \t0 \t0 \t1\n",
      "# 11 \t0 \t1 \t0 \t1 \t0\n",
      "# 12 \t0 \t1 \t0 \t1 \t1\n",
      "# 13 \t0 \t1 \t1 \t0 \t0\n",
      "# 14 \t0 \t1 \t1 \t0 \t1\n",
      "# 15 \t0 \t1 \t1 \t1 \t0\n",
      "# 16 \t0 \t1 \t1 \t1 \t1\n",
      "# 17 \t1 \t0 \t0 \t0 \t0\n",
      "# 18 \t1 \t0 \t0 \t0 \t1\n",
      "# 19 \t1 \t0 \t0 \t1 \t0\n",
      "# 20 \t1 \t0 \t0 \t1 \t1\n",
      "# 21 \t1 \t0 \t1 \t0 \t0\n",
      "# 22 \t1 \t0 \t1 \t0 \t1\n",
      "# 23 \t1 \t0 \t1 \t1 \t0\n",
      "# 24 \t1 \t0 \t1 \t1 \t1\n",
      "# 25 \t1 \t1 \t0 \t0 \t0\n",
      "# 26 \t1 \t1 \t0 \t0 \t1\n",
      "# 27 \t1 \t1 \t0 \t1 \t0\n",
      "# 28 \t1 \t1 \t0 \t1 \t1\n",
      "# 29 \t1 \t1 \t1 \t0 \t0\n",
      "# 30 \t1 \t1 \t1 \t0 \t1\n",
      "# 31 \t1 \t1 \t1 \t1 \t0\n",
      "# 32 \t1 \t1 \t1 \t1 \t1\n"
     ]
    }
   ],
   "source": [
    "# This is a Python 2 source code.\n",
    "print '\\tDog\\tBun\\tKetchup\\tMustard\\tOnions'\n",
    "count = 1\n",
    "for dog in [0, 1]:\n",
    "    for bun in [0, 1]:\n",
    "        for ketchup in [0, 1]:\n",
    "            for mustard in [0, 1]:\n",
    "                for onion in [0, 1]:\n",
    "                    print '#', count, '\\t', dog, '\\t', bun, '\\t',\n",
    "                    print ketchup, '\\t', mustard, '\\t', onion\n",
    "                    count += 1"
   ]
  },
  {
   "cell_type": "markdown",
   "metadata": {},
   "source": [
    "## for循环\n",
    "for循环中，break被调用之后，会立即跳出for循环。程序跳出for循环之后会继续执行for代码块之后的代码。"
   ]
  },
  {
   "cell_type": "code",
   "execution_count": 5,
   "metadata": {},
   "outputs": [
    {
     "name": "stdout",
     "output_type": "stream",
     "text": [
      "a\n",
      "b\n",
      "normal output\n"
     ]
    }
   ],
   "source": [
    "list_ = ['a', 'b', 'c', 'd']\n",
    "for e in list_:\n",
    "    if e == 'c':\n",
    "        break\n",
    "    print(e)\n",
    "\n",
    "print('normal output')"
   ]
  },
  {
   "cell_type": "markdown",
   "metadata": {},
   "source": [
    "## while循环\n",
    "while循环体中，如果break被调用，则会立即跳出循环，break之后的代码不会被执行。程序跳出while循环后会继续向下执行，即执行while代码块之后的代码。"
   ]
  },
  {
   "cell_type": "code",
   "execution_count": 4,
   "metadata": {},
   "outputs": [
    {
     "name": "stdout",
     "output_type": "stream",
     "text": [
      "normal output after while code block\n"
     ]
    }
   ],
   "source": [
    "while True:\n",
    "    break\n",
    "    print('not print')\n",
    "\n",
    "print('normal output after while code block')"
   ]
  },
  {
   "cell_type": "markdown",
   "metadata": {},
   "source": [
    "## Python 2与Python 3的差异\n",
    "**input(`[`*prompt*`]`)函数**  \n",
    "1.Python 2中input函数输入的数字的默认类型为int，而Python 3中input函数输入的数字的默认类型为str；"
   ]
  },
  {
   "cell_type": "code",
   "execution_count": 6,
   "metadata": {},
   "outputs": [
    {
     "name": "stdout",
     "output_type": "stream",
     "text": [
      "guess = input(\"What's your guess number: \")\r\n",
      "print(type(guess))\r\n"
     ]
    }
   ],
   "source": [
    "!cat input.py"
   ]
  },
  {
   "cell_type": "markdown",
   "metadata": {},
   "source": [
    "```\n",
    "Mac:python_work huage$ python input.py  \n",
    "What's your guess number: 8  \n",
    "<type 'int'>  \n",
    "Mac:python_work huage$ python3 input.py  \n",
    "What's your guess number: 8  \n",
    "<class 'str'>\n",
    "```"
   ]
  },
  {
   "cell_type": "markdown",
   "metadata": {},
   "source": [
    "在 Python 3 中，raw_input() 改名为input() 了。它与Python 2 中的 raw_input() 完全一样。也就是说Python3中的input()对应的是Python2中的raw_input()。"
   ]
  },
  {
   "cell_type": "code",
   "execution_count": null,
   "metadata": {},
   "outputs": [],
   "source": []
  }
 ],
 "metadata": {
  "kernelspec": {
   "display_name": "Python 2",
   "language": "python",
   "name": "python2"
  },
  "language_info": {
   "codemirror_mode": {
    "name": "ipython",
    "version": 2
   },
   "file_extension": ".py",
   "mimetype": "text/x-python",
   "name": "python",
   "nbconvert_exporter": "python",
   "pygments_lexer": "ipython2",
   "version": "2.7.10"
  }
 },
 "nbformat": 4,
 "nbformat_minor": 2
}
